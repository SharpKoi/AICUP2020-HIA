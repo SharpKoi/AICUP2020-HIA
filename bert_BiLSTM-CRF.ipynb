{
 "cells": [
  {
   "cell_type": "markdown",
   "metadata": {
    "id": "_ASazORDG0aO"
   },
   "source": [
    "# Setup the workspace"
   ]
  },
  {
   "cell_type": "code",
   "execution_count": 1,
   "metadata": {
    "executionInfo": {
     "elapsed": 882,
     "status": "ok",
     "timestamp": 1607599954717,
     "user": {
      "displayName": "俞鋒李",
      "photoUrl": "",
      "userId": "11733437799324688802"
     },
     "user_tz": -480
    },
    "id": "FypSZwtPGlbY"
   },
   "outputs": [],
   "source": [
    "import os\n",
    "from google.colab import drive"
   ]
  },
  {
   "cell_type": "code",
   "execution_count": 2,
   "metadata": {
    "executionInfo": {
     "elapsed": 1255,
     "status": "ok",
     "timestamp": 1607599955097,
     "user": {
      "displayName": "俞鋒李",
      "photoUrl": "",
      "userId": "11733437799324688802"
     },
     "user_tz": -480
    },
    "id": "ffgRprSMuY6p"
   },
   "outputs": [],
   "source": [
    "os.chdir(\"/content/drive/MyDrive/AICUP2020/\")"
   ]
  },
  {
   "cell_type": "markdown",
   "metadata": {
    "id": "MlMZ2X_nwBkx"
   },
   "source": [
    "# Prepare Environments"
   ]
  },
  {
   "cell_type": "code",
   "execution_count": 3,
   "metadata": {
    "executionInfo": {
     "elapsed": 16388,
     "status": "ok",
     "timestamp": 1607599976425,
     "user": {
      "displayName": "俞鋒李",
      "photoUrl": "",
      "userId": "11733437799324688802"
     },
     "user_tz": -480
    },
    "id": "S7KC-mIxwQr6"
   },
   "outputs": [],
   "source": [
    "!pip install kashgari>=2.0.0 &> /dev/null\n",
    "from datetime import datetime\n",
    "from configparser import ConfigParser\n",
    "import numpy as np\n",
    "import pandas as pd\n",
    "import tensorflow as tf\n",
    "\n",
    "import kashgari\n",
    "from kashgari.embeddings import BertEmbedding\n",
    "from kashgari.tasks.labeling import BiLSTM_CRF_Model\n",
    "from kashgari.callbacks import EvalCallBack\n",
    "from model_acceptance_callback import NERAcceptanceCallBack\n",
    "\n",
    "import plotly.express as px\n",
    "import plotly.graph_objects as go\n",
    "from plotly.subplots import make_subplots\n",
    "\n",
    "from utils import load_test_file, format_result, split_chunks, save_model\n",
    "from data_generator import read_data, generate_dataset"
   ]
  },
  {
   "cell_type": "code",
   "execution_count": 5,
   "metadata": {
    "executionInfo": {
     "elapsed": 844,
     "status": "ok",
     "timestamp": 1607599987771,
     "user": {
      "displayName": "俞鋒李",
      "photoUrl": "",
      "userId": "11733437799324688802"
     },
     "user_tz": -480
    },
    "id": "dEOsCiwu5_B3"
   },
   "outputs": [],
   "source": [
    "# Define const\n",
    "DATE = datetime.now().strftime(\"%Y%m%d\")\n",
    "MODEL_SAVE_DIR = 'model'\n",
    "\n",
    "# Get config\n",
    "config = ConfigParser()\n",
    "config.read('config.ini')\n",
    "LSTM_UNITS = int(config['MODEL']['lstm_units'])\n",
    "DROPOUT = float(config['MODEL']['dropout'])\n",
    "EPOCHS = int(config['TRAIN']['epochs'])\n",
    "BATCH_SIZE = int(config['TRAIN']['batch_size'])\n",
    "PREDICT_BATCH_SIZE = int(config['PREDICT']['batch_size'])"
   ]
  },
  {
   "cell_type": "markdown",
   "metadata": {
    "id": "jv_92yZgb1oS"
   },
   "source": [
    "# Read Training Data"
   ]
  },
  {
   "cell_type": "code",
   "execution_count": 6,
   "metadata": {
    "executionInfo": {
     "elapsed": 5554,
     "status": "ok",
     "timestamp": 1607599994387,
     "user": {
      "displayName": "俞鋒李",
      "photoUrl": "",
      "userId": "11733437799324688802"
     },
     "user_tz": -480
    },
    "id": "cz9_V83cytUb"
   },
   "outputs": [],
   "source": [
    "# x is a list of characters, e.g ['你', '好', '嗎', ...]\n",
    "# y is a list of labels of each characters, e.g ['O', 'O', 'O', ...]\n",
    "training_data = read_data(['data/TRAIN'], end_flag='')\n",
    "train_x = list(map(lambda x: [wl[0] for wl in x], training_data))\n",
    "train_y = list(map(lambda x: [wl[1] for wl in x], training_data))\n",
    "\n",
    "validation_data = read_data(['data/TEST'], end_flag='')\n",
    "valid_x = list(map(lambda x: [wl[0] for wl in x], validation_data))\n",
    "valid_y = list(map(lambda x: [wl[1] for wl in x], validation_data))"
   ]
  },
  {
   "cell_type": "code",
   "execution_count": 7,
   "metadata": {
    "executionInfo": {
     "elapsed": 13340,
     "status": "ok",
     "timestamp": 1607600002352,
     "user": {
      "displayName": "俞鋒李",
      "photoUrl": "",
      "userId": "11733437799324688802"
     },
     "user_tz": -480
    },
    "id": "A3re6IPTo8VD"
   },
   "outputs": [],
   "source": [
    "train_x_chunks = []\n",
    "for article in train_x:\n",
    "  article_chunks = split_chunks(article)\n",
    "  train_x_chunks.extend(article_chunks)\n",
    "\n",
    "train_y_chunks = []\n",
    "for article in train_y:\n",
    "  article_chunks = split_chunks(article)\n",
    "  train_y_chunks.extend(article_chunks)\n",
    "\n",
    "valid_x_chunks = []\n",
    "for article in valid_x:\n",
    "  article_chunks = split_chunks(article)\n",
    "  valid_x_chunks.extend(article_chunks)\n",
    "\n",
    "valid_y_chunks = []\n",
    "for article in valid_y:\n",
    "  article_chunks = split_chunks(article)\n",
    "  valid_y_chunks.extend(article_chunks)"
   ]
  },
  {
   "cell_type": "markdown",
   "metadata": {
    "id": "85dtAB4Oc7P9"
   },
   "source": [
    "# Build Model"
   ]
  },
  {
   "cell_type": "code",
   "execution_count": 8,
   "metadata": {
    "colab": {
     "base_uri": "https://localhost:8080/"
    },
    "executionInfo": {
     "elapsed": 1673,
     "status": "ok",
     "timestamp": 1607600186743,
     "user": {
      "displayName": "俞鋒李",
      "photoUrl": "",
      "userId": "11733437799324688802"
     },
     "user_tz": -480
    },
    "id": "cebaMOPj8sKk",
    "outputId": "8af11935-568c-4134-8a85-fb784c85f412"
   },
   "outputs": [
    {
     "name": "stderr",
     "output_type": "stream",
     "text": [
      "2020-12-10 11:36:26,277 [DEBUG] kashgari - ------------------------------------------------\n",
      "2020-12-10 11:36:26,278 [DEBUG] kashgari - Loaded transformer model's vocab\n",
      "2020-12-10 11:36:26,281 [DEBUG] kashgari - config_path       : chinese_L-12_H-768_A-12/bert_config.json\n",
      "2020-12-10 11:36:26,282 [DEBUG] kashgari - vocab_path      : chinese_L-12_H-768_A-12/vocab.txt\n",
      "2020-12-10 11:36:26,283 [DEBUG] kashgari - checkpoint_path : chinese_L-12_H-768_A-12/bert_model.ckpt\n",
      "2020-12-10 11:36:26,284 [DEBUG] kashgari - Top 50 words    : ['[PAD]', '[unused1]', '[unused2]', '[unused3]', '[unused4]', '[unused5]', '[unused6]', '[unused7]', '[unused8]', '[unused9]', '[unused10]', '[unused11]', '[unused12]', '[unused13]', '[unused14]', '[unused15]', '[unused16]', '[unused17]', '[unused18]', '[unused19]', '[unused20]', '[unused21]', '[unused22]', '[unused23]', '[unused24]', '[unused25]', '[unused26]', '[unused27]', '[unused28]', '[unused29]', '[unused30]', '[unused31]', '[unused32]', '[unused33]', '[unused34]', '[unused35]', '[unused36]', '[unused37]', '[unused38]', '[unused39]', '[unused40]', '[unused41]', '[unused42]', '[unused43]', '[unused44]', '[unused45]', '[unused46]', '[unused47]', '[unused48]', '[unused49]']\n",
      "2020-12-10 11:36:26,285 [DEBUG] kashgari - ------------------------------------------------\n"
     ]
    }
   ],
   "source": [
    "# build model\n",
    "hyper_parameters = {\n",
    "  'layer_blstm': {\n",
    "    'units': LSTM_UNITS,\n",
    "    'return_sequences': True\n",
    "  },\n",
    "  'layer_dropout': {\n",
    "    'rate': DROPOUT\n",
    "  },\n",
    "  'layer_time_distributed': {\n",
    "\n",
    "  },\n",
    "  'layer_activation': {\n",
    "    'activation': 'softmax'\n",
    "  }\n",
    "}\n",
    "bert_embed = BertEmbedding('chinese_L-12_H-768_A-12/')\n",
    "model = BiLSTM_CRF_Model(bert_embed, hyper_parameters=hyper_parameters)  # 他要求最大的sequence_length只能是512，對應到bert的max_position"
   ]
  },
  {
   "cell_type": "code",
   "execution_count": 8,
   "metadata": {
    "colab": {
     "base_uri": "https://localhost:8080/"
    },
    "executionInfo": {
     "elapsed": 67405,
     "status": "ok",
     "timestamp": 1607597294930,
     "user": {
      "displayName": "俞鋒李",
      "photoUrl": "",
      "userId": "11733437799324688802"
     },
     "user_tz": -480
    },
    "id": "EmInF9b8_ML1",
    "outputId": "660b0579-fb51-4167-e83b-02c1bbe5017b"
   },
   "outputs": [
    {
     "name": "stderr",
     "output_type": "stream",
     "text": [
      "2020-12-10 10:47:09,832 [DEBUG] kashgari - ------------------------------------------------\n",
      "2020-12-10 10:47:09,833 [DEBUG] kashgari - Loaded transformer model's vocab\n",
      "2020-12-10 10:47:09,833 [DEBUG] kashgari - config_path       : chinese_L-12_H-768_A-12/bert_config.json\n",
      "2020-12-10 10:47:09,836 [DEBUG] kashgari - vocab_path      : chinese_L-12_H-768_A-12/vocab.txt\n",
      "2020-12-10 10:47:09,838 [DEBUG] kashgari - checkpoint_path : chinese_L-12_H-768_A-12/bert_model.ckpt\n",
      "2020-12-10 10:47:09,840 [DEBUG] kashgari - Top 50 words    : ['[PAD]', '[unused1]', '[unused2]', '[unused3]', '[unused4]', '[unused5]', '[unused6]', '[unused7]', '[unused8]', '[unused9]', '[unused10]', '[unused11]', '[unused12]', '[unused13]', '[unused14]', '[unused15]', '[unused16]', '[unused17]', '[unused18]', '[unused19]', '[unused20]', '[unused21]', '[unused22]', '[unused23]', '[unused24]', '[unused25]', '[unused26]', '[unused27]', '[unused28]', '[unused29]', '[unused30]', '[unused31]', '[unused32]', '[unused33]', '[unused34]', '[unused35]', '[unused36]', '[unused37]', '[unused38]', '[unused39]', '[unused40]', '[unused41]', '[unused42]', '[unused43]', '[unused44]', '[unused45]', '[unused46]', '[unused47]', '[unused48]', '[unused49]']\n",
      "2020-12-10 10:47:09,841 [DEBUG] kashgari - ------------------------------------------------\n"
     ]
    }
   ],
   "source": [
    "# load model\n",
    "model_dir = '20201209_koi'\n",
    "model = BiLSTM_CRF_Model.load_model(f'model/{model_dir}/')\n",
    "model.crf_layer = model.layer_crf\n",
    "model.compile_model()"
   ]
  },
  {
   "cell_type": "code",
   "execution_count": null,
   "metadata": {
    "colab": {
     "base_uri": "https://localhost:8080/"
    },
    "executionInfo": {
     "elapsed": 22221220,
     "status": "ok",
     "timestamp": 1607547577840,
     "user": {
      "displayName": "俞鋒李",
      "photoUrl": "",
      "userId": "11733437799324688802"
     },
     "user_tz": -480
    },
    "id": "EZa5aXXo90-V",
    "outputId": "1113a525-d530-4e8d-9891-7be73e12e4e2"
   },
   "outputs": [
    {
     "name": "stderr",
     "output_type": "stream",
     "text": [
      "2020-12-09 14:42:21,524 [DEBUG] kashgari - fit input shape: (2, 16, 511)\n",
      "2020-12-09 14:42:21,525 [DEBUG] kashgari - fit input shape: (16, 511)\n"
     ]
    },
    {
     "name": "stdout",
     "output_type": "stream",
     "text": [
      "Epoch 1/80\n",
      "83/83 [==============================] - ETA: 0s - loss: 6.5563 - accuracy: 0.9927"
     ]
    },
    {
     "name": "stderr",
     "output_type": "stream",
     "text": [
      "2020-12-09 14:47:22,125 [WARNING] kashgari - Sequence length is None, will use the max embedding seq length, which is 512\n",
      "2020-12-09 14:47:22,151 [DEBUG] kashgari - predict seq_length: None, input: (2, 154, 512)\n"
     ]
    },
    {
     "name": "stdout",
     "output_type": "stream",
     "text": [
      "10/10 [==============================] - 15s 1s/step\n"
     ]
    },
    {
     "name": "stderr",
     "output_type": "stream",
     "text": [
      "2020-12-09 14:47:44,334 [DEBUG] kashgari - predict output: (154, 512)\n",
      "2020-12-09 14:47:44,335 [DEBUG] kashgari - predict output argmax: [[0 1 1 ... 1 1 1]\n",
      " [0 1 1 ... 1 1 1]\n",
      " [0 1 1 ... 1 1 1]\n",
      " ...\n",
      " [0 1 1 ... 1 1 1]\n",
      " [0 1 1 ... 1 1 1]\n",
      " [0 1 1 ... 1 1 1]]\n",
      "2020-12-09 14:47:44,905 [INFO] kashgari - Successfully recorded this epoch into model/20201209_koi/history/history_1.csv\n",
      "2020-12-09 14:47:44,907 [INFO] kashgari - \n",
      "Epoch 00001: f1-score improved from -inf to 0.77259, saving model to model/20201209_koi\n"
     ]
    },
    {
     "name": "stdout",
     "output_type": "stream",
     "text": [
      "\n",
      "            precision    recall  f1-score   support\n",
      "\n",
      "      name     0.7500    0.9310    0.8308        29\n",
      "      time     0.8264    0.7092    0.7634       423\n",
      "  med_exam     0.9000    0.8630    0.8811        73\n",
      "     money     0.8571    0.8000    0.8276        15\n",
      "  location     0.9767    0.7636    0.8571        55\n",
      "   contact     1.0000    0.4000    0.5714        15\n",
      "    family     1.0000    0.1667    0.2857        12\n",
      "profession     0.0000    0.0000    0.0000         1\n",
      " education     0.0000    0.0000    0.0000         1\n",
      "        ID     0.0000    0.0000    0.0000         1\n",
      "\n",
      " micro avg     0.8464    0.7232    0.7800       625\n",
      " macro avg     0.8490    0.7232    0.7726       625\n",
      "\n",
      "\n",
      "epoch: 0 precision: 0.848984, recall: 0.723200, f1-score: 0.772594\n"
     ]
    },
    {
     "name": "stderr",
     "output_type": "stream",
     "text": [
      "2020-12-09 14:47:48,833 [INFO] kashgari - model saved to /content/drive/My Drive/AICUP2020/sample/kashgari/model/20201209_koi\n"
     ]
    },
    {
     "name": "stdout",
     "output_type": "stream",
     "text": [
      "\b\b\b\b\b\b\b\b\b\b\b\b\b\b\b\b\b\b\b\b\b\b\b\b\b\b\b\b\b\b\b\b\b\b\b\b\b\b\b\b\b\b\b\b\b\b\b\b\b\b\b\b\b\b\b\b\b\b\b\b\b\b\b\b\b\b\b\b\b\b\b\b\b\b\b\b\b\b\b\b\b\b\r",
      "83/83 [==============================] - 295s 4s/step - loss: 6.5563 - accuracy: 0.9927 - val_loss: 1070.0354 - val_accuracy: 0.9912\n",
      "Epoch 2/80\n",
      "83/83 [==============================] - ETA: 0s - loss: 5.6925 - accuracy: 0.9935"
     ]
    },
    {
     "name": "stderr",
     "output_type": "stream",
     "text": [
      "2020-12-09 14:52:13,192 [DEBUG] kashgari - predict seq_length: None, input: (2, 154, 512)\n"
     ]
    },
    {
     "name": "stdout",
     "output_type": "stream",
     "text": [
      "10/10 [==============================] - 14s 1s/step\n"
     ]
    },
    {
     "name": "stderr",
     "output_type": "stream",
     "text": [
      "2020-12-09 14:52:29,407 [DEBUG] kashgari - predict output: (154, 512)\n",
      "2020-12-09 14:52:29,408 [DEBUG] kashgari - predict output argmax: [[0 1 1 ... 1 1 1]\n",
      " [0 1 1 ... 1 1 1]\n",
      " [0 1 1 ... 1 1 1]\n",
      " ...\n",
      " [0 1 1 ... 1 1 1]\n",
      " [0 1 1 ... 1 1 1]\n",
      " [0 1 1 ... 1 1 1]]\n",
      "2020-12-09 14:52:29,958 [INFO] kashgari - Successfully recorded this epoch into model/20201209_koi/history/history_1.csv\n",
      "2020-12-09 14:52:29,959 [INFO] kashgari - \n",
      "Epoch 00002: f1-score improved from 0.77259 to 0.80012, saving model to model/20201209_koi\n"
     ]
    },
    {
     "name": "stdout",
     "output_type": "stream",
     "text": [
      "\n",
      "            precision    recall  f1-score   support\n",
      "\n",
      "      name     0.7353    0.8621    0.7937        29\n",
      "      time     0.7957    0.7920    0.7938       423\n",
      "  med_exam     0.8649    0.8767    0.8707        73\n",
      "     money     0.9286    0.8667    0.8966        15\n",
      "  location     0.9783    0.8182    0.8911        55\n",
      "   contact     0.8571    0.4000    0.5455        15\n",
      "    family     1.0000    0.4167    0.5882        12\n",
      "profession     0.0000    0.0000    0.0000         1\n",
      " education     0.0000    0.0000    0.0000         1\n",
      "        ID     0.0000    0.0000    0.0000         1\n",
      "\n",
      " micro avg     0.8203    0.7888    0.8042       625\n",
      " macro avg     0.8218    0.7888    0.8001       625\n",
      "\n",
      "\n",
      "epoch: 1 precision: 0.821824, recall: 0.788800, f1-score: 0.800117\n"
     ]
    },
    {
     "name": "stderr",
     "output_type": "stream",
     "text": [
      "2020-12-09 14:52:41,295 [INFO] kashgari - model saved to /content/drive/My Drive/AICUP2020/sample/kashgari/model/20201209_koi\n"
     ]
    },
    {
     "name": "stdout",
     "output_type": "stream",
     "text": [
      "\b\b\b\b\b\b\b\b\b\b\b\b\b\b\b\b\b\b\b\b\b\b\b\b\b\b\b\b\b\b\b\b\b\b\b\b\b\b\b\b\b\b\b\b\b\b\b\b\b\b\b\b\b\b\b\b\b\b\b\b\b\b\b\b\b\b\b\b\b\b\b\b\b\b\b\b\b\b\b\b\b\b\r",
      "83/83 [==============================] - 290s 3s/step - loss: 5.6925 - accuracy: 0.9935 - val_loss: 1044.1954 - val_accuracy: 0.9916\n",
      "Epoch 3/80\n",
      "83/83 [==============================] - ETA: 0s - loss: 5.0820 - accuracy: 0.9942"
     ]
    },
    {
     "name": "stderr",
     "output_type": "stream",
     "text": [
      "2020-12-09 14:57:03,864 [DEBUG] kashgari - predict seq_length: None, input: (2, 154, 512)\n"
     ]
    },
    {
     "name": "stdout",
     "output_type": "stream",
     "text": [
      "10/10 [==============================] - 14s 1s/step\n"
     ]
    },
    {
     "name": "stderr",
     "output_type": "stream",
     "text": [
      "2020-12-09 14:57:19,964 [DEBUG] kashgari - predict output: (154, 512)\n",
      "2020-12-09 14:57:19,966 [DEBUG] kashgari - predict output argmax: [[0 1 1 ... 1 1 1]\n",
      " [0 1 1 ... 1 1 1]\n",
      " [0 1 1 ... 1 1 1]\n",
      " ...\n",
      " [0 1 1 ... 1 1 1]\n",
      " [0 1 1 ... 1 1 1]\n",
      " [0 1 1 ... 1 1 1]]\n",
      "2020-12-09 14:57:20,522 [INFO] kashgari - Successfully recorded this epoch into model/20201209_koi/history/history_1.csv\n",
      "2020-12-09 14:57:20,527 [INFO] kashgari - \n",
      "Epoch 00003: f1-score improved from 0.80012 to 0.80798, saving model to model/20201209_koi\n"
     ]
    },
    {
     "name": "stdout",
     "output_type": "stream",
     "text": [
      "\n",
      "            precision    recall  f1-score   support\n",
      "\n",
      "      name     0.7000    0.9655    0.8116        29\n",
      "      time     0.7435    0.8771    0.8048       423\n",
      "  med_exam     0.8333    0.8904    0.8609        73\n",
      "     money     1.0000    1.0000    1.0000        15\n",
      "  location     0.9556    0.7818    0.8600        55\n",
      "   contact     0.7500    0.4000    0.5217        15\n",
      "    family     1.0000    0.4167    0.5882        12\n",
      "profession     1.0000    1.0000    1.0000         1\n",
      " education     0.0000    0.0000    0.0000         1\n",
      "        ID     0.0000    0.0000    0.0000         1\n",
      "\n",
      " micro avg     0.7728    0.8544    0.8116       625\n",
      " macro avg     0.7799    0.8544    0.8080       625\n",
      "\n",
      "\n",
      "epoch: 2 precision: 0.779894, recall: 0.854400, f1-score: 0.807980\n"
     ]
    },
    {
     "name": "stderr",
     "output_type": "stream",
     "text": [
      "2020-12-09 14:57:30,285 [INFO] kashgari - model saved to /content/drive/My Drive/AICUP2020/sample/kashgari/model/20201209_koi\n"
     ]
    },
    {
     "name": "stdout",
     "output_type": "stream",
     "text": [
      "\b\b\b\b\b\b\b\b\b\b\b\b\b\b\b\b\b\b\b\b\b\b\b\b\b\b\b\b\b\b\b\b\b\b\b\b\b\b\b\b\b\b\b\b\b\b\b\b\b\b\b\b\b\b\b\b\b\b\b\b\b\b\b\b\b\b\b\b\b\b\b\b\b\b\b\b\b\b\b\b\b\b\r",
      "83/83 [==============================] - 286s 3s/step - loss: 5.0820 - accuracy: 0.9942 - val_loss: 1021.7092 - val_accuracy: 0.9904\n",
      "Epoch 4/80\n",
      "83/83 [==============================] - ETA: 0s - loss: 4.8504 - accuracy: 0.9941"
     ]
    },
    {
     "name": "stderr",
     "output_type": "stream",
     "text": [
      "2020-12-09 15:01:53,639 [DEBUG] kashgari - predict seq_length: None, input: (2, 154, 512)\n"
     ]
    },
    {
     "name": "stdout",
     "output_type": "stream",
     "text": [
      "10/10 [==============================] - 14s 1s/step\n"
     ]
    },
    {
     "name": "stderr",
     "output_type": "stream",
     "text": [
      "2020-12-09 15:02:09,766 [DEBUG] kashgari - predict output: (154, 512)\n",
      "2020-12-09 15:02:09,767 [DEBUG] kashgari - predict output argmax: [[0 1 1 ... 1 1 1]\n",
      " [0 1 1 ... 1 1 1]\n",
      " [0 1 1 ... 1 1 1]\n",
      " ...\n",
      " [0 1 1 ... 1 1 1]\n",
      " [0 1 1 ... 1 1 1]\n",
      " [0 1 1 ... 1 1 1]]\n",
      "2020-12-09 15:02:10,322 [INFO] kashgari - Successfully recorded this epoch into model/20201209_koi/history/history_1.csv\n",
      "2020-12-09 15:02:10,324 [INFO] kashgari - \n",
      "Epoch 00004: f1-score improved from 0.80798 to 0.83325, saving model to model/20201209_koi\n"
     ]
    },
    {
     "name": "stdout",
     "output_type": "stream",
     "text": [
      "\n",
      "            precision    recall  f1-score   support\n",
      "\n",
      "      name     0.7568    0.9655    0.8485        29\n",
      "      time     0.7922    0.8652    0.8271       423\n",
      "  med_exam     0.9130    0.8630    0.8873        73\n",
      "     money     1.0000    1.0000    1.0000        15\n",
      "  location     0.9778    0.8000    0.8800        55\n",
      "   contact     0.8750    0.4667    0.6087        15\n",
      "    family     1.0000    0.5000    0.6667        12\n",
      "profession     1.0000    1.0000    1.0000         1\n",
      " education     0.0000    0.0000    0.0000         1\n",
      "        ID     0.0000    0.0000    0.0000         1\n",
      "\n",
      " micro avg     0.8230    0.8480    0.8353       625\n",
      " macro avg     0.8298    0.8480    0.8333       625\n",
      "\n",
      "\n",
      "epoch: 3 precision: 0.829768, recall: 0.848000, f1-score: 0.833252\n"
     ]
    },
    {
     "name": "stderr",
     "output_type": "stream",
     "text": [
      "2020-12-09 15:02:20,253 [INFO] kashgari - model saved to /content/drive/My Drive/AICUP2020/sample/kashgari/model/20201209_koi\n"
     ]
    },
    {
     "name": "stdout",
     "output_type": "stream",
     "text": [
      "\b\b\b\b\b\b\b\b\b\b\b\b\b\b\b\b\b\b\b\b\b\b\b\b\b\b\b\b\b\b\b\b\b\b\b\b\b\b\b\b\b\b\b\b\b\b\b\b\b\b\b\b\b\b\b\b\b\b\b\b\b\b\b\b\b\b\b\b\b\b\b\b\b\b\b\b\b\b\b\b\b\b\r",
      "83/83 [==============================] - 287s 3s/step - loss: 4.8504 - accuracy: 0.9941 - val_loss: 1003.5577 - val_accuracy: 0.9892\n",
      "Epoch 5/80\n",
      "83/83 [==============================] - ETA: 0s - loss: 4.2202 - accuracy: 0.9948"
     ]
    },
    {
     "name": "stderr",
     "output_type": "stream",
     "text": [
      "2020-12-09 15:06:43,188 [DEBUG] kashgari - predict seq_length: None, input: (2, 154, 512)\n"
     ]
    },
    {
     "name": "stdout",
     "output_type": "stream",
     "text": [
      "10/10 [==============================] - 14s 1s/step\n"
     ]
    },
    {
     "name": "stderr",
     "output_type": "stream",
     "text": [
      "2020-12-09 15:06:59,253 [DEBUG] kashgari - predict output: (154, 512)\n",
      "2020-12-09 15:06:59,254 [DEBUG] kashgari - predict output argmax: [[0 1 1 ... 1 1 1]\n",
      " [0 1 1 ... 1 1 1]\n",
      " [0 1 1 ... 1 1 1]\n",
      " ...\n",
      " [0 1 1 ... 1 1 1]\n",
      " [0 1 1 ... 1 1 1]\n",
      " [0 1 1 ... 1 1 1]]\n",
      "2020-12-09 15:06:59,796 [INFO] kashgari - Successfully recorded this epoch into model/20201209_koi/history/history_1.csv\n",
      "2020-12-09 15:06:59,797 [INFO] kashgari - \n",
      "Epoch 00005: f1-score did not improve from 0.83325\n"
     ]
    },
    {
     "name": "stdout",
     "output_type": "stream",
     "text": [
      "\n",
      "            precision    recall  f1-score   support\n",
      "\n",
      "      name     0.7941    0.9310    0.8571        29\n",
      "      time     0.7827    0.8771    0.8272       423\n",
      "  med_exam     0.8767    0.8767    0.8767        73\n",
      "     money     1.0000    1.0000    1.0000        15\n",
      "  location     0.9574    0.8182    0.8824        55\n",
      "   contact     0.8750    0.4667    0.6087        15\n",
      "    family     0.6429    0.7500    0.6923        12\n",
      "profession     1.0000    1.0000    1.0000         1\n",
      " education     0.0000    0.0000    0.0000         1\n",
      "        ID     0.0000    0.0000    0.0000         1\n",
      "\n",
      " micro avg     0.8093    0.8624    0.8350       625\n",
      " macro avg     0.8122    0.8624    0.8332       625\n",
      "\n",
      "\n",
      "epoch: 4 precision: 0.812177, recall: 0.862400, f1-score: 0.833170\n",
      "\b\b\b\b\b\b\b\b\b\b\b\b\b\b\b\b\b\b\b\b\b\b\b\b\b\b\b\b\b\b\b\b\b\b\b\b\b\b\b\b\b\b\b\b\b\b\b\b\b\b\b\b\b\b\b\b\b\b\b\b\b\b\b\b\b\b\b\b\b\b\b\b\b\b\b\b\b\b\b\b\b\b\r",
      "83/83 [==============================] - 277s 3s/step - loss: 4.2202 - accuracy: 0.9948 - val_loss: 977.9466 - val_accuracy: 0.9869\n",
      "Epoch 6/80\n",
      "83/83 [==============================] - ETA: 0s - loss: 3.8491 - accuracy: 0.9953"
     ]
    },
    {
     "name": "stderr",
     "output_type": "stream",
     "text": [
      "2020-12-09 15:11:19,422 [DEBUG] kashgari - predict seq_length: None, input: (2, 154, 512)\n"
     ]
    },
    {
     "name": "stdout",
     "output_type": "stream",
     "text": [
      "10/10 [==============================] - 14s 1s/step\n"
     ]
    },
    {
     "name": "stderr",
     "output_type": "stream",
     "text": [
      "2020-12-09 15:11:35,580 [DEBUG] kashgari - predict output: (154, 512)\n",
      "2020-12-09 15:11:35,581 [DEBUG] kashgari - predict output argmax: [[0 1 1 ... 1 1 1]\n",
      " [0 1 1 ... 1 1 1]\n",
      " [0 1 1 ... 1 1 1]\n",
      " ...\n",
      " [0 1 1 ... 1 1 1]\n",
      " [0 1 1 ... 1 1 1]\n",
      " [0 1 1 ... 1 1 1]]\n",
      "2020-12-09 15:11:36,142 [INFO] kashgari - Successfully recorded this epoch into model/20201209_koi/history/history_1.csv\n",
      "2020-12-09 15:11:36,143 [INFO] kashgari - \n",
      "Epoch 00006: f1-score did not improve from 0.83325\n"
     ]
    },
    {
     "name": "stdout",
     "output_type": "stream",
     "text": [
      "\n",
      "            precision    recall  f1-score   support\n",
      "\n",
      "      name     0.7647    0.8966    0.8254        29\n",
      "      time     0.8106    0.8298    0.8201       423\n",
      "  med_exam     0.9067    0.9315    0.9189        73\n",
      "     money     1.0000    1.0000    1.0000        15\n",
      "  location     1.0000    0.8000    0.8889        55\n",
      "   contact     0.8571    0.4000    0.5455        15\n",
      "    family     0.7500    0.2500    0.3750        12\n",
      "profession     1.0000    1.0000    1.0000         1\n",
      " education     0.0000    0.0000    0.0000         1\n",
      "        ID     0.0000    0.0000    0.0000         1\n",
      "\n",
      " micro avg     0.8385    0.8224    0.8304       625\n",
      " macro avg     0.8386    0.8224    0.8248       625\n",
      "\n",
      "\n",
      "epoch: 5 precision: 0.838582, recall: 0.822400, f1-score: 0.824781\n",
      "\b\b\b\b\b\b\b\b\b\b\b\b\b\b\b\b\b\b\b\b\b\b\b\b\b\b\b\b\b\b\b\b\b\b\b\b\b\b\b\b\b\b\b\b\b\b\b\b\b\b\b\b\b\b\b\b\b\b\b\b\b\b\b\b\b\b\b\b\b\b\b\b\b\b\b\b\b\b\b\b\b\b\r",
      "83/83 [==============================] - 273s 3s/step - loss: 3.8491 - accuracy: 0.9953 - val_loss: 964.1356 - val_accuracy: 0.9847\n",
      "Epoch 7/80\n",
      "83/83 [==============================] - ETA: 0s - loss: 3.5795 - accuracy: 0.9953"
     ]
    },
    {
     "name": "stderr",
     "output_type": "stream",
     "text": [
      "2020-12-09 15:15:56,338 [DEBUG] kashgari - predict seq_length: None, input: (2, 154, 512)\n"
     ]
    },
    {
     "name": "stdout",
     "output_type": "stream",
     "text": [
      "10/10 [==============================] - 14s 1s/step\n"
     ]
    },
    {
     "name": "stderr",
     "output_type": "stream",
     "text": [
      "2020-12-09 15:16:12,331 [DEBUG] kashgari - predict output: (154, 512)\n",
      "2020-12-09 15:16:12,332 [DEBUG] kashgari - predict output argmax: [[0 1 1 ... 1 1 1]\n",
      " [0 1 1 ... 1 1 1]\n",
      " [0 1 1 ... 1 1 1]\n",
      " ...\n",
      " [0 1 1 ... 1 1 1]\n",
      " [0 1 1 ... 1 1 1]\n",
      " [0 1 1 ... 1 1 1]]\n",
      "2020-12-09 15:16:12,863 [INFO] kashgari - Successfully recorded this epoch into model/20201209_koi/history/history_1.csv\n",
      "2020-12-09 15:16:12,864 [INFO] kashgari - \n",
      "Epoch 00007: f1-score improved from 0.83325 to 0.84747, saving model to model/20201209_koi\n"
     ]
    },
    {
     "name": "stdout",
     "output_type": "stream",
     "text": [
      "\n",
      "            precision    recall  f1-score   support\n",
      "\n",
      "      name     0.8125    0.8966    0.8525        29\n",
      "      time     0.8251    0.8700    0.8470       423\n",
      "  med_exam     0.9306    0.9178    0.9241        73\n",
      "     money     1.0000    1.0000    1.0000        15\n",
      "  location     0.9783    0.8182    0.8911        55\n",
      "   contact     1.0000    0.4000    0.5714        15\n",
      "    family     0.8000    0.3333    0.4706        12\n",
      "profession     1.0000    1.0000    1.0000         1\n",
      " education     0.0000    0.0000    0.0000         1\n",
      "        ID     0.0000    0.0000    0.0000         1\n",
      "\n",
      " micro avg     0.8526    0.8512    0.8519       625\n",
      " macro avg     0.8559    0.8512    0.8475       625\n",
      "\n",
      "\n",
      "epoch: 6 precision: 0.855872, recall: 0.851200, f1-score: 0.847475\n"
     ]
    },
    {
     "name": "stderr",
     "output_type": "stream",
     "text": [
      "2020-12-09 15:16:23,074 [INFO] kashgari - model saved to /content/drive/My Drive/AICUP2020/sample/kashgari/model/20201209_koi\n"
     ]
    },
    {
     "name": "stdout",
     "output_type": "stream",
     "text": [
      "\b\b\b\b\b\b\b\b\b\b\b\b\b\b\b\b\b\b\b\b\b\b\b\b\b\b\b\b\b\b\b\b\b\b\b\b\b\b\b\b\b\b\b\b\b\b\b\b\b\b\b\b\b\b\b\b\b\b\b\b\b\b\b\b\b\b\b\b\b\b\b\b\b\b\b\b\b\b\b\b\b\b\r",
      "83/83 [==============================] - 284s 3s/step - loss: 3.5795 - accuracy: 0.9953 - val_loss: 938.5709 - val_accuracy: 0.9820\n",
      "Epoch 8/80\n",
      "83/83 [==============================] - ETA: 0s - loss: 3.3081 - accuracy: 0.9958"
     ]
    },
    {
     "name": "stderr",
     "output_type": "stream",
     "text": [
      "2020-12-09 15:20:46,698 [DEBUG] kashgari - predict seq_length: None, input: (2, 154, 512)\n"
     ]
    },
    {
     "name": "stdout",
     "output_type": "stream",
     "text": [
      "10/10 [==============================] - 14s 1s/step\n"
     ]
    },
    {
     "name": "stderr",
     "output_type": "stream",
     "text": [
      "2020-12-09 15:21:02,774 [DEBUG] kashgari - predict output: (154, 512)\n",
      "2020-12-09 15:21:02,775 [DEBUG] kashgari - predict output argmax: [[0 1 1 ... 1 1 1]\n",
      " [0 1 1 ... 1 1 1]\n",
      " [0 1 1 ... 1 1 1]\n",
      " ...\n",
      " [0 1 1 ... 1 1 1]\n",
      " [0 1 1 ... 1 1 1]\n",
      " [0 1 1 ... 1 1 1]]\n",
      "2020-12-09 15:21:03,332 [INFO] kashgari - Successfully recorded this epoch into model/20201209_koi/history/history_1.csv\n",
      "2020-12-09 15:21:03,335 [INFO] kashgari - \n",
      "Epoch 00008: f1-score did not improve from 0.84747\n"
     ]
    },
    {
     "name": "stdout",
     "output_type": "stream",
     "text": [
      "\n",
      "            precision    recall  f1-score   support\n",
      "\n",
      "      name     0.7105    0.9310    0.8060        29\n",
      "      time     0.7885    0.9078    0.8440       423\n",
      "  med_exam     0.8608    0.9315    0.8947        73\n",
      "     money     0.9375    1.0000    0.9677        15\n",
      "  location     1.0000    0.8000    0.8889        55\n",
      "   contact     1.0000    0.4000    0.5714        15\n",
      "    family     1.0000    0.5833    0.7368        12\n",
      "profession     1.0000    1.0000    1.0000         1\n",
      " education     0.0000    0.0000    0.0000         1\n",
      "        ID     1.0000    1.0000    1.0000         1\n",
      "\n",
      " micro avg     0.8144    0.8848    0.8482       625\n",
      " macro avg     0.8241    0.8848    0.8456       625\n",
      "\n",
      "\n",
      "epoch: 7 precision: 0.824063, recall: 0.884800, f1-score: 0.845601\n",
      "\b\b\b\b\b\b\b\b\b\b\b\b\b\b\b\b\b\b\b\b\b\b\b\b\b\b\b\b\b\b\b\b\b\b\b\b\b\b\b\b\b\b\b\b\b\b\b\b\b\b\b\b\b\b\b\b\b\b\b\b\b\b\b\b\b\b\b\b\b\b\b\b\b\b\b\b\b\b\b\b\b\b\r",
      "83/83 [==============================] - 277s 3s/step - loss: 3.3081 - accuracy: 0.9958 - val_loss: 942.9142 - val_accuracy: 0.9757\n",
      "Epoch 9/80\n",
      "83/83 [==============================] - ETA: 0s - loss: 3.0209 - accuracy: 0.9961"
     ]
    },
    {
     "name": "stderr",
     "output_type": "stream",
     "text": [
      "2020-12-09 15:25:26,923 [DEBUG] kashgari - predict seq_length: None, input: (2, 154, 512)\n"
     ]
    },
    {
     "name": "stdout",
     "output_type": "stream",
     "text": [
      "10/10 [==============================] - 14s 1s/step\n"
     ]
    },
    {
     "name": "stderr",
     "output_type": "stream",
     "text": [
      "2020-12-09 15:25:43,080 [DEBUG] kashgari - predict output: (154, 512)\n",
      "2020-12-09 15:25:43,081 [DEBUG] kashgari - predict output argmax: [[0 1 1 ... 1 1 1]\n",
      " [0 1 1 ... 1 1 1]\n",
      " [0 1 1 ... 1 1 1]\n",
      " ...\n",
      " [0 1 1 ... 1 1 1]\n",
      " [0 1 1 ... 1 1 1]\n",
      " [0 1 1 ... 1 1 1]]\n",
      "2020-12-09 15:25:43,644 [INFO] kashgari - Successfully recorded this epoch into model/20201209_koi/history/history_1.csv\n",
      "2020-12-09 15:25:43,646 [INFO] kashgari - \n",
      "Epoch 00009: f1-score improved from 0.84747 to 0.85041, saving model to model/20201209_koi\n"
     ]
    },
    {
     "name": "stdout",
     "output_type": "stream",
     "text": [
      "\n",
      "            precision    recall  f1-score   support\n",
      "\n",
      "      name     0.7297    0.9310    0.8182        29\n",
      "      time     0.7942    0.9125    0.8493       423\n",
      "  med_exam     0.8701    0.9178    0.8933        73\n",
      "     money     1.0000    1.0000    1.0000        15\n",
      "  location     0.9565    0.8000    0.8713        55\n",
      "   contact     0.8750    0.4667    0.6087        15\n",
      "    family     0.7692    0.8333    0.8000        12\n",
      "profession     0.5000    1.0000    0.6667         1\n",
      " education     0.0000    0.0000    0.0000         1\n",
      "        ID     1.0000    1.0000    1.0000         1\n",
      "\n",
      " micro avg     0.8134    0.8928    0.8513       625\n",
      " macro avg     0.8194    0.8928    0.8504       625\n",
      "\n",
      "\n",
      "epoch: 8 precision: 0.819375, recall: 0.892800, f1-score: 0.850410\n"
     ]
    },
    {
     "name": "stderr",
     "output_type": "stream",
     "text": [
      "2020-12-09 15:25:56,339 [INFO] kashgari - model saved to /content/drive/My Drive/AICUP2020/sample/kashgari/model/20201209_koi\n"
     ]
    },
    {
     "name": "stdout",
     "output_type": "stream",
     "text": [
      "\b\b\b\b\b\b\b\b\b\b\b\b\b\b\b\b\b\b\b\b\b\b\b\b\b\b\b\b\b\b\b\b\b\b\b\b\b\b\b\b\b\b\b\b\b\b\b\b\b\b\b\b\b\b\b\b\b\b\b\b\b\b\b\b\b\b\b\b\b\b\b\b\b\b\b\b\b\b\b\b\b\b\r",
      "83/83 [==============================] - 290s 3s/step - loss: 3.0209 - accuracy: 0.9961 - val_loss: 918.3288 - val_accuracy: 0.9730\n",
      "Epoch 10/80\n",
      "83/83 [==============================] - ETA: 0s - loss: 2.8961 - accuracy: 0.9962"
     ]
    },
    {
     "name": "stderr",
     "output_type": "stream",
     "text": [
      "2020-12-09 15:30:20,727 [DEBUG] kashgari - predict seq_length: None, input: (2, 154, 512)\n"
     ]
    },
    {
     "name": "stdout",
     "output_type": "stream",
     "text": [
      "10/10 [==============================] - 14s 1s/step\n"
     ]
    },
    {
     "name": "stderr",
     "output_type": "stream",
     "text": [
      "2020-12-09 15:30:36,883 [DEBUG] kashgari - predict output: (154, 512)\n",
      "2020-12-09 15:30:36,885 [DEBUG] kashgari - predict output argmax: [[0 1 1 ... 1 1 1]\n",
      " [0 1 1 ... 1 1 1]\n",
      " [0 1 1 ... 1 1 1]\n",
      " ...\n",
      " [0 1 1 ... 1 1 1]\n",
      " [0 1 1 ... 1 1 1]\n",
      " [0 1 1 ... 1 1 1]]\n",
      "2020-12-09 15:30:37,491 [INFO] kashgari - Successfully recorded this epoch into model/20201209_koi/history/history_1.csv\n",
      "2020-12-09 15:30:37,493 [INFO] kashgari - \n",
      "Epoch 00010: f1-score improved from 0.85041 to 0.86216, saving model to model/20201209_koi\n"
     ]
    },
    {
     "name": "stdout",
     "output_type": "stream",
     "text": [
      "\n",
      "            precision    recall  f1-score   support\n",
      "\n",
      "      name     0.7941    0.9310    0.8571        29\n",
      "      time     0.8465    0.8865    0.8661       423\n",
      "  med_exam     0.8933    0.9178    0.9054        73\n",
      "     money     0.9375    1.0000    0.9677        15\n",
      "  location     1.0000    0.7636    0.8660        55\n",
      "   contact     1.0000    0.4000    0.5714        15\n",
      "    family     1.0000    0.5833    0.7368        12\n",
      "profession     1.0000    1.0000    1.0000         1\n",
      " education     0.0000    0.0000    0.0000         1\n",
      "        ID     1.0000    1.0000    1.0000         1\n",
      "\n",
      " micro avg     0.8656    0.8656    0.8656       625\n",
      " macro avg     0.8710    0.8656    0.8622       625\n",
      "\n",
      "\n",
      "epoch: 9 precision: 0.871000, recall: 0.865600, f1-score: 0.862160\n"
     ]
    },
    {
     "name": "stderr",
     "output_type": "stream",
     "text": [
      "2020-12-09 15:30:48,945 [INFO] kashgari - model saved to /content/drive/My Drive/AICUP2020/sample/kashgari/model/20201209_koi\n"
     ]
    },
    {
     "name": "stdout",
     "output_type": "stream",
     "text": [
      "\b\b\b\b\b\b\b\b\b\b\b\b\b\b\b\b\b\b\b\b\b\b\b\b\b\b\b\b\b\b\b\b\b\b\b\b\b\b\b\b\b\b\b\b\b\b\b\b\b\b\b\b\b\b\b\b\b\b\b\b\b\b\b\b\b\b\b\b\b\b\b\b\b\b\b\b\b\b\b\b\b\b\r",
      "83/83 [==============================] - 290s 3s/step - loss: 2.8961 - accuracy: 0.9962 - val_loss: 903.9990 - val_accuracy: 0.9697\n",
      "Epoch 11/80\n",
      "83/83 [==============================] - ETA: 0s - loss: 2.7690 - accuracy: 0.9964"
     ]
    },
    {
     "name": "stderr",
     "output_type": "stream",
     "text": [
      "2020-12-09 15:35:12,883 [DEBUG] kashgari - predict seq_length: None, input: (2, 154, 512)\n"
     ]
    },
    {
     "name": "stdout",
     "output_type": "stream",
     "text": [
      "10/10 [==============================] - 14s 1s/step\n"
     ]
    },
    {
     "name": "stderr",
     "output_type": "stream",
     "text": [
      "2020-12-09 15:35:29,001 [DEBUG] kashgari - predict output: (154, 512)\n",
      "2020-12-09 15:35:29,002 [DEBUG] kashgari - predict output argmax: [[0 1 1 ... 1 1 1]\n",
      " [0 1 1 ... 1 1 1]\n",
      " [0 1 1 ... 1 1 1]\n",
      " ...\n",
      " [0 1 1 ... 1 1 1]\n",
      " [0 1 1 ... 1 1 1]\n",
      " [0 1 1 ... 1 1 1]]\n",
      "2020-12-09 15:35:29,589 [INFO] kashgari - Successfully recorded this epoch into model/20201209_koi/history/history_1.csv\n",
      "2020-12-09 15:35:29,591 [INFO] kashgari - \n",
      "Epoch 00011: f1-score improved from 0.86216 to 0.87002, saving model to model/20201209_koi\n"
     ]
    },
    {
     "name": "stdout",
     "output_type": "stream",
     "text": [
      "\n",
      "            precision    recall  f1-score   support\n",
      "\n",
      "      name     0.7714    0.9310    0.8438        29\n",
      "      time     0.8584    0.8889    0.8734       423\n",
      "  med_exam     0.9429    0.9041    0.9231        73\n",
      "     money     0.8750    0.9333    0.9032        15\n",
      "  location     1.0000    0.8182    0.9000        55\n",
      "   contact     0.8571    0.4000    0.5455        15\n",
      "    family     0.7143    0.8333    0.7692        12\n",
      "profession     1.0000    1.0000    1.0000         1\n",
      " education     0.0000    0.0000    0.0000         1\n",
      "        ID     1.0000    1.0000    1.0000         1\n",
      "\n",
      " micro avg     0.8708    0.8736    0.8722       625\n",
      " macro avg     0.8734    0.8736    0.8700       625\n",
      "\n",
      "\n",
      "epoch: 10 precision: 0.873403, recall: 0.873600, f1-score: 0.870022\n"
     ]
    },
    {
     "name": "stderr",
     "output_type": "stream",
     "text": [
      "2020-12-09 15:35:41,710 [INFO] kashgari - model saved to /content/drive/My Drive/AICUP2020/sample/kashgari/model/20201209_koi\n"
     ]
    },
    {
     "name": "stdout",
     "output_type": "stream",
     "text": [
      "\b\b\b\b\b\b\b\b\b\b\b\b\b\b\b\b\b\b\b\b\b\b\b\b\b\b\b\b\b\b\b\b\b\b\b\b\b\b\b\b\b\b\b\b\b\b\b\b\b\b\b\b\b\b\b\b\b\b\b\b\b\b\b\b\b\b\b\b\b\b\b\b\b\b\b\b\b\b\b\b\b\b\r",
      "83/83 [==============================] - 290s 3s/step - loss: 2.7690 - accuracy: 0.9964 - val_loss: 908.4304 - val_accuracy: 0.9593\n",
      "Epoch 12/80\n",
      "83/83 [==============================] - ETA: 0s - loss: 2.8360 - accuracy: 0.9962"
     ]
    },
    {
     "name": "stderr",
     "output_type": "stream",
     "text": [
      "2020-12-09 15:40:07,168 [DEBUG] kashgari - predict seq_length: None, input: (2, 154, 512)\n"
     ]
    },
    {
     "name": "stdout",
     "output_type": "stream",
     "text": [
      "10/10 [==============================] - 14s 1s/step\n"
     ]
    },
    {
     "name": "stderr",
     "output_type": "stream",
     "text": [
      "2020-12-09 15:40:23,319 [DEBUG] kashgari - predict output: (154, 512)\n",
      "2020-12-09 15:40:23,321 [DEBUG] kashgari - predict output argmax: [[0 1 1 ... 1 1 1]\n",
      " [0 1 1 ... 1 1 1]\n",
      " [0 1 1 ... 1 1 1]\n",
      " ...\n",
      " [0 1 1 ... 1 1 1]\n",
      " [0 1 1 ... 1 1 1]\n",
      " [0 1 1 ... 1 1 1]]\n",
      "2020-12-09 15:40:23,917 [INFO] kashgari - Successfully recorded this epoch into model/20201209_koi/history/history_1.csv\n",
      "2020-12-09 15:40:23,919 [INFO] kashgari - \n",
      "Epoch 00012: f1-score did not improve from 0.87002\n"
     ]
    },
    {
     "name": "stdout",
     "output_type": "stream",
     "text": [
      "\n",
      "            precision    recall  f1-score   support\n",
      "\n",
      "      name     0.7500    0.9310    0.8308        29\n",
      "      time     0.8507    0.8487    0.8497       423\n",
      "  med_exam     0.9143    0.8767    0.8951        73\n",
      "     money     0.9375    1.0000    0.9677        15\n",
      "  location     1.0000    0.8182    0.9000        55\n",
      "   contact     1.0000    0.6000    0.7500        15\n",
      "    family     0.6667    0.6667    0.6667        12\n",
      "profession     0.5000    1.0000    0.6667         1\n",
      " education     1.0000    1.0000    1.0000         1\n",
      "        ID     1.0000    1.0000    1.0000         1\n",
      "\n",
      " micro avg     0.8632    0.8480    0.8555       625\n",
      " macro avg     0.8686    0.8480    0.8557       625\n",
      "\n",
      "\n",
      "epoch: 11 precision: 0.868650, recall: 0.848000, f1-score: 0.855668\n",
      "\b\b\b\b\b\b\b\b\b\b\b\b\b\b\b\b\b\b\b\b\b\b\b\b\b\b\b\b\b\b\b\b\b\b\b\b\b\b\b\b\b\b\b\b\b\b\b\b\b\b\b\b\b\b\b\b\b\b\b\b\b\b\b\b\b\b\b\b\b\b\b\b\b\b\b\b\b\b\b\b\b\b\r",
      "83/83 [==============================] - 279s 3s/step - loss: 2.8360 - accuracy: 0.9962 - val_loss: 888.2952 - val_accuracy: 0.9488\n",
      "Epoch 13/80\n",
      "83/83 [==============================] - ETA: 0s - loss: 2.7223 - accuracy: 0.9964"
     ]
    },
    {
     "name": "stderr",
     "output_type": "stream",
     "text": [
      "2020-12-09 15:44:47,706 [DEBUG] kashgari - predict seq_length: None, input: (2, 154, 512)\n"
     ]
    },
    {
     "name": "stdout",
     "output_type": "stream",
     "text": [
      "10/10 [==============================] - 14s 1s/step\n"
     ]
    },
    {
     "name": "stderr",
     "output_type": "stream",
     "text": [
      "2020-12-09 15:45:03,817 [DEBUG] kashgari - predict output: (154, 512)\n",
      "2020-12-09 15:45:03,818 [DEBUG] kashgari - predict output argmax: [[0 1 1 ... 1 1 1]\n",
      " [0 1 1 ... 1 1 1]\n",
      " [0 1 1 ... 1 1 1]\n",
      " ...\n",
      " [0 1 1 ... 1 1 1]\n",
      " [0 1 1 ... 1 1 1]\n",
      " [0 1 1 ... 1 1 1]]\n",
      "2020-12-09 15:45:04,401 [INFO] kashgari - Successfully recorded this epoch into model/20201209_koi/history/history_1.csv\n",
      "2020-12-09 15:45:04,403 [INFO] kashgari - \n",
      "Epoch 00013: f1-score did not improve from 0.87002\n"
     ]
    },
    {
     "name": "stdout",
     "output_type": "stream",
     "text": [
      "\n",
      "            precision    recall  f1-score   support\n",
      "\n",
      "      name     0.7941    0.9310    0.8571        29\n",
      "      time     0.8217    0.9149    0.8658       423\n",
      "  med_exam     0.9054    0.9178    0.9116        73\n",
      "     money     0.9375    1.0000    0.9677        15\n",
      "  location     1.0000    0.8364    0.9109        55\n",
      "   contact     1.0000    0.4000    0.5714        15\n",
      "    family     0.7143    0.8333    0.7692        12\n",
      "profession     1.0000    1.0000    1.0000         1\n",
      " education     1.0000    1.0000    1.0000         1\n",
      "        ID     1.0000    1.0000    1.0000         1\n",
      "\n",
      " micro avg     0.8449    0.8976    0.8704       625\n",
      " macro avg     0.8517    0.8976    0.8689       625\n",
      "\n",
      "\n",
      "epoch: 12 precision: 0.851710, recall: 0.897600, f1-score: 0.868864\n",
      "\b\b\b\b\b\b\b\b\b\b\b\b\b\b\b\b\b\b\b\b\b\b\b\b\b\b\b\b\b\b\b\b\b\b\b\b\b\b\b\b\b\b\b\b\b\b\b\b\b\b\b\b\b\b\b\b\b\b\b\b\b\b\b\b\b\b\b\b\b\b\b\b\b\b\b\b\b\b\b\b\b\b\r",
      "83/83 [==============================] - 278s 3s/step - loss: 2.7223 - accuracy: 0.9964 - val_loss: 860.9492 - val_accuracy: 0.8956\n",
      "Epoch 14/80\n",
      "83/83 [==============================] - ETA: 0s - loss: 2.3442 - accuracy: 0.9969"
     ]
    },
    {
     "name": "stderr",
     "output_type": "stream",
     "text": [
      "2020-12-09 15:49:27,038 [DEBUG] kashgari - predict seq_length: None, input: (2, 154, 512)\n"
     ]
    },
    {
     "name": "stdout",
     "output_type": "stream",
     "text": [
      "10/10 [==============================] - 14s 1s/step\n"
     ]
    },
    {
     "name": "stderr",
     "output_type": "stream",
     "text": [
      "2020-12-09 15:49:43,115 [DEBUG] kashgari - predict output: (154, 512)\n",
      "2020-12-09 15:49:43,116 [DEBUG] kashgari - predict output argmax: [[0 1 1 ... 1 1 1]\n",
      " [0 1 1 ... 1 1 1]\n",
      " [0 1 1 ... 1 1 1]\n",
      " ...\n",
      " [0 1 1 ... 1 1 1]\n",
      " [0 1 1 ... 1 1 1]\n",
      " [0 1 1 ... 1 1 1]]\n",
      "2020-12-09 15:49:43,701 [INFO] kashgari - Successfully recorded this epoch into model/20201209_koi/history/history_1.csv\n",
      "2020-12-09 15:49:43,703 [INFO] kashgari - \n",
      "Epoch 00014: f1-score did not improve from 0.87002\n"
     ]
    },
    {
     "name": "stdout",
     "output_type": "stream",
     "text": [
      "\n",
      "            precision    recall  f1-score   support\n",
      "\n",
      "      name     0.7297    0.9310    0.8182        29\n",
      "      time     0.7562    0.9314    0.8347       423\n",
      "  med_exam     0.9315    0.9315    0.9315        73\n",
      "     money     1.0000    1.0000    1.0000        15\n",
      "  location     0.9778    0.8000    0.8800        55\n",
      "   contact     1.0000    0.4000    0.5714        15\n",
      "    family     0.7692    0.8333    0.8000        12\n",
      "profession     1.0000    1.0000    1.0000         1\n",
      " education     1.0000    1.0000    1.0000         1\n",
      "        ID     1.0000    1.0000    1.0000         1\n",
      "\n",
      " micro avg     0.7952    0.9072    0.8475       625\n",
      " macro avg     0.8081    0.9072    0.8470       625\n",
      "\n",
      "\n",
      "epoch: 13 precision: 0.808095, recall: 0.907200, f1-score: 0.847034\n",
      "\b\b\b\b\b\b\b\b\b\b\b\b\b\b\b\b\b\b\b\b\b\b\b\b\b\b\b\b\b\b\b\b\b\b\b\b\b\b\b\b\b\b\b\b\b\b\b\b\b\b\b\b\b\b\b\b\b\b\b\b\b\b\b\b\b\b\b\b\b\b\b\b\b\b\b\b\b\b\b\b\b\b\r",
      "83/83 [==============================] - 276s 3s/step - loss: 2.3442 - accuracy: 0.9969 - val_loss: 865.6368 - val_accuracy: 0.8134\n",
      "Epoch 15/80\n",
      "83/83 [==============================] - ETA: 0s - loss: 2.0714 - accuracy: 0.9972"
     ]
    },
    {
     "name": "stderr",
     "output_type": "stream",
     "text": [
      "2020-12-09 15:54:06,186 [DEBUG] kashgari - predict seq_length: None, input: (2, 154, 512)\n"
     ]
    },
    {
     "name": "stdout",
     "output_type": "stream",
     "text": [
      "10/10 [==============================] - 14s 1s/step\n"
     ]
    },
    {
     "name": "stderr",
     "output_type": "stream",
     "text": [
      "2020-12-09 15:54:22,318 [DEBUG] kashgari - predict output: (154, 512)\n",
      "2020-12-09 15:54:22,319 [DEBUG] kashgari - predict output argmax: [[0 1 1 ... 1 1 1]\n",
      " [0 1 1 ... 1 1 1]\n",
      " [0 1 1 ... 1 1 1]\n",
      " ...\n",
      " [0 1 1 ... 1 1 1]\n",
      " [0 1 1 ... 1 1 1]\n",
      " [0 1 1 ... 1 1 1]]\n",
      "2020-12-09 15:54:22,896 [INFO] kashgari - Successfully recorded this epoch into model/20201209_koi/history/history_1.csv\n",
      "2020-12-09 15:54:22,898 [INFO] kashgari - \n",
      "Epoch 00015: f1-score did not improve from 0.87002\n"
     ]
    },
    {
     "name": "stdout",
     "output_type": "stream",
     "text": [
      "\n",
      "            precision    recall  f1-score   support\n",
      "\n",
      "      name     0.7297    0.9310    0.8182        29\n",
      "      time     0.7871    0.9267    0.8512       423\n",
      "  med_exam     0.8171    0.9178    0.8645        73\n",
      "     money     1.0000    1.0000    1.0000        15\n",
      "  location     1.0000    0.8364    0.9109        55\n",
      "   contact     0.8889    0.5333    0.6667        15\n",
      "    family     0.7143    0.8333    0.7692        12\n",
      "profession     1.0000    1.0000    1.0000         1\n",
      " education     1.0000    1.0000    1.0000         1\n",
      "        ID     1.0000    1.0000    1.0000         1\n",
      "\n",
      " micro avg     0.8068    0.9088    0.8548       625\n",
      " macro avg     0.8139    0.9088    0.8548       625\n",
      "\n",
      "\n",
      "epoch: 14 precision: 0.813883, recall: 0.908800, f1-score: 0.854792\n",
      "\b\b\b\b\b\b\b\b\b\b\b\b\b\b\b\b\b\b\b\b\b\b\b\b\b\b\b\b\b\b\b\b\b\b\b\b\b\b\b\b\b\b\b\b\b\b\b\b\b\b\b\b\b\b\b\b\b\b\b\b\b\b\b\b\b\b\b\b\b\b\b\b\b\b\b\b\b\b\b\b\b\b\r",
      "83/83 [==============================] - 276s 3s/step - loss: 2.0714 - accuracy: 0.9972 - val_loss: 847.9949 - val_accuracy: 0.3264\n",
      "Epoch 16/80\n",
      "83/83 [==============================] - ETA: 0s - loss: 2.0253 - accuracy: 0.9971"
     ]
    },
    {
     "name": "stderr",
     "output_type": "stream",
     "text": [
      "2020-12-09 15:58:46,950 [DEBUG] kashgari - predict seq_length: None, input: (2, 154, 512)\n"
     ]
    },
    {
     "name": "stdout",
     "output_type": "stream",
     "text": [
      "10/10 [==============================] - 14s 1s/step\n"
     ]
    },
    {
     "name": "stderr",
     "output_type": "stream",
     "text": [
      "2020-12-09 15:59:03,059 [DEBUG] kashgari - predict output: (154, 512)\n",
      "2020-12-09 15:59:03,060 [DEBUG] kashgari - predict output argmax: [[0 1 1 ... 1 1 1]\n",
      " [0 1 1 ... 1 1 1]\n",
      " [0 1 1 ... 1 1 1]\n",
      " ...\n",
      " [0 1 1 ... 1 1 1]\n",
      " [0 1 1 ... 1 1 1]\n",
      " [0 1 1 ... 1 1 1]]\n",
      "2020-12-09 15:59:03,657 [INFO] kashgari - Successfully recorded this epoch into model/20201209_koi/history/history_1.csv\n",
      "2020-12-09 15:59:03,659 [INFO] kashgari - \n",
      "Epoch 00016: f1-score improved from 0.87002 to 0.88124, saving model to model/20201209_koi\n"
     ]
    },
    {
     "name": "stdout",
     "output_type": "stream",
     "text": [
      "\n",
      "            precision    recall  f1-score   support\n",
      "\n",
      "      name     0.7941    0.9310    0.8571        29\n",
      "      time     0.8376    0.9267    0.8799       423\n",
      "  med_exam     0.9324    0.9452    0.9388        73\n",
      "     money     0.9375    1.0000    0.9677        15\n",
      "  location     1.0000    0.8364    0.9109        55\n",
      "   contact     1.0000    0.4000    0.5714        15\n",
      "    family     0.7500    0.7500    0.7500        12\n",
      "profession     1.0000    1.0000    1.0000         1\n",
      " education     1.0000    1.0000    1.0000         1\n",
      "        ID     1.0000    1.0000    1.0000         1\n",
      "\n",
      " micro avg     0.8604    0.9072    0.8832       625\n",
      " macro avg     0.8663    0.9072    0.8812       625\n",
      "\n",
      "\n",
      "epoch: 15 precision: 0.866347, recall: 0.907200, f1-score: 0.881242\n"
     ]
    },
    {
     "name": "stderr",
     "output_type": "stream",
     "text": [
      "2020-12-09 15:59:13,164 [INFO] kashgari - model saved to /content/drive/My Drive/AICUP2020/sample/kashgari/model/20201209_koi\n"
     ]
    },
    {
     "name": "stdout",
     "output_type": "stream",
     "text": [
      "\b\b\b\b\b\b\b\b\b\b\b\b\b\b\b\b\b\b\b\b\b\b\b\b\b\b\b\b\b\b\b\b\b\b\b\b\b\b\b\b\b\b\b\b\b\b\b\b\b\b\b\b\b\b\b\b\b\b\b\b\b\b\b\b\b\b\b\b\b\b\b\b\b\b\b\b\b\b\b\b\b\b\r",
      "83/83 [==============================] - 287s 3s/step - loss: 2.0253 - accuracy: 0.9971 - val_loss: 847.3376 - val_accuracy: 0.0901\n",
      "Epoch 17/80\n",
      "83/83 [==============================] - ETA: 0s - loss: 1.7720 - accuracy: 0.9977"
     ]
    },
    {
     "name": "stderr",
     "output_type": "stream",
     "text": [
      "2020-12-09 16:03:38,068 [DEBUG] kashgari - predict seq_length: None, input: (2, 154, 512)\n"
     ]
    },
    {
     "name": "stdout",
     "output_type": "stream",
     "text": [
      "10/10 [==============================] - 14s 1s/step\n"
     ]
    },
    {
     "name": "stderr",
     "output_type": "stream",
     "text": [
      "2020-12-09 16:03:54,140 [DEBUG] kashgari - predict output: (154, 512)\n",
      "2020-12-09 16:03:54,141 [DEBUG] kashgari - predict output argmax: [[0 1 1 ... 1 1 1]\n",
      " [0 1 1 ... 1 1 1]\n",
      " [0 1 1 ... 1 1 1]\n",
      " ...\n",
      " [0 1 1 ... 1 1 1]\n",
      " [0 1 1 ... 1 1 1]\n",
      " [0 1 1 ... 1 1 1]]\n",
      "2020-12-09 16:03:54,734 [INFO] kashgari - Successfully recorded this epoch into model/20201209_koi/history/history_1.csv\n",
      "2020-12-09 16:03:54,735 [INFO] kashgari - \n",
      "Epoch 00017: f1-score improved from 0.88124 to 0.89145, saving model to model/20201209_koi\n"
     ]
    },
    {
     "name": "stdout",
     "output_type": "stream",
     "text": [
      "\n",
      "            precision    recall  f1-score   support\n",
      "\n",
      "      name     0.8438    0.9310    0.8852        29\n",
      "      time     0.8432    0.9409    0.8894       423\n",
      "  med_exam     0.9324    0.9452    0.9388        73\n",
      "     money     0.9375    1.0000    0.9677        15\n",
      "  location     1.0000    0.8727    0.9320        55\n",
      "   contact     1.0000    0.4000    0.5714        15\n",
      "    family     0.8182    0.7500    0.7826        12\n",
      "profession     1.0000    1.0000    1.0000         1\n",
      " education     1.0000    1.0000    1.0000         1\n",
      "        ID     1.0000    1.0000    1.0000         1\n",
      "\n",
      " micro avg     0.8686    0.9200    0.8936       625\n",
      " macro avg     0.8738    0.9200    0.8914       625\n",
      "\n",
      "\n",
      "epoch: 16 precision: 0.873759, recall: 0.920000, f1-score: 0.891446\n"
     ]
    },
    {
     "name": "stderr",
     "output_type": "stream",
     "text": [
      "2020-12-09 16:04:06,393 [INFO] kashgari - model saved to /content/drive/My Drive/AICUP2020/sample/kashgari/model/20201209_koi\n"
     ]
    },
    {
     "name": "stdout",
     "output_type": "stream",
     "text": [
      "\b\b\b\b\b\b\b\b\b\b\b\b\b\b\b\b\b\b\b\b\b\b\b\b\b\b\b\b\b\b\b\b\b\b\b\b\b\b\b\b\b\b\b\b\b\b\b\b\b\b\b\b\b\b\b\b\b\b\b\b\b\b\b\b\b\b\b\b\b\b\b\b\b\b\b\b\b\b\b\b\b\b\r",
      "83/83 [==============================] - 290s 3s/step - loss: 1.7720 - accuracy: 0.9977 - val_loss: 837.0936 - val_accuracy: 0.0571\n",
      "Epoch 18/80\n",
      "83/83 [==============================] - ETA: 0s - loss: 1.8537 - accuracy: 0.9973"
     ]
    },
    {
     "name": "stderr",
     "output_type": "stream",
     "text": [
      "2020-12-09 16:08:31,933 [DEBUG] kashgari - predict seq_length: None, input: (2, 154, 512)\n"
     ]
    },
    {
     "name": "stdout",
     "output_type": "stream",
     "text": [
      "10/10 [==============================] - 14s 1s/step\n"
     ]
    },
    {
     "name": "stderr",
     "output_type": "stream",
     "text": [
      "2020-12-09 16:08:48,129 [DEBUG] kashgari - predict output: (154, 512)\n",
      "2020-12-09 16:08:48,130 [DEBUG] kashgari - predict output argmax: [[0 1 1 ... 1 1 1]\n",
      " [0 1 1 ... 1 1 1]\n",
      " [0 1 1 ... 1 1 1]\n",
      " ...\n",
      " [0 1 1 ... 1 1 1]\n",
      " [0 1 1 ... 1 1 1]\n",
      " [0 1 1 ... 1 1 1]]\n",
      "2020-12-09 16:08:48,723 [INFO] kashgari - Successfully recorded this epoch into model/20201209_koi/history/history_1.csv\n",
      "2020-12-09 16:08:48,725 [INFO] kashgari - \n",
      "Epoch 00018: f1-score improved from 0.89145 to 0.90323, saving model to model/20201209_koi\n"
     ]
    },
    {
     "name": "stdout",
     "output_type": "stream",
     "text": [
      "\n",
      "            precision    recall  f1-score   support\n",
      "\n",
      "      name     0.8438    0.9310    0.8852        29\n",
      "      time     0.8775    0.9314    0.9037       423\n",
      "  med_exam     0.9067    0.9315    0.9189        73\n",
      "     money     1.0000    1.0000    1.0000        15\n",
      "  location     1.0000    0.8727    0.9320        55\n",
      "   contact     1.0000    0.5333    0.6957        15\n",
      "    family     0.9000    0.7500    0.8182        12\n",
      "profession     1.0000    1.0000    1.0000         1\n",
      " education     1.0000    1.0000    1.0000         1\n",
      "        ID     1.0000    1.0000    1.0000         1\n",
      "\n",
      " micro avg     0.8938    0.9152    0.9043       625\n",
      " macro avg     0.8970    0.9152    0.9032       625\n",
      "\n",
      "\n",
      "epoch: 17 precision: 0.897024, recall: 0.915200, f1-score: 0.903233\n"
     ]
    },
    {
     "name": "stderr",
     "output_type": "stream",
     "text": [
      "2020-12-09 16:09:00,138 [INFO] kashgari - model saved to /content/drive/My Drive/AICUP2020/sample/kashgari/model/20201209_koi\n"
     ]
    },
    {
     "name": "stdout",
     "output_type": "stream",
     "text": [
      "\b\b\b\b\b\b\b\b\b\b\b\b\b\b\b\b\b\b\b\b\b\b\b\b\b\b\b\b\b\b\b\b\b\b\b\b\b\b\b\b\b\b\b\b\b\b\b\b\b\b\b\b\b\b\b\b\b\b\b\b\b\b\b\b\b\b\b\b\b\b\b\b\b\b\b\b\b\b\b\b\b\b\r",
      "83/83 [==============================] - 290s 3s/step - loss: 1.8537 - accuracy: 0.9973 - val_loss: 824.9988 - val_accuracy: 0.0437\n",
      "Epoch 19/80\n",
      "83/83 [==============================] - ETA: 0s - loss: 1.8627 - accuracy: 0.9973"
     ]
    },
    {
     "name": "stderr",
     "output_type": "stream",
     "text": [
      "2020-12-09 16:13:26,398 [DEBUG] kashgari - predict seq_length: None, input: (2, 154, 512)\n"
     ]
    },
    {
     "name": "stdout",
     "output_type": "stream",
     "text": [
      "10/10 [==============================] - 14s 1s/step\n"
     ]
    },
    {
     "name": "stderr",
     "output_type": "stream",
     "text": [
      "2020-12-09 16:13:42,614 [DEBUG] kashgari - predict output: (154, 512)\n",
      "2020-12-09 16:13:42,615 [DEBUG] kashgari - predict output argmax: [[0 1 1 ... 1 1 1]\n",
      " [0 1 1 ... 1 1 1]\n",
      " [0 1 1 ... 1 1 1]\n",
      " ...\n",
      " [0 1 1 ... 1 1 1]\n",
      " [0 1 1 ... 1 1 1]\n",
      " [0 1 1 ... 1 1 1]]\n",
      "2020-12-09 16:13:43,225 [INFO] kashgari - Successfully recorded this epoch into model/20201209_koi/history/history_1.csv\n",
      "2020-12-09 16:13:43,226 [INFO] kashgari - \n",
      "Epoch 00019: f1-score did not improve from 0.90323\n"
     ]
    },
    {
     "name": "stdout",
     "output_type": "stream",
     "text": [
      "\n",
      "            precision    recall  f1-score   support\n",
      "\n",
      "      name     0.7941    0.9310    0.8571        29\n",
      "      time     0.8390    0.9362    0.8849       423\n",
      "  med_exam     0.9315    0.9315    0.9315        73\n",
      "     money     0.9375    1.0000    0.9677        15\n",
      "  location     0.9796    0.8727    0.9231        55\n",
      "   contact     0.8750    0.4667    0.6087        15\n",
      "    family     1.0000    0.6667    0.8000        12\n",
      "profession     1.0000    1.0000    1.0000         1\n",
      " education     1.0000    1.0000    1.0000         1\n",
      "        ID     1.0000    1.0000    1.0000         1\n",
      "\n",
      " micro avg     0.8627    0.9152    0.8882       625\n",
      " macro avg     0.8672    0.9152    0.8867       625\n",
      "\n",
      "\n",
      "epoch: 18 precision: 0.867175, recall: 0.915200, f1-score: 0.886708\n",
      "\b\b\b\b\b\b\b\b\b\b\b\b\b\b\b\b\b\b\b\b\b\b\b\b\b\b\b\b\b\b\b\b\b\b\b\b\b\b\b\b\b\b\b\b\b\b\b\b\b\b\b\b\b\b\b\b\b\b\b\b\b\b\b\b\b\b\b\b\b\b\b\b\b\b\b\b\b\b\b\b\b\b\r",
      "83/83 [==============================] - 280s 3s/step - loss: 1.8627 - accuracy: 0.9973 - val_loss: 819.2999 - val_accuracy: 0.0354\n",
      "Epoch 20/80\n",
      "83/83 [==============================] - ETA: 0s - loss: 1.6150 - accuracy: 0.9976"
     ]
    },
    {
     "name": "stderr",
     "output_type": "stream",
     "text": [
      "2020-12-09 16:18:08,067 [DEBUG] kashgari - predict seq_length: None, input: (2, 154, 512)\n"
     ]
    },
    {
     "name": "stdout",
     "output_type": "stream",
     "text": [
      "10/10 [==============================] - 14s 1s/step\n"
     ]
    },
    {
     "name": "stderr",
     "output_type": "stream",
     "text": [
      "2020-12-09 16:18:24,245 [DEBUG] kashgari - predict output: (154, 512)\n",
      "2020-12-09 16:18:24,246 [DEBUG] kashgari - predict output argmax: [[0 1 1 ... 1 1 1]\n",
      " [0 1 1 ... 1 1 1]\n",
      " [0 1 1 ... 1 1 1]\n",
      " ...\n",
      " [0 1 1 ... 1 1 1]\n",
      " [0 1 1 ... 1 1 1]\n",
      " [0 1 1 ... 1 1 1]]\n",
      "2020-12-09 16:18:24,845 [INFO] kashgari - Successfully recorded this epoch into model/20201209_koi/history/history_1.csv\n",
      "2020-12-09 16:18:24,847 [INFO] kashgari - \n",
      "Epoch 00020: f1-score did not improve from 0.90323\n"
     ]
    },
    {
     "name": "stdout",
     "output_type": "stream",
     "text": [
      "\n",
      "            precision    recall  f1-score   support\n",
      "\n",
      "      name     0.8438    0.9310    0.8852        29\n",
      "      time     0.9048    0.8983    0.9015       423\n",
      "  med_exam     0.8734    0.9452    0.9079        73\n",
      "     money     1.0000    1.0000    1.0000        15\n",
      "  location     0.9796    0.8727    0.9231        55\n",
      "   contact     1.0000    0.4000    0.5714        15\n",
      "    family     0.9000    0.7500    0.8182        12\n",
      "profession     1.0000    1.0000    1.0000         1\n",
      " education     1.0000    1.0000    1.0000         1\n",
      "        ID     1.0000    1.0000    1.0000         1\n",
      "\n",
      " micro avg     0.9072    0.8912    0.8991       625\n",
      " macro avg     0.9098    0.8912    0.8967       625\n",
      "\n",
      "\n",
      "epoch: 19 precision: 0.909792, recall: 0.891200, f1-score: 0.896735\n",
      "\b\b\b\b\b\b\b\b\b\b\b\b\b\b\b\b\b\b\b\b\b\b\b\b\b\b\b\b\b\b\b\b\b\b\b\b\b\b\b\b\b\b\b\b\b\b\b\b\b\b\b\b\b\b\b\b\b\b\b\b\b\b\b\b\b\b\b\b\b\b\b\b\b\b\b\b\b\b\b\b\b\b\r",
      "83/83 [==============================] - 279s 3s/step - loss: 1.6150 - accuracy: 0.9976 - val_loss: 807.4387 - val_accuracy: 0.0297\n",
      "Epoch 21/80\n",
      "83/83 [==============================] - ETA: 0s - loss: 1.5275 - accuracy: 0.9979"
     ]
    },
    {
     "name": "stderr",
     "output_type": "stream",
     "text": [
      "2020-12-09 16:22:49,588 [DEBUG] kashgari - predict seq_length: None, input: (2, 154, 512)\n"
     ]
    },
    {
     "name": "stdout",
     "output_type": "stream",
     "text": [
      "10/10 [==============================] - 14s 1s/step\n"
     ]
    },
    {
     "name": "stderr",
     "output_type": "stream",
     "text": [
      "2020-12-09 16:23:05,767 [DEBUG] kashgari - predict output: (154, 512)\n",
      "2020-12-09 16:23:05,769 [DEBUG] kashgari - predict output argmax: [[0 1 1 ... 1 1 1]\n",
      " [0 1 1 ... 1 1 1]\n",
      " [0 1 1 ... 1 1 1]\n",
      " ...\n",
      " [0 1 1 ... 1 1 1]\n",
      " [0 1 1 ... 1 1 1]\n",
      " [0 1 1 ... 1 1 1]]\n",
      "2020-12-09 16:23:06,371 [INFO] kashgari - Successfully recorded this epoch into model/20201209_koi/history/history_1.csv\n",
      "2020-12-09 16:23:06,373 [INFO] kashgari - \n",
      "Epoch 00021: f1-score did not improve from 0.90323\n"
     ]
    },
    {
     "name": "stdout",
     "output_type": "stream",
     "text": [
      "\n",
      "            precision    recall  f1-score   support\n",
      "\n",
      "      name     0.7500    0.9310    0.8308        29\n",
      "      time     0.8223    0.9409    0.8776       423\n",
      "  med_exam     0.8462    0.9041    0.8742        73\n",
      "     money     0.9375    1.0000    0.9677        15\n",
      "  location     0.9800    0.8909    0.9333        55\n",
      "   contact     1.0000    0.4667    0.6364        15\n",
      "    family     0.9000    0.7500    0.8182        12\n",
      "profession     1.0000    1.0000    1.0000         1\n",
      " education     1.0000    1.0000    1.0000         1\n",
      "        ID     1.0000    1.0000    1.0000         1\n",
      "\n",
      " micro avg     0.8392    0.9184    0.8770       625\n",
      " macro avg     0.8450    0.9184    0.8758       625\n",
      "\n",
      "\n",
      "epoch: 20 precision: 0.844993, recall: 0.918400, f1-score: 0.875764\n",
      "\b\b\b\b\b\b\b\b\b\b\b\b\b\b\b\b\b\b\b\b\b\b\b\b\b\b\b\b\b\b\b\b\b\b\b\b\b\b\b\b\b\b\b\b\b\b\b\b\b\b\b\b\b\b\b\b\b\b\b\b\b\b\b\b\b\b\b\b\b\b\b\b\b\b\b\b\b\b\b\b\b\b\r",
      "83/83 [==============================] - 279s 3s/step - loss: 1.5275 - accuracy: 0.9979 - val_loss: 804.5439 - val_accuracy: 0.0268\n",
      "Epoch 22/80\n",
      "83/83 [==============================] - ETA: 0s - loss: 1.4742 - accuracy: 0.9980"
     ]
    },
    {
     "name": "stderr",
     "output_type": "stream",
     "text": [
      "2020-12-09 16:27:30,945 [DEBUG] kashgari - predict seq_length: None, input: (2, 154, 512)\n"
     ]
    },
    {
     "name": "stdout",
     "output_type": "stream",
     "text": [
      "10/10 [==============================] - 14s 1s/step\n"
     ]
    },
    {
     "name": "stderr",
     "output_type": "stream",
     "text": [
      "2020-12-09 16:27:47,134 [DEBUG] kashgari - predict output: (154, 512)\n",
      "2020-12-09 16:27:47,135 [DEBUG] kashgari - predict output argmax: [[0 1 1 ... 1 1 1]\n",
      " [0 1 1 ... 1 1 1]\n",
      " [0 1 1 ... 1 1 1]\n",
      " ...\n",
      " [0 1 1 ... 1 1 1]\n",
      " [0 1 1 ... 1 1 1]\n",
      " [0 1 1 ... 1 1 1]]\n",
      "2020-12-09 16:27:47,734 [INFO] kashgari - Successfully recorded this epoch into model/20201209_koi/history/history_1.csv\n",
      "2020-12-09 16:27:47,735 [INFO] kashgari - \n",
      "Epoch 00022: f1-score improved from 0.90323 to 0.91234, saving model to model/20201209_koi\n"
     ]
    },
    {
     "name": "stdout",
     "output_type": "stream",
     "text": [
      "\n",
      "            precision    recall  f1-score   support\n",
      "\n",
      "      name     0.8438    0.9310    0.8852        29\n",
      "      time     0.8971    0.9480    0.9218       423\n",
      "  med_exam     0.9437    0.9178    0.9306        73\n",
      "     money     0.9375    1.0000    0.9677        15\n",
      "  location     0.9796    0.8727    0.9231        55\n",
      "   contact     1.0000    0.4000    0.5714        15\n",
      "    family     0.9000    0.7500    0.8182        12\n",
      "profession     1.0000    1.0000    1.0000         1\n",
      " education     1.0000    1.0000    1.0000         1\n",
      "        ID     1.0000    1.0000    1.0000         1\n",
      "\n",
      " micro avg     0.9085    0.9216    0.9150       625\n",
      " macro avg     0.9113    0.9216    0.9123       625\n",
      "\n",
      "\n",
      "epoch: 21 precision: 0.911305, recall: 0.921600, f1-score: 0.912345\n"
     ]
    },
    {
     "name": "stderr",
     "output_type": "stream",
     "text": [
      "2020-12-09 16:27:58,977 [INFO] kashgari - model saved to /content/drive/My Drive/AICUP2020/sample/kashgari/model/20201209_koi\n"
     ]
    },
    {
     "name": "stdout",
     "output_type": "stream",
     "text": [
      "\b\b\b\b\b\b\b\b\b\b\b\b\b\b\b\b\b\b\b\b\b\b\b\b\b\b\b\b\b\b\b\b\b\b\b\b\b\b\b\b\b\b\b\b\b\b\b\b\b\b\b\b\b\b\b\b\b\b\b\b\b\b\b\b\b\b\b\b\b\b\b\b\b\b\b\b\b\b\b\b\b\b\r",
      "83/83 [==============================] - 290s 3s/step - loss: 1.4742 - accuracy: 0.9980 - val_loss: 796.9332 - val_accuracy: 0.0236\n",
      "Epoch 23/80\n",
      "83/83 [==============================] - ETA: 0s - loss: 1.4348 - accuracy: 0.9979"
     ]
    },
    {
     "name": "stderr",
     "output_type": "stream",
     "text": [
      "2020-12-09 16:32:25,395 [DEBUG] kashgari - predict seq_length: None, input: (2, 154, 512)\n"
     ]
    },
    {
     "name": "stdout",
     "output_type": "stream",
     "text": [
      "10/10 [==============================] - 14s 1s/step\n"
     ]
    },
    {
     "name": "stderr",
     "output_type": "stream",
     "text": [
      "2020-12-09 16:32:41,594 [DEBUG] kashgari - predict output: (154, 512)\n",
      "2020-12-09 16:32:41,595 [DEBUG] kashgari - predict output argmax: [[0 1 1 ... 1 1 1]\n",
      " [0 1 1 ... 1 1 1]\n",
      " [0 1 1 ... 1 1 1]\n",
      " ...\n",
      " [0 1 1 ... 1 1 1]\n",
      " [0 1 1 ... 1 1 1]\n",
      " [0 1 1 ... 1 1 1]]\n",
      "2020-12-09 16:32:42,192 [INFO] kashgari - Successfully recorded this epoch into model/20201209_koi/history/history_1.csv\n",
      "2020-12-09 16:32:42,194 [INFO] kashgari - \n",
      "Epoch 00023: f1-score did not improve from 0.91234\n"
     ]
    },
    {
     "name": "stdout",
     "output_type": "stream",
     "text": [
      "\n",
      "            precision    recall  f1-score   support\n",
      "\n",
      "      name     0.8438    0.9310    0.8852        29\n",
      "      time     0.8761    0.9527    0.9128       423\n",
      "  med_exam     0.9324    0.9452    0.9388        73\n",
      "     money     0.9375    1.0000    0.9677        15\n",
      "  location     1.0000    0.8727    0.9320        55\n",
      "   contact     0.8889    0.5333    0.6667        15\n",
      "    family     0.7333    0.9167    0.8148        12\n",
      "profession     0.5000    1.0000    0.6667         1\n",
      " education     1.0000    1.0000    1.0000         1\n",
      "        ID     1.0000    1.0000    1.0000         1\n",
      "\n",
      " micro avg     0.8875    0.9344    0.9104       625\n",
      " macro avg     0.8909    0.9344    0.9097       625\n",
      "\n",
      "\n",
      "epoch: 22 precision: 0.890907, recall: 0.934400, f1-score: 0.909662\n",
      "\b\b\b\b\b\b\b\b\b\b\b\b\b\b\b\b\b\b\b\b\b\b\b\b\b\b\b\b\b\b\b\b\b\b\b\b\b\b\b\b\b\b\b\b\b\b\b\b\b\b\b\b\b\b\b\b\b\b\b\b\b\b\b\b\b\b\b\b\b\b\b\b\b\b\b\b\b\b\b\b\b\b\r",
      "83/83 [==============================] - 280s 3s/step - loss: 1.4348 - accuracy: 0.9979 - val_loss: 789.3761 - val_accuracy: 0.0237\n",
      "Epoch 24/80\n",
      "83/83 [==============================] - ETA: 0s - loss: 1.4082 - accuracy: 0.9980"
     ]
    },
    {
     "name": "stderr",
     "output_type": "stream",
     "text": [
      "2020-12-09 16:37:07,284 [DEBUG] kashgari - predict seq_length: None, input: (2, 154, 512)\n"
     ]
    },
    {
     "name": "stdout",
     "output_type": "stream",
     "text": [
      "10/10 [==============================] - 14s 1s/step\n"
     ]
    },
    {
     "name": "stderr",
     "output_type": "stream",
     "text": [
      "2020-12-09 16:37:23,444 [DEBUG] kashgari - predict output: (154, 512)\n",
      "2020-12-09 16:37:23,445 [DEBUG] kashgari - predict output argmax: [[0 1 1 ... 1 1 1]\n",
      " [0 1 1 ... 1 1 1]\n",
      " [0 1 1 ... 1 1 1]\n",
      " ...\n",
      " [0 1 1 ... 1 1 1]\n",
      " [0 1 1 ... 1 1 1]\n",
      " [0 1 1 ... 1 1 1]]\n",
      "2020-12-09 16:37:24,026 [INFO] kashgari - Successfully recorded this epoch into model/20201209_koi/history/history_1.csv\n",
      "2020-12-09 16:37:24,027 [INFO] kashgari - \n",
      "Epoch 00024: f1-score did not improve from 0.91234\n"
     ]
    },
    {
     "name": "stdout",
     "output_type": "stream",
     "text": [
      "\n",
      "            precision    recall  f1-score   support\n",
      "\n",
      "      name     0.7500    0.9310    0.8308        29\n",
      "      time     0.8475    0.9456    0.8939       423\n",
      "  med_exam     0.9718    0.9452    0.9583        73\n",
      "     money     0.9375    1.0000    0.9677        15\n",
      "  location     0.9796    0.8727    0.9231        55\n",
      "   contact     1.0000    0.4000    0.5714        15\n",
      "    family     0.8182    0.7500    0.7826        12\n",
      "profession     1.0000    1.0000    1.0000         1\n",
      " education     1.0000    1.0000    1.0000         1\n",
      "        ID     1.0000    1.0000    1.0000         1\n",
      "\n",
      " micro avg     0.8690    0.9232    0.8953       625\n",
      " macro avg     0.8751    0.9232    0.8934       625\n",
      "\n",
      "\n",
      "epoch: 23 precision: 0.875082, recall: 0.923200, f1-score: 0.893439\n",
      "\b\b\b\b\b\b\b\b\b\b\b\b\b\b\b\b\b\b\b\b\b\b\b\b\b\b\b\b\b\b\b\b\b\b\b\b\b\b\b\b\b\b\b\b\b\b\b\b\b\b\b\b\b\b\b\b\b\b\b\b\b\b\b\b\b\b\b\b\b\b\b\b\b\b\b\b\b\b\b\b\b\b\r",
      "83/83 [==============================] - 279s 3s/step - loss: 1.4082 - accuracy: 0.9980 - val_loss: 784.4244 - val_accuracy: 0.0212\n",
      "Epoch 25/80\n",
      "83/83 [==============================] - ETA: 0s - loss: 1.2989 - accuracy: 0.9982"
     ]
    },
    {
     "name": "stderr",
     "output_type": "stream",
     "text": [
      "2020-12-09 16:41:48,722 [DEBUG] kashgari - predict seq_length: None, input: (2, 154, 512)\n"
     ]
    },
    {
     "name": "stdout",
     "output_type": "stream",
     "text": [
      "10/10 [==============================] - 15s 1s/step\n"
     ]
    },
    {
     "name": "stderr",
     "output_type": "stream",
     "text": [
      "2020-12-09 16:42:04,971 [DEBUG] kashgari - predict output: (154, 512)\n",
      "2020-12-09 16:42:04,972 [DEBUG] kashgari - predict output argmax: [[0 1 1 ... 1 1 1]\n",
      " [0 1 1 ... 1 1 1]\n",
      " [0 1 1 ... 1 1 1]\n",
      " ...\n",
      " [0 1 1 ... 1 1 1]\n",
      " [0 1 1 ... 1 1 1]\n",
      " [0 1 1 ... 1 1 1]]\n",
      "2020-12-09 16:42:05,567 [INFO] kashgari - Successfully recorded this epoch into model/20201209_koi/history/history_1.csv\n",
      "2020-12-09 16:42:05,568 [INFO] kashgari - \n",
      "Epoch 00025: f1-score did not improve from 0.91234\n"
     ]
    },
    {
     "name": "stdout",
     "output_type": "stream",
     "text": [
      "\n",
      "            precision    recall  f1-score   support\n",
      "\n",
      "      name     0.8182    0.9310    0.8710        29\n",
      "      time     0.9000    0.9362    0.9177       423\n",
      "  med_exam     0.9710    0.9178    0.9437        73\n",
      "     money     0.9375    1.0000    0.9677        15\n",
      "  location     0.9796    0.8727    0.9231        55\n",
      "   contact     1.0000    0.4667    0.6364        15\n",
      "    family     0.8889    0.6667    0.7619        12\n",
      "profession     1.0000    1.0000    1.0000         1\n",
      " education     1.0000    1.0000    1.0000         1\n",
      "        ID     1.0000    1.0000    1.0000         1\n",
      "\n",
      " micro avg     0.9121    0.9136    0.9129       625\n",
      " macro avg     0.9151    0.9136    0.9109       625\n",
      "\n",
      "\n",
      "epoch: 24 precision: 0.915069, recall: 0.913600, f1-score: 0.910909\n",
      "\b\b\b\b\b\b\b\b\b\b\b\b\b\b\b\b\b\b\b\b\b\b\b\b\b\b\b\b\b\b\b\b\b\b\b\b\b\b\b\b\b\b\b\b\b\b\b\b\b\b\b\b\b\b\b\b\b\b\b\b\b\b\b\b\b\b\b\b\b\b\b\b\b\b\b\b\b\b\b\b\b\b\r",
      "83/83 [==============================] - 279s 3s/step - loss: 1.2989 - accuracy: 0.9982 - val_loss: 774.8424 - val_accuracy: 0.0200\n",
      "Epoch 26/80\n",
      "83/83 [==============================] - ETA: 0s - loss: 1.1250 - accuracy: 0.9984"
     ]
    },
    {
     "name": "stderr",
     "output_type": "stream",
     "text": [
      "2020-12-09 16:46:28,767 [DEBUG] kashgari - predict seq_length: None, input: (2, 154, 512)\n"
     ]
    },
    {
     "name": "stdout",
     "output_type": "stream",
     "text": [
      "10/10 [==============================] - 14s 1s/step\n"
     ]
    },
    {
     "name": "stderr",
     "output_type": "stream",
     "text": [
      "2020-12-09 16:46:44,955 [DEBUG] kashgari - predict output: (154, 512)\n",
      "2020-12-09 16:46:44,957 [DEBUG] kashgari - predict output argmax: [[0 1 1 ... 1 1 1]\n",
      " [0 1 1 ... 1 1 1]\n",
      " [0 1 1 ... 1 1 1]\n",
      " ...\n",
      " [0 1 1 ... 1 1 1]\n",
      " [0 1 1 ... 1 1 1]\n",
      " [0 1 1 ... 1 1 1]]\n",
      "2020-12-09 16:46:45,552 [INFO] kashgari - Successfully recorded this epoch into model/20201209_koi/history/history_1.csv\n",
      "2020-12-09 16:46:45,554 [INFO] kashgari - \n",
      "Epoch 00026: f1-score did not improve from 0.91234\n"
     ]
    },
    {
     "name": "stdout",
     "output_type": "stream",
     "text": [
      "\n",
      "            precision    recall  f1-score   support\n",
      "\n",
      "      name     0.8438    0.9310    0.8852        29\n",
      "      time     0.8783    0.9385    0.9074       423\n",
      "  med_exam     0.9459    0.9589    0.9524        73\n",
      "     money     0.9375    1.0000    0.9677        15\n",
      "  location     1.0000    0.8727    0.9320        55\n",
      "   contact     1.0000    0.4000    0.5714        15\n",
      "    family     1.0000    0.7500    0.8571        12\n",
      "profession     1.0000    1.0000    1.0000         1\n",
      " education     1.0000    1.0000    1.0000         1\n",
      "        ID     1.0000    1.0000    1.0000         1\n",
      "\n",
      " micro avg     0.8984    0.9200    0.9091       625\n",
      " macro avg     0.9026    0.9200    0.9067       625\n",
      "\n",
      "\n",
      "epoch: 25 precision: 0.902583, recall: 0.920000, f1-score: 0.906678\n",
      "\b\b\b\b\b\b\b\b\b\b\b\b\b\b\b\b\b\b\b\b\b\b\b\b\b\b\b\b\b\b\b\b\b\b\b\b\b\b\b\b\b\b\b\b\b\b\b\b\b\b\b\b\b\b\b\b\b\b\b\b\b\b\b\b\b\b\b\b\b\b\b\b\b\b\b\b\b\b\b\b\b\b\r",
      "83/83 [==============================] - 277s 3s/step - loss: 1.1250 - accuracy: 0.9984 - val_loss: 772.8289 - val_accuracy: 0.0184\n",
      "Epoch 27/80\n",
      "83/83 [==============================] - ETA: 0s - loss: 1.1896 - accuracy: 0.9983"
     ]
    },
    {
     "name": "stderr",
     "output_type": "stream",
     "text": [
      "2020-12-09 16:51:08,149 [DEBUG] kashgari - predict seq_length: None, input: (2, 154, 512)\n"
     ]
    },
    {
     "name": "stdout",
     "output_type": "stream",
     "text": [
      "10/10 [==============================] - 14s 1s/step\n"
     ]
    },
    {
     "name": "stderr",
     "output_type": "stream",
     "text": [
      "2020-12-09 16:51:24,374 [DEBUG] kashgari - predict output: (154, 512)\n",
      "2020-12-09 16:51:24,375 [DEBUG] kashgari - predict output argmax: [[0 1 1 ... 1 1 1]\n",
      " [0 1 1 ... 1 1 1]\n",
      " [0 1 1 ... 1 1 1]\n",
      " ...\n",
      " [0 1 1 ... 1 1 1]\n",
      " [0 1 1 ... 1 1 1]\n",
      " [0 1 1 ... 1 1 1]]\n",
      "2020-12-09 16:51:24,963 [INFO] kashgari - Successfully recorded this epoch into model/20201209_koi/history/history_1.csv\n",
      "2020-12-09 16:51:24,965 [INFO] kashgari - \n",
      "Epoch 00027: f1-score improved from 0.91234 to 0.92003, saving model to model/20201209_koi\n"
     ]
    },
    {
     "name": "stdout",
     "output_type": "stream",
     "text": [
      "\n",
      "            precision    recall  f1-score   support\n",
      "\n",
      "      name     0.8438    0.9310    0.8852        29\n",
      "      time     0.9332    0.9243    0.9287       423\n",
      "  med_exam     1.0000    0.9315    0.9645        73\n",
      "     money     0.9375    1.0000    0.9677        15\n",
      "  location     1.0000    0.8727    0.9320        55\n",
      "   contact     1.0000    0.4000    0.5714        15\n",
      "    family     0.8000    0.6667    0.7273        12\n",
      "profession     1.0000    1.0000    1.0000         1\n",
      " education     1.0000    1.0000    1.0000         1\n",
      "        ID     1.0000    1.0000    1.0000         1\n",
      "\n",
      " micro avg     0.9402    0.9056    0.9226       625\n",
      " macro avg     0.9422    0.9056    0.9200       625\n",
      "\n",
      "\n",
      "epoch: 26 precision: 0.942182, recall: 0.905600, f1-score: 0.920029\n"
     ]
    },
    {
     "name": "stderr",
     "output_type": "stream",
     "text": [
      "2020-12-09 16:51:35,448 [INFO] kashgari - model saved to /content/drive/My Drive/AICUP2020/sample/kashgari/model/20201209_koi\n"
     ]
    },
    {
     "name": "stdout",
     "output_type": "stream",
     "text": [
      "\b\b\b\b\b\b\b\b\b\b\b\b\b\b\b\b\b\b\b\b\b\b\b\b\b\b\b\b\b\b\b\b\b\b\b\b\b\b\b\b\b\b\b\b\b\b\b\b\b\b\b\b\b\b\b\b\b\b\b\b\b\b\b\b\b\b\b\b\b\b\b\b\b\b\b\b\b\b\b\b\b\b\r",
      "83/83 [==============================] - 287s 3s/step - loss: 1.1896 - accuracy: 0.9983 - val_loss: 766.6316 - val_accuracy: 0.0178\n",
      "Epoch 28/80\n",
      "83/83 [==============================] - ETA: 0s - loss: 1.1780 - accuracy: 0.9983"
     ]
    },
    {
     "name": "stderr",
     "output_type": "stream",
     "text": [
      "2020-12-09 16:56:01,208 [DEBUG] kashgari - predict seq_length: None, input: (2, 154, 512)\n"
     ]
    },
    {
     "name": "stdout",
     "output_type": "stream",
     "text": [
      "10/10 [==============================] - 14s 1s/step\n"
     ]
    },
    {
     "name": "stderr",
     "output_type": "stream",
     "text": [
      "2020-12-09 16:56:17,425 [DEBUG] kashgari - predict output: (154, 512)\n",
      "2020-12-09 16:56:17,427 [DEBUG] kashgari - predict output argmax: [[0 1 1 ... 1 1 1]\n",
      " [0 1 1 ... 1 1 1]\n",
      " [0 1 1 ... 1 1 1]\n",
      " ...\n",
      " [0 1 1 ... 1 1 1]\n",
      " [0 1 1 ... 1 1 1]\n",
      " [0 1 1 ... 1 1 1]]\n",
      "2020-12-09 16:56:18,031 [INFO] kashgari - Successfully recorded this epoch into model/20201209_koi/history/history_1.csv\n",
      "2020-12-09 16:56:18,032 [INFO] kashgari - \n",
      "Epoch 00028: f1-score did not improve from 0.92003\n"
     ]
    },
    {
     "name": "stdout",
     "output_type": "stream",
     "text": [
      "\n",
      "            precision    recall  f1-score   support\n",
      "\n",
      "      name     0.7941    0.9310    0.8571        29\n",
      "      time     0.8960    0.9574    0.9257       423\n",
      "  med_exam     0.9577    0.9315    0.9444        73\n",
      "     money     0.9375    1.0000    0.9677        15\n",
      "  location     0.9796    0.8727    0.9231        55\n",
      "   contact     1.0000    0.5333    0.6957        15\n",
      "    family     0.8000    0.6667    0.7273        12\n",
      "profession     1.0000    1.0000    1.0000         1\n",
      " education     1.0000    1.0000    1.0000         1\n",
      "        ID     1.0000    1.0000    1.0000         1\n",
      "\n",
      " micro avg     0.9051    0.9312    0.9180       625\n",
      " macro avg     0.9080    0.9312    0.9165       625\n",
      "\n",
      "\n",
      "epoch: 27 precision: 0.908001, recall: 0.931200, f1-score: 0.916522\n",
      "\b\b\b\b\b\b\b\b\b\b\b\b\b\b\b\b\b\b\b\b\b\b\b\b\b\b\b\b\b\b\b\b\b\b\b\b\b\b\b\b\b\b\b\b\b\b\b\b\b\b\b\b\b\b\b\b\b\b\b\b\b\b\b\b\b\b\b\b\b\b\b\b\b\b\b\b\b\b\b\b\b\b\r",
      "83/83 [==============================] - 280s 3s/step - loss: 1.1780 - accuracy: 0.9983 - val_loss: 756.4246 - val_accuracy: 0.0184\n",
      "Epoch 29/80\n",
      "83/83 [==============================] - ETA: 0s - loss: 1.0033 - accuracy: 0.9985"
     ]
    },
    {
     "name": "stderr",
     "output_type": "stream",
     "text": [
      "2020-12-09 17:00:42,394 [DEBUG] kashgari - predict seq_length: None, input: (2, 154, 512)\n"
     ]
    },
    {
     "name": "stdout",
     "output_type": "stream",
     "text": [
      "10/10 [==============================] - 14s 1s/step\n"
     ]
    },
    {
     "name": "stderr",
     "output_type": "stream",
     "text": [
      "2020-12-09 17:00:58,584 [DEBUG] kashgari - predict output: (154, 512)\n",
      "2020-12-09 17:00:58,585 [DEBUG] kashgari - predict output argmax: [[0 1 1 ... 1 1 1]\n",
      " [0 1 1 ... 1 1 1]\n",
      " [0 1 1 ... 1 1 1]\n",
      " ...\n",
      " [0 1 1 ... 1 1 1]\n",
      " [0 1 1 ... 1 1 1]\n",
      " [0 1 1 ... 1 1 1]]\n",
      "2020-12-09 17:00:59,183 [INFO] kashgari - Successfully recorded this epoch into model/20201209_koi/history/history_1.csv\n",
      "2020-12-09 17:00:59,184 [INFO] kashgari - \n",
      "Epoch 00029: f1-score did not improve from 0.92003\n"
     ]
    },
    {
     "name": "stdout",
     "output_type": "stream",
     "text": [
      "\n",
      "            precision    recall  f1-score   support\n",
      "\n",
      "      name     0.8182    0.9310    0.8710        29\n",
      "      time     0.8821    0.9551    0.9171       423\n",
      "  med_exam     0.9452    0.9452    0.9452        73\n",
      "     money     0.9375    1.0000    0.9677        15\n",
      "  location     1.0000    0.8727    0.9320        55\n",
      "   contact     1.0000    0.5333    0.6957        15\n",
      "    family     0.7273    0.6667    0.6957        12\n",
      "profession     1.0000    1.0000    1.0000         1\n",
      " education     1.0000    1.0000    1.0000         1\n",
      "        ID     1.0000    1.0000    1.0000         1\n",
      "\n",
      " micro avg     0.8954    0.9312    0.9129       625\n",
      " macro avg     0.8986    0.9312    0.9116       625\n",
      "\n",
      "\n",
      "epoch: 28 precision: 0.898630, recall: 0.931200, f1-score: 0.911630\n",
      "\b\b\b\b\b\b\b\b\b\b\b\b\b\b\b\b\b\b\b\b\b\b\b\b\b\b\b\b\b\b\b\b\b\b\b\b\b\b\b\b\b\b\b\b\b\b\b\b\b\b\b\b\b\b\b\b\b\b\b\b\b\b\b\b\b\b\b\b\b\b\b\b\b\b\b\b\b\b\b\b\b\b\r",
      "83/83 [==============================] - 278s 3s/step - loss: 1.0033 - accuracy: 0.9985 - val_loss: 761.0729 - val_accuracy: 0.0183\n",
      "Epoch 30/80\n",
      "83/83 [==============================] - ETA: 0s - loss: 1.0817 - accuracy: 0.9984"
     ]
    },
    {
     "name": "stderr",
     "output_type": "stream",
     "text": [
      "2020-12-09 17:05:23,894 [DEBUG] kashgari - predict seq_length: None, input: (2, 154, 512)\n"
     ]
    },
    {
     "name": "stdout",
     "output_type": "stream",
     "text": [
      "10/10 [==============================] - 14s 1s/step\n"
     ]
    },
    {
     "name": "stderr",
     "output_type": "stream",
     "text": [
      "2020-12-09 17:05:40,149 [DEBUG] kashgari - predict output: (154, 512)\n",
      "2020-12-09 17:05:40,151 [DEBUG] kashgari - predict output argmax: [[0 1 1 ... 1 1 1]\n",
      " [0 1 1 ... 1 1 1]\n",
      " [0 1 1 ... 1 1 1]\n",
      " ...\n",
      " [0 1 1 ... 1 1 1]\n",
      " [0 1 1 ... 1 1 1]\n",
      " [0 1 1 ... 1 1 1]]\n",
      "2020-12-09 17:05:40,752 [INFO] kashgari - Successfully recorded this epoch into model/20201209_koi/history/history_1.csv\n",
      "2020-12-09 17:05:40,753 [INFO] kashgari - \n",
      "Epoch 00030: f1-score did not improve from 0.92003\n"
     ]
    },
    {
     "name": "stdout",
     "output_type": "stream",
     "text": [
      "\n",
      "            precision    recall  f1-score   support\n",
      "\n",
      "      name     0.8438    0.9310    0.8852        29\n",
      "      time     0.9130    0.9433    0.9279       423\n",
      "  med_exam     0.9714    0.9315    0.9510        73\n",
      "     money     0.9375    1.0000    0.9677        15\n",
      "  location     0.9800    0.8909    0.9333        55\n",
      "   contact     1.0000    0.4667    0.6364        15\n",
      "    family     0.6000    0.7500    0.6667        12\n",
      "profession     1.0000    1.0000    1.0000         1\n",
      " education     1.0000    1.0000    1.0000         1\n",
      "        ID     1.0000    1.0000    1.0000         1\n",
      "\n",
      " micro avg     0.9159    0.9232    0.9195       625\n",
      " macro avg     0.9196    0.9232    0.9184       625\n",
      "\n",
      "\n",
      "epoch: 29 precision: 0.919621, recall: 0.923200, f1-score: 0.918397\n",
      "\b\b\b\b\b\b\b\b\b\b\b\b\b\b\b\b\b\b\b\b\b\b\b\b\b\b\b\b\b\b\b\b\b\b\b\b\b\b\b\b\b\b\b\b\b\b\b\b\b\b\b\b\b\b\b\b\b\b\b\b\b\b\b\b\b\b\b\b\b\b\b\b\b\b\b\b\b\b\b\b\b\b\r",
      "83/83 [==============================] - 279s 3s/step - loss: 1.0817 - accuracy: 0.9984 - val_loss: 756.7205 - val_accuracy: 0.0180\n",
      "Epoch 31/80\n",
      "83/83 [==============================] - ETA: 0s - loss: 0.9440 - accuracy: 0.9987"
     ]
    },
    {
     "name": "stderr",
     "output_type": "stream",
     "text": [
      "2020-12-09 17:10:05,894 [DEBUG] kashgari - predict seq_length: None, input: (2, 154, 512)\n"
     ]
    },
    {
     "name": "stdout",
     "output_type": "stream",
     "text": [
      "10/10 [==============================] - 14s 1s/step\n"
     ]
    },
    {
     "name": "stderr",
     "output_type": "stream",
     "text": [
      "2020-12-09 17:10:22,108 [DEBUG] kashgari - predict output: (154, 512)\n",
      "2020-12-09 17:10:22,109 [DEBUG] kashgari - predict output argmax: [[0 1 1 ... 1 1 1]\n",
      " [0 1 1 ... 1 1 1]\n",
      " [0 1 1 ... 1 1 1]\n",
      " ...\n",
      " [0 1 1 ... 1 1 1]\n",
      " [0 1 1 ... 1 1 1]\n",
      " [0 1 1 ... 1 1 1]]\n",
      "2020-12-09 17:10:22,708 [INFO] kashgari - Successfully recorded this epoch into model/20201209_koi/history/history_1.csv\n",
      "2020-12-09 17:10:22,710 [INFO] kashgari - \n",
      "Epoch 00031: f1-score did not improve from 0.92003\n"
     ]
    },
    {
     "name": "stdout",
     "output_type": "stream",
     "text": [
      "\n",
      "            precision    recall  f1-score   support\n",
      "\n",
      "      name     0.8182    0.9310    0.8710        29\n",
      "      time     0.8785    0.9574    0.9163       423\n",
      "  med_exam     0.9571    0.9178    0.9371        73\n",
      "     money     0.9375    1.0000    0.9677        15\n",
      "  location     1.0000    0.8727    0.9320        55\n",
      "   contact     1.0000    0.4000    0.5714        15\n",
      "    family     0.7500    0.7500    0.7500        12\n",
      "profession     1.0000    1.0000    1.0000         1\n",
      " education     1.0000    1.0000    1.0000         1\n",
      "        ID     1.0000    1.0000    1.0000         1\n",
      "\n",
      " micro avg     0.8937    0.9280    0.9105       625\n",
      " macro avg     0.8980    0.9280    0.9082       625\n",
      "\n",
      "\n",
      "epoch: 30 precision: 0.898044, recall: 0.928000, f1-score: 0.908166\n",
      "\b\b\b\b\b\b\b\b\b\b\b\b\b\b\b\b\b\b\b\b\b\b\b\b\b\b\b\b\b\b\b\b\b\b\b\b\b\b\b\b\b\b\b\b\b\b\b\b\b\b\b\b\b\b\b\b\b\b\b\b\b\b\b\b\b\b\b\b\b\b\b\b\b\b\b\b\b\b\b\b\b\b\r",
      "83/83 [==============================] - 279s 3s/step - loss: 0.9440 - accuracy: 0.9987 - val_loss: 746.7320 - val_accuracy: 0.0179\n",
      "Epoch 32/80\n",
      "83/83 [==============================] - ETA: 0s - loss: 0.8413 - accuracy: 0.9988"
     ]
    },
    {
     "name": "stderr",
     "output_type": "stream",
     "text": [
      "2020-12-09 17:14:48,348 [DEBUG] kashgari - predict seq_length: None, input: (2, 154, 512)\n"
     ]
    },
    {
     "name": "stdout",
     "output_type": "stream",
     "text": [
      "10/10 [==============================] - 14s 1s/step\n"
     ]
    },
    {
     "name": "stderr",
     "output_type": "stream",
     "text": [
      "2020-12-09 17:15:04,557 [DEBUG] kashgari - predict output: (154, 512)\n",
      "2020-12-09 17:15:04,559 [DEBUG] kashgari - predict output argmax: [[0 1 1 ... 1 1 1]\n",
      " [0 1 1 ... 1 1 1]\n",
      " [0 1 1 ... 1 1 1]\n",
      " ...\n",
      " [0 1 1 ... 1 1 1]\n",
      " [0 1 1 ... 1 1 1]\n",
      " [0 1 1 ... 1 1 1]]\n",
      "2020-12-09 17:15:05,177 [INFO] kashgari - Successfully recorded this epoch into model/20201209_koi/history/history_1.csv\n",
      "2020-12-09 17:15:05,178 [INFO] kashgari - \n",
      "Epoch 00032: f1-score improved from 0.92003 to 0.92083, saving model to model/20201209_koi\n"
     ]
    },
    {
     "name": "stdout",
     "output_type": "stream",
     "text": [
      "\n",
      "            precision    recall  f1-score   support\n",
      "\n",
      "      name     0.8387    0.8966    0.8667        29\n",
      "      time     0.9022    0.9598    0.9301       423\n",
      "  med_exam     0.9583    0.9452    0.9517        73\n",
      "     money     0.9375    1.0000    0.9677        15\n",
      "  location     1.0000    0.8727    0.9320        55\n",
      "   contact     1.0000    0.4667    0.6364        15\n",
      "    family     0.8889    0.6667    0.7619        12\n",
      "profession     1.0000    1.0000    1.0000         1\n",
      " education     1.0000    1.0000    1.0000         1\n",
      "        ID     1.0000    1.0000    1.0000         1\n",
      "\n",
      " micro avg     0.9151    0.9312    0.9231       625\n",
      " macro avg     0.9178    0.9312    0.9208       625\n",
      "\n",
      "\n",
      "epoch: 31 precision: 0.917840, recall: 0.931200, f1-score: 0.920831\n"
     ]
    },
    {
     "name": "stderr",
     "output_type": "stream",
     "text": [
      "2020-12-09 17:15:17,492 [INFO] kashgari - model saved to /content/drive/My Drive/AICUP2020/sample/kashgari/model/20201209_koi\n"
     ]
    },
    {
     "name": "stdout",
     "output_type": "stream",
     "text": [
      "\b\b\b\b\b\b\b\b\b\b\b\b\b\b\b\b\b\b\b\b\b\b\b\b\b\b\b\b\b\b\b\b\b\b\b\b\b\b\b\b\b\b\b\b\b\b\b\b\b\b\b\b\b\b\b\b\b\b\b\b\b\b\b\b\b\b\b\b\b\b\b\b\b\b\b\b\b\b\b\b\b\b\r",
      "83/83 [==============================] - 292s 4s/step - loss: 0.8413 - accuracy: 0.9988 - val_loss: 744.7398 - val_accuracy: 0.0172\n",
      "Epoch 33/80\n",
      "83/83 [==============================] - ETA: 0s - loss: 0.9325 - accuracy: 0.9985"
     ]
    },
    {
     "name": "stderr",
     "output_type": "stream",
     "text": [
      "2020-12-09 17:19:44,965 [DEBUG] kashgari - predict seq_length: None, input: (2, 154, 512)\n"
     ]
    },
    {
     "name": "stdout",
     "output_type": "stream",
     "text": [
      "10/10 [==============================] - 14s 1s/step\n"
     ]
    },
    {
     "name": "stderr",
     "output_type": "stream",
     "text": [
      "2020-12-09 17:20:01,175 [DEBUG] kashgari - predict output: (154, 512)\n",
      "2020-12-09 17:20:01,177 [DEBUG] kashgari - predict output argmax: [[0 1 1 ... 1 1 1]\n",
      " [0 1 1 ... 1 1 1]\n",
      " [0 1 1 ... 1 1 1]\n",
      " ...\n",
      " [0 1 1 ... 1 1 1]\n",
      " [0 1 1 ... 1 1 1]\n",
      " [0 1 1 ... 1 1 1]]\n",
      "2020-12-09 17:20:01,801 [INFO] kashgari - Successfully recorded this epoch into model/20201209_koi/history/history_1.csv\n",
      "2020-12-09 17:20:01,803 [INFO] kashgari - \n",
      "Epoch 00033: f1-score did not improve from 0.92083\n"
     ]
    },
    {
     "name": "stdout",
     "output_type": "stream",
     "text": [
      "\n",
      "            precision    recall  f1-score   support\n",
      "\n",
      "      name     0.7714    0.9310    0.8438        29\n",
      "      time     0.8971    0.9480    0.9218       423\n",
      "  med_exam     0.9583    0.9452    0.9517        73\n",
      "     money     0.9375    1.0000    0.9677        15\n",
      "  location     1.0000    0.8727    0.9320        55\n",
      "   contact     1.0000    0.4667    0.6364        15\n",
      "    family     0.8333    0.8333    0.8333        12\n",
      "profession     1.0000    1.0000    1.0000         1\n",
      " education     1.0000    1.0000    1.0000         1\n",
      "        ID     1.0000    1.0000    1.0000         1\n",
      "\n",
      " micro avg     0.9062    0.9280    0.9170       625\n",
      " macro avg     0.9102    0.9280    0.9155       625\n",
      "\n",
      "\n",
      "epoch: 32 precision: 0.910179, recall: 0.928000, f1-score: 0.915530\n",
      "\b\b\b\b\b\b\b\b\b\b\b\b\b\b\b\b\b\b\b\b\b\b\b\b\b\b\b\b\b\b\b\b\b\b\b\b\b\b\b\b\b\b\b\b\b\b\b\b\b\b\b\b\b\b\b\b\b\b\b\b\b\b\b\b\b\b\b\b\b\b\b\b\b\b\b\b\b\b\b\b\b\b\r",
      "83/83 [==============================] - 281s 3s/step - loss: 0.9325 - accuracy: 0.9985 - val_loss: 740.8541 - val_accuracy: 0.0173\n",
      "Epoch 34/80\n",
      "83/83 [==============================] - ETA: 0s - loss: 1.0120 - accuracy: 0.9986"
     ]
    },
    {
     "name": "stderr",
     "output_type": "stream",
     "text": [
      "2020-12-09 17:24:27,021 [DEBUG] kashgari - predict seq_length: None, input: (2, 154, 512)\n"
     ]
    },
    {
     "name": "stdout",
     "output_type": "stream",
     "text": [
      "10/10 [==============================] - 14s 1s/step\n"
     ]
    },
    {
     "name": "stderr",
     "output_type": "stream",
     "text": [
      "2020-12-09 17:24:43,246 [DEBUG] kashgari - predict output: (154, 512)\n",
      "2020-12-09 17:24:43,247 [DEBUG] kashgari - predict output argmax: [[0 1 1 ... 1 1 1]\n",
      " [0 1 1 ... 1 1 1]\n",
      " [0 1 1 ... 1 1 1]\n",
      " ...\n",
      " [0 1 1 ... 1 1 1]\n",
      " [0 1 1 ... 1 1 1]\n",
      " [0 1 1 ... 1 1 1]]\n",
      "2020-12-09 17:24:43,850 [INFO] kashgari - Successfully recorded this epoch into model/20201209_koi/history/history_1.csv\n",
      "2020-12-09 17:24:43,851 [INFO] kashgari - \n",
      "Epoch 00034: f1-score did not improve from 0.92083\n"
     ]
    },
    {
     "name": "stdout",
     "output_type": "stream",
     "text": [
      "\n",
      "            precision    recall  f1-score   support\n",
      "\n",
      "      name     0.8125    0.8966    0.8525        29\n",
      "      time     0.9044    0.9622    0.9324       423\n",
      "  med_exam     0.9714    0.9315    0.9510        73\n",
      "     money     0.9375    1.0000    0.9677        15\n",
      "  location     1.0000    0.8727    0.9320        55\n",
      "   contact     1.0000    0.4000    0.5714        15\n",
      "    family     0.8889    0.6667    0.7619        12\n",
      "profession     1.0000    1.0000    1.0000         1\n",
      " education     1.0000    1.0000    1.0000         1\n",
      "        ID     1.0000    1.0000    1.0000         1\n",
      "\n",
      " micro avg     0.9164    0.9296    0.9230       625\n",
      " macro avg     0.9197    0.9296    0.9201       625\n",
      "\n",
      "\n",
      "epoch: 33 precision: 0.919658, recall: 0.929600, f1-score: 0.920084\n",
      "\b\b\b\b\b\b\b\b\b\b\b\b\b\b\b\b\b\b\b\b\b\b\b\b\b\b\b\b\b\b\b\b\b\b\b\b\b\b\b\b\b\b\b\b\b\b\b\b\b\b\b\b\b\b\b\b\b\b\b\b\b\b\b\b\b\b\b\b\b\b\b\b\b\b\b\b\b\b\b\b\b\b\r",
      "83/83 [==============================] - 279s 3s/step - loss: 1.0120 - accuracy: 0.9986 - val_loss: 738.1507 - val_accuracy: 0.0162\n",
      "Epoch 35/80\n",
      "83/83 [==============================] - ETA: 0s - loss: 0.8685 - accuracy: 0.9987"
     ]
    },
    {
     "name": "stderr",
     "output_type": "stream",
     "text": [
      "2020-12-09 17:29:08,861 [DEBUG] kashgari - predict seq_length: None, input: (2, 154, 512)\n"
     ]
    },
    {
     "name": "stdout",
     "output_type": "stream",
     "text": [
      "10/10 [==============================] - 14s 1s/step\n"
     ]
    },
    {
     "name": "stderr",
     "output_type": "stream",
     "text": [
      "2020-12-09 17:29:25,083 [DEBUG] kashgari - predict output: (154, 512)\n",
      "2020-12-09 17:29:25,085 [DEBUG] kashgari - predict output argmax: [[0 1 1 ... 1 1 1]\n",
      " [0 1 1 ... 1 1 1]\n",
      " [0 1 1 ... 1 1 1]\n",
      " ...\n",
      " [0 1 1 ... 1 1 1]\n",
      " [0 1 1 ... 1 1 1]\n",
      " [0 1 1 ... 1 1 1]]\n",
      "2020-12-09 17:29:25,691 [INFO] kashgari - Successfully recorded this epoch into model/20201209_koi/history/history_1.csv\n",
      "2020-12-09 17:29:25,691 [INFO] kashgari - \n",
      "Epoch 00035: f1-score improved from 0.92083 to 0.92088, saving model to model/20201209_koi\n"
     ]
    },
    {
     "name": "stdout",
     "output_type": "stream",
     "text": [
      "\n",
      "            precision    recall  f1-score   support\n",
      "\n",
      "      name     0.7941    0.9310    0.8571        29\n",
      "      time     0.9103    0.9598    0.9344       423\n",
      "  med_exam     0.9577    0.9315    0.9444        73\n",
      "     money     0.9375    1.0000    0.9677        15\n",
      "  location     1.0000    0.8727    0.9320        55\n",
      "   contact     1.0000    0.4000    0.5714        15\n",
      "    family     0.8889    0.6667    0.7619        12\n",
      "profession     1.0000    1.0000    1.0000         1\n",
      " education     1.0000    1.0000    1.0000         1\n",
      "        ID     1.0000    1.0000    1.0000         1\n",
      "\n",
      " micro avg     0.9179    0.9296    0.9237       625\n",
      " macro avg     0.9212    0.9296    0.9209       625\n",
      "\n",
      "\n",
      "epoch: 34 precision: 0.921179, recall: 0.929600, f1-score: 0.920878\n"
     ]
    },
    {
     "name": "stderr",
     "output_type": "stream",
     "text": [
      "2020-12-09 17:29:38,222 [INFO] kashgari - model saved to /content/drive/My Drive/AICUP2020/sample/kashgari/model/20201209_koi\n"
     ]
    },
    {
     "name": "stdout",
     "output_type": "stream",
     "text": [
      "\b\b\b\b\b\b\b\b\b\b\b\b\b\b\b\b\b\b\b\b\b\b\b\b\b\b\b\b\b\b\b\b\b\b\b\b\b\b\b\b\b\b\b\b\b\b\b\b\b\b\b\b\b\b\b\b\b\b\b\b\b\b\b\b\b\b\b\b\b\b\b\b\b\b\b\b\b\b\b\b\b\b\r",
      "83/83 [==============================] - 291s 4s/step - loss: 0.8685 - accuracy: 0.9987 - val_loss: 735.4172 - val_accuracy: 0.0151\n",
      "Epoch 36/80\n",
      "83/83 [==============================] - ETA: 0s - loss: 0.8763 - accuracy: 0.9987"
     ]
    },
    {
     "name": "stderr",
     "output_type": "stream",
     "text": [
      "2020-12-09 17:34:05,541 [DEBUG] kashgari - predict seq_length: None, input: (2, 154, 512)\n"
     ]
    },
    {
     "name": "stdout",
     "output_type": "stream",
     "text": [
      "10/10 [==============================] - 15s 1s/step\n"
     ]
    },
    {
     "name": "stderr",
     "output_type": "stream",
     "text": [
      "2020-12-09 17:34:21,867 [DEBUG] kashgari - predict output: (154, 512)\n",
      "2020-12-09 17:34:21,868 [DEBUG] kashgari - predict output argmax: [[0 1 1 ... 1 1 1]\n",
      " [0 1 1 ... 1 1 1]\n",
      " [0 1 1 ... 1 1 1]\n",
      " ...\n",
      " [0 1 1 ... 1 1 1]\n",
      " [0 1 1 ... 1 1 1]\n",
      " [0 1 1 ... 1 1 1]]\n",
      "2020-12-09 17:34:22,502 [INFO] kashgari - Successfully recorded this epoch into model/20201209_koi/history/history_1.csv\n",
      "2020-12-09 17:34:22,504 [INFO] kashgari - \n",
      "Epoch 00036: f1-score did not improve from 0.92088\n"
     ]
    },
    {
     "name": "stdout",
     "output_type": "stream",
     "text": [
      "\n",
      "            precision    recall  f1-score   support\n",
      "\n",
      "      name     0.8182    0.9310    0.8710        29\n",
      "      time     0.8916    0.9527    0.9211       423\n",
      "  med_exam     0.9589    0.9589    0.9589        73\n",
      "     money     0.9375    1.0000    0.9677        15\n",
      "  location     0.9796    0.8727    0.9231        55\n",
      "   contact     1.0000    0.5333    0.6957        15\n",
      "    family     0.8571    1.0000    0.9231        12\n",
      "profession     1.0000    1.0000    1.0000         1\n",
      " education     1.0000    1.0000    1.0000         1\n",
      "        ID     1.0000    1.0000    1.0000         1\n",
      "\n",
      " micro avg     0.9043    0.9376    0.9207       625\n",
      " macro avg     0.9074    0.9376    0.9195       625\n",
      "\n",
      "\n",
      "epoch: 35 precision: 0.907355, recall: 0.937600, f1-score: 0.919518\n",
      "\b\b\b\b\b\b\b\b\b\b\b\b\b\b\b\b\b\b\b\b\b\b\b\b\b\b\b\b\b\b\b\b\b\b\b\b\b\b\b\b\b\b\b\b\b\b\b\b\b\b\b\b\b\b\b\b\b\b\b\b\b\b\b\b\b\b\b\b\b\b\b\b\b\b\b\b\b\b\b\b\b\b\r",
      "83/83 [==============================] - 281s 3s/step - loss: 0.8763 - accuracy: 0.9987 - val_loss: 725.7785 - val_accuracy: 0.0156\n",
      "Epoch 37/80\n",
      "83/83 [==============================] - ETA: 0s - loss: 0.8815 - accuracy: 0.9987"
     ]
    },
    {
     "name": "stderr",
     "output_type": "stream",
     "text": [
      "2020-12-09 17:38:49,453 [DEBUG] kashgari - predict seq_length: None, input: (2, 154, 512)\n"
     ]
    },
    {
     "name": "stdout",
     "output_type": "stream",
     "text": [
      "10/10 [==============================] - 15s 1s/step\n"
     ]
    },
    {
     "name": "stderr",
     "output_type": "stream",
     "text": [
      "2020-12-09 17:39:05,758 [DEBUG] kashgari - predict output: (154, 512)\n",
      "2020-12-09 17:39:05,760 [DEBUG] kashgari - predict output argmax: [[0 1 1 ... 1 1 1]\n",
      " [0 1 1 ... 1 1 1]\n",
      " [0 1 1 ... 1 1 1]\n",
      " ...\n",
      " [0 1 1 ... 1 1 1]\n",
      " [0 1 1 ... 1 1 1]\n",
      " [0 1 1 ... 1 1 1]]\n",
      "2020-12-09 17:39:06,376 [INFO] kashgari - Successfully recorded this epoch into model/20201209_koi/history/history_1.csv\n",
      "2020-12-09 17:39:06,377 [INFO] kashgari - \n",
      "Epoch 00037: f1-score did not improve from 0.92088\n"
     ]
    },
    {
     "name": "stdout",
     "output_type": "stream",
     "text": [
      "\n",
      "            precision    recall  f1-score   support\n",
      "\n",
      "      name     0.7714    0.9310    0.8438        29\n",
      "      time     0.8691    0.9574    0.9111       423\n",
      "  med_exam     0.9315    0.9315    0.9315        73\n",
      "     money     0.9375    1.0000    0.9677        15\n",
      "  location     1.0000    0.8727    0.9320        55\n",
      "   contact     0.8750    0.4667    0.6087        15\n",
      "    family     0.7143    0.8333    0.7692        12\n",
      "profession     1.0000    1.0000    1.0000         1\n",
      " education     1.0000    1.0000    1.0000         1\n",
      "        ID     1.0000    1.0000    1.0000         1\n",
      "\n",
      " micro avg     0.8793    0.9328    0.9053       625\n",
      " macro avg     0.8828    0.9328    0.9040       625\n",
      "\n",
      "\n",
      "epoch: 36 precision: 0.882815, recall: 0.932800, f1-score: 0.904030\n",
      "\b\b\b\b\b\b\b\b\b\b\b\b\b\b\b\b\b\b\b\b\b\b\b\b\b\b\b\b\b\b\b\b\b\b\b\b\b\b\b\b\b\b\b\b\b\b\b\b\b\b\b\b\b\b\b\b\b\b\b\b\b\b\b\b\b\b\b\b\b\b\b\b\b\b\b\b\b\b\b\b\b\b\r",
      "83/83 [==============================] - 281s 3s/step - loss: 0.8815 - accuracy: 0.9987 - val_loss: 717.1159 - val_accuracy: 0.0152\n",
      "Epoch 38/80\n",
      "83/83 [==============================] - ETA: 0s - loss: 0.7360 - accuracy: 0.9990"
     ]
    },
    {
     "name": "stderr",
     "output_type": "stream",
     "text": [
      "2020-12-09 17:43:33,351 [DEBUG] kashgari - predict seq_length: None, input: (2, 154, 512)\n"
     ]
    },
    {
     "name": "stdout",
     "output_type": "stream",
     "text": [
      "10/10 [==============================] - 14s 1s/step\n"
     ]
    },
    {
     "name": "stderr",
     "output_type": "stream",
     "text": [
      "2020-12-09 17:43:49,609 [DEBUG] kashgari - predict output: (154, 512)\n",
      "2020-12-09 17:43:49,612 [DEBUG] kashgari - predict output argmax: [[0 1 1 ... 1 1 1]\n",
      " [0 1 1 ... 1 1 1]\n",
      " [0 1 1 ... 1 1 1]\n",
      " ...\n",
      " [0 1 1 ... 1 1 1]\n",
      " [0 1 1 ... 1 1 1]\n",
      " [0 1 1 ... 1 1 1]]\n",
      "2020-12-09 17:43:50,240 [INFO] kashgari - Successfully recorded this epoch into model/20201209_koi/history/history_1.csv\n",
      "2020-12-09 17:43:50,243 [INFO] kashgari - \n",
      "Epoch 00038: f1-score improved from 0.92088 to 0.92603, saving model to model/20201209_koi\n"
     ]
    },
    {
     "name": "stdout",
     "output_type": "stream",
     "text": [
      "\n",
      "            precision    recall  f1-score   support\n",
      "\n",
      "      name     0.8438    0.9310    0.8852        29\n",
      "      time     0.9120    0.9551    0.9330       423\n",
      "  med_exam     0.9589    0.9589    0.9589        73\n",
      "     money     0.9375    1.0000    0.9677        15\n",
      "  location     1.0000    0.8727    0.9320        55\n",
      "   contact     1.0000    0.4000    0.5714        15\n",
      "    family     0.8571    1.0000    0.9231        12\n",
      "profession     1.0000    1.0000    1.0000         1\n",
      " education     1.0000    1.0000    1.0000         1\n",
      "        ID     1.0000    1.0000    1.0000         1\n",
      "\n",
      " micro avg     0.9213    0.9360    0.9286       625\n",
      " macro avg     0.9241    0.9360    0.9260       625\n",
      "\n",
      "\n",
      "epoch: 37 precision: 0.924124, recall: 0.936000, f1-score: 0.926030\n"
     ]
    },
    {
     "name": "stderr",
     "output_type": "stream",
     "text": [
      "2020-12-09 17:44:02,459 [INFO] kashgari - model saved to /content/drive/My Drive/AICUP2020/sample/kashgari/model/20201209_koi\n"
     ]
    },
    {
     "name": "stdout",
     "output_type": "stream",
     "text": [
      "\b\b\b\b\b\b\b\b\b\b\b\b\b\b\b\b\b\b\b\b\b\b\b\b\b\b\b\b\b\b\b\b\b\b\b\b\b\b\b\b\b\b\b\b\b\b\b\b\b\b\b\b\b\b\b\b\b\b\b\b\b\b\b\b\b\b\b\b\b\b\b\b\b\b\b\b\b\b\b\b\b\b\r",
      "83/83 [==============================] - 293s 4s/step - loss: 0.7360 - accuracy: 0.9990 - val_loss: 716.9722 - val_accuracy: 0.0150\n",
      "Epoch 39/80\n",
      "83/83 [==============================] - ETA: 0s - loss: 0.9292 - accuracy: 0.9987"
     ]
    },
    {
     "name": "stderr",
     "output_type": "stream",
     "text": [
      "2020-12-09 17:48:30,045 [DEBUG] kashgari - predict seq_length: None, input: (2, 154, 512)\n"
     ]
    },
    {
     "name": "stdout",
     "output_type": "stream",
     "text": [
      "10/10 [==============================] - 14s 1s/step\n"
     ]
    },
    {
     "name": "stderr",
     "output_type": "stream",
     "text": [
      "2020-12-09 17:48:46,272 [DEBUG] kashgari - predict output: (154, 512)\n",
      "2020-12-09 17:48:46,273 [DEBUG] kashgari - predict output argmax: [[0 1 1 ... 1 1 1]\n",
      " [0 1 1 ... 1 1 1]\n",
      " [0 1 1 ... 1 1 1]\n",
      " ...\n",
      " [0 1 1 ... 1 1 1]\n",
      " [0 1 1 ... 1 1 1]\n",
      " [0 1 1 ... 1 1 1]]\n",
      "2020-12-09 17:48:46,889 [INFO] kashgari - Successfully recorded this epoch into model/20201209_koi/history/history_1.csv\n",
      "2020-12-09 17:48:46,891 [INFO] kashgari - \n",
      "Epoch 00039: f1-score did not improve from 0.92603\n"
     ]
    },
    {
     "name": "stdout",
     "output_type": "stream",
     "text": [
      "\n",
      "            precision    recall  f1-score   support\n",
      "\n",
      "      name     0.7941    0.9310    0.8571        29\n",
      "      time     0.8865    0.9598    0.9217       423\n",
      "  med_exam     0.9211    0.9589    0.9396        73\n",
      "     money     0.9375    1.0000    0.9677        15\n",
      "  location     1.0000    0.8727    0.9320        55\n",
      "   contact     1.0000    0.4000    0.5714        15\n",
      "    family     0.8462    0.9167    0.8800        12\n",
      "profession     1.0000    1.0000    1.0000         1\n",
      " education     1.0000    1.0000    1.0000         1\n",
      "        ID     1.0000    1.0000    1.0000         1\n",
      "\n",
      " micro avg     0.8960    0.9376    0.9163       625\n",
      " macro avg     0.8999    0.9376    0.9140       625\n",
      "\n",
      "\n",
      "epoch: 38 precision: 0.899930, recall: 0.937600, f1-score: 0.913965\n",
      "\b\b\b\b\b\b\b\b\b\b\b\b\b\b\b\b\b\b\b\b\b\b\b\b\b\b\b\b\b\b\b\b\b\b\b\b\b\b\b\b\b\b\b\b\b\b\b\b\b\b\b\b\b\b\b\b\b\b\b\b\b\b\b\b\b\b\b\b\b\b\b\b\b\b\b\b\b\b\b\b\b\b\r",
      "83/83 [==============================] - 281s 3s/step - loss: 0.9292 - accuracy: 0.9987 - val_loss: 714.9628 - val_accuracy: 0.0144\n",
      "Epoch 40/80\n",
      "83/83 [==============================] - ETA: 0s - loss: 0.8983 - accuracy: 0.9986"
     ]
    },
    {
     "name": "stderr",
     "output_type": "stream",
     "text": [
      "2020-12-09 17:53:13,352 [DEBUG] kashgari - predict seq_length: None, input: (2, 154, 512)\n"
     ]
    },
    {
     "name": "stdout",
     "output_type": "stream",
     "text": [
      "10/10 [==============================] - 14s 1s/step\n"
     ]
    },
    {
     "name": "stderr",
     "output_type": "stream",
     "text": [
      "2020-12-09 17:53:29,581 [DEBUG] kashgari - predict output: (154, 512)\n",
      "2020-12-09 17:53:29,582 [DEBUG] kashgari - predict output argmax: [[0 1 1 ... 1 1 1]\n",
      " [0 1 1 ... 1 1 1]\n",
      " [0 1 1 ... 1 1 1]\n",
      " ...\n",
      " [0 1 1 ... 1 1 1]\n",
      " [0 1 1 ... 1 1 1]\n",
      " [0 1 1 ... 1 1 1]]\n",
      "2020-12-09 17:53:30,194 [INFO] kashgari - Successfully recorded this epoch into model/20201209_koi/history/history_1.csv\n",
      "2020-12-09 17:53:30,196 [INFO] kashgari - \n",
      "Epoch 00040: f1-score did not improve from 0.92603\n"
     ]
    },
    {
     "name": "stdout",
     "output_type": "stream",
     "text": [
      "\n",
      "            precision    recall  f1-score   support\n",
      "\n",
      "      name     0.8438    0.9310    0.8852        29\n",
      "      time     0.9396    0.9196    0.9295       423\n",
      "  med_exam     0.9583    0.9452    0.9517        73\n",
      "     money     0.9375    1.0000    0.9677        15\n",
      "  location     1.0000    0.8364    0.9109        55\n",
      "   contact     1.0000    0.4667    0.6364        15\n",
      "    family     0.8182    0.7500    0.7826        12\n",
      "profession     1.0000    1.0000    1.0000         1\n",
      " education     1.0000    1.0000    1.0000         1\n",
      "        ID     1.0000    1.0000    1.0000         1\n",
      "\n",
      " micro avg     0.9401    0.9040    0.9217       625\n",
      " macro avg     0.9420    0.9040    0.9198       625\n",
      "\n",
      "\n",
      "epoch: 39 precision: 0.942023, recall: 0.904000, f1-score: 0.919812\n",
      "\b\b\b\b\b\b\b\b\b\b\b\b\b\b\b\b\b\b\b\b\b\b\b\b\b\b\b\b\b\b\b\b\b\b\b\b\b\b\b\b\b\b\b\b\b\b\b\b\b\b\b\b\b\b\b\b\b\b\b\b\b\b\b\b\b\b\b\b\b\b\b\b\b\b\b\b\b\b\b\b\b\b\r",
      "83/83 [==============================] - 280s 3s/step - loss: 0.8983 - accuracy: 0.9986 - val_loss: 711.8595 - val_accuracy: 0.0147\n",
      "Epoch 41/80\n",
      "83/83 [==============================] - ETA: 0s - loss: 0.8465 - accuracy: 0.9987"
     ]
    },
    {
     "name": "stderr",
     "output_type": "stream",
     "text": [
      "2020-12-09 17:57:57,063 [DEBUG] kashgari - predict seq_length: None, input: (2, 154, 512)\n"
     ]
    },
    {
     "name": "stdout",
     "output_type": "stream",
     "text": [
      "10/10 [==============================] - 15s 1s/step\n"
     ]
    },
    {
     "name": "stderr",
     "output_type": "stream",
     "text": [
      "2020-12-09 17:58:13,327 [DEBUG] kashgari - predict output: (154, 512)\n",
      "2020-12-09 17:58:13,328 [DEBUG] kashgari - predict output argmax: [[0 1 1 ... 1 1 1]\n",
      " [0 1 1 ... 1 1 1]\n",
      " [0 1 1 ... 1 1 1]\n",
      " ...\n",
      " [0 1 1 ... 1 1 1]\n",
      " [0 1 1 ... 1 1 1]\n",
      " [0 1 1 ... 1 1 1]]\n",
      "2020-12-09 17:58:13,932 [INFO] kashgari - Successfully recorded this epoch into model/20201209_koi/history/history_1.csv\n",
      "2020-12-09 17:58:13,934 [INFO] kashgari - \n",
      "Epoch 00041: f1-score did not improve from 0.92603\n"
     ]
    },
    {
     "name": "stdout",
     "output_type": "stream",
     "text": [
      "\n",
      "            precision    recall  f1-score   support\n",
      "\n",
      "      name     0.8182    0.9310    0.8710        29\n",
      "      time     0.8965    0.9622    0.9282       423\n",
      "  med_exam     0.9589    0.9589    0.9589        73\n",
      "     money     0.9375    1.0000    0.9677        15\n",
      "  location     1.0000    0.8727    0.9320        55\n",
      "   contact     1.0000    0.5333    0.6957        15\n",
      "    family     0.8000    0.6667    0.7273        12\n",
      "profession     1.0000    1.0000    1.0000         1\n",
      " education     1.0000    1.0000    1.0000         1\n",
      "        ID     1.0000    1.0000    1.0000         1\n",
      "\n",
      " micro avg     0.9085    0.9376    0.9228       625\n",
      " macro avg     0.9114    0.9376    0.9213       625\n",
      "\n",
      "\n",
      "epoch: 40 precision: 0.911358, recall: 0.937600, f1-score: 0.921299\n",
      "\b\b\b\b\b\b\b\b\b\b\b\b\b\b\b\b\b\b\b\b\b\b\b\b\b\b\b\b\b\b\b\b\b\b\b\b\b\b\b\b\b\b\b\b\b\b\b\b\b\b\b\b\b\b\b\b\b\b\b\b\b\b\b\b\b\b\b\b\b\b\b\b\b\b\b\b\b\b\b\b\b\b\r",
      "83/83 [==============================] - 281s 3s/step - loss: 0.8465 - accuracy: 0.9987 - val_loss: 703.1558 - val_accuracy: 0.0146\n",
      "Epoch 42/80\n",
      "83/83 [==============================] - ETA: 0s - loss: 0.7405 - accuracy: 0.9989"
     ]
    },
    {
     "name": "stderr",
     "output_type": "stream",
     "text": [
      "2020-12-09 18:02:40,305 [DEBUG] kashgari - predict seq_length: None, input: (2, 154, 512)\n"
     ]
    },
    {
     "name": "stdout",
     "output_type": "stream",
     "text": [
      "10/10 [==============================] - 14s 1s/step\n"
     ]
    },
    {
     "name": "stderr",
     "output_type": "stream",
     "text": [
      "2020-12-09 18:02:56,510 [DEBUG] kashgari - predict output: (154, 512)\n",
      "2020-12-09 18:02:56,512 [DEBUG] kashgari - predict output argmax: [[0 1 1 ... 1 1 1]\n",
      " [0 1 1 ... 1 1 1]\n",
      " [0 1 1 ... 1 1 1]\n",
      " ...\n",
      " [0 1 1 ... 1 1 1]\n",
      " [0 1 1 ... 1 1 1]\n",
      " [0 1 1 ... 1 1 1]]\n",
      "2020-12-09 18:02:57,122 [INFO] kashgari - Successfully recorded this epoch into model/20201209_koi/history/history_1.csv\n",
      "2020-12-09 18:02:57,122 [INFO] kashgari - \n",
      "Epoch 00042: f1-score did not improve from 0.92603\n"
     ]
    },
    {
     "name": "stdout",
     "output_type": "stream",
     "text": [
      "\n",
      "            precision    recall  f1-score   support\n",
      "\n",
      "      name     0.8182    0.9310    0.8710        29\n",
      "      time     0.9126    0.9622    0.9367       423\n",
      "  med_exam     0.9714    0.9315    0.9510        73\n",
      "     money     0.9375    1.0000    0.9677        15\n",
      "  location     1.0000    0.8727    0.9320        55\n",
      "   contact     1.0000    0.4667    0.6364        15\n",
      "    family     0.8000    0.6667    0.7273        12\n",
      "profession     1.0000    1.0000    1.0000         1\n",
      " education     1.0000    1.0000    1.0000         1\n",
      "        ID     1.0000    1.0000    1.0000         1\n",
      "\n",
      " micro avg     0.9210    0.9328    0.9269       625\n",
      " macro avg     0.9237    0.9328    0.9247       625\n",
      "\n",
      "\n",
      "epoch: 41 precision: 0.923704, recall: 0.932800, f1-score: 0.924742\n",
      "\b\b\b\b\b\b\b\b\b\b\b\b\b\b\b\b\b\b\b\b\b\b\b\b\b\b\b\b\b\b\b\b\b\b\b\b\b\b\b\b\b\b\b\b\b\b\b\b\b\b\b\b\b\b\b\b\b\b\b\b\b\b\b\b\b\b\b\b\b\b\b\b\b\b\b\b\b\b\b\b\b\b\r",
      "83/83 [==============================] - 280s 3s/step - loss: 0.7405 - accuracy: 0.9989 - val_loss: 706.0845 - val_accuracy: 0.0142\n",
      "Epoch 43/80\n",
      "83/83 [==============================] - ETA: 0s - loss: 0.7549 - accuracy: 0.9988"
     ]
    },
    {
     "name": "stderr",
     "output_type": "stream",
     "text": [
      "2020-12-09 18:07:22,825 [DEBUG] kashgari - predict seq_length: None, input: (2, 154, 512)\n"
     ]
    },
    {
     "name": "stdout",
     "output_type": "stream",
     "text": [
      "10/10 [==============================] - 14s 1s/step\n"
     ]
    },
    {
     "name": "stderr",
     "output_type": "stream",
     "text": [
      "2020-12-09 18:07:39,043 [DEBUG] kashgari - predict output: (154, 512)\n",
      "2020-12-09 18:07:39,045 [DEBUG] kashgari - predict output argmax: [[0 1 1 ... 1 1 1]\n",
      " [0 1 1 ... 1 1 1]\n",
      " [0 1 1 ... 1 1 1]\n",
      " ...\n",
      " [0 1 1 ... 1 1 1]\n",
      " [0 1 1 ... 1 1 1]\n",
      " [0 1 1 ... 1 1 1]]\n",
      "2020-12-09 18:07:39,649 [INFO] kashgari - Successfully recorded this epoch into model/20201209_koi/history/history_1.csv\n",
      "2020-12-09 18:07:39,651 [INFO] kashgari - \n",
      "Epoch 00043: f1-score improved from 0.92603 to 0.92661, saving model to model/20201209_koi\n"
     ]
    },
    {
     "name": "stdout",
     "output_type": "stream",
     "text": [
      "\n",
      "            precision    recall  f1-score   support\n",
      "\n",
      "      name     0.8438    0.9310    0.8852        29\n",
      "      time     0.9287    0.9551    0.9417       423\n",
      "  med_exam     0.9577    0.9315    0.9444        73\n",
      "     money     0.9375    1.0000    0.9677        15\n",
      "  location     1.0000    0.8545    0.9216        55\n",
      "   contact     1.0000    0.4000    0.5714        15\n",
      "    family     0.8182    0.7500    0.7826        12\n",
      "profession     1.0000    1.0000    1.0000         1\n",
      " education     1.0000    1.0000    1.0000         1\n",
      "        ID     1.0000    1.0000    1.0000         1\n",
      "\n",
      " micro avg     0.9324    0.9264    0.9294       625\n",
      " macro avg     0.9346    0.9264    0.9266       625\n",
      "\n",
      "\n",
      "epoch: 42 precision: 0.934592, recall: 0.926400, f1-score: 0.926610\n"
     ]
    },
    {
     "name": "stderr",
     "output_type": "stream",
     "text": [
      "2020-12-09 18:07:51,578 [INFO] kashgari - model saved to /content/drive/My Drive/AICUP2020/sample/kashgari/model/20201209_koi\n"
     ]
    },
    {
     "name": "stdout",
     "output_type": "stream",
     "text": [
      "\b\b\b\b\b\b\b\b\b\b\b\b\b\b\b\b\b\b\b\b\b\b\b\b\b\b\b\b\b\b\b\b\b\b\b\b\b\b\b\b\b\b\b\b\b\b\b\b\b\b\b\b\b\b\b\b\b\b\b\b\b\b\b\b\b\b\b\b\b\b\b\b\b\b\b\b\b\b\b\b\b\b\r",
      "83/83 [==============================] - 291s 4s/step - loss: 0.7549 - accuracy: 0.9988 - val_loss: 698.3505 - val_accuracy: 0.0147\n",
      "Epoch 44/80\n",
      "83/83 [==============================] - ETA: 0s - loss: 0.7725 - accuracy: 0.9989"
     ]
    },
    {
     "name": "stderr",
     "output_type": "stream",
     "text": [
      "2020-12-09 18:12:19,767 [DEBUG] kashgari - predict seq_length: None, input: (2, 154, 512)\n"
     ]
    },
    {
     "name": "stdout",
     "output_type": "stream",
     "text": [
      "10/10 [==============================] - 14s 1s/step\n"
     ]
    },
    {
     "name": "stderr",
     "output_type": "stream",
     "text": [
      "2020-12-09 18:12:36,016 [DEBUG] kashgari - predict output: (154, 512)\n",
      "2020-12-09 18:12:36,017 [DEBUG] kashgari - predict output argmax: [[0 1 1 ... 1 1 1]\n",
      " [0 1 1 ... 1 1 1]\n",
      " [0 1 1 ... 1 1 1]\n",
      " ...\n",
      " [0 1 1 ... 1 1 1]\n",
      " [0 1 1 ... 1 1 1]\n",
      " [0 1 1 ... 1 1 1]]\n",
      "2020-12-09 18:12:36,625 [INFO] kashgari - Successfully recorded this epoch into model/20201209_koi/history/history_1.csv\n",
      "2020-12-09 18:12:36,627 [INFO] kashgari - \n",
      "Epoch 00044: f1-score improved from 0.92661 to 0.93278, saving model to model/20201209_koi\n"
     ]
    },
    {
     "name": "stdout",
     "output_type": "stream",
     "text": [
      "\n",
      "            precision    recall  f1-score   support\n",
      "\n",
      "      name     0.8182    0.9310    0.8710        29\n",
      "      time     0.9269    0.9598    0.9431       423\n",
      "  med_exam     0.9583    0.9452    0.9517        73\n",
      "     money     0.9375    1.0000    0.9677        15\n",
      "  location     1.0000    0.8727    0.9320        55\n",
      "   contact     1.0000    0.4667    0.6364        15\n",
      "    family     0.9167    0.9167    0.9167        12\n",
      "profession     1.0000    1.0000    1.0000         1\n",
      " education     1.0000    1.0000    1.0000         1\n",
      "        ID     1.0000    1.0000    1.0000         1\n",
      "\n",
      " micro avg     0.9316    0.9376    0.9346       625\n",
      " macro avg     0.9342    0.9376    0.9328       625\n",
      "\n",
      "\n",
      "epoch: 43 precision: 0.934150, recall: 0.937600, f1-score: 0.932775\n"
     ]
    },
    {
     "name": "stderr",
     "output_type": "stream",
     "text": [
      "2020-12-09 18:12:49,422 [INFO] kashgari - model saved to /content/drive/My Drive/AICUP2020/sample/kashgari/model/20201209_koi\n"
     ]
    },
    {
     "name": "stdout",
     "output_type": "stream",
     "text": [
      "\b\b\b\b\b\b\b\b\b\b\b\b\b\b\b\b\b\b\b\b\b\b\b\b\b\b\b\b\b\b\b\b\b\b\b\b\b\b\b\b\b\b\b\b\b\b\b\b\b\b\b\b\b\b\b\b\b\b\b\b\b\b\b\b\b\b\b\b\b\b\b\b\b\b\b\b\b\b\b\b\b\b\r",
      "83/83 [==============================] - 294s 4s/step - loss: 0.7725 - accuracy: 0.9989 - val_loss: 695.0961 - val_accuracy: 0.0155\n",
      "Epoch 45/80\n",
      "83/83 [==============================] - ETA: 0s - loss: 0.6904 - accuracy: 0.9989"
     ]
    },
    {
     "name": "stderr",
     "output_type": "stream",
     "text": [
      "2020-12-09 18:17:15,016 [DEBUG] kashgari - predict seq_length: None, input: (2, 154, 512)\n"
     ]
    },
    {
     "name": "stdout",
     "output_type": "stream",
     "text": [
      "10/10 [==============================] - 14s 1s/step\n"
     ]
    },
    {
     "name": "stderr",
     "output_type": "stream",
     "text": [
      "2020-12-09 18:17:31,192 [DEBUG] kashgari - predict output: (154, 512)\n",
      "2020-12-09 18:17:31,193 [DEBUG] kashgari - predict output argmax: [[0 1 1 ... 1 1 1]\n",
      " [0 1 1 ... 1 1 1]\n",
      " [0 1 1 ... 1 1 1]\n",
      " ...\n",
      " [0 1 1 ... 1 1 1]\n",
      " [0 1 1 ... 1 1 1]\n",
      " [0 1 1 ... 1 1 1]]\n",
      "2020-12-09 18:17:31,803 [INFO] kashgari - Successfully recorded this epoch into model/20201209_koi/history/history_1.csv\n",
      "2020-12-09 18:17:31,805 [INFO] kashgari - \n",
      "Epoch 00045: f1-score did not improve from 0.93278\n"
     ]
    },
    {
     "name": "stdout",
     "output_type": "stream",
     "text": [
      "\n",
      "            precision    recall  f1-score   support\n",
      "\n",
      "      name     0.8438    0.9310    0.8852        29\n",
      "      time     0.9324    0.9456    0.9390       423\n",
      "  med_exam     0.9577    0.9315    0.9444        73\n",
      "     money     0.9375    1.0000    0.9677        15\n",
      "  location     1.0000    0.8727    0.9320        55\n",
      "   contact     0.8889    0.5333    0.6667        15\n",
      "    family     1.0000    0.8333    0.9091        12\n",
      "profession     1.0000    1.0000    1.0000         1\n",
      " education     1.0000    1.0000    1.0000         1\n",
      "        ID     1.0000    1.0000    1.0000         1\n",
      "\n",
      " micro avg     0.9369    0.9264    0.9316       625\n",
      " macro avg     0.9379    0.9264    0.9304       625\n",
      "\n",
      "\n",
      "epoch: 44 precision: 0.937897, recall: 0.926400, f1-score: 0.930379\n",
      "\b\b\b\b\b\b\b\b\b\b\b\b\b\b\b\b\b\b\b\b\b\b\b\b\b\b\b\b\b\b\b\b\b\b\b\b\b\b\b\b\b\b\b\b\b\b\b\b\b\b\b\b\b\b\b\b\b\b\b\b\b\b\b\b\b\b\b\b\b\b\b\b\b\b\b\b\b\b\b\b\b\b\r",
      "83/83 [==============================] - 279s 3s/step - loss: 0.6904 - accuracy: 0.9989 - val_loss: 697.8682 - val_accuracy: 0.0149\n",
      "Epoch 46/80\n",
      "83/83 [==============================] - ETA: 0s - loss: 0.7143 - accuracy: 0.9989"
     ]
    },
    {
     "name": "stderr",
     "output_type": "stream",
     "text": [
      "2020-12-09 18:21:55,496 [DEBUG] kashgari - predict seq_length: None, input: (2, 154, 512)\n"
     ]
    },
    {
     "name": "stdout",
     "output_type": "stream",
     "text": [
      "10/10 [==============================] - 14s 1s/step\n"
     ]
    },
    {
     "name": "stderr",
     "output_type": "stream",
     "text": [
      "2020-12-09 18:22:11,671 [DEBUG] kashgari - predict output: (154, 512)\n",
      "2020-12-09 18:22:11,673 [DEBUG] kashgari - predict output argmax: [[0 1 1 ... 1 1 1]\n",
      " [0 1 1 ... 1 1 1]\n",
      " [0 1 1 ... 1 1 1]\n",
      " ...\n",
      " [0 1 1 ... 1 1 1]\n",
      " [0 1 1 ... 1 1 1]\n",
      " [0 1 1 ... 1 1 1]]\n",
      "2020-12-09 18:22:12,260 [INFO] kashgari - Successfully recorded this epoch into model/20201209_koi/history/history_1.csv\n",
      "2020-12-09 18:22:12,262 [INFO] kashgari - \n",
      "Epoch 00046: f1-score did not improve from 0.93278\n"
     ]
    },
    {
     "name": "stdout",
     "output_type": "stream",
     "text": [
      "\n",
      "            precision    recall  f1-score   support\n",
      "\n",
      "      name     0.8182    0.9310    0.8710        29\n",
      "      time     0.9217    0.9456    0.9335       423\n",
      "  med_exam     0.9577    0.9315    0.9444        73\n",
      "     money     0.9375    1.0000    0.9677        15\n",
      "  location     1.0000    0.8727    0.9320        55\n",
      "   contact     1.0000    0.4667    0.6364        15\n",
      "    family     1.0000    0.6667    0.8000        12\n",
      "profession     1.0000    1.0000    1.0000         1\n",
      " education     1.0000    1.0000    1.0000         1\n",
      "        ID     1.0000    1.0000    1.0000         1\n",
      "\n",
      " micro avg     0.9290    0.9216    0.9253       625\n",
      " macro avg     0.9321    0.9216    0.9232       625\n",
      "\n",
      "\n",
      "epoch: 45 precision: 0.932107, recall: 0.921600, f1-score: 0.923187\n",
      "\b\b\b\b\b\b\b\b\b\b\b\b\b\b\b\b\b\b\b\b\b\b\b\b\b\b\b\b\b\b\b\b\b\b\b\b\b\b\b\b\b\b\b\b\b\b\b\b\b\b\b\b\b\b\b\b\b\b\b\b\b\b\b\b\b\b\b\b\b\b\b\b\b\b\b\b\b\b\b\b\b\b\r",
      "83/83 [==============================] - 278s 3s/step - loss: 0.7143 - accuracy: 0.9989 - val_loss: 685.4965 - val_accuracy: 0.0143\n",
      "Epoch 47/80\n",
      "83/83 [==============================] - ETA: 0s - loss: 0.7495 - accuracy: 0.9988"
     ]
    },
    {
     "name": "stderr",
     "output_type": "stream",
     "text": [
      "2020-12-09 18:26:35,719 [DEBUG] kashgari - predict seq_length: None, input: (2, 154, 512)\n"
     ]
    },
    {
     "name": "stdout",
     "output_type": "stream",
     "text": [
      "10/10 [==============================] - 14s 1s/step\n"
     ]
    },
    {
     "name": "stderr",
     "output_type": "stream",
     "text": [
      "2020-12-09 18:26:51,837 [DEBUG] kashgari - predict output: (154, 512)\n",
      "2020-12-09 18:26:51,838 [DEBUG] kashgari - predict output argmax: [[0 1 1 ... 1 1 1]\n",
      " [0 1 1 ... 1 1 1]\n",
      " [0 1 1 ... 1 1 1]\n",
      " ...\n",
      " [0 1 1 ... 1 1 1]\n",
      " [0 1 1 ... 1 1 1]\n",
      " [0 1 1 ... 1 1 1]]\n",
      "2020-12-09 18:26:52,446 [INFO] kashgari - Successfully recorded this epoch into model/20201209_koi/history/history_1.csv\n",
      "2020-12-09 18:26:52,448 [INFO] kashgari - \n",
      "Epoch 00047: f1-score did not improve from 0.93278\n"
     ]
    },
    {
     "name": "stdout",
     "output_type": "stream",
     "text": [
      "\n",
      "            precision    recall  f1-score   support\n",
      "\n",
      "      name     0.8438    0.9310    0.8852        29\n",
      "      time     0.9163    0.9574    0.9364       423\n",
      "  med_exam     0.9577    0.9315    0.9444        73\n",
      "     money     0.9375    1.0000    0.9677        15\n",
      "  location     1.0000    0.8727    0.9320        55\n",
      "   contact     1.0000    0.5333    0.6957        15\n",
      "    family     0.8889    0.6667    0.7619        12\n",
      "profession     1.0000    1.0000    1.0000         1\n",
      " education     1.0000    1.0000    1.0000         1\n",
      "        ID     1.0000    1.0000    1.0000         1\n",
      "\n",
      " micro avg     0.9253    0.9312    0.9282       625\n",
      " macro avg     0.9275    0.9312    0.9265       625\n",
      "\n",
      "\n",
      "epoch: 46 precision: 0.927526, recall: 0.931200, f1-score: 0.926522\n",
      "\b\b\b\b\b\b\b\b\b\b\b\b\b\b\b\b\b\b\b\b\b\b\b\b\b\b\b\b\b\b\b\b\b\b\b\b\b\b\b\b\b\b\b\b\b\b\b\b\b\b\b\b\b\b\b\b\b\b\b\b\b\b\b\b\b\b\b\b\b\b\b\b\b\b\b\b\b\b\b\b\b\b\r",
      "83/83 [==============================] - 277s 3s/step - loss: 0.7495 - accuracy: 0.9988 - val_loss: 689.2064 - val_accuracy: 0.0145\n",
      "Epoch 48/80\n",
      "83/83 [==============================] - ETA: 0s - loss: 0.6358 - accuracy: 0.9990"
     ]
    },
    {
     "name": "stderr",
     "output_type": "stream",
     "text": [
      "2020-12-09 18:31:16,846 [DEBUG] kashgari - predict seq_length: None, input: (2, 154, 512)\n"
     ]
    },
    {
     "name": "stdout",
     "output_type": "stream",
     "text": [
      "10/10 [==============================] - 14s 1s/step\n"
     ]
    },
    {
     "name": "stderr",
     "output_type": "stream",
     "text": [
      "2020-12-09 18:31:33,010 [DEBUG] kashgari - predict output: (154, 512)\n",
      "2020-12-09 18:31:33,011 [DEBUG] kashgari - predict output argmax: [[0 1 1 ... 1 1 1]\n",
      " [0 1 1 ... 1 1 1]\n",
      " [0 1 1 ... 1 1 1]\n",
      " ...\n",
      " [0 1 1 ... 1 1 1]\n",
      " [0 1 1 ... 1 1 1]\n",
      " [0 1 1 ... 1 1 1]]\n",
      "2020-12-09 18:31:33,613 [INFO] kashgari - Successfully recorded this epoch into model/20201209_koi/history/history_1.csv\n",
      "2020-12-09 18:31:33,614 [INFO] kashgari - \n",
      "Epoch 00048: f1-score did not improve from 0.93278\n"
     ]
    },
    {
     "name": "stdout",
     "output_type": "stream",
     "text": [
      "\n",
      "            precision    recall  f1-score   support\n",
      "\n",
      "      name     0.8438    0.9310    0.8852        29\n",
      "      time     0.9027    0.9645    0.9326       423\n",
      "  med_exam     0.9583    0.9452    0.9517        73\n",
      "     money     0.9375    1.0000    0.9677        15\n",
      "  location     1.0000    0.8727    0.9320        55\n",
      "   contact     1.0000    0.4000    0.5714        15\n",
      "    family     0.8889    0.6667    0.7619        12\n",
      "profession     1.0000    1.0000    1.0000         1\n",
      " education     1.0000    1.0000    1.0000         1\n",
      "        ID     1.0000    1.0000    1.0000         1\n",
      "\n",
      " micro avg     0.9154    0.9344    0.9248       625\n",
      " macro avg     0.9184    0.9344    0.9218       625\n",
      "\n",
      "\n",
      "epoch: 47 precision: 0.918367, recall: 0.934400, f1-score: 0.921789\n",
      "\b\b\b\b\b\b\b\b\b\b\b\b\b\b\b\b\b\b\b\b\b\b\b\b\b\b\b\b\b\b\b\b\b\b\b\b\b\b\b\b\b\b\b\b\b\b\b\b\b\b\b\b\b\b\b\b\b\b\b\b\b\b\b\b\b\b\b\b\b\b\b\b\b\b\b\b\b\b\b\b\b\b\r",
      "83/83 [==============================] - 278s 3s/step - loss: 0.6358 - accuracy: 0.9990 - val_loss: 679.7343 - val_accuracy: 0.0139\n",
      "Epoch 49/80\n",
      "83/83 [==============================] - ETA: 0s - loss: 0.6292 - accuracy: 0.9991"
     ]
    },
    {
     "name": "stderr",
     "output_type": "stream",
     "text": [
      "2020-12-09 18:35:57,718 [DEBUG] kashgari - predict seq_length: None, input: (2, 154, 512)\n"
     ]
    },
    {
     "name": "stdout",
     "output_type": "stream",
     "text": [
      "10/10 [==============================] - 14s 1s/step\n"
     ]
    },
    {
     "name": "stderr",
     "output_type": "stream",
     "text": [
      "2020-12-09 18:36:13,886 [DEBUG] kashgari - predict output: (154, 512)\n",
      "2020-12-09 18:36:13,888 [DEBUG] kashgari - predict output argmax: [[0 1 1 ... 1 1 1]\n",
      " [0 1 1 ... 1 1 1]\n",
      " [0 1 1 ... 1 1 1]\n",
      " ...\n",
      " [0 1 1 ... 1 1 1]\n",
      " [0 1 1 ... 1 1 1]\n",
      " [0 1 1 ... 1 1 1]]\n",
      "2020-12-09 18:36:14,476 [INFO] kashgari - Successfully recorded this epoch into model/20201209_koi/history/history_1.csv\n",
      "2020-12-09 18:36:14,477 [INFO] kashgari - \n",
      "Epoch 00049: f1-score did not improve from 0.93278\n"
     ]
    },
    {
     "name": "stdout",
     "output_type": "stream",
     "text": [
      "\n",
      "            precision    recall  f1-score   support\n",
      "\n",
      "      name     0.8438    0.9310    0.8852        29\n",
      "      time     0.9007    0.9645    0.9315       423\n",
      "  med_exam     0.9467    0.9726    0.9595        73\n",
      "     money     1.0000    1.0000    1.0000        15\n",
      "  location     1.0000    0.8727    0.9320        55\n",
      "   contact     1.0000    0.4000    0.5714        15\n",
      "    family     0.8000    0.6667    0.7273        12\n",
      "profession     1.0000    1.0000    1.0000         1\n",
      " education     1.0000    1.0000    1.0000         1\n",
      "        ID     1.0000    1.0000    1.0000         1\n",
      "\n",
      " micro avg     0.9128    0.9376    0.9250       625\n",
      " macro avg     0.9154    0.9376    0.9221       625\n",
      "\n",
      "\n",
      "epoch: 48 precision: 0.915449, recall: 0.937600, f1-score: 0.922081\n",
      "\b\b\b\b\b\b\b\b\b\b\b\b\b\b\b\b\b\b\b\b\b\b\b\b\b\b\b\b\b\b\b\b\b\b\b\b\b\b\b\b\b\b\b\b\b\b\b\b\b\b\b\b\b\b\b\b\b\b\b\b\b\b\b\b\b\b\b\b\b\b\b\b\b\b\b\b\b\b\b\b\b\b\r",
      "83/83 [==============================] - 278s 3s/step - loss: 0.6292 - accuracy: 0.9991 - val_loss: 689.5662 - val_accuracy: 0.0147\n",
      "Epoch 50/80\n",
      "83/83 [==============================] - ETA: 0s - loss: 0.6877 - accuracy: 0.9989"
     ]
    },
    {
     "name": "stderr",
     "output_type": "stream",
     "text": [
      "2020-12-09 18:40:38,283 [DEBUG] kashgari - predict seq_length: None, input: (2, 154, 512)\n"
     ]
    },
    {
     "name": "stdout",
     "output_type": "stream",
     "text": [
      "10/10 [==============================] - 14s 1s/step\n"
     ]
    },
    {
     "name": "stderr",
     "output_type": "stream",
     "text": [
      "2020-12-09 18:40:54,502 [DEBUG] kashgari - predict output: (154, 512)\n",
      "2020-12-09 18:40:54,503 [DEBUG] kashgari - predict output argmax: [[0 1 1 ... 1 1 1]\n",
      " [0 1 1 ... 1 1 1]\n",
      " [0 1 1 ... 1 1 1]\n",
      " ...\n",
      " [0 1 1 ... 1 1 1]\n",
      " [0 1 1 ... 1 1 1]\n",
      " [0 1 1 ... 1 1 1]]\n",
      "2020-12-09 18:40:55,109 [INFO] kashgari - Successfully recorded this epoch into model/20201209_koi/history/history_1.csv\n",
      "2020-12-09 18:40:55,110 [INFO] kashgari - \n",
      "Epoch 00050: f1-score did not improve from 0.93278\n"
     ]
    },
    {
     "name": "stdout",
     "output_type": "stream",
     "text": [
      "\n",
      "            precision    recall  f1-score   support\n",
      "\n",
      "      name     0.8438    0.9310    0.8852        29\n",
      "      time     0.9161    0.9551    0.9352       423\n",
      "  med_exam     0.9714    0.9315    0.9510        73\n",
      "     money     0.9375    1.0000    0.9677        15\n",
      "  location     1.0000    0.8727    0.9320        55\n",
      "   contact     1.0000    0.4000    0.5714        15\n",
      "    family     0.8889    0.6667    0.7619        12\n",
      "profession     1.0000    1.0000    1.0000         1\n",
      " education     1.0000    1.0000    1.0000         1\n",
      "        ID     1.0000    1.0000    1.0000         1\n",
      "\n",
      " micro avg     0.9264    0.9264    0.9264       625\n",
      " macro avg     0.9290    0.9264    0.9235       625\n",
      "\n",
      "\n",
      "epoch: 49 precision: 0.928996, recall: 0.926400, f1-score: 0.923479\n",
      "\b\b\b\b\b\b\b\b\b\b\b\b\b\b\b\b\b\b\b\b\b\b\b\b\b\b\b\b\b\b\b\b\b\b\b\b\b\b\b\b\b\b\b\b\b\b\b\b\b\b\b\b\b\b\b\b\b\b\b\b\b\b\b\b\b\b\b\b\b\b\b\b\b\b\b\b\b\b\b\b\b\b\r",
      "83/83 [==============================] - 278s 3s/step - loss: 0.6877 - accuracy: 0.9989 - val_loss: 670.8079 - val_accuracy: 0.0140\n",
      "Epoch 51/80\n",
      "83/83 [==============================] - ETA: 0s - loss: 0.5676 - accuracy: 0.9991"
     ]
    },
    {
     "name": "stderr",
     "output_type": "stream",
     "text": [
      "2020-12-09 18:45:18,552 [DEBUG] kashgari - predict seq_length: None, input: (2, 154, 512)\n"
     ]
    },
    {
     "name": "stdout",
     "output_type": "stream",
     "text": [
      "10/10 [==============================] - 14s 1s/step\n"
     ]
    },
    {
     "name": "stderr",
     "output_type": "stream",
     "text": [
      "2020-12-09 18:45:34,744 [DEBUG] kashgari - predict output: (154, 512)\n",
      "2020-12-09 18:45:34,745 [DEBUG] kashgari - predict output argmax: [[0 1 1 ... 1 1 1]\n",
      " [0 1 1 ... 1 1 1]\n",
      " [0 1 1 ... 1 1 1]\n",
      " ...\n",
      " [0 1 1 ... 1 1 1]\n",
      " [0 1 1 ... 1 1 1]\n",
      " [0 1 1 ... 1 1 1]]\n",
      "2020-12-09 18:45:35,341 [INFO] kashgari - Successfully recorded this epoch into model/20201209_koi/history/history_1.csv\n",
      "2020-12-09 18:45:35,343 [INFO] kashgari - \n",
      "Epoch 00051: f1-score did not improve from 0.93278\n"
     ]
    },
    {
     "name": "stdout",
     "output_type": "stream",
     "text": [
      "\n",
      "            precision    recall  f1-score   support\n",
      "\n",
      "      name     0.8438    0.9310    0.8852        29\n",
      "      time     0.9022    0.9598    0.9301       423\n",
      "  med_exam     0.9452    0.9452    0.9452        73\n",
      "     money     1.0000    1.0000    1.0000        15\n",
      "  location     1.0000    0.8727    0.9320        55\n",
      "   contact     1.0000    0.4000    0.5714        15\n",
      "    family     0.8889    0.6667    0.7619        12\n",
      "profession     1.0000    1.0000    1.0000         1\n",
      " education     1.0000    1.0000    1.0000         1\n",
      "        ID     1.0000    1.0000    1.0000         1\n",
      "\n",
      " micro avg     0.9151    0.9312    0.9231       625\n",
      " macro avg     0.9180    0.9312    0.9201       625\n",
      "\n",
      "\n",
      "epoch: 50 precision: 0.918041, recall: 0.931200, f1-score: 0.920147\n",
      "\b\b\b\b\b\b\b\b\b\b\b\b\b\b\b\b\b\b\b\b\b\b\b\b\b\b\b\b\b\b\b\b\b\b\b\b\b\b\b\b\b\b\b\b\b\b\b\b\b\b\b\b\b\b\b\b\b\b\b\b\b\b\b\b\b\b\b\b\b\b\b\b\b\b\b\b\b\b\b\b\b\b\r",
      "83/83 [==============================] - 277s 3s/step - loss: 0.5676 - accuracy: 0.9991 - val_loss: 672.0261 - val_accuracy: 0.0145\n",
      "Epoch 52/80\n",
      "83/83 [==============================] - ETA: 0s - loss: 0.7293 - accuracy: 0.9989"
     ]
    },
    {
     "name": "stderr",
     "output_type": "stream",
     "text": [
      "2020-12-09 18:49:58,227 [DEBUG] kashgari - predict seq_length: None, input: (2, 154, 512)\n"
     ]
    },
    {
     "name": "stdout",
     "output_type": "stream",
     "text": [
      "10/10 [==============================] - 14s 1s/step\n"
     ]
    },
    {
     "name": "stderr",
     "output_type": "stream",
     "text": [
      "2020-12-09 18:50:14,401 [DEBUG] kashgari - predict output: (154, 512)\n",
      "2020-12-09 18:50:14,402 [DEBUG] kashgari - predict output argmax: [[0 1 1 ... 1 1 1]\n",
      " [0 1 1 ... 1 1 1]\n",
      " [0 1 1 ... 1 1 1]\n",
      " ...\n",
      " [0 1 1 ... 1 1 1]\n",
      " [0 1 1 ... 1 1 1]\n",
      " [0 1 1 ... 1 1 1]]\n",
      "2020-12-09 18:50:14,998 [INFO] kashgari - Successfully recorded this epoch into model/20201209_koi/history/history_1.csv\n",
      "2020-12-09 18:50:14,999 [INFO] kashgari - \n",
      "Epoch 00052: f1-score did not improve from 0.93278\n"
     ]
    },
    {
     "name": "stdout",
     "output_type": "stream",
     "text": [
      "\n",
      "            precision    recall  f1-score   support\n",
      "\n",
      "      name     0.8438    0.9310    0.8852        29\n",
      "      time     0.9229    0.9622    0.9421       423\n",
      "  med_exam     0.9324    0.9452    0.9388        73\n",
      "     money     1.0000    1.0000    1.0000        15\n",
      "  location     1.0000    0.8727    0.9320        55\n",
      "   contact     1.0000    0.4000    0.5714        15\n",
      "    family     0.9000    0.7500    0.8182        12\n",
      "profession     1.0000    1.0000    1.0000         1\n",
      " education     1.0000    1.0000    1.0000         1\n",
      "        ID     1.0000    1.0000    1.0000         1\n",
      "\n",
      " micro avg     0.9285    0.9344    0.9314       625\n",
      " macro avg     0.9308    0.9344    0.9286       625\n",
      "\n",
      "\n",
      "epoch: 51 precision: 0.930759, recall: 0.934400, f1-score: 0.928601\n",
      "\b\b\b\b\b\b\b\b\b\b\b\b\b\b\b\b\b\b\b\b\b\b\b\b\b\b\b\b\b\b\b\b\b\b\b\b\b\b\b\b\b\b\b\b\b\b\b\b\b\b\b\b\b\b\b\b\b\b\b\b\b\b\b\b\b\b\b\b\b\b\b\b\b\b\b\b\b\b\b\b\b\b\r",
      "83/83 [==============================] - 277s 3s/step - loss: 0.7293 - accuracy: 0.9989 - val_loss: 668.3343 - val_accuracy: 0.0138\n",
      "Epoch 53/80\n",
      "83/83 [==============================] - ETA: 0s - loss: 0.6376 - accuracy: 0.9990"
     ]
    },
    {
     "name": "stderr",
     "output_type": "stream",
     "text": [
      "2020-12-09 18:54:37,368 [DEBUG] kashgari - predict seq_length: None, input: (2, 154, 512)\n"
     ]
    },
    {
     "name": "stdout",
     "output_type": "stream",
     "text": [
      "10/10 [==============================] - 14s 1s/step\n"
     ]
    },
    {
     "name": "stderr",
     "output_type": "stream",
     "text": [
      "2020-12-09 18:54:53,458 [DEBUG] kashgari - predict output: (154, 512)\n",
      "2020-12-09 18:54:53,459 [DEBUG] kashgari - predict output argmax: [[0 1 1 ... 1 1 1]\n",
      " [0 1 1 ... 1 1 1]\n",
      " [0 1 1 ... 1 1 1]\n",
      " ...\n",
      " [0 1 1 ... 1 1 1]\n",
      " [0 1 1 ... 1 1 1]\n",
      " [0 1 1 ... 1 1 1]]\n",
      "2020-12-09 18:54:54,050 [INFO] kashgari - Successfully recorded this epoch into model/20201209_koi/history/history_1.csv\n",
      "2020-12-09 18:54:54,051 [INFO] kashgari - \n",
      "Epoch 00053: f1-score did not improve from 0.93278\n"
     ]
    },
    {
     "name": "stdout",
     "output_type": "stream",
     "text": [
      "\n",
      "            precision    recall  f1-score   support\n",
      "\n",
      "      name     0.8438    0.9310    0.8852        29\n",
      "      time     0.9163    0.9574    0.9364       423\n",
      "  med_exam     0.9444    0.9315    0.9379        73\n",
      "     money     0.9375    1.0000    0.9677        15\n",
      "  location     1.0000    0.8727    0.9320        55\n",
      "   contact     1.0000    0.4000    0.5714        15\n",
      "    family     1.0000    0.6667    0.8000        12\n",
      "profession     1.0000    1.0000    1.0000         1\n",
      " education     1.0000    1.0000    1.0000         1\n",
      "        ID     1.0000    1.0000    1.0000         1\n",
      "\n",
      " micro avg     0.9250    0.9280    0.9265       625\n",
      " macro avg     0.9281    0.9280    0.9235       625\n",
      "\n",
      "\n",
      "epoch: 52 precision: 0.928106, recall: 0.928000, f1-score: 0.923512\n",
      "\b\b\b\b\b\b\b\b\b\b\b\b\b\b\b\b\b\b\b\b\b\b\b\b\b\b\b\b\b\b\b\b\b\b\b\b\b\b\b\b\b\b\b\b\b\b\b\b\b\b\b\b\b\b\b\b\b\b\b\b\b\b\b\b\b\b\b\b\b\b\b\b\b\b\b\b\b\b\b\b\b\b\r",
      "83/83 [==============================] - 276s 3s/step - loss: 0.6376 - accuracy: 0.9990 - val_loss: 672.4490 - val_accuracy: 0.0140\n",
      "Epoch 54/80\n",
      "83/83 [==============================] - ETA: 0s - loss: 0.5452 - accuracy: 0.9991"
     ]
    },
    {
     "name": "stderr",
     "output_type": "stream",
     "text": [
      "2020-12-09 18:59:16,214 [DEBUG] kashgari - predict seq_length: None, input: (2, 154, 512)\n"
     ]
    },
    {
     "name": "stdout",
     "output_type": "stream",
     "text": [
      "10/10 [==============================] - 14s 1s/step\n"
     ]
    },
    {
     "name": "stderr",
     "output_type": "stream",
     "text": [
      "2020-12-09 18:59:32,274 [DEBUG] kashgari - predict output: (154, 512)\n",
      "2020-12-09 18:59:32,275 [DEBUG] kashgari - predict output argmax: [[0 1 1 ... 1 1 1]\n",
      " [0 1 1 ... 1 1 1]\n",
      " [0 1 1 ... 1 1 1]\n",
      " ...\n",
      " [0 1 1 ... 1 1 1]\n",
      " [0 1 1 ... 1 1 1]\n",
      " [0 1 1 ... 1 1 1]]\n",
      "2020-12-09 18:59:32,861 [INFO] kashgari - Successfully recorded this epoch into model/20201209_koi/history/history_1.csv\n",
      "2020-12-09 18:59:32,864 [INFO] kashgari - \n",
      "Epoch 00054: f1-score did not improve from 0.93278\n"
     ]
    },
    {
     "name": "stdout",
     "output_type": "stream",
     "text": [
      "\n",
      "            precision    recall  f1-score   support\n",
      "\n",
      "      name     0.8438    0.9310    0.8852        29\n",
      "      time     0.9126    0.9622    0.9367       423\n",
      "  med_exam     0.9452    0.9452    0.9452        73\n",
      "     money     0.9375    1.0000    0.9677        15\n",
      "  location     1.0000    0.8727    0.9320        55\n",
      "   contact     1.0000    0.4000    0.5714        15\n",
      "    family     0.9000    0.7500    0.8182        12\n",
      "profession     1.0000    1.0000    1.0000         1\n",
      " education     1.0000    1.0000    1.0000         1\n",
      "        ID     1.0000    1.0000    1.0000         1\n",
      "\n",
      " micro avg     0.9211    0.9344    0.9277       625\n",
      " macro avg     0.9237    0.9344    0.9249       625\n",
      "\n",
      "\n",
      "epoch: 53 precision: 0.923748, recall: 0.934400, f1-score: 0.924909\n",
      "\b\b\b\b\b\b\b\b\b\b\b\b\b\b\b\b\b\b\b\b\b\b\b\b\b\b\b\b\b\b\b\b\b\b\b\b\b\b\b\b\b\b\b\b\b\b\b\b\b\b\b\b\b\b\b\b\b\b\b\b\b\b\b\b\b\b\b\b\b\b\b\b\b\b\b\b\b\b\b\b\b\b\r",
      "83/83 [==============================] - 276s 3s/step - loss: 0.5452 - accuracy: 0.9991 - val_loss: 671.2725 - val_accuracy: 0.0142\n",
      "Epoch 55/80\n",
      "83/83 [==============================] - ETA: 0s - loss: 0.4974 - accuracy: 0.9992"
     ]
    },
    {
     "name": "stderr",
     "output_type": "stream",
     "text": [
      "2020-12-09 19:03:54,569 [DEBUG] kashgari - predict seq_length: None, input: (2, 154, 512)\n"
     ]
    },
    {
     "name": "stdout",
     "output_type": "stream",
     "text": [
      "10/10 [==============================] - 14s 1s/step\n"
     ]
    },
    {
     "name": "stderr",
     "output_type": "stream",
     "text": [
      "2020-12-09 19:04:10,603 [DEBUG] kashgari - predict output: (154, 512)\n",
      "2020-12-09 19:04:10,604 [DEBUG] kashgari - predict output argmax: [[0 1 1 ... 1 1 1]\n",
      " [0 1 1 ... 1 1 1]\n",
      " [0 1 1 ... 1 1 1]\n",
      " ...\n",
      " [0 1 1 ... 1 1 1]\n",
      " [0 1 1 ... 1 1 1]\n",
      " [0 1 1 ... 1 1 1]]\n",
      "2020-12-09 19:04:11,187 [INFO] kashgari - Successfully recorded this epoch into model/20201209_koi/history/history_1.csv\n",
      "2020-12-09 19:04:11,189 [INFO] kashgari - \n",
      "Epoch 00055: f1-score did not improve from 0.93278\n"
     ]
    },
    {
     "name": "stdout",
     "output_type": "stream",
     "text": [
      "\n",
      "            precision    recall  f1-score   support\n",
      "\n",
      "      name     0.8438    0.9310    0.8852        29\n",
      "      time     0.9347    0.9480    0.9413       423\n",
      "  med_exam     0.9324    0.9452    0.9388        73\n",
      "     money     0.9375    1.0000    0.9677        15\n",
      "  location     1.0000    0.8727    0.9320        55\n",
      "   contact     1.0000    0.4667    0.6364        15\n",
      "    family     0.8000    0.6667    0.7273        12\n",
      "profession     1.0000    1.0000    1.0000         1\n",
      " education     1.0000    1.0000    1.0000         1\n",
      "        ID     1.0000    1.0000    1.0000         1\n",
      "\n",
      " micro avg     0.9338    0.9248    0.9293       625\n",
      " macro avg     0.9353    0.9248    0.9271       625\n",
      "\n",
      "\n",
      "epoch: 54 precision: 0.935345, recall: 0.924800, f1-score: 0.927088\n",
      "\b\b\b\b\b\b\b\b\b\b\b\b\b\b\b\b\b\b\b\b\b\b\b\b\b\b\b\b\b\b\b\b\b\b\b\b\b\b\b\b\b\b\b\b\b\b\b\b\b\b\b\b\b\b\b\b\b\b\b\b\b\b\b\b\b\b\b\b\b\b\b\b\b\b\b\b\b\b\b\b\b\b\r",
      "83/83 [==============================] - 275s 3s/step - loss: 0.4974 - accuracy: 0.9992 - val_loss: 663.5837 - val_accuracy: 0.0136\n",
      "Epoch 56/80\n",
      "83/83 [==============================] - ETA: 0s - loss: 0.6118 - accuracy: 0.9990"
     ]
    },
    {
     "name": "stderr",
     "output_type": "stream",
     "text": [
      "2020-12-09 19:08:32,321 [DEBUG] kashgari - predict seq_length: None, input: (2, 154, 512)\n"
     ]
    },
    {
     "name": "stdout",
     "output_type": "stream",
     "text": [
      "10/10 [==============================] - 14s 1s/step\n"
     ]
    },
    {
     "name": "stderr",
     "output_type": "stream",
     "text": [
      "2020-12-09 19:08:48,362 [DEBUG] kashgari - predict output: (154, 512)\n",
      "2020-12-09 19:08:48,363 [DEBUG] kashgari - predict output argmax: [[0 1 1 ... 1 1 1]\n",
      " [0 1 1 ... 1 1 1]\n",
      " [0 1 1 ... 1 1 1]\n",
      " ...\n",
      " [0 1 1 ... 1 1 1]\n",
      " [0 1 1 ... 1 1 1]\n",
      " [0 1 1 ... 1 1 1]]\n",
      "2020-12-09 19:08:48,952 [INFO] kashgari - Successfully recorded this epoch into model/20201209_koi/history/history_1.csv\n",
      "2020-12-09 19:08:48,953 [INFO] kashgari - \n",
      "Epoch 00056: f1-score did not improve from 0.93278\n"
     ]
    },
    {
     "name": "stdout",
     "output_type": "stream",
     "text": [
      "\n",
      "            precision    recall  f1-score   support\n",
      "\n",
      "      name     0.8182    0.9310    0.8710        29\n",
      "      time     0.9029    0.9669    0.9338       423\n",
      "  med_exam     0.9079    0.9452    0.9262        73\n",
      "     money     0.9375    1.0000    0.9677        15\n",
      "  location     1.0000    0.8727    0.9320        55\n",
      "   contact     1.0000    0.5333    0.6957        15\n",
      "    family     0.9091    0.8333    0.8696        12\n",
      "profession     1.0000    1.0000    1.0000         1\n",
      " education     1.0000    1.0000    1.0000         1\n",
      "        ID     1.0000    1.0000    1.0000         1\n",
      "\n",
      " micro avg     0.9090    0.9424    0.9254       625\n",
      " macro avg     0.9118    0.9424    0.9240       625\n",
      "\n",
      "\n",
      "epoch: 55 precision: 0.911823, recall: 0.942400, f1-score: 0.924016\n",
      "\b\b\b\b\b\b\b\b\b\b\b\b\b\b\b\b\b\b\b\b\b\b\b\b\b\b\b\b\b\b\b\b\b\b\b\b\b\b\b\b\b\b\b\b\b\b\b\b\b\b\b\b\b\b\b\b\b\b\b\b\b\b\b\b\b\b\b\b\b\b\b\b\b\b\b\b\b\b\b\b\b\b\r",
      "83/83 [==============================] - 275s 3s/step - loss: 0.6118 - accuracy: 0.9990 - val_loss: 655.7548 - val_accuracy: 0.0132\n",
      "Epoch 57/80\n",
      "83/83 [==============================] - ETA: 0s - loss: 0.5744 - accuracy: 0.9991"
     ]
    },
    {
     "name": "stderr",
     "output_type": "stream",
     "text": [
      "2020-12-09 19:13:10,784 [DEBUG] kashgari - predict seq_length: None, input: (2, 154, 512)\n"
     ]
    },
    {
     "name": "stdout",
     "output_type": "stream",
     "text": [
      "10/10 [==============================] - 14s 1s/step\n"
     ]
    },
    {
     "name": "stderr",
     "output_type": "stream",
     "text": [
      "2020-12-09 19:13:26,861 [DEBUG] kashgari - predict output: (154, 512)\n",
      "2020-12-09 19:13:26,862 [DEBUG] kashgari - predict output argmax: [[0 1 1 ... 1 1 1]\n",
      " [0 1 1 ... 1 1 1]\n",
      " [0 1 1 ... 1 1 1]\n",
      " ...\n",
      " [0 1 1 ... 1 1 1]\n",
      " [0 1 1 ... 1 1 1]\n",
      " [0 1 1 ... 1 1 1]]\n",
      "2020-12-09 19:13:27,440 [INFO] kashgari - Successfully recorded this epoch into model/20201209_koi/history/history_1.csv\n",
      "2020-12-09 19:13:27,441 [INFO] kashgari - \n",
      "Epoch 00057: f1-score did not improve from 0.93278\n"
     ]
    },
    {
     "name": "stdout",
     "output_type": "stream",
     "text": [
      "\n",
      "            precision    recall  f1-score   support\n",
      "\n",
      "      name     0.8438    0.9310    0.8852        29\n",
      "      time     0.8872    0.9669    0.9253       423\n",
      "  med_exam     0.9211    0.9589    0.9396        73\n",
      "     money     0.9375    1.0000    0.9677        15\n",
      "  location     1.0000    0.8727    0.9320        55\n",
      "   contact     1.0000    0.5333    0.6957        15\n",
      "    family     0.8889    0.6667    0.7619        12\n",
      "profession     1.0000    1.0000    1.0000         1\n",
      " education     1.0000    1.0000    1.0000         1\n",
      "        ID     1.0000    1.0000    1.0000         1\n",
      "\n",
      " micro avg     0.9005    0.9408    0.9202       625\n",
      " macro avg     0.9036    0.9408    0.9185       625\n",
      "\n",
      "\n",
      "epoch: 56 precision: 0.903554, recall: 0.940800, f1-score: 0.918460\n",
      "\b\b\b\b\b\b\b\b\b\b\b\b\b\b\b\b\b\b\b\b\b\b\b\b\b\b\b\b\b\b\b\b\b\b\b\b\b\b\b\b\b\b\b\b\b\b\b\b\b\b\b\b\b\b\b\b\b\b\b\b\b\b\b\b\b\b\b\b\b\b\b\b\b\b\b\b\b\b\b\b\b\b\r",
      "83/83 [==============================] - 276s 3s/step - loss: 0.5744 - accuracy: 0.9991 - val_loss: 653.7421 - val_accuracy: 0.0143\n",
      "Epoch 58/80\n",
      "83/83 [==============================] - ETA: 0s - loss: 0.6301 - accuracy: 0.9990"
     ]
    },
    {
     "name": "stderr",
     "output_type": "stream",
     "text": [
      "2020-12-09 19:17:50,423 [DEBUG] kashgari - predict seq_length: None, input: (2, 154, 512)\n"
     ]
    },
    {
     "name": "stdout",
     "output_type": "stream",
     "text": [
      "10/10 [==============================] - 14s 1s/step\n"
     ]
    },
    {
     "name": "stderr",
     "output_type": "stream",
     "text": [
      "2020-12-09 19:18:06,457 [DEBUG] kashgari - predict output: (154, 512)\n",
      "2020-12-09 19:18:06,458 [DEBUG] kashgari - predict output argmax: [[0 1 1 ... 1 1 1]\n",
      " [0 1 1 ... 1 1 1]\n",
      " [0 1 1 ... 1 1 1]\n",
      " ...\n",
      " [0 1 1 ... 1 1 1]\n",
      " [0 1 1 ... 1 1 1]\n",
      " [0 1 1 ... 1 1 1]]\n",
      "2020-12-09 19:18:07,041 [INFO] kashgari - Successfully recorded this epoch into model/20201209_koi/history/history_1.csv\n",
      "2020-12-09 19:18:07,042 [INFO] kashgari - \n",
      "Epoch 00058: f1-score did not improve from 0.93278\n"
     ]
    },
    {
     "name": "stdout",
     "output_type": "stream",
     "text": [
      "\n",
      "            precision    recall  f1-score   support\n",
      "\n",
      "      name     0.8438    0.9310    0.8852        29\n",
      "      time     0.9128    0.9645    0.9379       423\n",
      "  med_exam     0.9589    0.9589    0.9589        73\n",
      "     money     0.9375    1.0000    0.9677        15\n",
      "  location     1.0000    0.8727    0.9320        55\n",
      "   contact     1.0000    0.4000    0.5714        15\n",
      "    family     1.0000    0.7500    0.8571        12\n",
      "profession     1.0000    1.0000    1.0000         1\n",
      " education     1.0000    1.0000    1.0000         1\n",
      "        ID     1.0000    1.0000    1.0000         1\n",
      "\n",
      " micro avg     0.9243    0.9376    0.9309       625\n",
      " macro avg     0.9274    0.9376    0.9281       625\n",
      "\n",
      "\n",
      "epoch: 57 precision: 0.927400, recall: 0.937600, f1-score: 0.928084\n",
      "\b\b\b\b\b\b\b\b\b\b\b\b\b\b\b\b\b\b\b\b\b\b\b\b\b\b\b\b\b\b\b\b\b\b\b\b\b\b\b\b\b\b\b\b\b\b\b\b\b\b\b\b\b\b\b\b\b\b\b\b\b\b\b\b\b\b\b\b\b\b\b\b\b\b\b\b\b\b\b\b\b\b\r",
      "83/83 [==============================] - 277s 3s/step - loss: 0.6301 - accuracy: 0.9990 - val_loss: 657.0614 - val_accuracy: 0.0139\n",
      "Epoch 59/80\n",
      "83/83 [==============================] - ETA: 0s - loss: 0.5561 - accuracy: 0.9991"
     ]
    },
    {
     "name": "stderr",
     "output_type": "stream",
     "text": [
      "2020-12-09 19:22:27,870 [DEBUG] kashgari - predict seq_length: None, input: (2, 154, 512)\n"
     ]
    },
    {
     "name": "stdout",
     "output_type": "stream",
     "text": [
      "10/10 [==============================] - 14s 1s/step\n"
     ]
    },
    {
     "name": "stderr",
     "output_type": "stream",
     "text": [
      "2020-12-09 19:22:43,825 [DEBUG] kashgari - predict output: (154, 512)\n",
      "2020-12-09 19:22:43,826 [DEBUG] kashgari - predict output argmax: [[0 1 1 ... 1 1 1]\n",
      " [0 1 1 ... 1 1 1]\n",
      " [0 1 1 ... 1 1 1]\n",
      " ...\n",
      " [0 1 1 ... 1 1 1]\n",
      " [0 1 1 ... 1 1 1]\n",
      " [0 1 1 ... 1 1 1]]\n",
      "2020-12-09 19:22:44,406 [INFO] kashgari - Successfully recorded this epoch into model/20201209_koi/history/history_1.csv\n",
      "2020-12-09 19:22:44,408 [INFO] kashgari - \n",
      "Epoch 00059: f1-score improved from 0.93278 to 0.93299, saving model to model/20201209_koi\n"
     ]
    },
    {
     "name": "stdout",
     "output_type": "stream",
     "text": [
      "\n",
      "            precision    recall  f1-score   support\n",
      "\n",
      "      name     0.8438    0.9310    0.8852        29\n",
      "      time     0.9276    0.9693    0.9480       423\n",
      "  med_exam     0.9718    0.9452    0.9583        73\n",
      "     money     0.9375    1.0000    0.9677        15\n",
      "  location     1.0000    0.8727    0.9320        55\n",
      "   contact     1.0000    0.4000    0.5714        15\n",
      "    family     0.8889    0.6667    0.7619        12\n",
      "profession     1.0000    1.0000    1.0000         1\n",
      " education     1.0000    1.0000    1.0000         1\n",
      "        ID     1.0000    1.0000    1.0000         1\n",
      "\n",
      " micro avg     0.9346    0.9376    0.9361       625\n",
      " macro avg     0.9368    0.9376    0.9330       625\n",
      "\n",
      "\n",
      "epoch: 58 precision: 0.936827, recall: 0.937600, f1-score: 0.932988\n"
     ]
    },
    {
     "name": "stderr",
     "output_type": "stream",
     "text": [
      "2020-12-09 19:22:54,398 [INFO] kashgari - model saved to /content/drive/My Drive/AICUP2020/sample/kashgari/model/20201209_koi\n"
     ]
    },
    {
     "name": "stdout",
     "output_type": "stream",
     "text": [
      "\b\b\b\b\b\b\b\b\b\b\b\b\b\b\b\b\b\b\b\b\b\b\b\b\b\b\b\b\b\b\b\b\b\b\b\b\b\b\b\b\b\b\b\b\b\b\b\b\b\b\b\b\b\b\b\b\b\b\b\b\b\b\b\b\b\b\b\b\b\b\b\b\b\b\b\b\b\b\b\b\b\b\r",
      "83/83 [==============================] - 284s 3s/step - loss: 0.5561 - accuracy: 0.9991 - val_loss: 655.4949 - val_accuracy: 0.0133\n",
      "Epoch 60/80\n",
      "83/83 [==============================] - ETA: 0s - loss: 0.4765 - accuracy: 0.9992"
     ]
    },
    {
     "name": "stderr",
     "output_type": "stream",
     "text": [
      "2020-12-09 19:27:16,414 [DEBUG] kashgari - predict seq_length: None, input: (2, 154, 512)\n"
     ]
    },
    {
     "name": "stdout",
     "output_type": "stream",
     "text": [
      "10/10 [==============================] - 14s 1s/step\n"
     ]
    },
    {
     "name": "stderr",
     "output_type": "stream",
     "text": [
      "2020-12-09 19:27:32,489 [DEBUG] kashgari - predict output: (154, 512)\n",
      "2020-12-09 19:27:32,490 [DEBUG] kashgari - predict output argmax: [[0 1 1 ... 1 1 1]\n",
      " [0 1 1 ... 1 1 1]\n",
      " [0 1 1 ... 1 1 1]\n",
      " ...\n",
      " [0 1 1 ... 1 1 1]\n",
      " [0 1 1 ... 1 1 1]\n",
      " [0 1 1 ... 1 1 1]]\n",
      "2020-12-09 19:27:33,049 [INFO] kashgari - Successfully recorded this epoch into model/20201209_koi/history/history_1.csv\n",
      "2020-12-09 19:27:33,051 [INFO] kashgari - \n",
      "Epoch 00060: f1-score did not improve from 0.93299\n"
     ]
    },
    {
     "name": "stdout",
     "output_type": "stream",
     "text": [
      "\n",
      "            precision    recall  f1-score   support\n",
      "\n",
      "      name     0.8438    0.9310    0.8852        29\n",
      "      time     0.9159    0.9527    0.9340       423\n",
      "  med_exam     0.9589    0.9589    0.9589        73\n",
      "     money     0.9375    1.0000    0.9677        15\n",
      "  location     1.0000    0.8727    0.9320        55\n",
      "   contact     1.0000    0.4000    0.5714        15\n",
      "    family     0.9091    0.8333    0.8696        12\n",
      "profession     1.0000    1.0000    1.0000         1\n",
      " education     1.0000    1.0000    1.0000         1\n",
      "        ID     1.0000    1.0000    1.0000         1\n",
      "\n",
      " micro avg     0.9253    0.9312    0.9282       625\n",
      " macro avg     0.9278    0.9312    0.9256       625\n",
      "\n",
      "\n",
      "epoch: 59 precision: 0.927792, recall: 0.931200, f1-score: 0.925629\n",
      "\b\b\b\b\b\b\b\b\b\b\b\b\b\b\b\b\b\b\b\b\b\b\b\b\b\b\b\b\b\b\b\b\b\b\b\b\b\b\b\b\b\b\b\b\b\b\b\b\b\b\b\b\b\b\b\b\b\b\b\b\b\b\b\b\b\b\b\b\b\b\b\b\b\b\b\b\b\b\b\b\b\b\r",
      "83/83 [==============================] - 276s 3s/step - loss: 0.4765 - accuracy: 0.9992 - val_loss: 647.4980 - val_accuracy: 0.0130\n",
      "Epoch 61/80\n",
      "83/83 [==============================] - ETA: 0s - loss: 0.5878 - accuracy: 0.9990"
     ]
    },
    {
     "name": "stderr",
     "output_type": "stream",
     "text": [
      "2020-12-09 19:31:52,297 [DEBUG] kashgari - predict seq_length: None, input: (2, 154, 512)\n"
     ]
    },
    {
     "name": "stdout",
     "output_type": "stream",
     "text": [
      "10/10 [==============================] - 14s 1s/step\n"
     ]
    },
    {
     "name": "stderr",
     "output_type": "stream",
     "text": [
      "2020-12-09 19:32:08,351 [DEBUG] kashgari - predict output: (154, 512)\n",
      "2020-12-09 19:32:08,352 [DEBUG] kashgari - predict output argmax: [[0 1 1 ... 1 1 1]\n",
      " [0 1 1 ... 1 1 1]\n",
      " [0 1 1 ... 1 1 1]\n",
      " ...\n",
      " [0 1 1 ... 1 1 1]\n",
      " [0 1 1 ... 1 1 1]\n",
      " [0 1 1 ... 1 1 1]]\n",
      "2020-12-09 19:32:08,914 [INFO] kashgari - Successfully recorded this epoch into model/20201209_koi/history/history_1.csv\n",
      "2020-12-09 19:32:08,916 [INFO] kashgari - \n",
      "Epoch 00061: f1-score did not improve from 0.93299\n"
     ]
    },
    {
     "name": "stdout",
     "output_type": "stream",
     "text": [
      "\n",
      "            precision    recall  f1-score   support\n",
      "\n",
      "      name     0.8438    0.9310    0.8852        29\n",
      "      time     0.9176    0.9480    0.9326       423\n",
      "  med_exam     0.9722    0.9589    0.9655        73\n",
      "     money     0.9375    1.0000    0.9677        15\n",
      "  location     1.0000    0.8727    0.9320        55\n",
      "   contact     1.0000    0.4000    0.5714        15\n",
      "    family     0.9231    1.0000    0.9600        12\n",
      "profession     1.0000    1.0000    1.0000         1\n",
      " education     1.0000    1.0000    1.0000         1\n",
      "        ID     1.0000    1.0000    1.0000         1\n",
      "\n",
      " micro avg     0.9282    0.9312    0.9297       625\n",
      " macro avg     0.9308    0.9312    0.9272       625\n",
      "\n",
      "\n",
      "epoch: 60 precision: 0.930774, recall: 0.931200, f1-score: 0.927195\n",
      "\b\b\b\b\b\b\b\b\b\b\b\b\b\b\b\b\b\b\b\b\b\b\b\b\b\b\b\b\b\b\b\b\b\b\b\b\b\b\b\b\b\b\b\b\b\b\b\b\b\b\b\b\b\b\b\b\b\b\b\b\b\b\b\b\b\b\b\b\b\b\b\b\b\b\b\b\b\b\b\b\b\b\r",
      "83/83 [==============================] - 273s 3s/step - loss: 0.5878 - accuracy: 0.9990 - val_loss: 640.0461 - val_accuracy: 0.0137\n",
      "Epoch 62/80\n",
      "83/83 [==============================] - ETA: 0s - loss: 0.5251 - accuracy: 0.9991"
     ]
    },
    {
     "name": "stderr",
     "output_type": "stream",
     "text": [
      "2020-12-09 19:36:29,111 [DEBUG] kashgari - predict seq_length: None, input: (2, 154, 512)\n"
     ]
    },
    {
     "name": "stdout",
     "output_type": "stream",
     "text": [
      "10/10 [==============================] - 14s 1s/step\n"
     ]
    },
    {
     "name": "stderr",
     "output_type": "stream",
     "text": [
      "2020-12-09 19:36:45,176 [DEBUG] kashgari - predict output: (154, 512)\n",
      "2020-12-09 19:36:45,177 [DEBUG] kashgari - predict output argmax: [[0 1 1 ... 1 1 1]\n",
      " [0 1 1 ... 1 1 1]\n",
      " [0 1 1 ... 1 1 1]\n",
      " ...\n",
      " [0 1 1 ... 1 1 1]\n",
      " [0 1 1 ... 1 1 1]\n",
      " [0 1 1 ... 1 1 1]]\n",
      "2020-12-09 19:36:45,739 [INFO] kashgari - Successfully recorded this epoch into model/20201209_koi/history/history_1.csv\n",
      "2020-12-09 19:36:45,741 [INFO] kashgari - \n",
      "Epoch 00062: f1-score did not improve from 0.93299\n"
     ]
    },
    {
     "name": "stdout",
     "output_type": "stream",
     "text": [
      "\n",
      "            precision    recall  f1-score   support\n",
      "\n",
      "      name     0.8182    0.9310    0.8710        29\n",
      "      time     0.9170    0.9669    0.9413       423\n",
      "  med_exam     0.9583    0.9452    0.9517        73\n",
      "     money     1.0000    1.0000    1.0000        15\n",
      "  location     1.0000    0.8727    0.9320        55\n",
      "   contact     1.0000    0.4000    0.5714        15\n",
      "    family     1.0000    0.7500    0.8571        12\n",
      "profession     1.0000    1.0000    1.0000         1\n",
      " education     1.0000    1.0000    1.0000         1\n",
      "        ID     1.0000    1.0000    1.0000         1\n",
      "\n",
      " micro avg     0.9272    0.9376    0.9324       625\n",
      " macro avg     0.9305    0.9376    0.9296       625\n",
      "\n",
      "\n",
      "epoch: 61 precision: 0.930550, recall: 0.937600, f1-score: 0.929645\n",
      "\b\b\b\b\b\b\b\b\b\b\b\b\b\b\b\b\b\b\b\b\b\b\b\b\b\b\b\b\b\b\b\b\b\b\b\b\b\b\b\b\b\b\b\b\b\b\b\b\b\b\b\b\b\b\b\b\b\b\b\b\b\b\b\b\b\b\b\b\b\b\b\b\b\b\b\b\b\b\b\b\b\b\r",
      "83/83 [==============================] - 274s 3s/step - loss: 0.5251 - accuracy: 0.9991 - val_loss: 633.8552 - val_accuracy: 0.0137\n",
      "Epoch 63/80\n",
      "83/83 [==============================] - ETA: 0s - loss: 0.5188 - accuracy: 0.9991"
     ]
    },
    {
     "name": "stderr",
     "output_type": "stream",
     "text": [
      "2020-12-09 19:41:05,410 [DEBUG] kashgari - predict seq_length: None, input: (2, 154, 512)\n"
     ]
    },
    {
     "name": "stdout",
     "output_type": "stream",
     "text": [
      "10/10 [==============================] - 14s 1s/step\n"
     ]
    },
    {
     "name": "stderr",
     "output_type": "stream",
     "text": [
      "2020-12-09 19:41:21,487 [DEBUG] kashgari - predict output: (154, 512)\n",
      "2020-12-09 19:41:21,489 [DEBUG] kashgari - predict output argmax: [[0 1 1 ... 1 1 1]\n",
      " [0 1 1 ... 1 1 1]\n",
      " [0 1 1 ... 1 1 1]\n",
      " ...\n",
      " [0 1 1 ... 1 1 1]\n",
      " [0 1 1 ... 1 1 1]\n",
      " [0 1 1 ... 1 1 1]]\n",
      "2020-12-09 19:41:22,057 [INFO] kashgari - Successfully recorded this epoch into model/20201209_koi/history/history_1.csv\n",
      "2020-12-09 19:41:22,058 [INFO] kashgari - \n",
      "Epoch 00063: f1-score did not improve from 0.93299\n"
     ]
    },
    {
     "name": "stdout",
     "output_type": "stream",
     "text": [
      "\n",
      "            precision    recall  f1-score   support\n",
      "\n",
      "      name     0.8438    0.9310    0.8852        29\n",
      "      time     0.9261    0.9480    0.9369       423\n",
      "  med_exam     0.9726    0.9726    0.9726        73\n",
      "     money     1.0000    1.0000    1.0000        15\n",
      "  location     1.0000    0.8727    0.9320        55\n",
      "   contact     1.0000    0.5333    0.6957        15\n",
      "    family     0.9000    0.7500    0.8182        12\n",
      "profession     1.0000    1.0000    1.0000         1\n",
      " education     1.0000    1.0000    1.0000         1\n",
      "        ID     1.0000    1.0000    1.0000         1\n",
      "\n",
      " micro avg     0.9357    0.9312    0.9334       625\n",
      " macro avg     0.9376    0.9312    0.9320       625\n",
      "\n",
      "\n",
      "epoch: 62 precision: 0.937612, recall: 0.931200, f1-score: 0.932004\n",
      "\b\b\b\b\b\b\b\b\b\b\b\b\b\b\b\b\b\b\b\b\b\b\b\b\b\b\b\b\b\b\b\b\b\b\b\b\b\b\b\b\b\b\b\b\b\b\b\b\b\b\b\b\b\b\b\b\b\b\b\b\b\b\b\b\b\b\b\b\b\b\b\b\b\b\b\b\b\b\b\b\b\b\r",
      "83/83 [==============================] - 273s 3s/step - loss: 0.5188 - accuracy: 0.9991 - val_loss: 635.8302 - val_accuracy: 0.0131\n",
      "Epoch 64/80\n",
      "83/83 [==============================] - ETA: 0s - loss: 0.5245 - accuracy: 0.9991"
     ]
    },
    {
     "name": "stderr",
     "output_type": "stream",
     "text": [
      "2020-12-09 19:45:40,477 [DEBUG] kashgari - predict seq_length: None, input: (2, 154, 512)\n"
     ]
    },
    {
     "name": "stdout",
     "output_type": "stream",
     "text": [
      "10/10 [==============================] - 14s 1s/step\n"
     ]
    },
    {
     "name": "stderr",
     "output_type": "stream",
     "text": [
      "2020-12-09 19:45:56,438 [DEBUG] kashgari - predict output: (154, 512)\n",
      "2020-12-09 19:45:56,439 [DEBUG] kashgari - predict output argmax: [[0 1 1 ... 1 1 1]\n",
      " [0 1 1 ... 1 1 1]\n",
      " [0 1 1 ... 1 1 1]\n",
      " ...\n",
      " [0 1 1 ... 1 1 1]\n",
      " [0 1 1 ... 1 1 1]\n",
      " [0 1 1 ... 1 1 1]]\n",
      "2020-12-09 19:45:57,003 [INFO] kashgari - Successfully recorded this epoch into model/20201209_koi/history/history_1.csv\n",
      "2020-12-09 19:45:57,004 [INFO] kashgari - \n",
      "Epoch 00064: f1-score did not improve from 0.93299\n"
     ]
    },
    {
     "name": "stdout",
     "output_type": "stream",
     "text": [
      "\n",
      "            precision    recall  f1-score   support\n",
      "\n",
      "      name     0.7941    0.9310    0.8571        29\n",
      "      time     0.9208    0.9622    0.9410       423\n",
      "  med_exam     0.9211    0.9589    0.9396        73\n",
      "     money     0.9375    1.0000    0.9677        15\n",
      "  location     1.0000    0.8545    0.9216        55\n",
      "   contact     1.0000    0.4000    0.5714        15\n",
      "    family     1.0000    0.6667    0.8000        12\n",
      "profession     1.0000    1.0000    1.0000         1\n",
      " education     1.0000    1.0000    1.0000         1\n",
      "        ID     1.0000    1.0000    1.0000         1\n",
      "\n",
      " micro avg     0.9225    0.9328    0.9276       625\n",
      " macro avg     0.9261    0.9328    0.9246       625\n",
      "\n",
      "\n",
      "epoch: 63 precision: 0.926133, recall: 0.932800, f1-score: 0.924611\n",
      "\b\b\b\b\b\b\b\b\b\b\b\b\b\b\b\b\b\b\b\b\b\b\b\b\b\b\b\b\b\b\b\b\b\b\b\b\b\b\b\b\b\b\b\b\b\b\b\b\b\b\b\b\b\b\b\b\b\b\b\b\b\b\b\b\b\b\b\b\b\b\b\b\b\b\b\b\b\b\b\b\b\b\r",
      "83/83 [==============================] - 272s 3s/step - loss: 0.5245 - accuracy: 0.9991 - val_loss: 641.6994 - val_accuracy: 0.0137\n",
      "Epoch 65/80\n",
      "83/83 [==============================] - ETA: 0s - loss: 0.4831 - accuracy: 0.9992"
     ]
    },
    {
     "name": "stderr",
     "output_type": "stream",
     "text": [
      "2020-12-09 19:50:15,855 [DEBUG] kashgari - predict seq_length: None, input: (2, 154, 512)\n"
     ]
    },
    {
     "name": "stdout",
     "output_type": "stream",
     "text": [
      "10/10 [==============================] - 14s 1s/step\n"
     ]
    },
    {
     "name": "stderr",
     "output_type": "stream",
     "text": [
      "2020-12-09 19:50:31,770 [DEBUG] kashgari - predict output: (154, 512)\n",
      "2020-12-09 19:50:31,771 [DEBUG] kashgari - predict output argmax: [[0 1 1 ... 1 1 1]\n",
      " [0 1 1 ... 1 1 1]\n",
      " [0 1 1 ... 1 1 1]\n",
      " ...\n",
      " [0 1 1 ... 1 1 1]\n",
      " [0 1 1 ... 1 1 1]\n",
      " [0 1 1 ... 1 1 1]]\n",
      "2020-12-09 19:50:32,342 [INFO] kashgari - Successfully recorded this epoch into model/20201209_koi/history/history_1.csv\n",
      "2020-12-09 19:50:32,343 [INFO] kashgari - \n",
      "Epoch 00065: f1-score did not improve from 0.93299\n"
     ]
    },
    {
     "name": "stdout",
     "output_type": "stream",
     "text": [
      "\n",
      "            precision    recall  f1-score   support\n",
      "\n",
      "      name     0.8438    0.9310    0.8852        29\n",
      "      time     0.9047    0.9645    0.9336       423\n",
      "  med_exam     0.9211    0.9589    0.9396        73\n",
      "     money     0.9375    1.0000    0.9677        15\n",
      "  location     1.0000    0.8727    0.9320        55\n",
      "   contact     1.0000    0.4667    0.6364        15\n",
      "    family     1.0000    0.6667    0.8000        12\n",
      "profession     1.0000    1.0000    1.0000         1\n",
      " education     1.0000    1.0000    1.0000         1\n",
      "        ID     1.0000    1.0000    1.0000         1\n",
      "\n",
      " micro avg     0.9142    0.9376    0.9258       625\n",
      " macro avg     0.9175    0.9376    0.9234       625\n",
      "\n",
      "\n",
      "epoch: 64 precision: 0.917500, recall: 0.937600, f1-score: 0.923385\n",
      "\b\b\b\b\b\b\b\b\b\b\b\b\b\b\b\b\b\b\b\b\b\b\b\b\b\b\b\b\b\b\b\b\b\b\b\b\b\b\b\b\b\b\b\b\b\b\b\b\b\b\b\b\b\b\b\b\b\b\b\b\b\b\b\b\b\b\b\b\b\b\b\b\b\b\b\b\b\b\b\b\b\b\r",
      "83/83 [==============================] - 272s 3s/step - loss: 0.4831 - accuracy: 0.9992 - val_loss: 625.9309 - val_accuracy: 0.0141\n",
      "Epoch 66/80\n",
      "83/83 [==============================] - ETA: 0s - loss: 0.5980 - accuracy: 0.9989"
     ]
    },
    {
     "name": "stderr",
     "output_type": "stream",
     "text": [
      "2020-12-09 19:54:50,908 [DEBUG] kashgari - predict seq_length: None, input: (2, 154, 512)\n"
     ]
    },
    {
     "name": "stdout",
     "output_type": "stream",
     "text": [
      "10/10 [==============================] - 14s 1s/step\n"
     ]
    },
    {
     "name": "stderr",
     "output_type": "stream",
     "text": [
      "2020-12-09 19:55:06,938 [DEBUG] kashgari - predict output: (154, 512)\n",
      "2020-12-09 19:55:06,939 [DEBUG] kashgari - predict output argmax: [[0 1 1 ... 1 1 1]\n",
      " [0 1 1 ... 1 1 1]\n",
      " [0 1 1 ... 1 1 1]\n",
      " ...\n",
      " [0 1 1 ... 1 1 1]\n",
      " [0 1 1 ... 1 1 1]\n",
      " [0 1 1 ... 1 1 1]]\n",
      "2020-12-09 19:55:07,499 [INFO] kashgari - Successfully recorded this epoch into model/20201209_koi/history/history_1.csv\n",
      "2020-12-09 19:55:07,500 [INFO] kashgari - \n",
      "Epoch 00066: f1-score did not improve from 0.93299\n"
     ]
    },
    {
     "name": "stdout",
     "output_type": "stream",
     "text": [
      "\n",
      "            precision    recall  f1-score   support\n",
      "\n",
      "      name     0.8438    0.9310    0.8852        29\n",
      "      time     0.9203    0.9551    0.9374       423\n",
      "  med_exam     0.9459    0.9589    0.9524        73\n",
      "     money     0.9375    1.0000    0.9677        15\n",
      "  location     1.0000    0.8727    0.9320        55\n",
      "   contact     1.0000    0.4667    0.6364        15\n",
      "    family     0.8889    0.6667    0.7619        12\n",
      "profession     1.0000    1.0000    1.0000         1\n",
      " education     1.0000    1.0000    1.0000         1\n",
      "        ID     1.0000    1.0000    1.0000         1\n",
      "\n",
      " micro avg     0.9268    0.9312    0.9290       625\n",
      " macro avg     0.9288    0.9312    0.9267       625\n",
      "\n",
      "\n",
      "epoch: 65 precision: 0.928844, recall: 0.931200, f1-score: 0.926662\n",
      "\b\b\b\b\b\b\b\b\b\b\b\b\b\b\b\b\b\b\b\b\b\b\b\b\b\b\b\b\b\b\b\b\b\b\b\b\b\b\b\b\b\b\b\b\b\b\b\b\b\b\b\b\b\b\b\b\b\b\b\b\b\b\b\b\b\b\b\b\b\b\b\b\b\b\b\b\b\b\b\b\b\b\r",
      "83/83 [==============================] - 272s 3s/step - loss: 0.5980 - accuracy: 0.9989 - val_loss: 639.5070 - val_accuracy: 0.0140\n",
      "Epoch 67/80\n",
      "83/83 [==============================] - ETA: 0s - loss: 0.5218 - accuracy: 0.9991"
     ]
    },
    {
     "name": "stderr",
     "output_type": "stream",
     "text": [
      "2020-12-09 19:59:27,056 [DEBUG] kashgari - predict seq_length: None, input: (2, 154, 512)\n"
     ]
    },
    {
     "name": "stdout",
     "output_type": "stream",
     "text": [
      "10/10 [==============================] - 14s 1s/step\n"
     ]
    },
    {
     "name": "stderr",
     "output_type": "stream",
     "text": [
      "2020-12-09 19:59:43,096 [DEBUG] kashgari - predict output: (154, 512)\n",
      "2020-12-09 19:59:43,097 [DEBUG] kashgari - predict output argmax: [[0 1 1 ... 1 1 1]\n",
      " [0 1 1 ... 1 1 1]\n",
      " [0 1 1 ... 1 1 1]\n",
      " ...\n",
      " [0 1 1 ... 1 1 1]\n",
      " [0 1 1 ... 1 1 1]\n",
      " [0 1 1 ... 1 1 1]]\n",
      "2020-12-09 19:59:43,658 [INFO] kashgari - Successfully recorded this epoch into model/20201209_koi/history/history_1.csv\n",
      "2020-12-09 19:59:43,660 [INFO] kashgari - \n",
      "Epoch 00067: f1-score did not improve from 0.93299\n"
     ]
    },
    {
     "name": "stdout",
     "output_type": "stream",
     "text": [
      "\n",
      "            precision    recall  f1-score   support\n",
      "\n",
      "      name     0.8182    0.9310    0.8710        29\n",
      "      time     0.8681    0.9645    0.9138       423\n",
      "  med_exam     0.9589    0.9589    0.9589        73\n",
      "     money     0.9375    1.0000    0.9677        15\n",
      "  location     1.0000    0.8727    0.9320        55\n",
      "   contact     1.0000    0.4667    0.6364        15\n",
      "    family     0.8889    0.6667    0.7619        12\n",
      "profession     1.0000    1.0000    1.0000         1\n",
      " education     1.0000    1.0000    1.0000         1\n",
      "        ID     1.0000    1.0000    1.0000         1\n",
      "\n",
      " micro avg     0.8892    0.9376    0.9128       625\n",
      " macro avg     0.8939    0.9376    0.9108       625\n",
      "\n",
      "\n",
      "epoch: 66 precision: 0.893850, recall: 0.937600, f1-score: 0.910802\n",
      "\b\b\b\b\b\b\b\b\b\b\b\b\b\b\b\b\b\b\b\b\b\b\b\b\b\b\b\b\b\b\b\b\b\b\b\b\b\b\b\b\b\b\b\b\b\b\b\b\b\b\b\b\b\b\b\b\b\b\b\b\b\b\b\b\b\b\b\b\b\b\b\b\b\b\b\b\b\b\b\b\b\b\r",
      "83/83 [==============================] - 273s 3s/step - loss: 0.5218 - accuracy: 0.9991 - val_loss: 623.5397 - val_accuracy: 0.0137\n",
      "Epoch 68/80\n",
      "83/83 [==============================] - ETA: 0s - loss: 0.5179 - accuracy: 0.9991"
     ]
    },
    {
     "name": "stderr",
     "output_type": "stream",
     "text": [
      "2020-12-09 20:04:02,324 [DEBUG] kashgari - predict seq_length: None, input: (2, 154, 512)\n"
     ]
    },
    {
     "name": "stdout",
     "output_type": "stream",
     "text": [
      "10/10 [==============================] - 14s 1s/step\n"
     ]
    },
    {
     "name": "stderr",
     "output_type": "stream",
     "text": [
      "2020-12-09 20:04:18,336 [DEBUG] kashgari - predict output: (154, 512)\n",
      "2020-12-09 20:04:18,337 [DEBUG] kashgari - predict output argmax: [[0 1 1 ... 1 1 1]\n",
      " [0 1 1 ... 1 1 1]\n",
      " [0 1 1 ... 1 1 1]\n",
      " ...\n",
      " [0 1 1 ... 1 1 1]\n",
      " [0 1 1 ... 1 1 1]\n",
      " [0 1 1 ... 1 1 1]]\n",
      "2020-12-09 20:04:18,904 [INFO] kashgari - Successfully recorded this epoch into model/20201209_koi/history/history_1.csv\n",
      "2020-12-09 20:04:18,906 [INFO] kashgari - \n",
      "Epoch 00068: f1-score did not improve from 0.93299\n"
     ]
    },
    {
     "name": "stdout",
     "output_type": "stream",
     "text": [
      "\n",
      "            precision    recall  f1-score   support\n",
      "\n",
      "      name     0.8387    0.8966    0.8667        29\n",
      "      time     0.9264    0.9527    0.9394       423\n",
      "  med_exam     0.9718    0.9452    0.9583        73\n",
      "     money     0.9375    1.0000    0.9677        15\n",
      "  location     1.0000    0.8727    0.9320        55\n",
      "   contact     1.0000    0.4000    0.5714        15\n",
      "    family     0.9167    0.9167    0.9167        12\n",
      "profession     1.0000    1.0000    1.0000         1\n",
      " education     1.0000    1.0000    1.0000         1\n",
      "        ID     1.0000    1.0000    1.0000         1\n",
      "\n",
      " micro avg     0.9341    0.9296    0.9318       625\n",
      " macro avg     0.9363    0.9296    0.9293       625\n",
      "\n",
      "\n",
      "epoch: 67 precision: 0.936338, recall: 0.929600, f1-score: 0.929288\n",
      "\b\b\b\b\b\b\b\b\b\b\b\b\b\b\b\b\b\b\b\b\b\b\b\b\b\b\b\b\b\b\b\b\b\b\b\b\b\b\b\b\b\b\b\b\b\b\b\b\b\b\b\b\b\b\b\b\b\b\b\b\b\b\b\b\b\b\b\b\b\b\b\b\b\b\b\b\b\b\b\b\b\b\r",
      "83/83 [==============================] - 272s 3s/step - loss: 0.5179 - accuracy: 0.9991 - val_loss: 625.5803 - val_accuracy: 0.0140\n",
      "Epoch 69/80\n",
      "83/83 [==============================] - ETA: 0s - loss: 0.4446 - accuracy: 0.9992"
     ]
    },
    {
     "name": "stderr",
     "output_type": "stream",
     "text": [
      "2020-12-09 20:08:38,329 [DEBUG] kashgari - predict seq_length: None, input: (2, 154, 512)\n"
     ]
    },
    {
     "name": "stdout",
     "output_type": "stream",
     "text": [
      "10/10 [==============================] - 14s 1s/step\n"
     ]
    },
    {
     "name": "stderr",
     "output_type": "stream",
     "text": [
      "2020-12-09 20:08:54,376 [DEBUG] kashgari - predict output: (154, 512)\n",
      "2020-12-09 20:08:54,377 [DEBUG] kashgari - predict output argmax: [[0 1 1 ... 1 1 1]\n",
      " [0 1 1 ... 1 1 1]\n",
      " [0 1 1 ... 1 1 1]\n",
      " ...\n",
      " [0 1 1 ... 1 1 1]\n",
      " [0 1 1 ... 1 1 1]\n",
      " [0 1 1 ... 1 1 1]]\n",
      "2020-12-09 20:08:54,957 [INFO] kashgari - Successfully recorded this epoch into model/20201209_koi/history/history_1.csv\n",
      "2020-12-09 20:08:54,959 [INFO] kashgari - \n",
      "Epoch 00069: f1-score did not improve from 0.93299\n"
     ]
    },
    {
     "name": "stdout",
     "output_type": "stream",
     "text": [
      "\n",
      "            precision    recall  f1-score   support\n",
      "\n",
      "      name     0.8438    0.9310    0.8852        29\n",
      "      time     0.9049    0.9669    0.9349       423\n",
      "  med_exam     0.9583    0.9452    0.9517        73\n",
      "     money     0.9375    1.0000    0.9677        15\n",
      "  location     1.0000    0.8727    0.9320        55\n",
      "   contact     1.0000    0.4000    0.5714        15\n",
      "    family     0.9000    0.7500    0.8182        12\n",
      "profession     1.0000    1.0000    1.0000         1\n",
      " education     1.0000    1.0000    1.0000         1\n",
      "        ID     1.0000    1.0000    1.0000         1\n",
      "\n",
      " micro avg     0.9171    0.9376    0.9272       625\n",
      " macro avg     0.9201    0.9376    0.9244       625\n",
      "\n",
      "\n",
      "epoch: 68 precision: 0.920077, recall: 0.937600, f1-score: 0.924417\n",
      "\b\b\b\b\b\b\b\b\b\b\b\b\b\b\b\b\b\b\b\b\b\b\b\b\b\b\b\b\b\b\b\b\b\b\b\b\b\b\b\b\b\b\b\b\b\b\b\b\b\b\b\b\b\b\b\b\b\b\b\b\b\b\b\b\b\b\b\b\b\b\b\b\b\b\b\b\b\b\b\b\b\b\r",
      "83/83 [==============================] - 273s 3s/step - loss: 0.4446 - accuracy: 0.9992 - val_loss: 618.4093 - val_accuracy: 0.0130\n",
      "Epoch 70/80\n",
      "83/83 [==============================] - ETA: 0s - loss: 0.4935 - accuracy: 0.9992"
     ]
    },
    {
     "name": "stderr",
     "output_type": "stream",
     "text": [
      "2020-12-09 20:13:13,240 [DEBUG] kashgari - predict seq_length: None, input: (2, 154, 512)\n"
     ]
    },
    {
     "name": "stdout",
     "output_type": "stream",
     "text": [
      "10/10 [==============================] - 14s 1s/step\n"
     ]
    },
    {
     "name": "stderr",
     "output_type": "stream",
     "text": [
      "2020-12-09 20:13:29,203 [DEBUG] kashgari - predict output: (154, 512)\n",
      "2020-12-09 20:13:29,204 [DEBUG] kashgari - predict output argmax: [[0 1 1 ... 1 1 1]\n",
      " [0 1 1 ... 1 1 1]\n",
      " [0 1 1 ... 1 1 1]\n",
      " ...\n",
      " [0 1 1 ... 1 1 1]\n",
      " [0 1 1 ... 1 1 1]\n",
      " [0 1 1 ... 1 1 1]]\n",
      "2020-12-09 20:13:29,757 [INFO] kashgari - Successfully recorded this epoch into model/20201209_koi/history/history_1.csv\n",
      "2020-12-09 20:13:29,759 [INFO] kashgari - \n",
      "Epoch 00070: f1-score did not improve from 0.93299\n"
     ]
    },
    {
     "name": "stdout",
     "output_type": "stream",
     "text": [
      "\n",
      "            precision    recall  f1-score   support\n",
      "\n",
      "      name     0.8182    0.9310    0.8710        29\n",
      "      time     0.9124    0.9598    0.9355       423\n",
      "  med_exam     0.9189    0.9315    0.9252        73\n",
      "     money     0.9375    1.0000    0.9677        15\n",
      "  location     1.0000    0.8727    0.9320        55\n",
      "   contact     1.0000    0.4667    0.6364        15\n",
      "    family     0.9000    0.7500    0.8182        12\n",
      "profession     1.0000    1.0000    1.0000         1\n",
      " education     1.0000    1.0000    1.0000         1\n",
      "        ID     1.0000    1.0000    1.0000         1\n",
      "\n",
      " micro avg     0.9167    0.9328    0.9247       625\n",
      " macro avg     0.9194    0.9328    0.9226       625\n",
      "\n",
      "\n",
      "epoch: 69 precision: 0.919358, recall: 0.932800, f1-score: 0.922635\n",
      "\b\b\b\b\b\b\b\b\b\b\b\b\b\b\b\b\b\b\b\b\b\b\b\b\b\b\b\b\b\b\b\b\b\b\b\b\b\b\b\b\b\b\b\b\b\b\b\b\b\b\b\b\b\b\b\b\b\b\b\b\b\b\b\b\b\b\b\b\b\b\b\b\b\b\b\b\b\b\b\b\b\b\r",
      "83/83 [==============================] - 272s 3s/step - loss: 0.4935 - accuracy: 0.9992 - val_loss: 613.8647 - val_accuracy: 0.0141\n",
      "Epoch 71/80\n",
      "83/83 [==============================] - ETA: 0s - loss: 0.4741 - accuracy: 0.9992"
     ]
    },
    {
     "name": "stderr",
     "output_type": "stream",
     "text": [
      "2020-12-09 20:17:49,098 [DEBUG] kashgari - predict seq_length: None, input: (2, 154, 512)\n"
     ]
    },
    {
     "name": "stdout",
     "output_type": "stream",
     "text": [
      "10/10 [==============================] - 14s 1s/step\n"
     ]
    },
    {
     "name": "stderr",
     "output_type": "stream",
     "text": [
      "2020-12-09 20:18:05,142 [DEBUG] kashgari - predict output: (154, 512)\n",
      "2020-12-09 20:18:05,143 [DEBUG] kashgari - predict output argmax: [[0 1 1 ... 1 1 1]\n",
      " [0 1 1 ... 1 1 1]\n",
      " [0 1 1 ... 1 1 1]\n",
      " ...\n",
      " [0 1 1 ... 1 1 1]\n",
      " [0 1 1 ... 1 1 1]\n",
      " [0 1 1 ... 1 1 1]]\n",
      "2020-12-09 20:18:05,700 [INFO] kashgari - Successfully recorded this epoch into model/20201209_koi/history/history_1.csv\n",
      "2020-12-09 20:18:05,701 [INFO] kashgari - \n",
      "Epoch 00071: f1-score did not improve from 0.93299\n"
     ]
    },
    {
     "name": "stdout",
     "output_type": "stream",
     "text": [
      "\n",
      "            precision    recall  f1-score   support\n",
      "\n",
      "      name     0.8438    0.9310    0.8852        29\n",
      "      time     0.9191    0.9669    0.9424       423\n",
      "  med_exam     0.9722    0.9589    0.9655        73\n",
      "     money     0.9375    1.0000    0.9677        15\n",
      "  location     1.0000    0.8727    0.9320        55\n",
      "   contact     1.0000    0.4000    0.5714        15\n",
      "    family     1.0000    0.6667    0.8000        12\n",
      "profession     1.0000    1.0000    1.0000         1\n",
      " education     1.0000    1.0000    1.0000         1\n",
      "        ID     1.0000    1.0000    1.0000         1\n",
      "\n",
      " micro avg     0.9302    0.9376    0.9339       625\n",
      " macro avg     0.9333    0.9376    0.9308       625\n",
      "\n",
      "\n",
      "epoch: 70 precision: 0.933253, recall: 0.937600, f1-score: 0.930781\n",
      "\b\b\b\b\b\b\b\b\b\b\b\b\b\b\b\b\b\b\b\b\b\b\b\b\b\b\b\b\b\b\b\b\b\b\b\b\b\b\b\b\b\b\b\b\b\b\b\b\b\b\b\b\b\b\b\b\b\b\b\b\b\b\b\b\b\b\b\b\b\b\b\b\b\b\b\b\b\b\b\b\b\b\r",
      "83/83 [==============================] - 273s 3s/step - loss: 0.4741 - accuracy: 0.9992 - val_loss: 618.9670 - val_accuracy: 0.0141\n",
      "Epoch 72/80\n",
      "83/83 [==============================] - ETA: 0s - loss: 0.7572 - accuracy: 0.9987"
     ]
    },
    {
     "name": "stderr",
     "output_type": "stream",
     "text": [
      "2020-12-09 20:22:24,309 [DEBUG] kashgari - predict seq_length: None, input: (2, 154, 512)\n"
     ]
    },
    {
     "name": "stdout",
     "output_type": "stream",
     "text": [
      "10/10 [==============================] - 14s 1s/step\n"
     ]
    },
    {
     "name": "stderr",
     "output_type": "stream",
     "text": [
      "2020-12-09 20:22:40,332 [DEBUG] kashgari - predict output: (154, 512)\n",
      "2020-12-09 20:22:40,333 [DEBUG] kashgari - predict output argmax: [[0 1 1 ... 1 1 1]\n",
      " [0 1 1 ... 1 1 1]\n",
      " [0 1 1 ... 1 1 1]\n",
      " ...\n",
      " [0 1 1 ... 1 1 1]\n",
      " [0 1 1 ... 1 1 1]\n",
      " [0 1 1 ... 1 1 1]]\n",
      "2020-12-09 20:22:40,889 [INFO] kashgari - Successfully recorded this epoch into model/20201209_koi/history/history_1.csv\n",
      "2020-12-09 20:22:40,891 [INFO] kashgari - \n",
      "Epoch 00072: f1-score did not improve from 0.93299\n"
     ]
    },
    {
     "name": "stdout",
     "output_type": "stream",
     "text": [
      "\n",
      "            precision    recall  f1-score   support\n",
      "\n",
      "      name     0.8182    0.9310    0.8710        29\n",
      "      time     0.9241    0.9504    0.9371       423\n",
      "  med_exam     0.9452    0.9452    0.9452        73\n",
      "     money     0.9375    1.0000    0.9677        15\n",
      "  location     0.9796    0.8727    0.9231        55\n",
      "   contact     1.0000    0.4000    0.5714        15\n",
      "    family     0.9231    1.0000    0.9600        12\n",
      "profession     1.0000    1.0000    1.0000         1\n",
      " education     1.0000    1.0000    1.0000         1\n",
      "        ID     1.0000    1.0000    1.0000         1\n",
      "\n",
      " micro avg     0.9268    0.9312    0.9290       625\n",
      " macro avg     0.9290    0.9312    0.9264       625\n",
      "\n",
      "\n",
      "epoch: 71 precision: 0.929047, recall: 0.931200, f1-score: 0.926420\n",
      "\b\b\b\b\b\b\b\b\b\b\b\b\b\b\b\b\b\b\b\b\b\b\b\b\b\b\b\b\b\b\b\b\b\b\b\b\b\b\b\b\b\b\b\b\b\b\b\b\b\b\b\b\b\b\b\b\b\b\b\b\b\b\b\b\b\b\b\b\b\b\b\b\b\b\b\b\b\b\b\b\b\b\r",
      "83/83 [==============================] - 272s 3s/step - loss: 0.7572 - accuracy: 0.9987 - val_loss: 607.2665 - val_accuracy: 0.0141\n",
      "Epoch 73/80\n",
      "83/83 [==============================] - ETA: 0s - loss: 0.5639 - accuracy: 0.9991"
     ]
    },
    {
     "name": "stderr",
     "output_type": "stream",
     "text": [
      "2020-12-09 20:26:59,474 [DEBUG] kashgari - predict seq_length: None, input: (2, 154, 512)\n"
     ]
    },
    {
     "name": "stdout",
     "output_type": "stream",
     "text": [
      "10/10 [==============================] - 14s 1s/step\n"
     ]
    },
    {
     "name": "stderr",
     "output_type": "stream",
     "text": [
      "2020-12-09 20:27:15,483 [DEBUG] kashgari - predict output: (154, 512)\n",
      "2020-12-09 20:27:15,485 [DEBUG] kashgari - predict output argmax: [[0 1 1 ... 1 1 1]\n",
      " [0 1 1 ... 1 1 1]\n",
      " [0 1 1 ... 1 1 1]\n",
      " ...\n",
      " [0 1 1 ... 1 1 1]\n",
      " [0 1 1 ... 1 1 1]\n",
      " [0 1 1 ... 1 1 1]]\n",
      "2020-12-09 20:27:16,034 [INFO] kashgari - Successfully recorded this epoch into model/20201209_koi/history/history_1.csv\n",
      "2020-12-09 20:27:16,035 [INFO] kashgari - \n",
      "Epoch 00073: f1-score did not improve from 0.93299\n"
     ]
    },
    {
     "name": "stdout",
     "output_type": "stream",
     "text": [
      "\n",
      "            precision    recall  f1-score   support\n",
      "\n",
      "      name     0.8182    0.9310    0.8710        29\n",
      "      time     0.9187    0.9622    0.9400       423\n",
      "  med_exam     0.9718    0.9452    0.9583        73\n",
      "     money     0.9375    1.0000    0.9677        15\n",
      "  location     1.0000    0.8727    0.9320        55\n",
      "   contact     1.0000    0.4000    0.5714        15\n",
      "    family     0.9000    0.7500    0.8182        12\n",
      "profession     1.0000    1.0000    1.0000         1\n",
      " education     1.0000    1.0000    1.0000         1\n",
      "        ID     1.0000    1.0000    1.0000         1\n",
      "\n",
      " micro avg     0.9270    0.9344    0.9307       625\n",
      " macro avg     0.9299    0.9344    0.9280       625\n",
      "\n",
      "\n",
      "epoch: 72 precision: 0.929854, recall: 0.934400, f1-score: 0.927976\n",
      "\b\b\b\b\b\b\b\b\b\b\b\b\b\b\b\b\b\b\b\b\b\b\b\b\b\b\b\b\b\b\b\b\b\b\b\b\b\b\b\b\b\b\b\b\b\b\b\b\b\b\b\b\b\b\b\b\b\b\b\b\b\b\b\b\b\b\b\b\b\b\b\b\b\b\b\b\b\b\b\b\b\b\r",
      "83/83 [==============================] - 272s 3s/step - loss: 0.5639 - accuracy: 0.9991 - val_loss: 609.6511 - val_accuracy: 0.0138\n",
      "Epoch 74/80\n",
      "83/83 [==============================] - ETA: 0s - loss: 0.5297 - accuracy: 0.9991"
     ]
    },
    {
     "name": "stderr",
     "output_type": "stream",
     "text": [
      "2020-12-09 20:31:33,775 [DEBUG] kashgari - predict seq_length: None, input: (2, 154, 512)\n"
     ]
    },
    {
     "name": "stdout",
     "output_type": "stream",
     "text": [
      "10/10 [==============================] - 14s 1s/step\n"
     ]
    },
    {
     "name": "stderr",
     "output_type": "stream",
     "text": [
      "2020-12-09 20:31:49,700 [DEBUG] kashgari - predict output: (154, 512)\n",
      "2020-12-09 20:31:49,701 [DEBUG] kashgari - predict output argmax: [[0 1 1 ... 1 1 1]\n",
      " [0 1 1 ... 1 1 1]\n",
      " [0 1 1 ... 1 1 1]\n",
      " ...\n",
      " [0 1 1 ... 1 1 1]\n",
      " [0 1 1 ... 1 1 1]\n",
      " [0 1 1 ... 1 1 1]]\n",
      "2020-12-09 20:31:50,259 [INFO] kashgari - Successfully recorded this epoch into model/20201209_koi/history/history_1.csv\n",
      "2020-12-09 20:31:50,260 [INFO] kashgari - \n",
      "Epoch 00074: f1-score did not improve from 0.93299\n"
     ]
    },
    {
     "name": "stdout",
     "output_type": "stream",
     "text": [
      "\n",
      "            precision    recall  f1-score   support\n",
      "\n",
      "      name     0.8387    0.8966    0.8667        29\n",
      "      time     0.9174    0.9716    0.9437       423\n",
      "  med_exam     0.9595    0.9726    0.9660        73\n",
      "     money     1.0000    1.0000    1.0000        15\n",
      "  location     1.0000    0.8545    0.9216        55\n",
      "   contact     1.0000    0.4000    0.5714        15\n",
      "    family     0.9167    0.9167    0.9167        12\n",
      "profession     1.0000    1.0000    1.0000         1\n",
      " education     1.0000    1.0000    1.0000         1\n",
      "        ID     1.0000    1.0000    1.0000         1\n",
      "\n",
      " micro avg     0.9277    0.9440    0.9358       625\n",
      " macro avg     0.9303    0.9440    0.9330       625\n",
      "\n",
      "\n",
      "epoch: 73 precision: 0.930285, recall: 0.944000, f1-score: 0.932978\n",
      "\b\b\b\b\b\b\b\b\b\b\b\b\b\b\b\b\b\b\b\b\b\b\b\b\b\b\b\b\b\b\b\b\b\b\b\b\b\b\b\b\b\b\b\b\b\b\b\b\b\b\b\b\b\b\b\b\b\b\b\b\b\b\b\b\b\b\b\b\b\b\b\b\b\b\b\b\b\b\b\b\b\b\r",
      "83/83 [==============================] - 271s 3s/step - loss: 0.5297 - accuracy: 0.9991 - val_loss: 606.4987 - val_accuracy: 0.0143\n",
      "Epoch 75/80\n",
      "83/83 [==============================] - ETA: 0s - loss: 0.5592 - accuracy: 0.9990"
     ]
    },
    {
     "name": "stderr",
     "output_type": "stream",
     "text": [
      "2020-12-09 20:36:08,242 [DEBUG] kashgari - predict seq_length: None, input: (2, 154, 512)\n"
     ]
    },
    {
     "name": "stdout",
     "output_type": "stream",
     "text": [
      "10/10 [==============================] - 14s 1s/step\n"
     ]
    },
    {
     "name": "stderr",
     "output_type": "stream",
     "text": [
      "2020-12-09 20:36:24,199 [DEBUG] kashgari - predict output: (154, 512)\n",
      "2020-12-09 20:36:24,200 [DEBUG] kashgari - predict output argmax: [[0 1 1 ... 1 1 1]\n",
      " [0 1 1 ... 1 1 1]\n",
      " [0 1 1 ... 1 1 1]\n",
      " ...\n",
      " [0 1 1 ... 1 1 1]\n",
      " [0 1 1 ... 1 1 1]\n",
      " [0 1 1 ... 1 1 1]]\n",
      "2020-12-09 20:36:24,754 [INFO] kashgari - Successfully recorded this epoch into model/20201209_koi/history/history_1.csv\n",
      "2020-12-09 20:36:24,755 [INFO] kashgari - \n",
      "Epoch 00075: f1-score improved from 0.93299 to 0.93329, saving model to model/20201209_koi\n"
     ]
    },
    {
     "name": "stdout",
     "output_type": "stream",
     "text": [
      "\n",
      "            precision    recall  f1-score   support\n",
      "\n",
      "      name     0.8182    0.9310    0.8710        29\n",
      "      time     0.9292    0.9622    0.9454       423\n",
      "  med_exam     0.9589    0.9589    0.9589        73\n",
      "     money     0.9375    1.0000    0.9677        15\n",
      "  location     1.0000    0.8727    0.9320        55\n",
      "   contact     1.0000    0.4667    0.6364        15\n",
      "    family     0.9000    0.7500    0.8182        12\n",
      "profession     1.0000    1.0000    1.0000         1\n",
      " education     1.0000    1.0000    1.0000         1\n",
      "        ID     1.0000    1.0000    1.0000         1\n",
      "\n",
      " micro avg     0.9331    0.9376    0.9354       625\n",
      " macro avg     0.9354    0.9376    0.9333       625\n",
      "\n",
      "\n",
      "epoch: 74 precision: 0.935442, recall: 0.937600, f1-score: 0.933295\n"
     ]
    },
    {
     "name": "stderr",
     "output_type": "stream",
     "text": [
      "2020-12-09 20:36:37,192 [INFO] kashgari - model saved to /content/drive/My Drive/AICUP2020/sample/kashgari/model/20201209_koi\n"
     ]
    },
    {
     "name": "stdout",
     "output_type": "stream",
     "text": [
      "\b\b\b\b\b\b\b\b\b\b\b\b\b\b\b\b\b\b\b\b\b\b\b\b\b\b\b\b\b\b\b\b\b\b\b\b\b\b\b\b\b\b\b\b\b\b\b\b\b\b\b\b\b\b\b\b\b\b\b\b\b\b\b\b\b\b\b\b\b\b\b\b\b\b\b\b\b\b\b\b\b\b\r",
      "83/83 [==============================] - 284s 3s/step - loss: 0.5592 - accuracy: 0.9990 - val_loss: 602.3675 - val_accuracy: 0.0140\n",
      "Epoch 76/80\n",
      "83/83 [==============================] - ETA: 0s - loss: 0.4775 - accuracy: 0.9992"
     ]
    },
    {
     "name": "stderr",
     "output_type": "stream",
     "text": [
      "2020-12-09 20:40:57,424 [DEBUG] kashgari - predict seq_length: None, input: (2, 154, 512)\n"
     ]
    },
    {
     "name": "stdout",
     "output_type": "stream",
     "text": [
      "10/10 [==============================] - 14s 1s/step\n"
     ]
    },
    {
     "name": "stderr",
     "output_type": "stream",
     "text": [
      "2020-12-09 20:41:13,442 [DEBUG] kashgari - predict output: (154, 512)\n",
      "2020-12-09 20:41:13,443 [DEBUG] kashgari - predict output argmax: [[0 1 1 ... 1 1 1]\n",
      " [0 1 1 ... 1 1 1]\n",
      " [0 1 1 ... 1 1 1]\n",
      " ...\n",
      " [0 1 1 ... 1 1 1]\n",
      " [0 1 1 ... 1 1 1]\n",
      " [0 1 1 ... 1 1 1]]\n",
      "2020-12-09 20:41:13,997 [INFO] kashgari - Successfully recorded this epoch into model/20201209_koi/history/history_1.csv\n",
      "2020-12-09 20:41:13,999 [INFO] kashgari - \n",
      "Epoch 00076: f1-score did not improve from 0.93329\n"
     ]
    },
    {
     "name": "stdout",
     "output_type": "stream",
     "text": [
      "\n",
      "            precision    recall  f1-score   support\n",
      "\n",
      "      name     0.8438    0.9310    0.8852        29\n",
      "      time     0.9165    0.9598    0.9376       423\n",
      "  med_exam     0.9595    0.9726    0.9660        73\n",
      "     money     0.9333    0.9333    0.9333        15\n",
      "  location     1.0000    0.8727    0.9320        55\n",
      "   contact     1.0000    0.4667    0.6364        15\n",
      "    family     0.8889    0.6667    0.7619        12\n",
      "profession     1.0000    1.0000    1.0000         1\n",
      " education     1.0000    1.0000    1.0000         1\n",
      "        ID     1.0000    1.0000    1.0000         1\n",
      "\n",
      " micro avg     0.9255    0.9344    0.9299       625\n",
      " macro avg     0.9278    0.9344    0.9276       625\n",
      "\n",
      "\n",
      "epoch: 75 precision: 0.927754, recall: 0.934400, f1-score: 0.927621\n",
      "\b\b\b\b\b\b\b\b\b\b\b\b\b\b\b\b\b\b\b\b\b\b\b\b\b\b\b\b\b\b\b\b\b\b\b\b\b\b\b\b\b\b\b\b\b\b\b\b\b\b\b\b\b\b\b\b\b\b\b\b\b\b\b\b\b\b\b\b\b\b\b\b\b\b\b\b\b\b\b\b\b\b\r",
      "83/83 [==============================] - 274s 3s/step - loss: 0.4775 - accuracy: 0.9992 - val_loss: 603.5432 - val_accuracy: 0.0146\n",
      "Epoch 77/80\n",
      "83/83 [==============================] - ETA: 0s - loss: 0.4304 - accuracy: 0.9993"
     ]
    },
    {
     "name": "stderr",
     "output_type": "stream",
     "text": [
      "2020-12-09 20:45:32,890 [DEBUG] kashgari - predict seq_length: None, input: (2, 154, 512)\n"
     ]
    },
    {
     "name": "stdout",
     "output_type": "stream",
     "text": [
      "10/10 [==============================] - 14s 1s/step\n"
     ]
    },
    {
     "name": "stderr",
     "output_type": "stream",
     "text": [
      "2020-12-09 20:45:48,841 [DEBUG] kashgari - predict output: (154, 512)\n",
      "2020-12-09 20:45:48,842 [DEBUG] kashgari - predict output argmax: [[0 1 1 ... 1 1 1]\n",
      " [0 1 1 ... 1 1 1]\n",
      " [0 1 1 ... 1 1 1]\n",
      " ...\n",
      " [0 1 1 ... 1 1 1]\n",
      " [0 1 1 ... 1 1 1]\n",
      " [0 1 1 ... 1 1 1]]\n",
      "2020-12-09 20:45:49,402 [INFO] kashgari - Successfully recorded this epoch into model/20201209_koi/history/history_1.csv\n",
      "2020-12-09 20:45:49,403 [INFO] kashgari - \n",
      "Epoch 00077: f1-score did not improve from 0.93329\n"
     ]
    },
    {
     "name": "stdout",
     "output_type": "stream",
     "text": [
      "\n",
      "            precision    recall  f1-score   support\n",
      "\n",
      "      name     0.8438    0.9310    0.8852        29\n",
      "      time     0.9136    0.9504    0.9316       423\n",
      "  med_exam     0.9333    0.9589    0.9459        73\n",
      "     money     1.0000    1.0000    1.0000        15\n",
      "  location     1.0000    0.8545    0.9216        55\n",
      "   contact     1.0000    0.4000    0.5714        15\n",
      "    family     1.0000    0.7500    0.8571        12\n",
      "profession     1.0000    1.0000    1.0000         1\n",
      " education     1.0000    1.0000    1.0000         1\n",
      "        ID     1.0000    1.0000    1.0000         1\n",
      "\n",
      " micro avg     0.9234    0.9264    0.9249       625\n",
      " macro avg     0.9265    0.9264    0.9222       625\n",
      "\n",
      "\n",
      "epoch: 76 precision: 0.926512, recall: 0.926400, f1-score: 0.922161\n",
      "\b\b\b\b\b\b\b\b\b\b\b\b\b\b\b\b\b\b\b\b\b\b\b\b\b\b\b\b\b\b\b\b\b\b\b\b\b\b\b\b\b\b\b\b\b\b\b\b\b\b\b\b\b\b\b\b\b\b\b\b\b\b\b\b\b\b\b\b\b\b\b\b\b\b\b\b\b\b\b\b\b\b\r",
      "83/83 [==============================] - 273s 3s/step - loss: 0.4304 - accuracy: 0.9993 - val_loss: 605.6624 - val_accuracy: 0.0145\n",
      "Epoch 78/80\n",
      "83/83 [==============================] - ETA: 0s - loss: 0.4928 - accuracy: 0.9991"
     ]
    },
    {
     "name": "stderr",
     "output_type": "stream",
     "text": [
      "2020-12-09 20:50:08,481 [DEBUG] kashgari - predict seq_length: None, input: (2, 154, 512)\n"
     ]
    },
    {
     "name": "stdout",
     "output_type": "stream",
     "text": [
      "10/10 [==============================] - 14s 1s/step\n"
     ]
    },
    {
     "name": "stderr",
     "output_type": "stream",
     "text": [
      "2020-12-09 20:50:24,577 [DEBUG] kashgari - predict output: (154, 512)\n",
      "2020-12-09 20:50:24,578 [DEBUG] kashgari - predict output argmax: [[0 1 1 ... 1 1 1]\n",
      " [0 1 1 ... 1 1 1]\n",
      " [0 1 1 ... 1 1 1]\n",
      " ...\n",
      " [0 1 1 ... 1 1 1]\n",
      " [0 1 1 ... 1 1 1]\n",
      " [0 1 1 ... 1 1 1]]\n",
      "2020-12-09 20:50:25,139 [INFO] kashgari - Successfully recorded this epoch into model/20201209_koi/history/history_1.csv\n",
      "2020-12-09 20:50:25,140 [INFO] kashgari - \n",
      "Epoch 00078: f1-score did not improve from 0.93329\n"
     ]
    },
    {
     "name": "stdout",
     "output_type": "stream",
     "text": [
      "\n",
      "            precision    recall  f1-score   support\n",
      "\n",
      "      name     0.8438    0.9310    0.8852        29\n",
      "      time     0.9186    0.9598    0.9387       423\n",
      "  med_exam     0.9221    0.9726    0.9467        73\n",
      "     money     1.0000    1.0000    1.0000        15\n",
      "  location     1.0000    0.8727    0.9320        55\n",
      "   contact     1.0000    0.4000    0.5714        15\n",
      "    family     0.9000    0.7500    0.8182        12\n",
      "profession     1.0000    1.0000    1.0000         1\n",
      " education     1.0000    1.0000    1.0000         1\n",
      "        ID     1.0000    1.0000    1.0000         1\n",
      "\n",
      " micro avg     0.9242    0.9360    0.9300       625\n",
      " macro avg     0.9266    0.9360    0.9272       625\n",
      "\n",
      "\n",
      "epoch: 77 precision: 0.926605, recall: 0.936000, f1-score: 0.927220\n",
      "\b\b\b\b\b\b\b\b\b\b\b\b\b\b\b\b\b\b\b\b\b\b\b\b\b\b\b\b\b\b\b\b\b\b\b\b\b\b\b\b\b\b\b\b\b\b\b\b\b\b\b\b\b\b\b\b\b\b\b\b\b\b\b\b\b\b\b\b\b\b\b\b\b\b\b\b\b\b\b\b\b\b\r",
      "83/83 [==============================] - 273s 3s/step - loss: 0.4928 - accuracy: 0.9991 - val_loss: 598.5141 - val_accuracy: 0.0136\n",
      "Epoch 79/80\n",
      "83/83 [==============================] - ETA: 0s - loss: 0.4173 - accuracy: 0.9992"
     ]
    },
    {
     "name": "stderr",
     "output_type": "stream",
     "text": [
      "2020-12-09 20:54:44,871 [DEBUG] kashgari - predict seq_length: None, input: (2, 154, 512)\n"
     ]
    },
    {
     "name": "stdout",
     "output_type": "stream",
     "text": [
      "10/10 [==============================] - 14s 1s/step\n"
     ]
    },
    {
     "name": "stderr",
     "output_type": "stream",
     "text": [
      "2020-12-09 20:55:00,900 [DEBUG] kashgari - predict output: (154, 512)\n",
      "2020-12-09 20:55:00,901 [DEBUG] kashgari - predict output argmax: [[0 1 1 ... 1 1 1]\n",
      " [0 1 1 ... 1 1 1]\n",
      " [0 1 1 ... 1 1 1]\n",
      " ...\n",
      " [0 1 1 ... 1 1 1]\n",
      " [0 1 1 ... 1 1 1]\n",
      " [0 1 1 ... 1 1 1]]\n",
      "2020-12-09 20:55:01,467 [INFO] kashgari - Successfully recorded this epoch into model/20201209_koi/history/history_1.csv\n",
      "2020-12-09 20:55:01,469 [INFO] kashgari - \n",
      "Epoch 00079: f1-score did not improve from 0.93329\n"
     ]
    },
    {
     "name": "stdout",
     "output_type": "stream",
     "text": [
      "\n",
      "            precision    recall  f1-score   support\n",
      "\n",
      "      name     0.8438    0.9310    0.8852        29\n",
      "      time     0.9087    0.9645    0.9358       423\n",
      "  med_exam     0.9459    0.9589    0.9524        73\n",
      "     money     1.0000    1.0000    1.0000        15\n",
      "  location     1.0000    0.8727    0.9320        55\n",
      "   contact     1.0000    0.5333    0.6957        15\n",
      "    family     1.0000    0.7500    0.8571        12\n",
      "profession     1.0000    1.0000    1.0000         1\n",
      " education     1.0000    1.0000    1.0000         1\n",
      "        ID     1.0000    1.0000    1.0000         1\n",
      "\n",
      " micro avg     0.9216    0.9408    0.9311       625\n",
      " macro avg     0.9246    0.9408    0.9296       625\n",
      "\n",
      "\n",
      "epoch: 78 precision: 0.924635, recall: 0.940800, f1-score: 0.929621\n",
      "\b\b\b\b\b\b\b\b\b\b\b\b\b\b\b\b\b\b\b\b\b\b\b\b\b\b\b\b\b\b\b\b\b\b\b\b\b\b\b\b\b\b\b\b\b\b\b\b\b\b\b\b\b\b\b\b\b\b\b\b\b\b\b\b\b\b\b\b\b\b\b\b\b\b\b\b\b\b\b\b\b\b\r",
      "83/83 [==============================] - 273s 3s/step - loss: 0.4173 - accuracy: 0.9992 - val_loss: 592.0454 - val_accuracy: 0.0137\n",
      "Epoch 80/80\n",
      "83/83 [==============================] - ETA: 0s - loss: 0.5577 - accuracy: 0.9989"
     ]
    },
    {
     "name": "stderr",
     "output_type": "stream",
     "text": [
      "2020-12-09 20:59:21,098 [DEBUG] kashgari - predict seq_length: None, input: (2, 154, 512)\n"
     ]
    },
    {
     "name": "stdout",
     "output_type": "stream",
     "text": [
      "10/10 [==============================] - 14s 1s/step\n"
     ]
    },
    {
     "name": "stderr",
     "output_type": "stream",
     "text": [
      "2020-12-09 20:59:37,025 [DEBUG] kashgari - predict output: (154, 512)\n",
      "2020-12-09 20:59:37,026 [DEBUG] kashgari - predict output argmax: [[0 1 1 ... 1 1 1]\n",
      " [0 1 1 ... 1 1 1]\n",
      " [0 1 1 ... 1 1 1]\n",
      " ...\n",
      " [0 1 1 ... 1 1 1]\n",
      " [0 1 1 ... 1 1 1]\n",
      " [0 1 1 ... 1 1 1]]\n",
      "2020-12-09 20:59:37,573 [INFO] kashgari - Successfully recorded this epoch into model/20201209_koi/history/history_1.csv\n",
      "2020-12-09 20:59:37,574 [INFO] kashgari - \n",
      "Epoch 00080: f1-score did not improve from 0.93329\n"
     ]
    },
    {
     "name": "stdout",
     "output_type": "stream",
     "text": [
      "\n",
      "            precision    recall  f1-score   support\n",
      "\n",
      "      name     0.8438    0.9310    0.8852        29\n",
      "      time     0.9269    0.9598    0.9431       423\n",
      "  med_exam     0.9577    0.9315    0.9444        73\n",
      "     money     0.9375    1.0000    0.9677        15\n",
      "  location     1.0000    0.8727    0.9320        55\n",
      "   contact     1.0000    0.4667    0.6364        15\n",
      "    family     1.0000    0.6667    0.8000        12\n",
      "profession     1.0000    1.0000    1.0000         1\n",
      " education     1.0000    1.0000    1.0000         1\n",
      "        ID     1.0000    1.0000    1.0000         1\n",
      "\n",
      " micro avg     0.9342    0.9312    0.9327       625\n",
      " macro avg     0.9369    0.9312    0.9303       625\n",
      "\n",
      "\n",
      "epoch: 79 precision: 0.936868, recall: 0.931200, f1-score: 0.930347\n",
      "\b\b\b\b\b\b\b\b\b\b\b\b\b\b\b\b\b\b\b\b\b\b\b\b\b\b\b\b\b\b\b\b\b\b\b\b\b\b\b\b\b\b\b\b\b\b\b\b\b\b\b\b\b\b\b\b\b\b\b\b\b\b\b\b\b\b\b\b\b\b\b\b\b\b\b\b\b\b\b\b\b\b\r",
      "83/83 [==============================] - 273s 3s/step - loss: 0.5577 - accuracy: 0.9989 - val_loss: 595.1830 - val_accuracy: 0.0143\n"
     ]
    }
   ],
   "source": [
    "# model.compile_model()\n",
    "ner_cb = NERAcceptanceCallBack(f'{MODEL_SAVE_DIR}/{DATE}_koi', model, valid_x_chunks, valid_y_chunks)\n",
    "history = model.fit(train_x_chunks,\n",
    "           train_y_chunks,\n",
    "           x_validate=valid_x_chunks,\n",
    "           y_validate=valid_y_chunks,\n",
    "           epochs=80,\n",
    "           batch_size=16, \n",
    "           callbacks=[ner_cb])"
   ]
  },
  {
   "cell_type": "markdown",
   "metadata": {
    "id": "2318pRVPdAuy"
   },
   "source": [
    "# Check Performation"
   ]
  },
  {
   "cell_type": "code",
   "execution_count": 6,
   "metadata": {
    "colab": {
     "base_uri": "https://localhost:8080/",
     "height": 411
    },
    "executionInfo": {
     "elapsed": 9287,
     "status": "ok",
     "timestamp": 1607573249185,
     "user": {
      "displayName": "俞鋒李",
      "photoUrl": "",
      "userId": "11733437799324688802"
     },
     "user_tz": -480
    },
    "id": "GAMhTUY1FxaU",
    "outputId": "10ec2fac-1253-4589-84f4-a6a3c425eb29"
   },
   "outputs": [
    {
     "data": {
      "text/html": [
       "<div>\n",
       "<style scoped>\n",
       "    .dataframe tbody tr th:only-of-type {\n",
       "        vertical-align: middle;\n",
       "    }\n",
       "\n",
       "    .dataframe tbody tr th {\n",
       "        vertical-align: top;\n",
       "    }\n",
       "\n",
       "    .dataframe thead th {\n",
       "        text-align: right;\n",
       "    }\n",
       "</style>\n",
       "<table border=\"1\" class=\"dataframe\">\n",
       "  <thead>\n",
       "    <tr style=\"text-align: right;\">\n",
       "      <th></th>\n",
       "      <th>loss</th>\n",
       "      <th>accuracy</th>\n",
       "      <th>val_loss</th>\n",
       "      <th>val_accuracy</th>\n",
       "      <th>precision</th>\n",
       "      <th>recall</th>\n",
       "      <th>f1-score</th>\n",
       "    </tr>\n",
       "  </thead>\n",
       "  <tbody>\n",
       "    <tr>\n",
       "      <th>0</th>\n",
       "      <td>90.391586</td>\n",
       "      <td>0.958680</td>\n",
       "      <td>1164.874756</td>\n",
       "      <td>0.975973</td>\n",
       "      <td>0.027724</td>\n",
       "      <td>0.0272</td>\n",
       "      <td>0.027460</td>\n",
       "    </tr>\n",
       "    <tr>\n",
       "      <th>1</th>\n",
       "      <td>32.981873</td>\n",
       "      <td>0.978497</td>\n",
       "      <td>1184.099121</td>\n",
       "      <td>0.982153</td>\n",
       "      <td>0.263793</td>\n",
       "      <td>0.2944</td>\n",
       "      <td>0.275243</td>\n",
       "    </tr>\n",
       "    <tr>\n",
       "      <th>2</th>\n",
       "      <td>23.283619</td>\n",
       "      <td>0.982453</td>\n",
       "      <td>1164.145752</td>\n",
       "      <td>0.984537</td>\n",
       "      <td>0.393113</td>\n",
       "      <td>0.4464</td>\n",
       "      <td>0.414983</td>\n",
       "    </tr>\n",
       "    <tr>\n",
       "      <th>3</th>\n",
       "      <td>18.903397</td>\n",
       "      <td>0.984735</td>\n",
       "      <td>1153.581665</td>\n",
       "      <td>0.985872</td>\n",
       "      <td>0.503248</td>\n",
       "      <td>0.4208</td>\n",
       "      <td>0.452370</td>\n",
       "    </tr>\n",
       "    <tr>\n",
       "      <th>4</th>\n",
       "      <td>16.318130</td>\n",
       "      <td>0.986312</td>\n",
       "      <td>1141.170898</td>\n",
       "      <td>0.988427</td>\n",
       "      <td>0.577034</td>\n",
       "      <td>0.6288</td>\n",
       "      <td>0.598528</td>\n",
       "    </tr>\n",
       "    <tr>\n",
       "      <th>...</th>\n",
       "      <td>...</td>\n",
       "      <td>...</td>\n",
       "      <td>...</td>\n",
       "      <td>...</td>\n",
       "      <td>...</td>\n",
       "      <td>...</td>\n",
       "      <td>...</td>\n",
       "    </tr>\n",
       "    <tr>\n",
       "      <th>91</th>\n",
       "      <td>0.477505</td>\n",
       "      <td>0.999207</td>\n",
       "      <td>603.543152</td>\n",
       "      <td>0.014591</td>\n",
       "      <td>0.927754</td>\n",
       "      <td>0.9344</td>\n",
       "      <td>0.927621</td>\n",
       "    </tr>\n",
       "    <tr>\n",
       "      <th>92</th>\n",
       "      <td>0.430426</td>\n",
       "      <td>0.999266</td>\n",
       "      <td>605.662354</td>\n",
       "      <td>0.014508</td>\n",
       "      <td>0.926512</td>\n",
       "      <td>0.9264</td>\n",
       "      <td>0.922161</td>\n",
       "    </tr>\n",
       "    <tr>\n",
       "      <th>93</th>\n",
       "      <td>0.492822</td>\n",
       "      <td>0.999108</td>\n",
       "      <td>598.514099</td>\n",
       "      <td>0.013558</td>\n",
       "      <td>0.926605</td>\n",
       "      <td>0.9360</td>\n",
       "      <td>0.927220</td>\n",
       "    </tr>\n",
       "    <tr>\n",
       "      <th>94</th>\n",
       "      <td>0.417326</td>\n",
       "      <td>0.999233</td>\n",
       "      <td>592.045410</td>\n",
       "      <td>0.013733</td>\n",
       "      <td>0.924635</td>\n",
       "      <td>0.9408</td>\n",
       "      <td>0.929621</td>\n",
       "    </tr>\n",
       "    <tr>\n",
       "      <th>95</th>\n",
       "      <td>0.557706</td>\n",
       "      <td>0.998932</td>\n",
       "      <td>595.183044</td>\n",
       "      <td>0.014308</td>\n",
       "      <td>0.936868</td>\n",
       "      <td>0.9312</td>\n",
       "      <td>0.930347</td>\n",
       "    </tr>\n",
       "  </tbody>\n",
       "</table>\n",
       "<p>96 rows × 7 columns</p>\n",
       "</div>"
      ],
      "text/plain": [
       "         loss  accuracy     val_loss  val_accuracy  precision  recall  f1-score\n",
       "0   90.391586  0.958680  1164.874756      0.975973   0.027724  0.0272  0.027460\n",
       "1   32.981873  0.978497  1184.099121      0.982153   0.263793  0.2944  0.275243\n",
       "2   23.283619  0.982453  1164.145752      0.984537   0.393113  0.4464  0.414983\n",
       "3   18.903397  0.984735  1153.581665      0.985872   0.503248  0.4208  0.452370\n",
       "4   16.318130  0.986312  1141.170898      0.988427   0.577034  0.6288  0.598528\n",
       "..        ...       ...          ...           ...        ...     ...       ...\n",
       "91   0.477505  0.999207   603.543152      0.014591   0.927754  0.9344  0.927621\n",
       "92   0.430426  0.999266   605.662354      0.014508   0.926512  0.9264  0.922161\n",
       "93   0.492822  0.999108   598.514099      0.013558   0.926605  0.9360  0.927220\n",
       "94   0.417326  0.999233   592.045410      0.013733   0.924635  0.9408  0.929621\n",
       "95   0.557706  0.998932   595.183044      0.014308   0.936868  0.9312  0.930347\n",
       "\n",
       "[96 rows x 7 columns]"
      ]
     },
     "execution_count": 6,
     "metadata": {
      "tags": []
     },
     "output_type": "execute_result"
    }
   ],
   "source": [
    "# perf = pd.DataFrame(data=history.history)\n",
    "perf1 = pd.read_csv('model/20201209_koi/history/history_0.csv')\n",
    "perf2 = pd.read_csv('model/20201209_koi/history/history_1.csv')\n",
    "perf = pd.concat([perf1, perf2], ignore_index=True)\n",
    "perf"
   ]
  },
  {
   "cell_type": "code",
   "execution_count": 13,
   "metadata": {
    "colab": {
     "base_uri": "https://localhost:8080/",
     "height": 873
    },
    "executionInfo": {
     "elapsed": 3062,
     "status": "ok",
     "timestamp": 1607574234622,
     "user": {
      "displayName": "俞鋒李",
      "photoUrl": "",
      "userId": "11733437799324688802"
     },
     "user_tz": -480
    },
    "id": "5Fkv9GosdlQs",
    "outputId": "916e3a19-6c69-43c5-ec31-6c966e557342"
   },
   "outputs": [
    {
     "data": {
      "text/html": [
       "<html>\n",
       "<head><meta charset=\"utf-8\" /></head>\n",
       "<body>\n",
       "    <div>\n",
       "            <script src=\"https://cdnjs.cloudflare.com/ajax/libs/mathjax/2.7.5/MathJax.js?config=TeX-AMS-MML_SVG\"></script><script type=\"text/javascript\">if (window.MathJax) {MathJax.Hub.Config({SVG: {font: \"STIX-Web\"}});}</script>\n",
       "                <script type=\"text/javascript\">window.PlotlyConfig = {MathJaxConfig: 'local'};</script>\n",
       "        <script src=\"https://cdn.plot.ly/plotly-latest.min.js\"></script>    \n",
       "            <div id=\"077d2a52-265d-41dd-b6ec-3d8608084eef\" class=\"plotly-graph-div\" style=\"height:800px; width:1000px;\"></div>\n",
       "            <script type=\"text/javascript\">\n",
       "                \n",
       "                    window.PLOTLYENV=window.PLOTLYENV || {};\n",
       "                    \n",
       "                if (document.getElementById(\"077d2a52-265d-41dd-b6ec-3d8608084eef\")) {\n",
       "                    Plotly.newPlot(\n",
       "                        '077d2a52-265d-41dd-b6ec-3d8608084eef',\n",
       "                        [{\"name\": \"loss\", \"type\": \"scatter\", \"xaxis\": \"x\", \"y\": [90.39158630371094, 32.98187255859375, 23.283618927001953, 18.903396606445312, 16.318130493164062, 14.456242561340332, 12.972156524658205, 11.759906768798828, 11.079337120056152, 10.271895408630373, 9.294744491577148, 8.90832233428955, 8.320267677307129, 7.621575355529785, 6.948459148406982, 6.528744220733643, 6.556318759918213, 5.692533016204834, 5.081965446472168, 4.8504061698913565, 4.220178127288818, 3.849135637283325, 3.5795302391052246, 3.3081357479095463, 3.0208518505096436, 2.896094799041748, 2.769028425216675, 2.8360464572906494, 2.7223267555236816, 2.3441739082336426, 2.071439981460572, 2.0253467559814453, 1.7720024585723877, 1.8536717891693115, 1.8626860380172727, 1.6150166988372805, 1.5274724960327148, 1.4742323160171509, 1.4348289966583252, 1.4081878662109375, 1.298930048942566, 1.1249606609344482, 1.1896200180053709, 1.1780118942260742, 1.003347396850586, 1.0816811323165894, 0.943953812122345, 0.8413398861885071, 0.9324703812599182, 1.0119806528091428, 0.8685184121131897, 0.8763158321380615, 0.881465494632721, 0.7360419631004333, 0.9292363524436952, 0.8982823491096497, 0.8465398550033569, 0.7404735684394836, 0.7548900246620178, 0.7724886536598206, 0.6904323697090149, 0.7142690420150757, 0.7495332956314087, 0.6358135938644409, 0.6292166709899902, 0.6877338886260986, 0.5676458477973938, 0.7292793393135071, 0.637610137462616, 0.5452294945716858, 0.4974237382411957, 0.6117672920227051, 0.574392557144165, 0.6300761103630066, 0.5560521483421326, 0.4764625728130341, 0.5877987742424011, 0.5251490473747253, 0.5188336372375488, 0.524506151676178, 0.4830622673034668, 0.5979946255683899, 0.5218376517295837, 0.51786869764328, 0.4446380436420441, 0.4935168027877808, 0.4741476774215698, 0.7571596503257751, 0.563869833946228, 0.5297002792358398, 0.559209406375885, 0.4775050282478333, 0.4304255247116089, 0.4928221702575684, 0.4173255264759064, 0.5577055215835571], \"yaxis\": \"y\"}, {\"name\": \"validate loss\", \"type\": \"scatter\", \"xaxis\": \"x\", \"y\": [1164.874755859375, 1184.09912109375, 1164.145751953125, 1153.5816650390625, 1141.1708984375, 1143.8172607421875, 1138.3995361328125, 1133.8712158203125, 1121.7484130859377, 1128.60009765625, 1125.40966796875, 1120.046630859375, 1126.1875, 1111.325927734375, 1112.968994140625, 1114.2872314453123, 1070.035400390625, 1044.1954345703123, 1021.709228515625, 1003.5577392578124, 977.9465942382812, 964.1356201171876, 938.5708618164062, 942.9141845703124, 918.3287963867188, 903.9990234375, 908.430419921875, 888.295166015625, 860.9491577148438, 865.6368408203125, 847.9949340820312, 847.3375854492188, 837.0936279296875, 824.9988403320312, 819.2998657226562, 807.4386596679688, 804.5438842773438, 796.9332275390625, 789.3760986328125, 784.4243774414062, 774.8424072265625, 772.828857421875, 766.631591796875, 756.424560546875, 761.0729370117188, 756.7205200195312, 746.7319946289062, 744.7398071289062, 740.8541259765625, 738.1506958007812, 735.4171752929688, 725.7785034179688, 717.1159057617188, 716.9722290039062, 714.9628295898438, 711.8594970703125, 703.15576171875, 706.08447265625, 698.3504638671875, 695.0960693359375, 697.8682250976562, 685.4964599609375, 689.2063598632812, 679.7342529296875, 689.566162109375, 670.807861328125, 672.026123046875, 668.3342895507812, 672.4490356445312, 671.2724609375, 663.583740234375, 655.7547607421875, 653.7420654296875, 657.0614013671875, 655.4949340820312, 647.498046875, 640.046142578125, 633.8551635742188, 635.8302001953125, 641.6994018554688, 625.930908203125, 639.5069580078125, 623.5397338867188, 625.580322265625, 618.4093017578125, 613.86474609375, 618.967041015625, 607.2665405273438, 609.6510620117188, 606.4986572265625, 602.3674926757812, 603.5431518554688, 605.662353515625, 598.5140991210938, 592.04541015625, 595.1830444335938], \"yaxis\": \"y\"}, {\"name\": \"accuracy\", \"type\": \"scatter\", \"xaxis\": \"x2\", \"y\": [0.9586804509162904, 0.9784973859786988, 0.9824526309967041, 0.9847348928451538, 0.986311674118042, 0.9874652624130248, 0.9883404970169068, 0.9894079566001892, 0.989630401134491, 0.990184247493744, 0.9909515976905824, 0.9910495281219482, 0.9916518330574036, 0.99209725856781, 0.9928432106971741, 0.9930503964424132, 0.9927436709403992, 0.9934940338134766, 0.9941588044166564, 0.9940592646598816, 0.99480801820755, 0.9952842593193054, 0.9953411221504213, 0.9957789778709412, 0.9961140155792236, 0.9962142705917358, 0.996393084526062, 0.9961758852005004, 0.9963773488998412, 0.996881365776062, 0.9972188472747804, 0.9971356987953186, 0.9977477788925172, 0.9973288774490356, 0.9973295331001282, 0.997649908065796, 0.9979006052017212, 0.9979920387268066, 0.997860550880432, 0.9979565143585204, 0.9981597065925598, 0.9983958005905152, 0.998318374156952, 0.9983421564102172, 0.9985040426254272, 0.9984174370765686, 0.9987106919288636, 0.9987894296646118, 0.9985262155532836, 0.9985529184341432, 0.9987250566482544, 0.9987115263938904, 0.9987390041351318, 0.9989795684814452, 0.9987239241600036, 0.9986296892166138, 0.9986799955368042, 0.9989007711410522, 0.9988262057304382, 0.9988568425178528, 0.9989248514175416, 0.9988800287246704, 0.9988297820091248, 0.9990103244781494, 0.9990509152412416, 0.9989372491836548, 0.9990703463554382, 0.9989073872566224, 0.9989778399467468, 0.9991452693939208, 0.9992082715034484, 0.9990227818489076, 0.9991267323493958, 0.9990423917770386, 0.999109387397766, 0.9992315769195556, 0.9989942908287048, 0.9991427659988404, 0.9990878105163574, 0.9991489052772522, 0.9991547465324402, 0.9989078044891356, 0.9991459250450134, 0.9991143345832824, 0.9992194175720216, 0.9991968870162964, 0.9991703033447266, 0.9986664056777954, 0.9990682005882264, 0.9990766644477844, 0.9989910721778872, 0.9992068409919742, 0.9992659091949464, 0.9991084933280944, 0.999233067035675, 0.9989324808120728], \"yaxis\": \"y2\"}, {\"name\": \"validate accuracy\", \"type\": \"scatter\", \"xaxis\": \"x2\", \"y\": [0.97597336769104, 0.9821531772613524, 0.984536588191986, 0.9858716130256652, 0.9884268641471864, 0.9889528751373292, 0.988615870475769, 0.988092303276062, 0.9902477264404296, 0.9894633889198304, 0.9881635308265686, 0.990119695663452, 0.9895601272583008, 0.9891723990440368, 0.9918481111526488, 0.990958333015442, 0.99119633436203, 0.9915787577629088, 0.990372359752655, 0.9891701936721802, 0.9869487285614014, 0.9846711754798888, 0.9819807410240172, 0.9757320880889891, 0.9730417728424072, 0.9696757793426514, 0.9592804312705994, 0.9488243460655212, 0.8955557346343994, 0.8134040832519531, 0.3264149129390717, 0.09006553143262863, 0.0570942685008049, 0.043732669204473495, 0.03541867807507515, 0.029749615117907524, 0.026807613670825958, 0.02360723726451397, 0.023746257647871968, 0.02122422680258751, 0.02000650949776173, 0.01840245351195336, 0.017792001366615295, 0.018404969945549958, 0.01831888221204281, 0.01795194111764431, 0.01794346608221531, 0.017224492505192757, 0.017273081466555595, 0.01623128168284893, 0.015069971792399885, 0.015619995072484016, 0.015178490430116653, 0.015039116144180296, 0.014357916079461575, 0.01466767955571413, 0.014642740599811075, 0.0141809219494462, 0.014704421162605287, 0.015469218604266644, 0.014935385435819626, 0.014278378337621687, 0.014456163160502909, 0.013921169564127922, 0.01470854412764311, 0.014021794311702251, 0.014470502734184262, 0.013794557191431522, 0.013967456296086313, 0.014194760471582413, 0.013586616143584251, 0.01323578879237175, 0.014324137009680271, 0.013872336596250534, 0.013271048665046692, 0.012989290989935398, 0.013725095428526402, 0.013745112344622612, 0.013140227645635605, 0.01365155354142189, 0.014078523032367231, 0.013974539004266262, 0.013719071634113787, 0.014004803262650968, 0.012964759021997452, 0.014084000140428543, 0.014076661318540571, 0.014108885079622269, 0.013837072998285294, 0.014261494390666485, 0.013993005268275738, 0.014591152779757975, 0.014508409425616263, 0.0135580413043499, 0.013733243569731712, 0.014307722449302672], \"yaxis\": \"y2\"}, {\"name\": \"precision\", \"type\": \"scatter\", \"xaxis\": \"x3\", \"y\": [0.02772433734939759, 0.2637932193567082, 0.3931132796780684, 0.5032484903472957, 0.577033721737901, 0.626958648880833, 0.6501453257612737, 0.6612413607534114, 0.7117631493472207, 0.6973203884996185, 0.6592257368697212, 0.7087980096835912, 0.7205321507246376, 0.7118328969082469, 0.8131867795485994, 0.7688550929922334, 0.8489837599187282, 0.8218242809437079, 0.779894206190158, 0.8297676699850614, 0.8121768806849431, 0.8385824712739599, 0.8558717198500899, 0.8240626247799209, 0.8193745128440779, 0.8710003560394812, 0.8734029745596869, 0.8686497088693297, 0.8517095111757906, 0.8080950156712153, 0.8138833935232407, 0.8663474746239451, 0.8737587244409278, 0.8970244350408315, 0.8671748692697417, 0.909792128648928, 0.8449929179910998, 0.9113054777948612, 0.8909070936153545, 0.8750823537305717, 0.9150688774165794, 0.9025825041856016, 0.9421823150357996, 0.9080007079496388, 0.8986298928146089, 0.9196206832298136, 0.8980436053751022, 0.917840129032258, 0.910179296899968, 0.9196575238095238, 0.9211789626530836, 0.9073549493490074, 0.8828145800122624, 0.9241242986133504, 0.8999302386407244, 0.9420228590250328, 0.9113584381257508, 0.9237044307262244, 0.9345921555035543, 0.9341503943545041, 0.9378970731146788, 0.9321072269393488, 0.9275262517791514, 0.918366814159292, 0.9154488785871964, 0.928995850340136, 0.9180406666666668, 0.9307585162713732, 0.9281059074912016, 0.9237479372197308, 0.9353446815346816, 0.9118225387369688, 0.9035537485253262, 0.92740033557047, 0.9368274307989716, 0.9277918181818182, 0.9307739414031178, 0.930549884495176, 0.9376124480369517, 0.9261332460109548, 0.9175003442642082, 0.9288441554310576, 0.8938503030303031, 0.9363384019802912, 0.9200774926253688, 0.9193583099135908, 0.933253196004994, 0.9290473466435044, 0.9298539469858346, 0.9302845653256944, 0.9354422665006228, 0.9277542177617796, 0.9265124242424244, 0.9266047193982488, 0.924635150183591, 0.9368682133899288], \"yaxis\": \"y3\"}, {\"name\": \"recall\", \"type\": \"scatter\", \"xaxis\": \"x3\", \"y\": [0.0272, 0.2944, 0.4464, 0.4207999999999999, 0.6288, 0.632, 0.72, 0.7040000000000001, 0.7008, 0.7088, 0.7536, 0.752, 0.7824, 0.8304, 0.768, 0.8112, 0.7232, 0.7888, 0.8544, 0.848, 0.8624, 0.8224, 0.8512, 0.8848, 0.8928, 0.8656, 0.8736, 0.848, 0.8976, 0.9072, 0.9088, 0.9072, 0.92, 0.9152, 0.9152, 0.8912, 0.9184, 0.9216, 0.9344, 0.9232, 0.9136, 0.92, 0.9056, 0.9312, 0.9312, 0.9232, 0.928, 0.9312, 0.928, 0.9296, 0.9296, 0.9376, 0.9328, 0.9359999999999999, 0.9376, 0.904, 0.9376, 0.9328, 0.9264, 0.9376, 0.9264, 0.9216, 0.9312, 0.9344, 0.9376, 0.9264, 0.9312, 0.9344, 0.928, 0.9344, 0.9248, 0.9424, 0.9408, 0.9376, 0.9376, 0.9312, 0.9312, 0.9376, 0.9312, 0.9328, 0.9376, 0.9312, 0.9376, 0.9296, 0.9376, 0.9328, 0.9376, 0.9312, 0.9344, 0.9440000000000001, 0.9376, 0.9344, 0.9264, 0.9359999999999999, 0.9408, 0.9312], \"yaxis\": \"y3\"}, {\"name\": \"f1-score\", \"type\": \"scatter\", \"xaxis\": \"x3\", \"y\": [0.027459665871121725, 0.2752427515240607, 0.4149828019323673, 0.4523700428039217, 0.5985280474184503, 0.6246054077191155, 0.6794706026678491, 0.6779277274678309, 0.7025311467331596, 0.701022732474079, 0.6989323670459179, 0.7272129925629927, 0.7388477030997522, 0.7606727711503292, 0.7807829295383861, 0.7848850929324884, 0.7725942393905121, 0.8001170500674727, 0.8079799673388972, 0.833251727546674, 0.8331696579635198, 0.8247805260777225, 0.8474749405933811, 0.8456014114418918, 0.8504096389465035, 0.862159613143716, 0.8700221075934295, 0.855668180487833, 0.8688642780635691, 0.8470338542813121, 0.8547918482786437, 0.8812421484939803, 0.8914460754115257, 0.9032329698492982, 0.8867079848221856, 0.8967353620209849, 0.8757641776297581, 0.9123449406858856, 0.9096619249193556, 0.8934388678489639, 0.910909383520737, 0.9066778147157876, 0.9200286833661346, 0.9165218324738998, 0.9116303918720932, 0.9183972362367218, 0.9081661602964748, 0.9208305136228332, 0.9155300201655856, 0.9200844907278044, 0.9208775252406552, 0.919517693719464, 0.90403006823401, 0.9260295899342564, 0.9139648671985736, 0.9198122987871359, 0.9212989436268428, 0.924741565234054, 0.926610179844724, 0.932775160565488, 0.930379248075542, 0.9231872630865776, 0.9265224424654416, 0.9217892130737512, 0.9220814498710188, 0.9234793417221148, 0.9201469628051664, 0.9286005168603404, 0.9235117382937178, 0.9249085673488086, 0.927087667132452, 0.9240156538049176, 0.9184595070667628, 0.9280837864727662, 0.932987575684684, 0.925628833528778, 0.9271946821080052, 0.9296449904935496, 0.932004243291994, 0.9246107113670649, 0.9233848263349222, 0.9266618838512924, 0.9108015311176041, 0.9292879944901116, 0.9244167039828424, 0.9226352931515116, 0.9307811581555884, 0.9264199604266702, 0.9279755761398808, 0.9329780126608622, 0.933294997599774, 0.927621027428624, 0.9221611439474422, 0.9272202000816058, 0.9296214973974588, 0.9303473989765134], \"yaxis\": \"y3\"}],\n",
       "                        {\"annotations\": [{\"font\": {\"size\": 16}, \"showarrow\": false, \"text\": \"Loss and Validate loss\", \"x\": 0.225, \"xanchor\": \"center\", \"xref\": \"paper\", \"y\": 1.0, \"yanchor\": \"bottom\", \"yref\": \"paper\"}, {\"font\": {\"size\": 16}, \"showarrow\": false, \"text\": \"Accuracy and Validate accuracy\", \"x\": 0.775, \"xanchor\": \"center\", \"xref\": \"paper\", \"y\": 1.0, \"yanchor\": \"bottom\", \"yref\": \"paper\"}, {\"font\": {\"size\": 16}, \"showarrow\": false, \"text\": \"F1 Score\", \"x\": 0.5, \"xanchor\": \"center\", \"xref\": \"paper\", \"y\": 0.375, \"yanchor\": \"bottom\", \"yref\": \"paper\"}], \"height\": 800, \"template\": {\"data\": {\"bar\": [{\"error_x\": {\"color\": \"#2a3f5f\"}, \"error_y\": {\"color\": \"#2a3f5f\"}, \"marker\": {\"line\": {\"color\": \"#E5ECF6\", \"width\": 0.5}}, \"type\": \"bar\"}], \"barpolar\": [{\"marker\": {\"line\": {\"color\": \"#E5ECF6\", \"width\": 0.5}}, \"type\": \"barpolar\"}], \"carpet\": [{\"aaxis\": {\"endlinecolor\": \"#2a3f5f\", \"gridcolor\": \"white\", \"linecolor\": \"white\", \"minorgridcolor\": \"white\", \"startlinecolor\": \"#2a3f5f\"}, \"baxis\": {\"endlinecolor\": \"#2a3f5f\", \"gridcolor\": \"white\", \"linecolor\": \"white\", \"minorgridcolor\": \"white\", \"startlinecolor\": \"#2a3f5f\"}, \"type\": \"carpet\"}], \"choropleth\": [{\"colorbar\": {\"outlinewidth\": 0, \"ticks\": \"\"}, \"type\": \"choropleth\"}], \"contour\": [{\"colorbar\": {\"outlinewidth\": 0, \"ticks\": \"\"}, \"colorscale\": [[0.0, \"#0d0887\"], [0.1111111111111111, \"#46039f\"], [0.2222222222222222, \"#7201a8\"], [0.3333333333333333, \"#9c179e\"], [0.4444444444444444, \"#bd3786\"], [0.5555555555555556, \"#d8576b\"], [0.6666666666666666, \"#ed7953\"], [0.7777777777777778, \"#fb9f3a\"], [0.8888888888888888, \"#fdca26\"], [1.0, \"#f0f921\"]], \"type\": \"contour\"}], \"contourcarpet\": [{\"colorbar\": {\"outlinewidth\": 0, \"ticks\": \"\"}, \"type\": \"contourcarpet\"}], \"heatmap\": [{\"colorbar\": {\"outlinewidth\": 0, \"ticks\": \"\"}, \"colorscale\": [[0.0, \"#0d0887\"], [0.1111111111111111, \"#46039f\"], [0.2222222222222222, \"#7201a8\"], [0.3333333333333333, \"#9c179e\"], [0.4444444444444444, \"#bd3786\"], [0.5555555555555556, \"#d8576b\"], [0.6666666666666666, \"#ed7953\"], [0.7777777777777778, \"#fb9f3a\"], [0.8888888888888888, \"#fdca26\"], [1.0, \"#f0f921\"]], \"type\": \"heatmap\"}], \"heatmapgl\": [{\"colorbar\": {\"outlinewidth\": 0, \"ticks\": \"\"}, \"colorscale\": [[0.0, \"#0d0887\"], [0.1111111111111111, \"#46039f\"], [0.2222222222222222, \"#7201a8\"], [0.3333333333333333, \"#9c179e\"], [0.4444444444444444, \"#bd3786\"], [0.5555555555555556, \"#d8576b\"], [0.6666666666666666, \"#ed7953\"], [0.7777777777777778, \"#fb9f3a\"], [0.8888888888888888, \"#fdca26\"], [1.0, \"#f0f921\"]], \"type\": \"heatmapgl\"}], \"histogram\": [{\"marker\": {\"colorbar\": {\"outlinewidth\": 0, \"ticks\": \"\"}}, \"type\": \"histogram\"}], \"histogram2d\": [{\"colorbar\": {\"outlinewidth\": 0, \"ticks\": \"\"}, \"colorscale\": [[0.0, \"#0d0887\"], [0.1111111111111111, \"#46039f\"], [0.2222222222222222, \"#7201a8\"], [0.3333333333333333, \"#9c179e\"], [0.4444444444444444, \"#bd3786\"], [0.5555555555555556, \"#d8576b\"], [0.6666666666666666, \"#ed7953\"], [0.7777777777777778, \"#fb9f3a\"], [0.8888888888888888, \"#fdca26\"], [1.0, \"#f0f921\"]], \"type\": \"histogram2d\"}], \"histogram2dcontour\": [{\"colorbar\": {\"outlinewidth\": 0, \"ticks\": \"\"}, \"colorscale\": [[0.0, \"#0d0887\"], [0.1111111111111111, \"#46039f\"], [0.2222222222222222, \"#7201a8\"], [0.3333333333333333, \"#9c179e\"], [0.4444444444444444, \"#bd3786\"], [0.5555555555555556, \"#d8576b\"], [0.6666666666666666, \"#ed7953\"], [0.7777777777777778, \"#fb9f3a\"], [0.8888888888888888, \"#fdca26\"], [1.0, \"#f0f921\"]], \"type\": \"histogram2dcontour\"}], \"mesh3d\": [{\"colorbar\": {\"outlinewidth\": 0, \"ticks\": \"\"}, \"type\": \"mesh3d\"}], \"parcoords\": [{\"line\": {\"colorbar\": {\"outlinewidth\": 0, \"ticks\": \"\"}}, \"type\": \"parcoords\"}], \"pie\": [{\"automargin\": true, \"type\": \"pie\"}], \"scatter\": [{\"marker\": {\"colorbar\": {\"outlinewidth\": 0, \"ticks\": \"\"}}, \"type\": \"scatter\"}], \"scatter3d\": [{\"line\": {\"colorbar\": {\"outlinewidth\": 0, \"ticks\": \"\"}}, \"marker\": {\"colorbar\": {\"outlinewidth\": 0, \"ticks\": \"\"}}, \"type\": \"scatter3d\"}], \"scattercarpet\": [{\"marker\": {\"colorbar\": {\"outlinewidth\": 0, \"ticks\": \"\"}}, \"type\": \"scattercarpet\"}], \"scattergeo\": [{\"marker\": {\"colorbar\": {\"outlinewidth\": 0, \"ticks\": \"\"}}, \"type\": \"scattergeo\"}], \"scattergl\": [{\"marker\": {\"colorbar\": {\"outlinewidth\": 0, \"ticks\": \"\"}}, \"type\": \"scattergl\"}], \"scattermapbox\": [{\"marker\": {\"colorbar\": {\"outlinewidth\": 0, \"ticks\": \"\"}}, \"type\": \"scattermapbox\"}], \"scatterpolar\": [{\"marker\": {\"colorbar\": {\"outlinewidth\": 0, \"ticks\": \"\"}}, \"type\": \"scatterpolar\"}], \"scatterpolargl\": [{\"marker\": {\"colorbar\": {\"outlinewidth\": 0, \"ticks\": \"\"}}, \"type\": \"scatterpolargl\"}], \"scatterternary\": [{\"marker\": {\"colorbar\": {\"outlinewidth\": 0, \"ticks\": \"\"}}, \"type\": \"scatterternary\"}], \"surface\": [{\"colorbar\": {\"outlinewidth\": 0, \"ticks\": \"\"}, \"colorscale\": [[0.0, \"#0d0887\"], [0.1111111111111111, \"#46039f\"], [0.2222222222222222, \"#7201a8\"], [0.3333333333333333, \"#9c179e\"], [0.4444444444444444, \"#bd3786\"], [0.5555555555555556, \"#d8576b\"], [0.6666666666666666, \"#ed7953\"], [0.7777777777777778, \"#fb9f3a\"], [0.8888888888888888, \"#fdca26\"], [1.0, \"#f0f921\"]], \"type\": \"surface\"}], \"table\": [{\"cells\": {\"fill\": {\"color\": \"#EBF0F8\"}, \"line\": {\"color\": \"white\"}}, \"header\": {\"fill\": {\"color\": \"#C8D4E3\"}, \"line\": {\"color\": \"white\"}}, \"type\": \"table\"}]}, \"layout\": {\"annotationdefaults\": {\"arrowcolor\": \"#2a3f5f\", \"arrowhead\": 0, \"arrowwidth\": 1}, \"coloraxis\": {\"colorbar\": {\"outlinewidth\": 0, \"ticks\": \"\"}}, \"colorscale\": {\"diverging\": [[0, \"#8e0152\"], [0.1, \"#c51b7d\"], [0.2, \"#de77ae\"], [0.3, \"#f1b6da\"], [0.4, \"#fde0ef\"], [0.5, \"#f7f7f7\"], [0.6, \"#e6f5d0\"], [0.7, \"#b8e186\"], [0.8, \"#7fbc41\"], [0.9, \"#4d9221\"], [1, \"#276419\"]], \"sequential\": [[0.0, \"#0d0887\"], [0.1111111111111111, \"#46039f\"], [0.2222222222222222, \"#7201a8\"], [0.3333333333333333, \"#9c179e\"], [0.4444444444444444, \"#bd3786\"], [0.5555555555555556, \"#d8576b\"], [0.6666666666666666, \"#ed7953\"], [0.7777777777777778, \"#fb9f3a\"], [0.8888888888888888, \"#fdca26\"], [1.0, \"#f0f921\"]], \"sequentialminus\": [[0.0, \"#0d0887\"], [0.1111111111111111, \"#46039f\"], [0.2222222222222222, \"#7201a8\"], [0.3333333333333333, \"#9c179e\"], [0.4444444444444444, \"#bd3786\"], [0.5555555555555556, \"#d8576b\"], [0.6666666666666666, \"#ed7953\"], [0.7777777777777778, \"#fb9f3a\"], [0.8888888888888888, \"#fdca26\"], [1.0, \"#f0f921\"]]}, \"colorway\": [\"#636efa\", \"#EF553B\", \"#00cc96\", \"#ab63fa\", \"#FFA15A\", \"#19d3f3\", \"#FF6692\", \"#B6E880\", \"#FF97FF\", \"#FECB52\"], \"font\": {\"color\": \"#2a3f5f\"}, \"geo\": {\"bgcolor\": \"white\", \"lakecolor\": \"white\", \"landcolor\": \"#E5ECF6\", \"showlakes\": true, \"showland\": true, \"subunitcolor\": \"white\"}, \"hoverlabel\": {\"align\": \"left\"}, \"hovermode\": \"closest\", \"mapbox\": {\"style\": \"light\"}, \"paper_bgcolor\": \"white\", \"plot_bgcolor\": \"#E5ECF6\", \"polar\": {\"angularaxis\": {\"gridcolor\": \"white\", \"linecolor\": \"white\", \"ticks\": \"\"}, \"bgcolor\": \"#E5ECF6\", \"radialaxis\": {\"gridcolor\": \"white\", \"linecolor\": \"white\", \"ticks\": \"\"}}, \"scene\": {\"xaxis\": {\"backgroundcolor\": \"#E5ECF6\", \"gridcolor\": \"white\", \"gridwidth\": 2, \"linecolor\": \"white\", \"showbackground\": true, \"ticks\": \"\", \"zerolinecolor\": \"white\"}, \"yaxis\": {\"backgroundcolor\": \"#E5ECF6\", \"gridcolor\": \"white\", \"gridwidth\": 2, \"linecolor\": \"white\", \"showbackground\": true, \"ticks\": \"\", \"zerolinecolor\": \"white\"}, \"zaxis\": {\"backgroundcolor\": \"#E5ECF6\", \"gridcolor\": \"white\", \"gridwidth\": 2, \"linecolor\": \"white\", \"showbackground\": true, \"ticks\": \"\", \"zerolinecolor\": \"white\"}}, \"shapedefaults\": {\"line\": {\"color\": \"#2a3f5f\"}}, \"ternary\": {\"aaxis\": {\"gridcolor\": \"white\", \"linecolor\": \"white\", \"ticks\": \"\"}, \"baxis\": {\"gridcolor\": \"white\", \"linecolor\": \"white\", \"ticks\": \"\"}, \"bgcolor\": \"#E5ECF6\", \"caxis\": {\"gridcolor\": \"white\", \"linecolor\": \"white\", \"ticks\": \"\"}}, \"title\": {\"x\": 0.05}, \"xaxis\": {\"automargin\": true, \"gridcolor\": \"white\", \"linecolor\": \"white\", \"ticks\": \"\", \"title\": {\"standoff\": 15}, \"zerolinecolor\": \"white\", \"zerolinewidth\": 2}, \"yaxis\": {\"automargin\": true, \"gridcolor\": \"white\", \"linecolor\": \"white\", \"ticks\": \"\", \"title\": {\"standoff\": 15}, \"zerolinecolor\": \"white\", \"zerolinewidth\": 2}}}, \"width\": 1000, \"xaxis\": {\"anchor\": \"y\", \"domain\": [0.0, 0.45]}, \"xaxis2\": {\"anchor\": \"y2\", \"domain\": [0.55, 1.0]}, \"xaxis3\": {\"anchor\": \"y3\", \"domain\": [0.0, 1.0]}, \"yaxis\": {\"anchor\": \"x\", \"domain\": [0.625, 1.0]}, \"yaxis2\": {\"anchor\": \"x2\", \"domain\": [0.625, 1.0]}, \"yaxis3\": {\"anchor\": \"x3\", \"domain\": [0.0, 0.375]}},\n",
       "                        {\"responsive\": true}\n",
       "                    ).then(function(){\n",
       "                            \n",
       "var gd = document.getElementById('077d2a52-265d-41dd-b6ec-3d8608084eef');\n",
       "var x = new MutationObserver(function (mutations, observer) {{\n",
       "        var display = window.getComputedStyle(gd).display;\n",
       "        if (!display || display === 'none') {{\n",
       "            console.log([gd, 'removed!']);\n",
       "            Plotly.purge(gd);\n",
       "            observer.disconnect();\n",
       "        }}\n",
       "}});\n",
       "\n",
       "// Listen for the removal of the full notebook cells\n",
       "var notebookContainer = gd.closest('#notebook-container');\n",
       "if (notebookContainer) {{\n",
       "    x.observe(notebookContainer, {childList: true});\n",
       "}}\n",
       "\n",
       "// Listen for the clearing of the current output cell\n",
       "var outputEl = gd.closest('.output');\n",
       "if (outputEl) {{\n",
       "    x.observe(outputEl, {childList: true});\n",
       "}}\n",
       "\n",
       "                        })\n",
       "                };\n",
       "                \n",
       "            </script>\n",
       "        </div>\n",
       "</body>\n",
       "</html>"
      ]
     },
     "metadata": {
      "tags": []
     },
     "output_type": "display_data"
    },
    {
     "data": {
      "application/vnd.google.colaboratory.intrinsic+json": {
       "type": "string"
      },
      "text/plain": [
       "'<iframe id=\"igraph\" scrolling=\"no\" style=\"border:none;\" seamless=\"seamless\" src=\"https://plotly.com/~SharpKoi/20201209.embed\" height=\"525\" width=\"100%\"></iframe>'"
      ]
     },
     "execution_count": 13,
     "metadata": {
      "tags": []
     },
     "output_type": "execute_result"
    }
   ],
   "source": [
    "fig = make_subplots(rows=2, cols=2,\n",
    "           specs=[[{}, {}], [{'colspan': 2}, None]],\n",
    "           subplot_titles=('Loss and Validate loss', 'Accuracy and Validate accuracy', 'F1 Score'))\n",
    "fig.add_trace(go.Scatter(y=perf['loss'], name='loss'), row=1, col=1)\n",
    "fig.add_trace(go.Scatter(y=perf['val_loss'], name='validate loss'), row=1, col=1)\n",
    "\n",
    "fig.add_trace(go.Scatter(y=perf['accuracy'], name='accuracy'), row=1, col=2)\n",
    "fig.add_trace(go.Scatter(y=perf['val_accuracy'], name='validate accuracy'), row=1, col=2)\n",
    "\n",
    "for prop in perf.columns[4:]:\n",
    "  fig.add_trace(go.Scatter(y=perf[prop], name=prop), row=2, col=1)\n",
    "\n",
    "fig.update_layout(height=800, width=1000)\n",
    "\n",
    "fig.show()"
   ]
  },
  {
   "cell_type": "code",
   "execution_count": 14,
   "metadata": {
    "colab": {
     "base_uri": "https://localhost:8080/",
     "height": 35
    },
    "executionInfo": {
     "elapsed": 4775,
     "status": "ok",
     "timestamp": 1607574878303,
     "user": {
      "displayName": "俞鋒李",
      "photoUrl": "",
      "userId": "11733437799324688802"
     },
     "user_tz": -480
    },
    "id": "xjf9kVUp6YOQ",
    "outputId": "7284e201-aec6-4413-9dfb-fa54ea30c201"
   },
   "outputs": [
    {
     "data": {
      "application/vnd.google.colaboratory.intrinsic+json": {
       "type": "string"
      },
      "text/plain": [
       "'https://plotly.com/~SharpKoi/1/'"
      ]
     },
     "execution_count": 14,
     "metadata": {
      "tags": []
     },
     "output_type": "execute_result"
    }
   ],
   "source": [
    "!pip install chart_studio > /dev/null\n",
    "import chart_studio.tools as tls\n",
    "import chart_studio.plotly as cplt\n",
    "\n",
    "usr = 'SharpKoi'\n",
    "api_key = 'XwSSNCqGzY0TWCDthlkC'\n",
    "tls.set_credentials_file(username=usr, api_key=api_key)\n",
    "cplt.plot(fig, file_name='20201209_e96_bs16', auto_open=False)"
   ]
  },
  {
   "cell_type": "code",
   "execution_count": null,
   "metadata": {
    "colab": {
     "base_uri": "https://localhost:8080/"
    },
    "executionInfo": {
     "elapsed": 20451,
     "status": "ok",
     "timestamp": 1607566764873,
     "user": {
      "displayName": "俞鋒李",
      "photoUrl": "",
      "userId": "11733437799324688802"
     },
     "user_tz": -480
    },
    "id": "KYGTuLBCJa6c",
    "outputId": "3d7d0a34-70b5-48b1-9af0-ef0e7ee34ee6",
    "scrolled": true
   },
   "outputs": [
    {
     "name": "stderr",
     "output_type": "stream",
     "text": [
      "2020-12-10 02:19:05,008 [WARNING] kashgari - Sequence length is None, will use the max embedding seq length, which is 512\n",
      "2020-12-10 02:19:05,039 [DEBUG] kashgari - predict seq_length: None, input: (2, 154, 512)\n"
     ]
    },
    {
     "name": "stdout",
     "output_type": "stream",
     "text": [
      "5/5 [==============================] - 6s 1s/step\n"
     ]
    },
    {
     "name": "stderr",
     "output_type": "stream",
     "text": [
      "2020-12-10 02:19:23,988 [DEBUG] kashgari - predict output: (154, 512)\n",
      "2020-12-10 02:19:23,989 [DEBUG] kashgari - predict output argmax: [[0 1 1 ... 1 1 1]\n",
      " [0 1 1 ... 1 1 1]\n",
      " [0 1 1 ... 1 1 1]\n",
      " ...\n",
      " [0 1 1 ... 1 1 1]\n",
      " [0 1 1 ... 1 1 1]\n",
      " [0 1 1 ... 1 1 1]]\n"
     ]
    },
    {
     "name": "stdout",
     "output_type": "stream",
     "text": [
      "\n",
      "            precision    recall  f1-score   support\n",
      "\n",
      "      time     0.9292    0.9622    0.9454       423\n",
      "      name     0.8182    0.9310    0.8710        29\n",
      "  location     1.0000    0.8727    0.9320        55\n",
      "  med_exam     0.9589    0.9589    0.9589        73\n",
      "    family     0.9000    0.7500    0.8182        12\n",
      "     money     0.9375    1.0000    0.9677        15\n",
      "   contact     1.0000    0.4667    0.6364        15\n",
      "        ID     1.0000    1.0000    1.0000         1\n",
      "profession     1.0000    1.0000    1.0000         1\n",
      " education     1.0000    1.0000    1.0000         1\n",
      "\n",
      " micro avg     0.9331    0.9376    0.9354       625\n",
      " macro avg     0.9354    0.9376    0.9333       625\n",
      "\n"
     ]
    },
    {
     "data": {
      "text/plain": [
       "{'detail': {'ID': {'f1-score': 1.0,\n",
       "   'precision': 1.0,\n",
       "   'recall': 1.0,\n",
       "   'support': 1},\n",
       "  'contact': {'f1-score': 0.6363636363636364,\n",
       "   'precision': 1.0,\n",
       "   'recall': 0.4666666666666667,\n",
       "   'support': 15},\n",
       "  'education': {'f1-score': 1.0,\n",
       "   'precision': 1.0,\n",
       "   'recall': 1.0,\n",
       "   'support': 1},\n",
       "  'family': {'f1-score': 0.8181818181818182,\n",
       "   'precision': 0.9,\n",
       "   'recall': 0.75,\n",
       "   'support': 12},\n",
       "  'location': {'f1-score': 0.9320388349514563,\n",
       "   'precision': 1.0,\n",
       "   'recall': 0.8727272727272727,\n",
       "   'support': 55},\n",
       "  'med_exam': {'f1-score': 0.958904109589041,\n",
       "   'precision': 0.958904109589041,\n",
       "   'recall': 0.958904109589041,\n",
       "   'support': 73},\n",
       "  'money': {'f1-score': 0.967741935483871,\n",
       "   'precision': 0.9375,\n",
       "   'recall': 1.0,\n",
       "   'support': 15},\n",
       "  'name': {'f1-score': 0.8709677419354839,\n",
       "   'precision': 0.8181818181818182,\n",
       "   'recall': 0.9310344827586207,\n",
       "   'support': 29},\n",
       "  'profession': {'f1-score': 1.0,\n",
       "   'precision': 1.0,\n",
       "   'recall': 1.0,\n",
       "   'support': 1},\n",
       "  'time': {'f1-score': 0.9454123112659697,\n",
       "   'precision': 0.9292237442922374,\n",
       "   'recall': 0.9621749408983451,\n",
       "   'support': 423}},\n",
       " 'f1-score': 0.9332949975997739,\n",
       " 'precision': 0.9354422665006227,\n",
       " 'recall': 0.9376,\n",
       " 'support': 625}"
      ]
     },
     "execution_count": 11,
     "metadata": {
      "tags": []
     },
     "output_type": "execute_result"
    }
   ],
   "source": [
    "model.evaluate(valid_x_chunks, valid_y_chunks)"
   ]
  },
  {
   "cell_type": "markdown",
   "metadata": {
    "id": "OrC05c04a9NO"
   },
   "source": [
    "# Prediction"
   ]
  },
  {
   "cell_type": "code",
   "execution_count": null,
   "metadata": {
    "id": "b3nO021Bfvh7"
   },
   "outputs": [],
   "source": [
    "from IPython.display import HTML, display\n",
    "\n",
    "def set_css():\n",
    "  display(HTML('''\n",
    "  <style>\n",
    "    pre {\n",
    "        white-space: pre-wrap;\n",
    "    }\n",
    "  </style>\n",
    "  '''))\n",
    "get_ipython().events.register('pre_run_cell', set_css)"
   ]
  },
  {
   "cell_type": "code",
   "execution_count": null,
   "metadata": {
    "colab": {
     "base_uri": "https://localhost:8080/",
     "height": 230
    },
    "executionInfo": {
     "elapsed": 8027,
     "status": "ok",
     "timestamp": 1606914717015,
     "user": {
      "displayName": "俞鋒李",
      "photoUrl": "",
      "userId": "11733437799324688802"
     },
     "user_tz": -480
    },
    "id": "1fx3irwtXg8X",
    "outputId": "d3624f5f-35c3-4f2f-e063-3a54b71f9c52"
   },
   "outputs": [
    {
     "data": {
      "text/html": [
       "\n",
       "  <style>\n",
       "    pre {\n",
       "        white-space: pre-wrap;\n",
       "    }\n",
       "  </style>\n",
       "  "
      ],
      "text/plain": [
       "<IPython.core.display.HTML object>"
      ]
     },
     "metadata": {
      "tags": []
     },
     "output_type": "display_data"
    },
    {
     "name": "stderr",
     "output_type": "stream",
     "text": [
      "2020-12-02 13:11:51,218 [DEBUG] kashgari - ------------------------------------------------\n",
      "2020-12-02 13:11:51,219 [DEBUG] kashgari - Loaded transformer model's vocab\n",
      "2020-12-02 13:11:51,223 [DEBUG] kashgari - config_path       : chinese_L-12_H-768_A-12/bert_config.json\n",
      "2020-12-02 13:11:51,224 [DEBUG] kashgari - vocab_path      : chinese_L-12_H-768_A-12/vocab.txt\n",
      "2020-12-02 13:11:51,225 [DEBUG] kashgari - checkpoint_path : chinese_L-12_H-768_A-12/bert_model.ckpt\n",
      "2020-12-02 13:11:51,227 [DEBUG] kashgari - Top 50 words    : ['[PAD]', '[unused1]', '[unused2]', '[unused3]', '[unused4]', '[unused5]', '[unused6]', '[unused7]', '[unused8]', '[unused9]', '[unused10]', '[unused11]', '[unused12]', '[unused13]', '[unused14]', '[unused15]', '[unused16]', '[unused17]', '[unused18]', '[unused19]', '[unused20]', '[unused21]', '[unused22]', '[unused23]', '[unused24]', '[unused25]', '[unused26]', '[unused27]', '[unused28]', '[unused29]', '[unused30]', '[unused31]', '[unused32]', '[unused33]', '[unused34]', '[unused35]', '[unused36]', '[unused37]', '[unused38]', '[unused39]', '[unused40]', '[unused41]', '[unused42]', '[unused43]', '[unused44]', '[unused45]', '[unused46]', '[unused47]', '[unused48]', '[unused49]']\n",
      "2020-12-02 13:11:51,228 [DEBUG] kashgari - ------------------------------------------------\n"
     ]
    }
   ],
   "source": [
    "# load model\n",
    "save_date = '20201130_mike'\n",
    "model = BiLSTM_CRF_Model.load_model(f'model/{save_date}/')\n",
    "model.crf_layer = model.layer_crf"
   ]
  },
  {
   "cell_type": "code",
   "execution_count": null,
   "metadata": {
    "id": "jJhm3TrEbmvi"
   },
   "outputs": [],
   "source": [
    "for_predict = load_test_file('./data/development_2.txt')"
   ]
  },
  {
   "cell_type": "code",
   "execution_count": null,
   "metadata": {
    "id": "UXfOhBqPCMag"
   },
   "outputs": [],
   "source": [
    "def predict(model: tf.keras.Model, data):\n",
    "    output_df = pd.DataFrame()\n",
    "    for article_id in range(len(data)):\n",
    "        text = list(data[article_id])\n",
    "        batched_text = split_chunks(text)\n",
    "        batched_labels = model.predict(batched_text)\n",
    "        text = [char for batch in batched_text for char in batch]\n",
    "        labels = [l for batch in batched_labels for l in batch]\n",
    "\n",
    "        entities_result = format_result(text, labels)\n",
    "        df = pd.DataFrame(entities_result)\n",
    "        df.insert(0, 'article_id', [article_id for _ in range(len(entities_result))])\n",
    "        output_df = pd.concat([output_df, df], ignore_index=True)\n",
    "    \n",
    "    return output_df"
   ]
  },
  {
   "cell_type": "code",
   "execution_count": null,
   "metadata": {
    "colab": {
     "base_uri": "https://localhost:8080/"
    },
    "executionInfo": {
     "elapsed": 44732,
     "status": "ok",
     "timestamp": 1607566864523,
     "user": {
      "displayName": "俞鋒李",
      "photoUrl": "",
      "userId": "11733437799324688802"
     },
     "user_tz": -480
    },
    "id": "PDtM46TTHUBl",
    "outputId": "da84a579-d106-4480-f340-0d979eae6d53"
   },
   "outputs": [
    {
     "name": "stderr",
     "output_type": "stream",
     "text": [
      "2020-12-10 02:20:20,403 [DEBUG] kashgari - predict seq_length: None, input: (2, 7, 512)\n"
     ]
    },
    {
     "name": "stdout",
     "output_type": "stream",
     "text": [
      "1/1 [==============================] - 0s 4ms/step\n"
     ]
    },
    {
     "name": "stderr",
     "output_type": "stream",
     "text": [
      "2020-12-10 02:20:21,106 [DEBUG] kashgari - predict output: (7, 512)\n",
      "2020-12-10 02:20:21,107 [DEBUG] kashgari - predict output argmax: [[ 0  1  1 ...  1  1  1]\n",
      " [ 0  1  1 ...  1  1  1]\n",
      " [ 0  1  1 ...  1  1  1]\n",
      " ...\n",
      " [ 0  1  1 ...  1  1  1]\n",
      " [ 0 10  7 ...  1  1  1]\n",
      " [ 0  1  3 ...  1  1  1]]\n",
      "2020-12-10 02:20:21,132 [DEBUG] kashgari - predict seq_length: None, input: (2, 2, 512)\n"
     ]
    },
    {
     "name": "stdout",
     "output_type": "stream",
     "text": [
      "1/1 [==============================] - 0s 4ms/step\n"
     ]
    },
    {
     "name": "stderr",
     "output_type": "stream",
     "text": [
      "2020-12-10 02:20:21,566 [DEBUG] kashgari - predict output: (2, 512)\n",
      "2020-12-10 02:20:21,567 [DEBUG] kashgari - predict output argmax: [[0 1 1 ... 1 1 1]\n",
      " [0 1 1 ... 1 1 1]]\n",
      "2020-12-10 02:20:21,584 [DEBUG] kashgari - predict seq_length: None, input: (2, 3, 512)\n"
     ]
    },
    {
     "name": "stdout",
     "output_type": "stream",
     "text": [
      "1/1 [==============================] - 0s 2ms/step\n"
     ]
    },
    {
     "name": "stderr",
     "output_type": "stream",
     "text": [
      "2020-12-10 02:20:22,058 [DEBUG] kashgari - predict output: (3, 512)\n",
      "2020-12-10 02:20:22,059 [DEBUG] kashgari - predict output argmax: [[0 1 1 ... 1 1 1]\n",
      " [0 1 1 ... 1 1 1]\n",
      " [0 1 1 ... 1 1 1]]\n",
      "2020-12-10 02:20:22,087 [DEBUG] kashgari - predict seq_length: None, input: (2, 7, 512)\n"
     ]
    },
    {
     "name": "stdout",
     "output_type": "stream",
     "text": [
      "1/1 [==============================] - 0s 2ms/step\n"
     ]
    },
    {
     "name": "stderr",
     "output_type": "stream",
     "text": [
      "2020-12-10 02:20:22,702 [DEBUG] kashgari - predict output: (7, 512)\n",
      "2020-12-10 02:20:22,703 [DEBUG] kashgari - predict output argmax: [[0 1 1 ... 1 1 1]\n",
      " [0 1 1 ... 1 1 1]\n",
      " [0 1 1 ... 1 1 1]\n",
      " ...\n",
      " [0 1 1 ... 1 1 1]\n",
      " [0 1 1 ... 1 1 1]\n",
      " [0 1 1 ... 1 1 1]]\n",
      "2020-12-10 02:20:22,728 [DEBUG] kashgari - predict seq_length: None, input: (2, 5, 512)\n"
     ]
    },
    {
     "name": "stdout",
     "output_type": "stream",
     "text": [
      "1/1 [==============================] - 0s 2ms/step\n"
     ]
    },
    {
     "name": "stderr",
     "output_type": "stream",
     "text": [
      "2020-12-10 02:20:23,271 [DEBUG] kashgari - predict output: (5, 512)\n",
      "2020-12-10 02:20:23,272 [DEBUG] kashgari - predict output argmax: [[0 1 1 ... 1 1 1]\n",
      " [0 1 1 ... 1 1 1]\n",
      " [0 1 1 ... 1 1 1]\n",
      " [0 1 1 ... 1 1 1]\n",
      " [0 1 1 ... 1 1 1]]\n",
      "2020-12-10 02:20:23,300 [DEBUG] kashgari - predict seq_length: None, input: (2, 6, 512)\n"
     ]
    },
    {
     "name": "stdout",
     "output_type": "stream",
     "text": [
      "1/1 [==============================] - 0s 2ms/step\n"
     ]
    },
    {
     "name": "stderr",
     "output_type": "stream",
     "text": [
      "2020-12-10 02:20:23,876 [DEBUG] kashgari - predict output: (6, 512)\n",
      "2020-12-10 02:20:23,876 [DEBUG] kashgari - predict output argmax: [[0 1 1 ... 1 1 1]\n",
      " [0 1 1 ... 1 1 1]\n",
      " [0 1 1 ... 1 1 1]\n",
      " [0 1 1 ... 1 1 1]\n",
      " [0 1 1 ... 1 1 1]\n",
      " [0 1 1 ... 1 1 1]]\n",
      "2020-12-10 02:20:23,898 [DEBUG] kashgari - predict seq_length: None, input: (2, 4, 512)\n"
     ]
    },
    {
     "name": "stdout",
     "output_type": "stream",
     "text": [
      "1/1 [==============================] - 0s 4ms/step\n"
     ]
    },
    {
     "name": "stderr",
     "output_type": "stream",
     "text": [
      "2020-12-10 02:20:24,394 [DEBUG] kashgari - predict output: (4, 512)\n",
      "2020-12-10 02:20:24,395 [DEBUG] kashgari - predict output argmax: [[0 1 1 ... 1 1 1]\n",
      " [0 1 1 ... 1 1 1]\n",
      " [0 1 1 ... 1 1 1]\n",
      " [0 1 1 ... 1 1 1]]\n",
      "2020-12-10 02:20:24,413 [DEBUG] kashgari - predict seq_length: None, input: (2, 3, 512)\n"
     ]
    },
    {
     "name": "stdout",
     "output_type": "stream",
     "text": [
      "1/1 [==============================] - 0s 2ms/step\n"
     ]
    },
    {
     "name": "stderr",
     "output_type": "stream",
     "text": [
      "2020-12-10 02:20:24,880 [DEBUG] kashgari - predict output: (3, 512)\n",
      "2020-12-10 02:20:24,881 [DEBUG] kashgari - predict output argmax: [[0 1 1 ... 1 1 1]\n",
      " [0 1 1 ... 1 1 1]\n",
      " [0 1 1 ... 1 1 1]]\n",
      "2020-12-10 02:20:24,896 [DEBUG] kashgari - predict seq_length: None, input: (2, 2, 512)\n"
     ]
    },
    {
     "name": "stdout",
     "output_type": "stream",
     "text": [
      "1/1 [==============================] - 0s 2ms/step\n"
     ]
    },
    {
     "name": "stderr",
     "output_type": "stream",
     "text": [
      "2020-12-10 02:20:25,323 [DEBUG] kashgari - predict output: (2, 512)\n",
      "2020-12-10 02:20:25,324 [DEBUG] kashgari - predict output argmax: [[0 1 1 ... 1 1 1]\n",
      " [0 1 1 ... 1 1 1]]\n",
      "2020-12-10 02:20:25,343 [DEBUG] kashgari - predict seq_length: None, input: (2, 2, 512)\n"
     ]
    },
    {
     "name": "stdout",
     "output_type": "stream",
     "text": [
      "1/1 [==============================] - 0s 3ms/step\n"
     ]
    },
    {
     "name": "stderr",
     "output_type": "stream",
     "text": [
      "2020-12-10 02:20:25,778 [DEBUG] kashgari - predict output: (2, 512)\n",
      "2020-12-10 02:20:25,781 [DEBUG] kashgari - predict output argmax: [[0 1 1 ... 1 1 1]\n",
      " [0 1 1 ... 1 1 1]]\n",
      "2020-12-10 02:20:25,795 [DEBUG] kashgari - predict seq_length: None, input: (2, 2, 512)\n"
     ]
    },
    {
     "name": "stdout",
     "output_type": "stream",
     "text": [
      "1/1 [==============================] - 0s 2ms/step\n"
     ]
    },
    {
     "name": "stderr",
     "output_type": "stream",
     "text": [
      "2020-12-10 02:20:26,222 [DEBUG] kashgari - predict output: (2, 512)\n",
      "2020-12-10 02:20:26,224 [DEBUG] kashgari - predict output argmax: [[0 1 1 ... 1 1 1]\n",
      " [0 1 1 ... 1 1 1]]\n",
      "2020-12-10 02:20:26,245 [DEBUG] kashgari - predict seq_length: None, input: (2, 5, 512)\n"
     ]
    },
    {
     "name": "stdout",
     "output_type": "stream",
     "text": [
      "1/1 [==============================] - 0s 2ms/step\n"
     ]
    },
    {
     "name": "stderr",
     "output_type": "stream",
     "text": [
      "2020-12-10 02:20:26,793 [DEBUG] kashgari - predict output: (5, 512)\n",
      "2020-12-10 02:20:26,793 [DEBUG] kashgari - predict output argmax: [[0 1 1 ... 1 1 1]\n",
      " [0 1 1 ... 1 1 1]\n",
      " [0 1 1 ... 1 1 1]\n",
      " [0 1 1 ... 1 1 1]\n",
      " [0 1 1 ... 1 1 1]]\n",
      "2020-12-10 02:20:26,814 [DEBUG] kashgari - predict seq_length: None, input: (2, 2, 512)\n"
     ]
    },
    {
     "name": "stdout",
     "output_type": "stream",
     "text": [
      "1/1 [==============================] - 0s 2ms/step\n"
     ]
    },
    {
     "name": "stderr",
     "output_type": "stream",
     "text": [
      "2020-12-10 02:20:27,256 [DEBUG] kashgari - predict output: (2, 512)\n",
      "2020-12-10 02:20:27,259 [DEBUG] kashgari - predict output argmax: [[0 1 1 ... 1 1 1]\n",
      " [0 1 1 ... 1 1 1]]\n",
      "2020-12-10 02:20:27,276 [DEBUG] kashgari - predict seq_length: None, input: (2, 3, 512)\n"
     ]
    },
    {
     "name": "stdout",
     "output_type": "stream",
     "text": [
      "1/1 [==============================] - 0s 2ms/step\n"
     ]
    },
    {
     "name": "stderr",
     "output_type": "stream",
     "text": [
      "2020-12-10 02:20:27,737 [DEBUG] kashgari - predict output: (3, 512)\n",
      "2020-12-10 02:20:27,738 [DEBUG] kashgari - predict output argmax: [[0 1 1 ... 1 1 1]\n",
      " [0 1 1 ... 1 1 1]\n",
      " [0 1 1 ... 1 1 1]]\n",
      "2020-12-10 02:20:27,756 [DEBUG] kashgari - predict seq_length: None, input: (2, 3, 512)\n"
     ]
    },
    {
     "name": "stdout",
     "output_type": "stream",
     "text": [
      "1/1 [==============================] - 0s 2ms/step\n"
     ]
    },
    {
     "name": "stderr",
     "output_type": "stream",
     "text": [
      "2020-12-10 02:20:28,217 [DEBUG] kashgari - predict output: (3, 512)\n",
      "2020-12-10 02:20:28,218 [DEBUG] kashgari - predict output argmax: [[0 1 1 ... 1 1 1]\n",
      " [0 1 1 ... 1 1 1]\n",
      " [0 1 1 ... 2 2 2]]\n",
      "2020-12-10 02:20:28,241 [DEBUG] kashgari - predict seq_length: None, input: (2, 4, 512)\n"
     ]
    },
    {
     "name": "stdout",
     "output_type": "stream",
     "text": [
      "1/1 [==============================] - 0s 2ms/step\n"
     ]
    },
    {
     "name": "stderr",
     "output_type": "stream",
     "text": [
      "2020-12-10 02:20:28,758 [DEBUG] kashgari - predict output: (4, 512)\n",
      "2020-12-10 02:20:28,760 [DEBUG] kashgari - predict output argmax: [[0 1 1 ... 1 1 1]\n",
      " [0 1 1 ... 1 1 1]\n",
      " [0 1 1 ... 1 1 1]\n",
      " [0 1 1 ... 1 1 1]]\n",
      "2020-12-10 02:20:28,775 [DEBUG] kashgari - predict seq_length: None, input: (2, 2, 512)\n"
     ]
    },
    {
     "name": "stdout",
     "output_type": "stream",
     "text": [
      "1/1 [==============================] - 0s 1ms/step\n"
     ]
    },
    {
     "name": "stderr",
     "output_type": "stream",
     "text": [
      "2020-12-10 02:20:29,206 [DEBUG] kashgari - predict output: (2, 512)\n",
      "2020-12-10 02:20:29,206 [DEBUG] kashgari - predict output argmax: [[0 1 1 ... 1 1 1]\n",
      " [0 1 1 ... 1 1 1]]\n",
      "2020-12-10 02:20:29,232 [DEBUG] kashgari - predict seq_length: None, input: (2, 7, 512)\n"
     ]
    },
    {
     "name": "stdout",
     "output_type": "stream",
     "text": [
      "1/1 [==============================] - 0s 2ms/step\n"
     ]
    },
    {
     "name": "stderr",
     "output_type": "stream",
     "text": [
      "2020-12-10 02:20:29,853 [DEBUG] kashgari - predict output: (7, 512)\n",
      "2020-12-10 02:20:29,854 [DEBUG] kashgari - predict output argmax: [[0 1 1 ... 1 1 1]\n",
      " [0 1 1 ... 1 1 1]\n",
      " [0 1 1 ... 1 1 1]\n",
      " ...\n",
      " [0 1 1 ... 1 1 1]\n",
      " [0 1 1 ... 1 1 1]\n",
      " [0 1 1 ... 1 1 1]]\n",
      "2020-12-10 02:20:29,874 [DEBUG] kashgari - predict seq_length: None, input: (2, 2, 512)\n"
     ]
    },
    {
     "name": "stdout",
     "output_type": "stream",
     "text": [
      "1/1 [==============================] - 0s 4ms/step\n"
     ]
    },
    {
     "name": "stderr",
     "output_type": "stream",
     "text": [
      "2020-12-10 02:20:30,298 [DEBUG] kashgari - predict output: (2, 512)\n",
      "2020-12-10 02:20:30,299 [DEBUG] kashgari - predict output argmax: [[0 1 1 ... 1 1 1]\n",
      " [0 1 1 ... 1 1 1]]\n",
      "2020-12-10 02:20:30,335 [DEBUG] kashgari - predict seq_length: None, input: (2, 12, 512)\n"
     ]
    },
    {
     "name": "stdout",
     "output_type": "stream",
     "text": [
      "1/1 [==============================] - 0s 5ms/step\n"
     ]
    },
    {
     "name": "stderr",
     "output_type": "stream",
     "text": [
      "2020-12-10 02:20:31,123 [DEBUG] kashgari - predict output: (12, 512)\n",
      "2020-12-10 02:20:31,124 [DEBUG] kashgari - predict output argmax: [[0 1 1 ... 1 1 1]\n",
      " [0 1 1 ... 1 1 1]\n",
      " [0 1 1 ... 1 1 1]\n",
      " ...\n",
      " [0 1 1 ... 1 1 1]\n",
      " [0 1 1 ... 1 1 1]\n",
      " [0 1 1 ... 1 1 1]]\n",
      "2020-12-10 02:20:31,162 [DEBUG] kashgari - predict seq_length: None, input: (2, 10, 512)\n"
     ]
    },
    {
     "name": "stdout",
     "output_type": "stream",
     "text": [
      "1/1 [==============================] - 0s 5ms/step\n"
     ]
    },
    {
     "name": "stderr",
     "output_type": "stream",
     "text": [
      "2020-12-10 02:20:31,892 [DEBUG] kashgari - predict output: (10, 512)\n",
      "2020-12-10 02:20:31,892 [DEBUG] kashgari - predict output argmax: [[0 1 1 ... 1 1 1]\n",
      " [0 1 1 ... 1 1 1]\n",
      " [0 1 1 ... 1 1 1]\n",
      " ...\n",
      " [0 1 1 ... 1 1 1]\n",
      " [0 1 1 ... 1 1 1]\n",
      " [0 1 1 ... 1 1 1]]\n",
      "2020-12-10 02:20:31,924 [DEBUG] kashgari - predict seq_length: None, input: (2, 7, 512)\n"
     ]
    },
    {
     "name": "stdout",
     "output_type": "stream",
     "text": [
      "1/1 [==============================] - 0s 8ms/step\n"
     ]
    },
    {
     "name": "stderr",
     "output_type": "stream",
     "text": [
      "2020-12-10 02:20:32,527 [DEBUG] kashgari - predict output: (7, 512)\n",
      "2020-12-10 02:20:32,528 [DEBUG] kashgari - predict output argmax: [[ 0  1  1 ...  1  1  1]\n",
      " [ 0  1  1 ...  1  1  1]\n",
      " [ 0  1  1 ...  1  1  1]\n",
      " ...\n",
      " [ 0  1  1 ...  1 10  7]\n",
      " [ 0  1  1 ...  1  1  1]\n",
      " [ 0  1  1 ...  1  1  1]]\n",
      "2020-12-10 02:20:32,562 [DEBUG] kashgari - predict seq_length: None, input: (2, 8, 512)\n"
     ]
    },
    {
     "name": "stdout",
     "output_type": "stream",
     "text": [
      "1/1 [==============================] - 0s 2ms/step\n"
     ]
    },
    {
     "name": "stderr",
     "output_type": "stream",
     "text": [
      "2020-12-10 02:20:33,202 [DEBUG] kashgari - predict output: (8, 512)\n",
      "2020-12-10 02:20:33,204 [DEBUG] kashgari - predict output argmax: [[0 1 1 ... 1 1 1]\n",
      " [0 1 1 ... 1 1 1]\n",
      " [0 1 1 ... 1 1 1]\n",
      " ...\n",
      " [0 1 1 ... 1 1 1]\n",
      " [0 1 1 ... 1 1 1]\n",
      " [0 1 1 ... 1 1 1]]\n",
      "2020-12-10 02:20:33,230 [DEBUG] kashgari - predict seq_length: None, input: (2, 4, 512)\n"
     ]
    },
    {
     "name": "stdout",
     "output_type": "stream",
     "text": [
      "1/1 [==============================] - 0s 2ms/step\n"
     ]
    },
    {
     "name": "stderr",
     "output_type": "stream",
     "text": [
      "2020-12-10 02:20:33,734 [DEBUG] kashgari - predict output: (4, 512)\n",
      "2020-12-10 02:20:33,735 [DEBUG] kashgari - predict output argmax: [[0 1 1 ... 1 1 1]\n",
      " [0 1 1 ... 2 2 2]\n",
      " [0 1 1 ... 1 1 1]\n",
      " [0 1 1 ... 1 1 1]]\n",
      "2020-12-10 02:20:33,759 [DEBUG] kashgari - predict seq_length: None, input: (2, 3, 512)\n"
     ]
    },
    {
     "name": "stdout",
     "output_type": "stream",
     "text": [
      "1/1 [==============================] - 0s 2ms/step\n"
     ]
    },
    {
     "name": "stderr",
     "output_type": "stream",
     "text": [
      "2020-12-10 02:20:34,228 [DEBUG] kashgari - predict output: (3, 512)\n",
      "2020-12-10 02:20:34,231 [DEBUG] kashgari - predict output argmax: [[0 1 1 ... 1 1 1]\n",
      " [0 1 1 ... 1 1 1]\n",
      " [0 1 1 ... 1 1 1]]\n",
      "2020-12-10 02:20:34,248 [DEBUG] kashgari - predict seq_length: None, input: (2, 3, 512)\n"
     ]
    },
    {
     "name": "stdout",
     "output_type": "stream",
     "text": [
      "1/1 [==============================] - 0s 2ms/step\n"
     ]
    },
    {
     "name": "stderr",
     "output_type": "stream",
     "text": [
      "2020-12-10 02:20:34,713 [DEBUG] kashgari - predict output: (3, 512)\n",
      "2020-12-10 02:20:34,714 [DEBUG] kashgari - predict output argmax: [[0 1 1 ... 1 1 1]\n",
      " [0 1 1 ... 1 1 1]\n",
      " [0 1 1 ... 1 1 1]]\n",
      "2020-12-10 02:20:34,738 [DEBUG] kashgari - predict seq_length: None, input: (2, 6, 512)\n"
     ]
    },
    {
     "name": "stdout",
     "output_type": "stream",
     "text": [
      "1/1 [==============================] - 0s 2ms/step\n"
     ]
    },
    {
     "name": "stderr",
     "output_type": "stream",
     "text": [
      "2020-12-10 02:20:35,326 [DEBUG] kashgari - predict output: (6, 512)\n",
      "2020-12-10 02:20:35,327 [DEBUG] kashgari - predict output argmax: [[0 1 1 ... 1 1 1]\n",
      " [0 1 1 ... 1 1 1]\n",
      " [0 1 1 ... 1 1 1]\n",
      " [0 1 1 ... 1 1 1]\n",
      " [0 1 1 ... 1 1 1]\n",
      " [0 1 1 ... 1 1 1]]\n",
      "2020-12-10 02:20:35,346 [DEBUG] kashgari - predict seq_length: None, input: (2, 2, 512)\n"
     ]
    },
    {
     "name": "stdout",
     "output_type": "stream",
     "text": [
      "1/1 [==============================] - 0s 11ms/step\n"
     ]
    },
    {
     "name": "stderr",
     "output_type": "stream",
     "text": [
      "2020-12-10 02:20:35,777 [DEBUG] kashgari - predict output: (2, 512)\n",
      "2020-12-10 02:20:35,778 [DEBUG] kashgari - predict output argmax: [[0 1 1 ... 1 1 1]\n",
      " [0 1 1 ... 1 1 1]]\n",
      "2020-12-10 02:20:35,800 [DEBUG] kashgari - predict seq_length: None, input: (2, 6, 512)\n"
     ]
    },
    {
     "name": "stdout",
     "output_type": "stream",
     "text": [
      "1/1 [==============================] - 0s 2ms/step\n"
     ]
    },
    {
     "name": "stderr",
     "output_type": "stream",
     "text": [
      "2020-12-10 02:20:36,398 [DEBUG] kashgari - predict output: (6, 512)\n",
      "2020-12-10 02:20:36,399 [DEBUG] kashgari - predict output argmax: [[0 1 1 ... 1 1 1]\n",
      " [0 1 1 ... 1 1 1]\n",
      " [0 1 1 ... 1 1 1]\n",
      " [0 1 1 ... 1 1 1]\n",
      " [0 1 1 ... 1 1 1]\n",
      " [0 1 1 ... 1 1 1]]\n",
      "2020-12-10 02:20:36,424 [DEBUG] kashgari - predict seq_length: None, input: (2, 6, 512)\n"
     ]
    },
    {
     "name": "stdout",
     "output_type": "stream",
     "text": [
      "1/1 [==============================] - 0s 2ms/step\n"
     ]
    },
    {
     "name": "stderr",
     "output_type": "stream",
     "text": [
      "2020-12-10 02:20:37,014 [DEBUG] kashgari - predict output: (6, 512)\n",
      "2020-12-10 02:20:37,015 [DEBUG] kashgari - predict output argmax: [[0 1 1 ... 1 1 1]\n",
      " [0 1 1 ... 1 1 1]\n",
      " [0 1 1 ... 1 1 1]\n",
      " [0 1 1 ... 1 1 1]\n",
      " [0 1 1 ... 1 1 1]\n",
      " [0 1 1 ... 1 1 1]]\n",
      "2020-12-10 02:20:37,035 [DEBUG] kashgari - predict seq_length: None, input: (2, 4, 512)\n"
     ]
    },
    {
     "name": "stdout",
     "output_type": "stream",
     "text": [
      "1/1 [==============================] - 0s 1ms/step\n"
     ]
    },
    {
     "name": "stderr",
     "output_type": "stream",
     "text": [
      "2020-12-10 02:20:37,550 [DEBUG] kashgari - predict output: (4, 512)\n",
      "2020-12-10 02:20:37,551 [DEBUG] kashgari - predict output argmax: [[0 1 1 ... 1 1 1]\n",
      " [0 2 2 ... 1 1 1]\n",
      " [0 1 1 ... 1 1 1]\n",
      " [0 1 1 ... 1 1 1]]\n",
      "2020-12-10 02:20:37,572 [DEBUG] kashgari - predict seq_length: None, input: (2, 5, 512)\n"
     ]
    },
    {
     "name": "stdout",
     "output_type": "stream",
     "text": [
      "1/1 [==============================] - 0s 2ms/step\n"
     ]
    },
    {
     "name": "stderr",
     "output_type": "stream",
     "text": [
      "2020-12-10 02:20:38,102 [DEBUG] kashgari - predict output: (5, 512)\n",
      "2020-12-10 02:20:38,103 [DEBUG] kashgari - predict output argmax: [[0 1 1 ... 1 1 1]\n",
      " [0 1 1 ... 1 1 1]\n",
      " [0 1 1 ... 1 1 1]\n",
      " [0 1 1 ... 1 1 1]\n",
      " [0 1 1 ... 1 1 1]]\n",
      "2020-12-10 02:20:38,133 [DEBUG] kashgari - predict seq_length: None, input: (2, 6, 512)\n"
     ]
    },
    {
     "name": "stdout",
     "output_type": "stream",
     "text": [
      "1/1 [==============================] - 0s 2ms/step\n"
     ]
    },
    {
     "name": "stderr",
     "output_type": "stream",
     "text": [
      "2020-12-10 02:20:38,708 [DEBUG] kashgari - predict output: (6, 512)\n",
      "2020-12-10 02:20:38,709 [DEBUG] kashgari - predict output argmax: [[0 1 1 ... 1 1 1]\n",
      " [0 1 3 ... 1 1 1]\n",
      " [0 1 1 ... 1 1 1]\n",
      " [0 1 1 ... 1 1 1]\n",
      " [0 1 1 ... 1 1 1]\n",
      " [0 1 1 ... 1 1 1]]\n",
      "2020-12-10 02:20:38,727 [DEBUG] kashgari - predict seq_length: None, input: (2, 2, 512)\n"
     ]
    },
    {
     "name": "stdout",
     "output_type": "stream",
     "text": [
      "1/1 [==============================] - 0s 2ms/step\n"
     ]
    },
    {
     "name": "stderr",
     "output_type": "stream",
     "text": [
      "2020-12-10 02:20:39,152 [DEBUG] kashgari - predict output: (2, 512)\n",
      "2020-12-10 02:20:39,154 [DEBUG] kashgari - predict output argmax: [[0 1 1 ... 1 1 1]\n",
      " [0 1 1 ... 1 1 1]]\n",
      "2020-12-10 02:20:39,184 [DEBUG] kashgari - predict seq_length: None, input: (2, 10, 512)\n"
     ]
    },
    {
     "name": "stdout",
     "output_type": "stream",
     "text": [
      "1/1 [==============================] - 0s 2ms/step\n"
     ]
    },
    {
     "name": "stderr",
     "output_type": "stream",
     "text": [
      "2020-12-10 02:20:39,903 [DEBUG] kashgari - predict output: (10, 512)\n",
      "2020-12-10 02:20:39,904 [DEBUG] kashgari - predict output argmax: [[ 0  1  1 ...  1  1  1]\n",
      " [ 0  1  1 ...  1  1  1]\n",
      " [ 0  1  1 ...  1  1  1]\n",
      " ...\n",
      " [ 0  1  1 ...  1  1  1]\n",
      " [ 0  1  1 ... 10  7  1]\n",
      " [ 0  1  1 ...  1  1  1]]\n",
      "2020-12-10 02:20:39,947 [DEBUG] kashgari - predict seq_length: None, input: (2, 11, 512)\n"
     ]
    },
    {
     "name": "stdout",
     "output_type": "stream",
     "text": [
      "1/1 [==============================] - 0s 5ms/step\n"
     ]
    },
    {
     "name": "stderr",
     "output_type": "stream",
     "text": [
      "2020-12-10 02:20:40,704 [DEBUG] kashgari - predict output: (11, 512)\n",
      "2020-12-10 02:20:40,705 [DEBUG] kashgari - predict output argmax: [[0 1 1 ... 1 1 1]\n",
      " [0 1 1 ... 1 1 1]\n",
      " [0 1 1 ... 1 1 1]\n",
      " ...\n",
      " [0 1 1 ... 1 1 1]\n",
      " [0 1 1 ... 1 1 1]\n",
      " [0 1 1 ... 1 1 1]]\n",
      "2020-12-10 02:20:40,727 [DEBUG] kashgari - predict seq_length: None, input: (2, 2, 512)\n"
     ]
    },
    {
     "name": "stdout",
     "output_type": "stream",
     "text": [
      "1/1 [==============================] - 0s 1ms/step\n"
     ]
    },
    {
     "name": "stderr",
     "output_type": "stream",
     "text": [
      "2020-12-10 02:20:41,158 [DEBUG] kashgari - predict output: (2, 512)\n",
      "2020-12-10 02:20:41,159 [DEBUG] kashgari - predict output argmax: [[0 1 1 ... 1 1 1]\n",
      " [0 1 1 ... 1 1 1]]\n",
      "2020-12-10 02:20:41,177 [DEBUG] kashgari - predict seq_length: None, input: (2, 3, 512)\n"
     ]
    },
    {
     "name": "stdout",
     "output_type": "stream",
     "text": [
      "1/1 [==============================] - 0s 2ms/step\n"
     ]
    },
    {
     "name": "stderr",
     "output_type": "stream",
     "text": [
      "2020-12-10 02:20:41,638 [DEBUG] kashgari - predict output: (3, 512)\n",
      "2020-12-10 02:20:41,639 [DEBUG] kashgari - predict output argmax: [[0 1 1 ... 1 1 1]\n",
      " [0 1 1 ... 1 1 1]\n",
      " [0 1 1 ... 1 1 1]]\n",
      "2020-12-10 02:20:41,659 [DEBUG] kashgari - predict seq_length: None, input: (2, 2, 512)\n"
     ]
    },
    {
     "name": "stdout",
     "output_type": "stream",
     "text": [
      "1/1 [==============================] - 0s 2ms/step\n"
     ]
    },
    {
     "name": "stderr",
     "output_type": "stream",
     "text": [
      "2020-12-10 02:20:42,100 [DEBUG] kashgari - predict output: (2, 512)\n",
      "2020-12-10 02:20:42,101 [DEBUG] kashgari - predict output argmax: [[0 1 1 ... 1 1 1]\n",
      " [0 1 1 ... 1 1 1]]\n",
      "2020-12-10 02:20:42,123 [DEBUG] kashgari - predict seq_length: None, input: (2, 5, 512)\n"
     ]
    },
    {
     "name": "stdout",
     "output_type": "stream",
     "text": [
      "1/1 [==============================] - 0s 2ms/step\n"
     ]
    },
    {
     "name": "stderr",
     "output_type": "stream",
     "text": [
      "2020-12-10 02:20:42,659 [DEBUG] kashgari - predict output: (5, 512)\n",
      "2020-12-10 02:20:42,660 [DEBUG] kashgari - predict output argmax: [[0 1 1 ... 1 1 1]\n",
      " [0 1 1 ... 1 1 1]\n",
      " [0 1 1 ... 1 1 1]\n",
      " [0 1 1 ... 1 1 1]\n",
      " [0 1 1 ... 1 1 1]]\n",
      "2020-12-10 02:20:42,678 [DEBUG] kashgari - predict seq_length: None, input: (2, 3, 512)\n"
     ]
    },
    {
     "name": "stdout",
     "output_type": "stream",
     "text": [
      "1/1 [==============================] - 0s 1ms/step\n"
     ]
    },
    {
     "name": "stderr",
     "output_type": "stream",
     "text": [
      "2020-12-10 02:20:43,138 [DEBUG] kashgari - predict output: (3, 512)\n",
      "2020-12-10 02:20:43,138 [DEBUG] kashgari - predict output argmax: [[0 1 1 ... 1 1 1]\n",
      " [0 1 1 ... 1 1 1]\n",
      " [0 1 1 ... 1 1 1]]\n",
      "2020-12-10 02:20:43,160 [DEBUG] kashgari - predict seq_length: None, input: (2, 4, 512)\n"
     ]
    },
    {
     "name": "stdout",
     "output_type": "stream",
     "text": [
      "1/1 [==============================] - 0s 2ms/step\n"
     ]
    },
    {
     "name": "stderr",
     "output_type": "stream",
     "text": [
      "2020-12-10 02:20:43,686 [DEBUG] kashgari - predict output: (4, 512)\n",
      "2020-12-10 02:20:43,687 [DEBUG] kashgari - predict output argmax: [[ 0  1  1 ...  1  1  1]\n",
      " [ 0  1  1 ... 10  7  7]\n",
      " [ 0  1  1 ...  1  1  1]\n",
      " [ 0  1  1 ...  1  1  0]]\n",
      "2020-12-10 02:20:43,711 [DEBUG] kashgari - predict seq_length: None, input: (2, 6, 512)\n"
     ]
    },
    {
     "name": "stdout",
     "output_type": "stream",
     "text": [
      "1/1 [==============================] - 0s 4ms/step\n"
     ]
    },
    {
     "name": "stderr",
     "output_type": "stream",
     "text": [
      "2020-12-10 02:20:44,300 [DEBUG] kashgari - predict output: (6, 512)\n",
      "2020-12-10 02:20:44,301 [DEBUG] kashgari - predict output argmax: [[0 1 1 ... 1 1 1]\n",
      " [0 1 1 ... 1 1 1]\n",
      " [0 1 1 ... 1 1 1]\n",
      " [0 1 1 ... 1 1 1]\n",
      " [0 1 1 ... 1 1 1]\n",
      " [0 1 1 ... 1 1 1]]\n",
      "2020-12-10 02:20:44,324 [DEBUG] kashgari - predict seq_length: None, input: (2, 4, 512)\n"
     ]
    },
    {
     "name": "stdout",
     "output_type": "stream",
     "text": [
      "1/1 [==============================] - 0s 2ms/step\n"
     ]
    },
    {
     "name": "stderr",
     "output_type": "stream",
     "text": [
      "2020-12-10 02:20:44,810 [DEBUG] kashgari - predict output: (4, 512)\n",
      "2020-12-10 02:20:44,811 [DEBUG] kashgari - predict output argmax: [[0 1 1 ... 1 1 1]\n",
      " [0 1 1 ... 1 1 1]\n",
      " [0 1 1 ... 1 1 1]\n",
      " [0 1 1 ... 1 1 1]]\n",
      "2020-12-10 02:20:44,830 [DEBUG] kashgari - predict seq_length: None, input: (2, 4, 512)\n"
     ]
    },
    {
     "name": "stdout",
     "output_type": "stream",
     "text": [
      "1/1 [==============================] - 0s 2ms/step\n"
     ]
    },
    {
     "name": "stderr",
     "output_type": "stream",
     "text": [
      "2020-12-10 02:20:45,355 [DEBUG] kashgari - predict output: (4, 512)\n",
      "2020-12-10 02:20:45,356 [DEBUG] kashgari - predict output argmax: [[0 1 1 ... 1 1 1]\n",
      " [0 1 1 ... 1 1 1]\n",
      " [0 1 1 ... 1 1 1]\n",
      " [0 1 1 ... 1 1 1]]\n",
      "2020-12-10 02:20:45,374 [DEBUG] kashgari - predict seq_length: None, input: (2, 3, 512)\n"
     ]
    },
    {
     "name": "stdout",
     "output_type": "stream",
     "text": [
      "1/1 [==============================] - 0s 3ms/step\n"
     ]
    },
    {
     "name": "stderr",
     "output_type": "stream",
     "text": [
      "2020-12-10 02:20:45,835 [DEBUG] kashgari - predict output: (3, 512)\n",
      "2020-12-10 02:20:45,836 [DEBUG] kashgari - predict output argmax: [[0 1 1 ... 2 2 1]\n",
      " [0 1 1 ... 1 1 1]\n",
      " [0 1 1 ... 1 1 1]]\n",
      "2020-12-10 02:20:45,870 [DEBUG] kashgari - predict seq_length: None, input: (2, 11, 512)\n"
     ]
    },
    {
     "name": "stdout",
     "output_type": "stream",
     "text": [
      "1/1 [==============================] - 0s 2ms/step\n"
     ]
    },
    {
     "name": "stderr",
     "output_type": "stream",
     "text": [
      "2020-12-10 02:20:46,616 [DEBUG] kashgari - predict output: (11, 512)\n",
      "2020-12-10 02:20:46,617 [DEBUG] kashgari - predict output argmax: [[0 1 1 ... 1 1 1]\n",
      " [0 1 1 ... 1 1 1]\n",
      " [0 1 1 ... 1 1 1]\n",
      " ...\n",
      " [0 1 1 ... 1 1 1]\n",
      " [0 1 1 ... 1 1 1]\n",
      " [0 1 1 ... 1 1 1]]\n",
      "2020-12-10 02:20:46,646 [DEBUG] kashgari - predict seq_length: None, input: (2, 5, 512)\n"
     ]
    },
    {
     "name": "stdout",
     "output_type": "stream",
     "text": [
      "1/1 [==============================] - 0s 2ms/step\n"
     ]
    },
    {
     "name": "stderr",
     "output_type": "stream",
     "text": [
      "2020-12-10 02:20:47,174 [DEBUG] kashgari - predict output: (5, 512)\n",
      "2020-12-10 02:20:47,175 [DEBUG] kashgari - predict output argmax: [[0 1 1 ... 1 1 1]\n",
      " [0 1 1 ... 1 1 1]\n",
      " [0 1 1 ... 1 1 1]\n",
      " [0 1 1 ... 1 1 1]\n",
      " [0 1 1 ... 1 1 1]]\n",
      "2020-12-10 02:20:47,200 [DEBUG] kashgari - predict seq_length: None, input: (2, 4, 512)\n"
     ]
    },
    {
     "name": "stdout",
     "output_type": "stream",
     "text": [
      "1/1 [==============================] - 0s 2ms/step\n"
     ]
    },
    {
     "name": "stderr",
     "output_type": "stream",
     "text": [
      "2020-12-10 02:20:47,703 [DEBUG] kashgari - predict output: (4, 512)\n",
      "2020-12-10 02:20:47,705 [DEBUG] kashgari - predict output argmax: [[0 1 1 ... 1 1 1]\n",
      " [0 1 1 ... 1 1 1]\n",
      " [0 1 1 ... 1 1 1]\n",
      " [0 1 1 ... 1 1 1]]\n",
      "2020-12-10 02:20:47,738 [DEBUG] kashgari - predict seq_length: None, input: (2, 10, 512)\n"
     ]
    },
    {
     "name": "stdout",
     "output_type": "stream",
     "text": [
      "1/1 [==============================] - 0s 2ms/step\n"
     ]
    },
    {
     "name": "stderr",
     "output_type": "stream",
     "text": [
      "2020-12-10 02:20:48,457 [DEBUG] kashgari - predict output: (10, 512)\n",
      "2020-12-10 02:20:48,458 [DEBUG] kashgari - predict output argmax: [[0 1 1 ... 1 1 1]\n",
      " [0 1 1 ... 1 1 1]\n",
      " [0 1 1 ... 1 1 1]\n",
      " ...\n",
      " [0 1 1 ... 1 1 1]\n",
      " [0 1 1 ... 1 1 1]\n",
      " [0 1 1 ... 1 1 1]]\n",
      "2020-12-10 02:20:48,492 [DEBUG] kashgari - predict seq_length: None, input: (2, 8, 512)\n"
     ]
    },
    {
     "name": "stdout",
     "output_type": "stream",
     "text": [
      "1/1 [==============================] - 0s 2ms/step\n"
     ]
    },
    {
     "name": "stderr",
     "output_type": "stream",
     "text": [
      "2020-12-10 02:20:49,149 [DEBUG] kashgari - predict output: (8, 512)\n",
      "2020-12-10 02:20:49,150 [DEBUG] kashgari - predict output argmax: [[0 1 1 ... 1 1 1]\n",
      " [0 1 1 ... 1 1 1]\n",
      " [0 1 1 ... 1 1 1]\n",
      " ...\n",
      " [0 1 1 ... 1 1 1]\n",
      " [0 1 1 ... 2 2 2]\n",
      " [0 1 1 ... 1 1 1]]\n",
      "2020-12-10 02:20:49,192 [DEBUG] kashgari - predict seq_length: None, input: (2, 12, 512)\n"
     ]
    },
    {
     "name": "stdout",
     "output_type": "stream",
     "text": [
      "1/1 [==============================] - 0s 4ms/step\n"
     ]
    },
    {
     "name": "stderr",
     "output_type": "stream",
     "text": [
      "2020-12-10 02:20:49,998 [DEBUG] kashgari - predict output: (12, 512)\n",
      "2020-12-10 02:20:49,999 [DEBUG] kashgari - predict output argmax: [[0 1 1 ... 1 1 1]\n",
      " [0 1 1 ... 1 1 1]\n",
      " [0 1 1 ... 1 1 3]\n",
      " ...\n",
      " [0 1 1 ... 1 1 1]\n",
      " [0 1 1 ... 1 1 1]\n",
      " [0 1 1 ... 1 1 1]]\n",
      "2020-12-10 02:20:50,292 [DEBUG] kashgari - predict seq_length: None, input: (2, 4, 512)\n"
     ]
    },
    {
     "name": "stdout",
     "output_type": "stream",
     "text": [
      "1/1 [==============================] - 0s 2ms/step\n"
     ]
    },
    {
     "name": "stderr",
     "output_type": "stream",
     "text": [
      "2020-12-10 02:20:50,775 [DEBUG] kashgari - predict output: (4, 512)\n",
      "2020-12-10 02:20:50,777 [DEBUG] kashgari - predict output argmax: [[0 1 1 ... 1 1 1]\n",
      " [0 1 1 ... 1 1 1]\n",
      " [0 1 1 ... 1 1 1]\n",
      " [0 1 1 ... 1 1 1]]\n",
      "2020-12-10 02:20:50,795 [DEBUG] kashgari - predict seq_length: None, input: (2, 3, 512)\n"
     ]
    },
    {
     "name": "stdout",
     "output_type": "stream",
     "text": [
      "1/1 [==============================] - 0s 2ms/step\n"
     ]
    },
    {
     "name": "stderr",
     "output_type": "stream",
     "text": [
      "2020-12-10 02:20:51,269 [DEBUG] kashgari - predict output: (3, 512)\n",
      "2020-12-10 02:20:51,270 [DEBUG] kashgari - predict output argmax: [[0 1 1 ... 1 1 1]\n",
      " [0 1 1 ... 1 1 1]\n",
      " [0 1 1 ... 1 1 1]]\n",
      "2020-12-10 02:20:51,285 [DEBUG] kashgari - predict seq_length: None, input: (2, 2, 512)\n"
     ]
    },
    {
     "name": "stdout",
     "output_type": "stream",
     "text": [
      "1/1 [==============================] - 0s 1ms/step\n"
     ]
    },
    {
     "name": "stderr",
     "output_type": "stream",
     "text": [
      "2020-12-10 02:20:51,712 [DEBUG] kashgari - predict output: (2, 512)\n",
      "2020-12-10 02:20:51,713 [DEBUG] kashgari - predict output argmax: [[0 1 1 ... 1 1 1]\n",
      " [0 1 1 ... 1 1 1]]\n",
      "2020-12-10 02:20:51,731 [DEBUG] kashgari - predict seq_length: None, input: (2, 3, 512)\n"
     ]
    },
    {
     "name": "stdout",
     "output_type": "stream",
     "text": [
      "1/1 [==============================] - 0s 4ms/step\n"
     ]
    },
    {
     "name": "stderr",
     "output_type": "stream",
     "text": [
      "2020-12-10 02:20:52,203 [DEBUG] kashgari - predict output: (3, 512)\n",
      "2020-12-10 02:20:52,204 [DEBUG] kashgari - predict output argmax: [[0 1 1 ... 1 1 1]\n",
      " [0 1 1 ... 1 1 1]\n",
      " [0 1 1 ... 1 1 1]]\n",
      "2020-12-10 02:20:52,230 [DEBUG] kashgari - predict seq_length: None, input: (2, 5, 512)\n"
     ]
    },
    {
     "name": "stdout",
     "output_type": "stream",
     "text": [
      "1/1 [==============================] - 0s 2ms/step\n"
     ]
    },
    {
     "name": "stderr",
     "output_type": "stream",
     "text": [
      "2020-12-10 02:20:52,776 [DEBUG] kashgari - predict output: (5, 512)\n",
      "2020-12-10 02:20:52,777 [DEBUG] kashgari - predict output argmax: [[0 1 1 ... 1 1 1]\n",
      " [0 1 1 ... 1 1 1]\n",
      " [0 1 1 ... 1 1 1]\n",
      " [0 1 1 ... 1 1 1]\n",
      " [0 1 1 ... 1 1 1]]\n",
      "2020-12-10 02:20:52,802 [DEBUG] kashgari - predict seq_length: None, input: (2, 5, 512)\n"
     ]
    },
    {
     "name": "stdout",
     "output_type": "stream",
     "text": [
      "1/1 [==============================] - 0s 2ms/step\n"
     ]
    },
    {
     "name": "stderr",
     "output_type": "stream",
     "text": [
      "2020-12-10 02:20:53,347 [DEBUG] kashgari - predict output: (5, 512)\n",
      "2020-12-10 02:20:53,348 [DEBUG] kashgari - predict output argmax: [[ 0  1  1 ...  1  3  2]\n",
      " [ 0  1  1 ...  1  1  1]\n",
      " [ 0  1  1 ...  1  1  1]\n",
      " [ 0  1  1 ... 16 14  1]\n",
      " [ 0  1  1 ...  1  1  1]]\n",
      "2020-12-10 02:20:53,364 [DEBUG] kashgari - predict seq_length: None, input: (2, 2, 512)\n"
     ]
    },
    {
     "name": "stdout",
     "output_type": "stream",
     "text": [
      "1/1 [==============================] - 0s 2ms/step\n"
     ]
    },
    {
     "name": "stderr",
     "output_type": "stream",
     "text": [
      "2020-12-10 02:20:53,796 [DEBUG] kashgari - predict output: (2, 512)\n",
      "2020-12-10 02:20:53,797 [DEBUG] kashgari - predict output argmax: [[0 1 1 ... 1 1 1]\n",
      " [0 1 1 ... 1 1 1]]\n",
      "2020-12-10 02:20:53,816 [DEBUG] kashgari - predict seq_length: None, input: (2, 5, 512)\n"
     ]
    },
    {
     "name": "stdout",
     "output_type": "stream",
     "text": [
      "1/1 [==============================] - 0s 2ms/step\n"
     ]
    },
    {
     "name": "stderr",
     "output_type": "stream",
     "text": [
      "2020-12-10 02:20:54,350 [DEBUG] kashgari - predict output: (5, 512)\n",
      "2020-12-10 02:20:54,351 [DEBUG] kashgari - predict output argmax: [[0 1 1 ... 1 1 1]\n",
      " [0 1 1 ... 1 1 1]\n",
      " [0 1 1 ... 1 1 1]\n",
      " [0 1 1 ... 1 1 1]\n",
      " [0 1 1 ... 1 1 1]]\n",
      "2020-12-10 02:20:54,376 [DEBUG] kashgari - predict seq_length: None, input: (2, 6, 512)\n"
     ]
    },
    {
     "name": "stdout",
     "output_type": "stream",
     "text": [
      "1/1 [==============================] - 0s 2ms/step\n"
     ]
    },
    {
     "name": "stderr",
     "output_type": "stream",
     "text": [
      "2020-12-10 02:20:54,956 [DEBUG] kashgari - predict output: (6, 512)\n",
      "2020-12-10 02:20:54,957 [DEBUG] kashgari - predict output argmax: [[0 1 1 ... 1 1 1]\n",
      " [0 1 1 ... 1 1 1]\n",
      " [0 1 1 ... 1 1 1]\n",
      " [0 1 1 ... 1 1 1]\n",
      " [0 2 2 ... 1 1 1]\n",
      " [0 1 1 ... 1 1 1]]\n",
      "2020-12-10 02:20:54,983 [DEBUG] kashgari - predict seq_length: None, input: (2, 5, 512)\n"
     ]
    },
    {
     "name": "stdout",
     "output_type": "stream",
     "text": [
      "1/1 [==============================] - 0s 2ms/step\n"
     ]
    },
    {
     "name": "stderr",
     "output_type": "stream",
     "text": [
      "2020-12-10 02:20:55,527 [DEBUG] kashgari - predict output: (5, 512)\n",
      "2020-12-10 02:20:55,528 [DEBUG] kashgari - predict output argmax: [[0 1 1 ... 1 1 1]\n",
      " [0 1 1 ... 1 1 1]\n",
      " [0 1 1 ... 1 1 1]\n",
      " [0 1 1 ... 2 2 2]\n",
      " [0 1 1 ... 1 1 1]]\n",
      "2020-12-10 02:20:55,549 [DEBUG] kashgari - predict seq_length: None, input: (2, 2, 512)\n"
     ]
    },
    {
     "name": "stdout",
     "output_type": "stream",
     "text": [
      "1/1 [==============================] - 0s 1ms/step\n"
     ]
    },
    {
     "name": "stderr",
     "output_type": "stream",
     "text": [
      "2020-12-10 02:20:56,004 [DEBUG] kashgari - predict output: (2, 512)\n",
      "2020-12-10 02:20:56,005 [DEBUG] kashgari - predict output argmax: [[0 1 1 ... 1 1 1]\n",
      " [0 1 1 ... 1 1 1]]\n",
      "2020-12-10 02:20:56,027 [DEBUG] kashgari - predict seq_length: None, input: (2, 1, 380)\n"
     ]
    },
    {
     "name": "stdout",
     "output_type": "stream",
     "text": [
      "1/1 [==============================] - 0s 1ms/step\n"
     ]
    },
    {
     "name": "stderr",
     "output_type": "stream",
     "text": [
      "2020-12-10 02:21:01,235 [DEBUG] kashgari - predict output: (1, 380)\n",
      "2020-12-10 02:21:01,236 [DEBUG] kashgari - predict output argmax: [[ 0  1  1  1  1  1  1  1  1  1  1  1  1  1  1  1  1  1  1  1  1  1  1  1\n",
      "   1  1  1  1  1  1  1  1  1  1  1  1 18 13  1  1  1  1  1  1  1  1  1  1\n",
      "   1  1  1  1  1  1  1  1  1  1  1  1  1  1  1  1  1  1  1  1  1  1  1  1\n",
      "   1  1  1  1  1  1  1  1  1  1  1  1  1  1  1  1  1  1  1  1  1  1  1  1\n",
      "   1  1  1  1  1  1  1  1  1  1  1  1  1  1  1  1  1  1  1  1  1  1  1  1\n",
      "   1  1  1  1  1  1  1  1  1  1  1  1  1  1  1  1  1  1  1  1  1  1  1  1\n",
      "   1  1  1  1  1  1  1  1  1  1  1  3  2  2  2  1  1  1  1  1  1  1  1  1\n",
      "   1  1  1  1  1  1  1  1  1  1  1  1  1  1  1  1  1  1  1  1  1  1  1  1\n",
      "   1  1  1  1  1  1  1  1  1  1  1  1  1  1  1  1  1  1  1  1  1  1  1  1\n",
      "   1  1  1  1  1  1  1  1  1  1  1  1  1  1  1  1  1  1  1  1  1  1  1  1\n",
      "   1  1  1  1  1  1  1  1  1  1  1  1  1  1  1  1  1  1  1  1  1  1  1  1\n",
      "   1  1  1  1  1  1  1  1  1  1  1  1  1  1  1  1  1  1  1  1  1  1  1  1\n",
      "   1  1  1  1  1  1  1  1  1  1  1  1  1  1  1  1  1  1  1  1  1  1  1  1\n",
      "   1  1  1  1  1  1  1  1  1  1  1  1  1  1  1  1  1  1  1  1  1  1  1  1\n",
      "   1  1  1  1  1  1  1  1  3  2  2  2  1  1  1  1  1  1  3  2  2  1  1  1\n",
      "   1  1  1  1  1  1  1  1  1  1  1  1  1  1  1  1  1  1  1  0]]\n",
      "2020-12-10 02:21:01,254 [DEBUG] kashgari - predict seq_length: None, input: (2, 3, 512)\n"
     ]
    },
    {
     "name": "stdout",
     "output_type": "stream",
     "text": [
      "1/1 [==============================] - 0s 2ms/step\n"
     ]
    },
    {
     "name": "stderr",
     "output_type": "stream",
     "text": [
      "2020-12-10 02:21:01,778 [DEBUG] kashgari - predict output: (3, 512)\n",
      "2020-12-10 02:21:01,779 [DEBUG] kashgari - predict output argmax: [[0 1 1 ... 1 1 1]\n",
      " [0 1 1 ... 1 1 1]\n",
      " [0 1 1 ... 1 1 1]]\n",
      "2020-12-10 02:21:01,802 [DEBUG] kashgari - predict seq_length: None, input: (2, 4, 512)\n"
     ]
    },
    {
     "name": "stdout",
     "output_type": "stream",
     "text": [
      "1/1 [==============================] - 0s 6ms/step\n"
     ]
    },
    {
     "name": "stderr",
     "output_type": "stream",
     "text": [
      "2020-12-10 02:21:02,362 [DEBUG] kashgari - predict output: (4, 512)\n",
      "2020-12-10 02:21:02,363 [DEBUG] kashgari - predict output argmax: [[0 1 1 ... 1 1 1]\n",
      " [0 1 1 ... 1 1 1]\n",
      " [0 1 1 ... 1 1 1]\n",
      " [0 1 1 ... 1 1 1]]\n",
      "2020-12-10 02:21:02,380 [DEBUG] kashgari - predict seq_length: None, input: (2, 2, 512)\n"
     ]
    },
    {
     "name": "stdout",
     "output_type": "stream",
     "text": [
      "1/1 [==============================] - 0s 4ms/step\n"
     ]
    },
    {
     "name": "stderr",
     "output_type": "stream",
     "text": [
      "2020-12-10 02:21:02,820 [DEBUG] kashgari - predict output: (2, 512)\n",
      "2020-12-10 02:21:02,822 [DEBUG] kashgari - predict output argmax: [[0 1 1 ... 1 1 1]\n",
      " [0 1 1 ... 1 1 1]]\n",
      "2020-12-10 02:21:02,843 [DEBUG] kashgari - predict seq_length: None, input: (2, 4, 512)\n"
     ]
    },
    {
     "name": "stdout",
     "output_type": "stream",
     "text": [
      "1/1 [==============================] - 0s 2ms/step\n"
     ]
    },
    {
     "name": "stderr",
     "output_type": "stream",
     "text": [
      "2020-12-10 02:21:03,363 [DEBUG] kashgari - predict output: (4, 512)\n",
      "2020-12-10 02:21:03,364 [DEBUG] kashgari - predict output argmax: [[0 1 1 ... 1 1 1]\n",
      " [0 1 1 ... 1 1 1]\n",
      " [0 1 1 ... 1 1 1]\n",
      " [0 1 1 ... 1 1 1]]\n",
      "2020-12-10 02:21:03,382 [DEBUG] kashgari - predict seq_length: None, input: (2, 2, 512)\n"
     ]
    },
    {
     "name": "stdout",
     "output_type": "stream",
     "text": [
      "1/1 [==============================] - 0s 4ms/step\n"
     ]
    },
    {
     "name": "stderr",
     "output_type": "stream",
     "text": [
      "2020-12-10 02:21:03,817 [DEBUG] kashgari - predict output: (2, 512)\n",
      "2020-12-10 02:21:03,819 [DEBUG] kashgari - predict output argmax: [[0 1 1 ... 1 1 1]\n",
      " [0 1 1 ... 1 1 1]]\n",
      "2020-12-10 02:21:03,839 [DEBUG] kashgari - predict seq_length: None, input: (2, 4, 512)\n"
     ]
    },
    {
     "name": "stdout",
     "output_type": "stream",
     "text": [
      "1/1 [==============================] - 0s 4ms/step\n"
     ]
    },
    {
     "name": "stderr",
     "output_type": "stream",
     "text": [
      "2020-12-10 02:21:04,353 [DEBUG] kashgari - predict output: (4, 512)\n",
      "2020-12-10 02:21:04,354 [DEBUG] kashgari - predict output argmax: [[0 1 1 ... 1 1 1]\n",
      " [0 1 1 ... 1 1 1]\n",
      " [0 1 1 ... 1 1 1]\n",
      " [0 1 1 ... 1 1 1]]\n"
     ]
    }
   ],
   "source": [
    "ans = predict(model, for_predict)\n",
    "ans[['article_id', 'start_position', 'end_position']] = ans[['article_id', 'start_position', 'end_position']].astype(int)"
   ]
  },
  {
   "cell_type": "code",
   "execution_count": null,
   "metadata": {
    "colab": {
     "base_uri": "https://localhost:8080/",
     "height": 411
    },
    "executionInfo": {
     "elapsed": 797,
     "status": "ok",
     "timestamp": 1607567541848,
     "user": {
      "displayName": "俞鋒李",
      "photoUrl": "",
      "userId": "11733437799324688802"
     },
     "user_tz": -480
    },
    "id": "xMJNuHhUXXsb",
    "outputId": "877cb794-20c5-424f-ea30-8a426b90fbdb"
   },
   "outputs": [
    {
     "data": {
      "text/html": [
       "<div>\n",
       "<style scoped>\n",
       "    .dataframe tbody tr th:only-of-type {\n",
       "        vertical-align: middle;\n",
       "    }\n",
       "\n",
       "    .dataframe tbody tr th {\n",
       "        vertical-align: top;\n",
       "    }\n",
       "\n",
       "    .dataframe thead th {\n",
       "        text-align: right;\n",
       "    }\n",
       "</style>\n",
       "<table border=\"1\" class=\"dataframe\">\n",
       "  <thead>\n",
       "    <tr style=\"text-align: right;\">\n",
       "      <th></th>\n",
       "      <th>article_id</th>\n",
       "      <th>start_position</th>\n",
       "      <th>end_position</th>\n",
       "      <th>entity_text</th>\n",
       "      <th>entity_type</th>\n",
       "    </tr>\n",
       "  </thead>\n",
       "  <tbody>\n",
       "    <tr>\n",
       "      <th>0</th>\n",
       "      <td>0</td>\n",
       "      <td>273</td>\n",
       "      <td>276</td>\n",
       "      <td>李醫生</td>\n",
       "      <td>name</td>\n",
       "    </tr>\n",
       "    <tr>\n",
       "      <th>1</th>\n",
       "      <td>0</td>\n",
       "      <td>320</td>\n",
       "      <td>322</td>\n",
       "      <td>25</td>\n",
       "      <td>med_exam</td>\n",
       "    </tr>\n",
       "    <tr>\n",
       "      <th>2</th>\n",
       "      <td>0</td>\n",
       "      <td>326</td>\n",
       "      <td>328</td>\n",
       "      <td>25</td>\n",
       "      <td>med_exam</td>\n",
       "    </tr>\n",
       "    <tr>\n",
       "      <th>3</th>\n",
       "      <td>0</td>\n",
       "      <td>400</td>\n",
       "      <td>403</td>\n",
       "      <td>11點</td>\n",
       "      <td>time</td>\n",
       "    </tr>\n",
       "    <tr>\n",
       "      <th>4</th>\n",
       "      <td>0</td>\n",
       "      <td>409</td>\n",
       "      <td>411</td>\n",
       "      <td>4點</td>\n",
       "      <td>time</td>\n",
       "    </tr>\n",
       "    <tr>\n",
       "      <th>...</th>\n",
       "      <td>...</td>\n",
       "      <td>...</td>\n",
       "      <td>...</td>\n",
       "      <td>...</td>\n",
       "      <td>...</td>\n",
       "    </tr>\n",
       "    <tr>\n",
       "      <th>1405</th>\n",
       "      <td>69</td>\n",
       "      <td>1565</td>\n",
       "      <td>1569</td>\n",
       "      <td>24小時</td>\n",
       "      <td>time</td>\n",
       "    </tr>\n",
       "    <tr>\n",
       "      <th>1406</th>\n",
       "      <td>69</td>\n",
       "      <td>1597</td>\n",
       "      <td>1601</td>\n",
       "      <td>9月8號</td>\n",
       "      <td>time</td>\n",
       "    </tr>\n",
       "    <tr>\n",
       "      <th>1407</th>\n",
       "      <td>69</td>\n",
       "      <td>1634</td>\n",
       "      <td>1636</td>\n",
       "      <td>7點</td>\n",
       "      <td>time</td>\n",
       "    </tr>\n",
       "    <tr>\n",
       "      <th>1408</th>\n",
       "      <td>69</td>\n",
       "      <td>1639</td>\n",
       "      <td>1641</td>\n",
       "      <td>4點</td>\n",
       "      <td>time</td>\n",
       "    </tr>\n",
       "    <tr>\n",
       "      <th>1409</th>\n",
       "      <td>69</td>\n",
       "      <td>1645</td>\n",
       "      <td>1647</td>\n",
       "      <td>4點</td>\n",
       "      <td>time</td>\n",
       "    </tr>\n",
       "  </tbody>\n",
       "</table>\n",
       "<p>1410 rows × 5 columns</p>\n",
       "</div>"
      ],
      "text/plain": [
       "      article_id  start_position  end_position entity_text entity_type\n",
       "0              0             273           276         李醫生        name\n",
       "1              0             320           322          25    med_exam\n",
       "2              0             326           328          25    med_exam\n",
       "3              0             400           403         11點        time\n",
       "4              0             409           411          4點        time\n",
       "...          ...             ...           ...         ...         ...\n",
       "1405          69            1565          1569        24小時        time\n",
       "1406          69            1597          1601        9月8號        time\n",
       "1407          69            1634          1636          7點        time\n",
       "1408          69            1639          1641          4點        time\n",
       "1409          69            1645          1647          4點        time\n",
       "\n",
       "[1410 rows x 5 columns]"
      ]
     },
     "execution_count": 15,
     "metadata": {
      "tags": []
     },
     "output_type": "execute_result"
    }
   ],
   "source": [
    "ans"
   ]
  },
  {
   "cell_type": "code",
   "execution_count": null,
   "metadata": {
    "id": "PRYoLVcOKgYI"
   },
   "outputs": [],
   "source": [
    "ans.to_csv(f'./output/output_1209_koi.tsv', sep='\\t', index=False)"
   ]
  }
 ],
 "metadata": {
  "accelerator": "GPU",
  "colab": {
   "authorship_tag": "ABX9TyNum6gDTg+LiKAuRuPa2Foy",
   "collapsed_sections": [],
   "mount_file_id": "1e6KsuakLy4juS6NqVTnzjuvuw9yXn-IG",
   "name": "bert_BiLSTM-CRF.ipynb",
   "provenance": [],
   "toc_visible": true
  },
  "kernelspec": {
   "display_name": "Python 3",
   "language": "python",
   "name": "python3"
  },
  "language_info": {
   "codemirror_mode": {
    "name": "ipython",
    "version": 3
   },
   "file_extension": ".py",
   "mimetype": "text/x-python",
   "name": "python",
   "nbconvert_exporter": "python",
   "pygments_lexer": "ipython3",
   "version": "3.7.7"
  }
 },
 "nbformat": 4,
 "nbformat_minor": 1
}
