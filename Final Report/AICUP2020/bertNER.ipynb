{
 "cells": [
  {
   "cell_type": "markdown",
   "metadata": {
    "id": "_ASazORDG0aO"
   },
   "source": [
    "# Setup the workspace\n",
    "Here is for google colab. Skip if you are not working on google colab."
   ]
  },
  {
   "cell_type": "code",
   "execution_count": null,
   "metadata": {
    "executionInfo": {
     "elapsed": 1016,
     "status": "ok",
     "timestamp": 1609420349011,
     "user": {
      "displayName": "俞鋒李",
      "photoUrl": "",
      "userId": "11733437799324688802"
     },
     "user_tz": -480
    },
    "id": "FypSZwtPGlbY"
   },
   "outputs": [],
   "source": [
    "import os\n",
    "from google.colab import drive"
   ]
  },
  {
   "cell_type": "code",
   "execution_count": null,
   "metadata": {
    "colab": {
     "base_uri": "https://localhost:8080/"
    },
    "executionInfo": {
     "elapsed": 25741,
     "status": "ok",
     "timestamp": 1609420373901,
     "user": {
      "displayName": "俞鋒李",
      "photoUrl": "",
      "userId": "11733437799324688802"
     },
     "user_tz": -480
    },
    "id": "CKX1Ccl3mWZk",
    "outputId": "5358352e-2607-469f-d179-86203f742046"
   },
   "outputs": [],
   "source": [
    "from google.colab import drive\n",
    "drive.mount('/content/drive')"
   ]
  },
  {
   "cell_type": "code",
   "execution_count": null,
   "metadata": {
    "executionInfo": {
     "elapsed": 25583,
     "status": "ok",
     "timestamp": 1609420373903,
     "user": {
      "displayName": "俞鋒李",
      "photoUrl": "",
      "userId": "11733437799324688802"
     },
     "user_tz": -480
    },
    "id": "ffgRprSMuY6p"
   },
   "outputs": [],
   "source": [
    "os.chdir(\"/content/drive/MyDrive/AICUP2020/\")"
   ]
  },
  {
   "cell_type": "markdown",
   "metadata": {
    "id": "MlMZ2X_nwBkx"
   },
   "source": [
    "# Prepare Environments"
   ]
  },
  {
   "cell_type": "code",
   "execution_count": null,
   "metadata": {
    "executionInfo": {
     "elapsed": 14322,
     "status": "ok",
     "timestamp": 1609420390858,
     "user": {
      "displayName": "俞鋒李",
      "photoUrl": "",
      "userId": "11733437799324688802"
     },
     "user_tz": -480
    },
    "id": "S7KC-mIxwQr6"
   },
   "outputs": [],
   "source": [
    "# !pip install -r requirements.txt\n",
    "from datetime import datetime\n",
    "from configparser import ConfigParser\n",
    "import re\n",
    "import numpy as np\n",
    "import pandas as pd\n",
    "import tensorflow as tf\n",
    "\n",
    "import kashgari\n",
    "from kashgari.embeddings import BertEmbedding, TransformerEmbedding\n",
    "from bilstm_crf_model import BiLSTM_CRF_Model\n",
    "from model_acceptance_callback import NERAcceptanceCallBack\n",
    "\n",
    "import plotly.express as px\n",
    "import plotly.graph_objects as go\n",
    "from plotly.subplots import make_subplots\n",
    "\n",
    "from utils import load_test_file, format_result, split_chunks, save_model, load_model\n",
    "from data_generator import read_data, generate_dataset"
   ]
  },
  {
   "cell_type": "code",
   "execution_count": null,
   "metadata": {
    "executionInfo": {
     "elapsed": 14055,
     "status": "ok",
     "timestamp": 1609420390860,
     "user": {
      "displayName": "俞鋒李",
      "photoUrl": "",
      "userId": "11733437799324688802"
     },
     "user_tz": -480
    },
    "id": "dEOsCiwu5_B3"
   },
   "outputs": [],
   "source": [
    "# Define const\n",
    "MODEL_SAVE_DIR = 'model/'\n",
    "\n",
    "# Get config\n",
    "config = ConfigParser()\n",
    "config.read('config.ini')\n",
    "LSTM_UNITS = int(config['MODEL']['lstm_units'])\n",
    "DROPOUT = float(config['MODEL']['dropout'])\n",
    "EPOCHS = int(config['TRAIN']['epochs'])\n",
    "BATCH_SIZE = int(config['TRAIN']['batch_size'])\n",
    "PREDICT_BATCH_SIZE = int(config['PREDICT']['batch_size'])"
   ]
  },
  {
   "cell_type": "markdown",
   "metadata": {
    "id": "jv_92yZgb1oS"
   },
   "source": [
    "# Read Training Data"
   ]
  },
  {
   "cell_type": "code",
   "execution_count": null,
   "metadata": {
    "executionInfo": {
     "elapsed": 2855,
     "status": "ok",
     "timestamp": 1609420431905,
     "user": {
      "displayName": "俞鋒李",
      "photoUrl": "",
      "userId": "11733437799324688802"
     },
     "user_tz": -480
    },
    "id": "cz9_V83cytUb"
   },
   "outputs": [],
   "source": [
    "# x is a list of characters, e.g ['你', '好', '嗎', ...]\n",
    "# y is a list of labels of each characters, e.g ['O', 'O', 'O', ...]\n",
    "training_data = read_data(['data/TRAIN_FINAL'], end_flag='')\n",
    "train_x = list(map(lambda x: [wl[0] for wl in x], training_data))\n",
    "train_y = list(map(lambda x: [wl[1] for wl in x], training_data))\n",
    "\n",
    "validation_data = read_data(['data/TEST_FINAL'], end_flag='')\n",
    "valid_x = list(map(lambda x: [wl[0] for wl in x], validation_data))\n",
    "valid_y = list(map(lambda x: [wl[1] for wl in x], validation_data))"
   ]
  },
  {
   "cell_type": "code",
   "execution_count": null,
   "metadata": {
    "executionInfo": {
     "elapsed": 11416,
     "status": "ok",
     "timestamp": 1609420440795,
     "user": {
      "displayName": "俞鋒李",
      "photoUrl": "",
      "userId": "11733437799324688802"
     },
     "user_tz": -480
    },
    "id": "A3re6IPTo8VD"
   },
   "outputs": [],
   "source": [
    "train_x_chunks = []\n",
    "for article in train_x:\n",
    "  article_chunks = split_chunks(article)\n",
    "  train_x_chunks.extend(article_chunks)\n",
    "\n",
    "train_y_chunks = []\n",
    "for article in train_y:\n",
    "  article_chunks = split_chunks(article)\n",
    "  train_y_chunks.extend(article_chunks)\n",
    "\n",
    "valid_x_chunks = []\n",
    "for article in valid_x:\n",
    "  article_chunks = split_chunks(article)\n",
    "  valid_x_chunks.extend(article_chunks)\n",
    "\n",
    "valid_y_chunks = []\n",
    "for article in valid_y:\n",
    "  article_chunks = split_chunks(article)\n",
    "  valid_y_chunks.extend(article_chunks)"
   ]
  },
  {
   "cell_type": "markdown",
   "metadata": {
    "id": "85dtAB4Oc7P9"
   },
   "source": [
    "# Build Model"
   ]
  },
  {
   "cell_type": "code",
   "execution_count": null,
   "metadata": {
    "colab": {
     "base_uri": "https://localhost:8080/"
    },
    "executionInfo": {
     "elapsed": 1012,
     "status": "ok",
     "timestamp": 1609420444937,
     "user": {
      "displayName": "俞鋒李",
      "photoUrl": "",
      "userId": "11733437799324688802"
     },
     "user_tz": -480
    },
    "id": "cebaMOPj8sKk",
    "outputId": "bbf09d55-121e-4179-b476-bd1ea037f144"
   },
   "outputs": [],
   "source": [
    "# Bert + BiLSTM-CRF\n",
    "hyper_parameters = {\n",
    "  'layer_blstm': {\n",
    "    'units': LSTM_UNITS,\n",
    "    'return_sequences': True\n",
    "  },\n",
    "  'layer_dropout': {\n",
    "    'rate': DROPOUT\n",
    "  },\n",
    "  'layer_time_distributed': {\n",
    "\n",
    "  },\n",
    "  'layer_activation': {\n",
    "    'activation': 'softmax'\n",
    "  }\n",
    "}\n",
    "bert_embed = BertEmbedding('chinese_L-12_H-768_A-12/')\n",
    "model = BiLSTM_CRF_Model(bert_embed, hyper_parameters=hyper_parameters)"
   ]
  },
  {
   "cell_type": "markdown",
   "metadata": {
    "id": "QFqMR9xjOKH-"
   },
   "source": [
    "# Load Model"
   ]
  },
  {
   "cell_type": "code",
   "execution_count": null,
   "metadata": {
    "id": "EmInF9b8_ML1"
   },
   "outputs": [],
   "source": [
    "# load model\n",
    "# model, model_info = load_model(f'{MODEL_SAVE_DIR}/', BiLSTM_CRF_Model)\n",
    "# model.crf_layer = model.layer_crf\n",
    "# model.compile_model()\n",
    "# if model_info is not None:\n",
    "#   start_epoch = model_info['epoch']\n",
    "#   monitor = model_info['monitor']\n",
    "#   threshold = model_info['best']\n",
    "# else:\n",
    "#   start_epoch = 0\n",
    "#   threshold = -np.Inf\n",
    "\n",
    "# print(f'epoch: {start_epoch}\\nmonitor: {monitor}\\nbest: {threshold}')"
   ]
  },
  {
   "cell_type": "markdown",
   "metadata": {
    "id": "nRzWz2l4O7zn"
   },
   "source": [
    "# Train Model"
   ]
  },
  {
   "cell_type": "code",
   "execution_count": null,
   "metadata": {
    "colab": {
     "base_uri": "https://localhost:8080/"
    },
    "executionInfo": {
     "elapsed": 645688,
     "status": "ok",
     "timestamp": 1609421132933,
     "user": {
      "displayName": "俞鋒李",
      "photoUrl": "",
      "userId": "11733437799324688802"
     },
     "user_tz": -480
    },
    "id": "EZa5aXXo90-V",
    "outputId": "0d8ccb9b-a0ac-4a42-a3be-89c34be3bae0"
   },
   "outputs": [],
   "source": [
    "# for loaded model\n",
    "# ner_cb = NERAcceptanceCallBack(f'{MODEL_SAVE_DIR}/', \n",
    "#                 kash_model=model, \n",
    "#                 validate_data_x=valid_x_chunks, \n",
    "#                 validate_data_y=valid_y_chunks,\n",
    "#                 monitor='f1-score',\n",
    "#                 threshold=threshold,\n",
    "#                 history_record_mode='keep')\n",
    "# history = model.fit(train_x_chunks,\n",
    "#            train_y_chunks,\n",
    "#            x_validate=valid_x_chunks,\n",
    "#            y_validate=valid_y_chunks,\n",
    "#            epochs=start_epoch + EPOCHS,\n",
    "#            batch_size=BATCH_SIZE,\n",
    "#            callbacks=[ner_cb], \n",
    "#            fit_kwargs={'initial_epoch': start_epoch})\n",
    "\n",
    "# for initial-built model\n",
    "ner_cb = NERAcceptanceCallBack(f'{MODEL_SAVE_DIR}/', \n",
    "                kash_model=model,\n",
    "                validate_data_x=valid_x_chunks,\n",
    "                validate_data_y=valid_y_chunks,\n",
    "                monitor='f1-score',\n",
    "                history_record_mode='new')\n",
    "history = model.fit(train_x_chunks,\n",
    "           train_y_chunks,\n",
    "           x_validate=valid_x_chunks,\n",
    "           y_validate=valid_y_chunks,\n",
    "           epochs=1,\n",
    "           batch_size=BATCH_SIZE,\n",
    "           callbacks=[ner_cb])"
   ]
  },
  {
   "cell_type": "markdown",
   "metadata": {
    "id": "2318pRVPdAuy"
   },
   "source": [
    "# Check Performation"
   ]
  },
  {
   "cell_type": "code",
   "execution_count": null,
   "metadata": {
    "colab": {
     "base_uri": "https://localhost:8080/",
     "height": 352
    },
    "executionInfo": {
     "elapsed": 949,
     "status": "ok",
     "timestamp": 1609421139996,
     "user": {
      "displayName": "俞鋒李",
      "photoUrl": "",
      "userId": "11733437799324688802"
     },
     "user_tz": -480
    },
    "id": "GAMhTUY1FxaU",
    "outputId": "9b8548fe-5b0b-4d12-e8ee-1492b1c7936e"
   },
   "outputs": [],
   "source": [
    "perf = pd.read_csv(f'{MODEL_SAVE_DIR}/history/history_0.csv')\n",
    "perf"
   ]
  },
  {
   "cell_type": "code",
   "execution_count": null,
   "metadata": {
    "colab": {
     "base_uri": "https://localhost:8080/",
     "height": 837
    },
    "executionInfo": {
     "elapsed": 1838,
     "status": "ok",
     "timestamp": 1609421141215,
     "user": {
      "displayName": "俞鋒李",
      "photoUrl": "",
      "userId": "11733437799324688802"
     },
     "user_tz": -480
    },
    "id": "5Fkv9GosdlQs",
    "outputId": "5283c6ea-cdf4-4b81-d72d-d4c528fd729b"
   },
   "outputs": [],
   "source": [
    "fig = make_subplots(rows=2, cols=2,\n",
    "           specs=[[{}, {}], [{'colspan': 2}, None]],\n",
    "           subplot_titles=('Loss and Validate loss', 'Accuracy and Validate accuracy', 'F1 Score'))\n",
    "fig.add_trace(go.Scatter(y=perf['loss'], name='loss'), row=1, col=1)\n",
    "fig.add_trace(go.Scatter(y=perf['val_loss'], name='validate loss'), row=1, col=1)\n",
    "\n",
    "fig.add_trace(go.Scatter(y=perf['accuracy'], name='accuracy'), row=1, col=2)\n",
    "fig.add_trace(go.Scatter(y=perf['val_accuracy'], name='validate accuracy'), row=1, col=2)\n",
    "\n",
    "for prop in perf.columns[4:]:\n",
    "  fig.add_trace(go.Scatter(y=perf[prop], name=prop), row=2, col=1)\n",
    "\n",
    "fig.update_layout(height=800, width=1000)\n",
    "\n",
    "fig.show()"
   ]
  },
  {
   "cell_type": "markdown",
   "metadata": {
    "id": "OrC05c04a9NO"
   },
   "source": [
    "# Prediction"
   ]
  },
  {
   "cell_type": "code",
   "execution_count": null,
   "metadata": {
    "executionInfo": {
     "elapsed": 787,
     "status": "ok",
     "timestamp": 1609421148603,
     "user": {
      "displayName": "俞鋒李",
      "photoUrl": "",
      "userId": "11733437799324688802"
     },
     "user_tz": -480
    },
    "id": "jJhm3TrEbmvi"
   },
   "outputs": [],
   "source": [
    "for_predict = load_test_file('./data/1214test.txt')"
   ]
  },
  {
   "cell_type": "code",
   "execution_count": null,
   "metadata": {
    "executionInfo": {
     "elapsed": 676,
     "status": "ok",
     "timestamp": 1609421148987,
     "user": {
      "displayName": "俞鋒李",
      "photoUrl": "",
      "userId": "11733437799324688802"
     },
     "user_tz": -480
    },
    "id": "UXfOhBqPCMag"
   },
   "outputs": [],
   "source": [
    "def predict(model: tf.keras.Model, for_predict):\n",
    "    output_df = pd.DataFrame()\n",
    "    for article_id in range(len(for_predict)):\n",
    "      tokenized_text = list(for_predict[article_id])\n",
    "      batched_text = split_chunks(tokenized_text)\n",
    "      batched_labels = model.predict(batched_text)\n",
    "      labels = [l for batch in batched_labels for l in batch]\n",
    "\n",
    "      entities_result = format_result(tokenized_text, labels)\n",
    "      df = pd.DataFrame(entities_result)\n",
    "      df.insert(0, 'article_id', [article_id for _ in range(len(entities_result))])\n",
    "      output_df = pd.concat([output_df, df], ignore_index=True)\n",
    "    \n",
    "    return output_df"
   ]
  },
  {
   "cell_type": "code",
   "execution_count": null,
   "metadata": {
    "colab": {
     "base_uri": "https://localhost:8080/"
    },
    "executionInfo": {
     "elapsed": 95164,
     "status": "ok",
     "timestamp": 1609421244737,
     "user": {
      "displayName": "俞鋒李",
      "photoUrl": "",
      "userId": "11733437799324688802"
     },
     "user_tz": -480
    },
    "id": "PDtM46TTHUBl",
    "outputId": "1ce216d3-7f1f-42ec-f939-e7df80407eb4"
   },
   "outputs": [],
   "source": [
    "ans = predict(model, for_predict)\n",
    "ans[['article_id', 'start_position', 'end_position']] = ans[['article_id', 'start_position', 'end_position']].astype(int)"
   ]
  },
  {
   "cell_type": "code",
   "execution_count": null,
   "metadata": {
    "colab": {
     "base_uri": "https://localhost:8080/",
     "height": 898
    },
    "executionInfo": {
     "elapsed": 823,
     "status": "ok",
     "timestamp": 1609421249458,
     "user": {
      "displayName": "俞鋒李",
      "photoUrl": "",
      "userId": "11733437799324688802"
     },
     "user_tz": -480
    },
    "id": "xMJNuHhUXXsb",
    "outputId": "90098cd2-fd2b-463e-adf5-1209eaf14aae"
   },
   "outputs": [],
   "source": [
    "ans"
   ]
  },
  {
   "cell_type": "code",
   "execution_count": null,
   "metadata": {
    "id": "PRYoLVcOKgYI"
   },
   "outputs": [],
   "source": [
    "ans.to_csv(f'./output/output.tsv', sep='\\t', index=False)"
   ]
  }
 ],
 "metadata": {
  "accelerator": "GPU",
  "colab": {
   "collapsed_sections": [],
   "name": "bertNER.ipynb",
   "provenance": [],
   "toc_visible": true
  },
  "kernelspec": {
   "display_name": "Python 3",
   "language": "python",
   "name": "python3"
  },
  "language_info": {
   "codemirror_mode": {
    "name": "ipython",
    "version": 3
   },
   "file_extension": ".py",
   "mimetype": "text/x-python",
   "name": "python",
   "nbconvert_exporter": "python",
   "pygments_lexer": "ipython3",
   "version": "3.7.7"
  }
 },
 "nbformat": 4,
 "nbformat_minor": 1
}
