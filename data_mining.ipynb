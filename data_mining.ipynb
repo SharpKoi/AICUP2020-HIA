{
 "cells": [
  {
   "cell_type": "markdown",
   "metadata": {},
   "source": [
    "# Data Mining\n",
    "- 將時間詞彙替換成同義詞彙並產生新的對話"
   ]
  },
  {
   "cell_type": "code",
   "execution_count": 1,
   "metadata": {
    "scrolled": true
   },
   "outputs": [],
   "source": [
    "import os\n",
    "import io\n",
    "import re\n",
    "from random import choice\n",
    "import numpy as np\n",
    "import pandas as pd\n",
    "\n",
    "import baseline\n",
    "from utils import load_raw_data\n",
    "from data_generator import generate_dataset"
   ]
  },
  {
   "cell_type": "code",
   "execution_count": 2,
   "metadata": {},
   "outputs": [],
   "source": [
    "articles, labeling_df = load_raw_data('data/train_2/train_2.txt')"
   ]
  },
  {
   "cell_type": "code",
   "execution_count": 3,
   "metadata": {},
   "outputs": [],
   "source": [
    "# read wordnet\n",
    "# wordnet = pd.read_excel('data/WordNet.xlsx', encoding='utf-8')\n",
    "wordnet_file = pd.ExcelFile('data/WordNet.xlsx')\n",
    "wn1 = wordnet_file.parse(wordnet_file.sheet_names[0])\n",
    "wn2 = wordnet_file.parse(wordnet_file.sheet_names[1])"
   ]
  },
  {
   "cell_type": "markdown",
   "metadata": {},
   "source": [
    "## Sheet 1"
   ]
  },
  {
   "cell_type": "code",
   "execution_count": null,
   "metadata": {
    "scrolled": true
   },
   "outputs": [],
   "source": [
    "wn1.dropna(how='all', inplace=True)\n",
    "wn1 = wn1.astype(str)\n",
    "for i, row in wn1.iterrows():\n",
    "    wn1.loc[i, '可替換詞彙'] = wn1.loc[i, '目標詞彙'] + '/' + '/'.join([w for w in row[2:] if w != 'nan'])   \n",
    "wn1.drop(wn1.columns[3:], axis=1, inplace=True)\n",
    "wn1.reset_index(drop=True, inplace=True)\n",
    "wn1"
   ]
  },
  {
   "cell_type": "code",
   "execution_count": null,
   "metadata": {
    "scrolled": true
   },
   "outputs": [],
   "source": [
    "wn1.loc[6, '可替換詞彙'] = '/'.join([alt for alt in wn1.loc[6, '可替換詞彙'].split('/') if alt not in ['宵', '夕']])\n",
    "wn1.loc[18, '可替換詞彙'] = '/'.join(['學校', '校'])\n",
    "wn1.loc[28, '可替換詞彙'] = '/'.join(['弟弟', '弟'])\n",
    "wn1.loc[35, '可替換詞彙'] = '/'.join([alt for alt in wn1.loc[35, '可替換詞彙'].split('/') if alt != '郎'])\n",
    "wn1.drop([3, 11, 16, 41], inplace=True)\n",
    "wn1.reset_index(drop=True, inplace=True)"
   ]
  },
  {
   "cell_type": "code",
   "execution_count": null,
   "metadata": {
    "scrolled": true
   },
   "outputs": [],
   "source": [
    "# 將訓練集中的有標籤的詞彙，替換成隨機一種同義詞彙，產生新的訓練集接在原訓練集後面\n",
    "# 是否能夠確保每個同義詞的詞頻都不會差太遠\n",
    "wn1_gbt = wn1.groupby('類型')\n",
    "alt_dict = {}\n",
    "for tag in wn1_gbt.groups:\n",
    "    alt_set = list(map(lambda x: x.split('/'), wn1_gbt.get_group(tag)['可替換詞彙'].tolist()))\n",
    "    alt_dict[tag] = alt_set\n",
    "alt_dict"
   ]
  },
  {
   "cell_type": "markdown",
   "metadata": {},
   "source": [
    "## Sheet 2"
   ]
  },
  {
   "cell_type": "code",
   "execution_count": null,
   "metadata": {
    "scrolled": true
   },
   "outputs": [],
   "source": [
    "wn2.drop(['類別'], axis=1, inplace=True)\n",
    "type_dict = dict(wn2)\n",
    "for tag in type_dict.keys():\n",
    "    type_dict[tag] = [token for token in type_dict[tag].tolist() if token is not np.nan]\n",
    "type_dict"
   ]
  },
  {
   "cell_type": "markdown",
   "metadata": {},
   "source": [
    "## 替換新詞"
   ]
  },
  {
   "cell_type": "code",
   "execution_count": null,
   "metadata": {
    "scrolled": true
   },
   "outputs": [],
   "source": [
    "for tag in alt_dict.keys():\n",
    "    df = labeling_df[labeling_df['entity_type'] == tag]\n",
    "    for alt_list in alt_dict[tag]:\n",
    "        for i, row in df.iterrows():\n",
    "            for alt in alt_list:\n",
    "                if alt in row['entity_text']:\n",
    "                    start_pos = row['start_position'] + row['entity_text'].find(alt[0])\n",
    "                    article_id = row['article_id']\n",
    "                    article = articles[article_id]\n",
    "                    for_choice = [token for token in alt_list if token != alt]\n",
    "                    new_token = choice(for_choice)\n",
    "                    end_pos = start_pos+len(new_token)\n",
    "                    new_article = article[:start_pos] + new_token + article[end_pos:]\n",
    "                    articles[article_id] = new_article\n",
    "                    labeling_df.loc[i, ['end_position', 'entity_text']] = [end_pos, new_article[row['start_position']:end_pos]]\n",
    "                    break"
   ]
  },
  {
   "cell_type": "code",
   "execution_count": null,
   "metadata": {},
   "outputs": [],
   "source": [
    "# 將新的訓練集寫入檔案\n",
    "with open('data/train_2/train_2_new.txt', mode='w+', encoding='utf-8') as f:\n",
    "    for i in range(len(articles)):\n",
    "        f.write(articles[i]+'\\n')\n",
    "        ios = io.StringIO()\n",
    "        labeling_df[labeling_df['article_id'] == i].to_csv(ios, index=False, encoding='utf-8', sep='\\t')\n",
    "        f.write(ios.getvalue().replace('\\r', ''))\n",
    "        f.write('\\n--------------------\\n\\n')"
   ]
  },
  {
   "cell_type": "markdown",
   "metadata": {},
   "source": [
    "## Number Mask"
   ]
  },
  {
   "cell_type": "code",
   "execution_count": 9,
   "metadata": {},
   "outputs": [],
   "source": [
    "labeling_df.loc[3831:, 'article_id'] += 200"
   ]
  },
  {
   "cell_type": "code",
   "execution_count": 17,
   "metadata": {},
   "outputs": [],
   "source": [
    "zhnums = list('零一二三四五六七八九十')\n",
    "for i in range(len(articles)):\n",
    "    articles[i] = re.sub(f'(\\d|{\"|\".join(zhnums)})', 'N', articles[i])\n",
    "\n",
    "labeling_df.loc[:, 'entity_text'] = labeling_df['entity_text'].apply(lambda text: re.sub(f'(\\d|{\"|\".join(zhnums)})', 'N', text))"
   ]
  },
  {
   "cell_type": "code",
   "execution_count": 18,
   "metadata": {},
   "outputs": [
    {
     "data": {
      "text/html": [
       "<div>\n",
       "<style scoped>\n",
       "    .dataframe tbody tr th:only-of-type {\n",
       "        vertical-align: middle;\n",
       "    }\n",
       "\n",
       "    .dataframe tbody tr th {\n",
       "        vertical-align: top;\n",
       "    }\n",
       "\n",
       "    .dataframe thead th {\n",
       "        text-align: right;\n",
       "    }\n",
       "</style>\n",
       "<table border=\"1\" class=\"dataframe\">\n",
       "  <thead>\n",
       "    <tr style=\"text-align: right;\">\n",
       "      <th></th>\n",
       "      <th>article_id</th>\n",
       "      <th>start_position</th>\n",
       "      <th>end_position</th>\n",
       "      <th>entity_text</th>\n",
       "      <th>entity_type</th>\n",
       "    </tr>\n",
       "  </thead>\n",
       "  <tbody>\n",
       "    <tr>\n",
       "      <th>0</th>\n",
       "      <td>0</td>\n",
       "      <td>69</td>\n",
       "      <td>71</td>\n",
       "      <td>前天</td>\n",
       "      <td>time</td>\n",
       "    </tr>\n",
       "    <tr>\n",
       "      <th>1</th>\n",
       "      <td>0</td>\n",
       "      <td>75</td>\n",
       "      <td>77</td>\n",
       "      <td>前天</td>\n",
       "      <td>time</td>\n",
       "    </tr>\n",
       "    <tr>\n",
       "      <th>2</th>\n",
       "      <td>0</td>\n",
       "      <td>738</td>\n",
       "      <td>740</td>\n",
       "      <td>NN</td>\n",
       "      <td>med_exam</td>\n",
       "    </tr>\n",
       "    <tr>\n",
       "      <th>3</th>\n",
       "      <td>0</td>\n",
       "      <td>741</td>\n",
       "      <td>744</td>\n",
       "      <td>NNN</td>\n",
       "      <td>med_exam</td>\n",
       "    </tr>\n",
       "    <tr>\n",
       "      <th>4</th>\n",
       "      <td>0</td>\n",
       "      <td>809</td>\n",
       "      <td>811</td>\n",
       "      <td>前年</td>\n",
       "      <td>time</td>\n",
       "    </tr>\n",
       "    <tr>\n",
       "      <th>...</th>\n",
       "      <td>...</td>\n",
       "      <td>...</td>\n",
       "      <td>...</td>\n",
       "      <td>...</td>\n",
       "      <td>...</td>\n",
       "    </tr>\n",
       "    <tr>\n",
       "      <th>7657</th>\n",
       "      <td>399</td>\n",
       "      <td>36</td>\n",
       "      <td>39</td>\n",
       "      <td>N.N</td>\n",
       "      <td>med_exam</td>\n",
       "    </tr>\n",
       "    <tr>\n",
       "      <th>7658</th>\n",
       "      <td>399</td>\n",
       "      <td>40</td>\n",
       "      <td>43</td>\n",
       "      <td>N.N</td>\n",
       "      <td>med_exam</td>\n",
       "    </tr>\n",
       "    <tr>\n",
       "      <th>7659</th>\n",
       "      <td>399</td>\n",
       "      <td>48</td>\n",
       "      <td>51</td>\n",
       "      <td>N.N</td>\n",
       "      <td>med_exam</td>\n",
       "    </tr>\n",
       "    <tr>\n",
       "      <th>7660</th>\n",
       "      <td>399</td>\n",
       "      <td>53</td>\n",
       "      <td>56</td>\n",
       "      <td>N.N</td>\n",
       "      <td>med_exam</td>\n",
       "    </tr>\n",
       "    <tr>\n",
       "      <th>7661</th>\n",
       "      <td>399</td>\n",
       "      <td>1065</td>\n",
       "      <td>1067</td>\n",
       "      <td>小美</td>\n",
       "      <td>name</td>\n",
       "    </tr>\n",
       "  </tbody>\n",
       "</table>\n",
       "<p>7662 rows × 5 columns</p>\n",
       "</div>"
      ],
      "text/plain": [
       "      article_id  start_position  end_position entity_text entity_type\n",
       "0              0              69            71          前天        time\n",
       "1              0              75            77          前天        time\n",
       "2              0             738           740          NN    med_exam\n",
       "3              0             741           744         NNN    med_exam\n",
       "4              0             809           811          前年        time\n",
       "...          ...             ...           ...         ...         ...\n",
       "7657         399              36            39         N.N    med_exam\n",
       "7658         399              40            43         N.N    med_exam\n",
       "7659         399              48            51         N.N    med_exam\n",
       "7660         399              53            56         N.N    med_exam\n",
       "7661         399            1065          1067          小美        name\n",
       "\n",
       "[7662 rows x 5 columns]"
      ]
     },
     "execution_count": 18,
     "metadata": {},
     "output_type": "execute_result"
    }
   ],
   "source": [
    "labeling_df"
   ]
  },
  {
   "cell_type": "code",
   "execution_count": 19,
   "metadata": {},
   "outputs": [],
   "source": [
    "with open('data/train_2/train_2_nmask.txt', mode='w+', encoding='utf-8') as f:\n",
    "    for i in range(len(articles)):\n",
    "        f.write(articles[i]+'\\n')\n",
    "        ios = io.StringIO()\n",
    "        labeling_df[labeling_df['article_id'] == i].to_csv(ios, index=False, encoding='utf-8', sep='\\t')\n",
    "        f.write(ios.getvalue().replace('\\r', ''))\n",
    "        f.write('\\n--------------------\\n\\n')"
   ]
  }
 ],
 "metadata": {
  "kernelspec": {
   "display_name": "Python 3",
   "language": "python",
   "name": "python3"
  },
  "language_info": {
   "codemirror_mode": {
    "name": "ipython",
    "version": 3
   },
   "file_extension": ".py",
   "mimetype": "text/x-python",
   "name": "python",
   "nbconvert_exporter": "python",
   "pygments_lexer": "ipython3",
   "version": "3.7.7"
  }
 },
 "nbformat": 4,
 "nbformat_minor": 4
}
