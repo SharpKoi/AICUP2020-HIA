{
 "cells": [
  {
   "cell_type": "code",
   "execution_count": 1,
   "metadata": {},
   "outputs": [],
   "source": [
    "from data_generator import crf_format_data, read_data, generate_dataset"
   ]
  },
  {
   "cell_type": "code",
   "execution_count": 6,
   "metadata": {
    "scrolled": true
   },
   "outputs": [
    {
     "name": "stdout",
     "output_type": "stream",
     "text": [
      "Total complete articles: 0\n",
      "Total complete articles: 10\n",
      "Total complete articles: 20\n",
      "Total complete articles: 30\n",
      "Total complete articles: 40\n",
      "Total complete articles: 50\n",
      "Total complete articles: 60\n",
      "Total complete articles: 70\n",
      "Total complete articles: 80\n",
      "Total complete articles: 90\n",
      "Total complete articles: 100\n",
      "Total complete articles: 110\n",
      "Total complete articles: 120\n",
      "Total complete articles: 130\n",
      "Total complete articles: 140\n",
      "Total complete articles: 150\n",
      "Total complete articles: 160\n",
      "Total complete articles: 170\n",
      "Total complete articles: 180\n",
      "Total complete articles: 190\n",
      "Total complete articles: 200\n",
      "Total complete articles: 210\n",
      "Total complete articles: 220\n",
      "Total complete articles: 230\n",
      "Total complete articles: 240\n",
      "Total complete articles: 250\n",
      "Total complete articles: 260\n",
      "Total complete articles: 270\n",
      "Total complete articles: 280\n",
      "Total complete articles: 290\n",
      "Total complete articles: 300\n",
      "Total complete articles: 310\n",
      "Total complete articles: 320\n",
      "Total complete articles: 330\n",
      "Total complete articles: 340\n",
      "Total complete articles: 350\n",
      "Total complete articles: 360\n",
      "Total complete articles: 370\n",
      "Total complete articles: 380\n",
      "Total complete articles: 390\n"
     ]
    }
   ],
   "source": [
    "train_list = ['data/train_2/train_2_nmask.txt']\n",
    "for path in train_list:\n",
    "    crf_format_data(rawdata_path=path, output_path=f'{path.replace(\".txt\", \".data\")}')"
   ]
  },
  {
   "cell_type": "code",
   "execution_count": 7,
   "metadata": {},
   "outputs": [],
   "source": [
    "dataset = read_data(['data/train_2/train_2_nmask.data'], end_flag='end')"
   ]
  },
  {
   "cell_type": "code",
   "execution_count": 8,
   "metadata": {},
   "outputs": [
    {
     "data": {
      "text/plain": [
       "400"
      ]
     },
     "execution_count": 8,
     "metadata": {},
     "output_type": "execute_result"
    }
   ],
   "source": [
    "len(dataset)"
   ]
  },
  {
   "cell_type": "code",
   "execution_count": 9,
   "metadata": {},
   "outputs": [],
   "source": [
    "generate_dataset(dataset, 'data/', train_file_name='TRAIN_FINAL_NMASK', test_file_name='TEST_FINAL_NMASK', train_ratio=0.8, test_ratio=0.2)"
   ]
  }
 ],
 "metadata": {
  "kernelspec": {
   "display_name": "Python 3",
   "language": "python",
   "name": "python3"
  },
  "language_info": {
   "codemirror_mode": {
    "name": "ipython",
    "version": 3
   },
   "file_extension": ".py",
   "mimetype": "text/x-python",
   "name": "python",
   "nbconvert_exporter": "python",
   "pygments_lexer": "ipython3",
   "version": "3.7.7"
  }
 },
 "nbformat": 4,
 "nbformat_minor": 4
}
